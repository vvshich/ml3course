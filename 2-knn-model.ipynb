{
 "cells": [
  {
   "cell_type": "code",
   "execution_count": 1,
   "id": "5d8f3c1d",
   "metadata": {
    "_cell_guid": "b1076dfc-b9ad-4769-8c92-a6c4dae69d19",
    "_uuid": "8f2839f25d086af736a60e9eeb907d3b93b6e0e5",
    "execution": {
     "iopub.execute_input": "2023-10-19T09:30:37.304451Z",
     "iopub.status.busy": "2023-10-19T09:30:37.303803Z",
     "iopub.status.idle": "2023-10-19T09:30:39.169495Z",
     "shell.execute_reply": "2023-10-19T09:30:39.168592Z"
    },
    "papermill": {
     "duration": 1.875978,
     "end_time": "2023-10-19T09:30:39.171645",
     "exception": false,
     "start_time": "2023-10-19T09:30:37.295667",
     "status": "completed"
    },
    "tags": []
   },
   "outputs": [
    {
     "name": "stdout",
     "output_type": "stream",
     "text": [
      "['online-news-popularity-dataset']\n",
      "/kaggle/input/online-news-popularity-dataset/OnlineNewsPopularityReduced.csv\n"
     ]
    }
   ],
   "source": [
    "# This Python 3 environment comes with many helpful analytics libraries installed\n",
    "# It is defined by the kaggle/python Docker image: https://github.com/kaggle/docker-python\n",
    "# For example, here's several helpful packages to load\n",
    "\n",
    "import os\n",
    "print(os.listdir(\"../input\"))\n",
    "\n",
    "import numpy as np\n",
    "import pandas as pd\n",
    "import matplotlib.pyplot as plt\n",
    "import seaborn as sns\n",
    "\n",
    "\n",
    "# Input data files are available in the read-only \"../input/\" directory\n",
    "# For example, running this (by clicking run or pressing Shift+Enter) will list all files under the input directory\n",
    "\n",
    "import os\n",
    "for dirname, _, filenames in os.walk('/kaggle/input'):\n",
    "    for filename in filenames:\n",
    "        print(os.path.join(dirname, filename))\n",
    "\n",
    "# You can write up to 20GB to the current directory (/kaggle/working/) that gets preserved as output when you create a version using \"Save & Run All\" \n",
    "# You can also write temporary files to /kaggle/temp/, but they won't be saved outside of the current session"
   ]
  },
  {
   "cell_type": "markdown",
   "id": "a53ccb00",
   "metadata": {
    "papermill": {
     "duration": 0.005838,
     "end_time": "2023-10-19T09:30:39.183854",
     "exception": false,
     "start_time": "2023-10-19T09:30:39.178016",
     "status": "completed"
    },
    "tags": []
   },
   "source": [
    "# 1. KNN"
   ]
  },
  {
   "cell_type": "markdown",
   "id": "f0bac9a9",
   "metadata": {
    "papermill": {
     "duration": 0.005669,
     "end_time": "2023-10-19T09:30:39.195404",
     "exception": false,
     "start_time": "2023-10-19T09:30:39.189735",
     "status": "completed"
    },
    "tags": []
   },
   "source": [
    "#### Dowloaded data. Target variable is shares, issue is regression"
   ]
  },
  {
   "cell_type": "code",
   "execution_count": 2,
   "id": "6798f081",
   "metadata": {
    "execution": {
     "iopub.execute_input": "2023-10-19T09:30:39.208772Z",
     "iopub.status.busy": "2023-10-19T09:30:39.208321Z",
     "iopub.status.idle": "2023-10-19T09:30:39.333962Z",
     "shell.execute_reply": "2023-10-19T09:30:39.332951Z"
    },
    "papermill": {
     "duration": 0.134795,
     "end_time": "2023-10-19T09:30:39.336067",
     "exception": false,
     "start_time": "2023-10-19T09:30:39.201272",
     "status": "completed"
    },
    "tags": []
   },
   "outputs": [
    {
     "data": {
      "text/html": [
       "<div>\n",
       "<style scoped>\n",
       "    .dataframe tbody tr th:only-of-type {\n",
       "        vertical-align: middle;\n",
       "    }\n",
       "\n",
       "    .dataframe tbody tr th {\n",
       "        vertical-align: top;\n",
       "    }\n",
       "\n",
       "    .dataframe thead th {\n",
       "        text-align: right;\n",
       "    }\n",
       "</style>\n",
       "<table border=\"1\" class=\"dataframe\">\n",
       "  <thead>\n",
       "    <tr style=\"text-align: right;\">\n",
       "      <th></th>\n",
       "      <th>url</th>\n",
       "      <th>timedelta</th>\n",
       "      <th>n_tokens_title</th>\n",
       "      <th>n_tokens_content</th>\n",
       "      <th>n_unique_tokens</th>\n",
       "      <th>n_non_stop_words</th>\n",
       "      <th>n_non_stop_unique_tokens</th>\n",
       "      <th>num_hrefs</th>\n",
       "      <th>num_self_hrefs</th>\n",
       "      <th>num_imgs</th>\n",
       "      <th>...</th>\n",
       "      <th>min_positive_polarity</th>\n",
       "      <th>max_positive_polarity</th>\n",
       "      <th>avg_negative_polarity</th>\n",
       "      <th>min_negative_polarity</th>\n",
       "      <th>max_negative_polarity</th>\n",
       "      <th>title_subjectivity</th>\n",
       "      <th>title_sentiment_polarity</th>\n",
       "      <th>abs_title_subjectivity</th>\n",
       "      <th>abs_title_sentiment_polarity</th>\n",
       "      <th>shares</th>\n",
       "    </tr>\n",
       "  </thead>\n",
       "  <tbody>\n",
       "    <tr>\n",
       "      <th>0</th>\n",
       "      <td>http://mashable.com/2014/09/28/jobs-tech-workers/</td>\n",
       "      <td>101</td>\n",
       "      <td>12</td>\n",
       "      <td>332</td>\n",
       "      <td>0.528481</td>\n",
       "      <td>1.0</td>\n",
       "      <td>0.645833</td>\n",
       "      <td>6</td>\n",
       "      <td>3</td>\n",
       "      <td>1</td>\n",
       "      <td>...</td>\n",
       "      <td>0.100000</td>\n",
       "      <td>0.7</td>\n",
       "      <td>-0.145833</td>\n",
       "      <td>-0.166667</td>\n",
       "      <td>-0.125000</td>\n",
       "      <td>0.718182</td>\n",
       "      <td>0.137121</td>\n",
       "      <td>0.218182</td>\n",
       "      <td>0.137121</td>\n",
       "      <td>8600</td>\n",
       "    </tr>\n",
       "    <tr>\n",
       "      <th>1</th>\n",
       "      <td>http://mashable.com/2014/09/28/obama-says-u-s-...</td>\n",
       "      <td>101</td>\n",
       "      <td>10</td>\n",
       "      <td>393</td>\n",
       "      <td>0.518817</td>\n",
       "      <td>1.0</td>\n",
       "      <td>0.596899</td>\n",
       "      <td>14</td>\n",
       "      <td>1</td>\n",
       "      <td>1</td>\n",
       "      <td>...</td>\n",
       "      <td>0.250000</td>\n",
       "      <td>0.8</td>\n",
       "      <td>-0.312500</td>\n",
       "      <td>-0.500000</td>\n",
       "      <td>-0.250000</td>\n",
       "      <td>0.500000</td>\n",
       "      <td>0.000000</td>\n",
       "      <td>0.000000</td>\n",
       "      <td>0.000000</td>\n",
       "      <td>23700</td>\n",
       "    </tr>\n",
       "    <tr>\n",
       "      <th>2</th>\n",
       "      <td>http://mashable.com/2014/09/28/once-upon-a-tim...</td>\n",
       "      <td>101</td>\n",
       "      <td>13</td>\n",
       "      <td>1643</td>\n",
       "      <td>0.388854</td>\n",
       "      <td>1.0</td>\n",
       "      <td>0.546967</td>\n",
       "      <td>29</td>\n",
       "      <td>4</td>\n",
       "      <td>7</td>\n",
       "      <td>...</td>\n",
       "      <td>0.033333</td>\n",
       "      <td>0.8</td>\n",
       "      <td>-0.227778</td>\n",
       "      <td>-0.800000</td>\n",
       "      <td>-0.050000</td>\n",
       "      <td>0.000000</td>\n",
       "      <td>0.000000</td>\n",
       "      <td>0.500000</td>\n",
       "      <td>0.000000</td>\n",
       "      <td>8400</td>\n",
       "    </tr>\n",
       "    <tr>\n",
       "      <th>3</th>\n",
       "      <td>http://mashable.com/2014/09/28/the-simpsons-de...</td>\n",
       "      <td>101</td>\n",
       "      <td>9</td>\n",
       "      <td>272</td>\n",
       "      <td>0.488889</td>\n",
       "      <td>1.0</td>\n",
       "      <td>0.512690</td>\n",
       "      <td>2</td>\n",
       "      <td>2</td>\n",
       "      <td>11</td>\n",
       "      <td>...</td>\n",
       "      <td>0.100000</td>\n",
       "      <td>1.0</td>\n",
       "      <td>-0.416667</td>\n",
       "      <td>-1.000000</td>\n",
       "      <td>-0.166667</td>\n",
       "      <td>0.000000</td>\n",
       "      <td>0.000000</td>\n",
       "      <td>0.500000</td>\n",
       "      <td>0.000000</td>\n",
       "      <td>4800</td>\n",
       "    </tr>\n",
       "    <tr>\n",
       "      <th>4</th>\n",
       "      <td>http://mashable.com/2014/09/28/viola-davis-les...</td>\n",
       "      <td>101</td>\n",
       "      <td>12</td>\n",
       "      <td>0</td>\n",
       "      <td>0.000000</td>\n",
       "      <td>0.0</td>\n",
       "      <td>0.000000</td>\n",
       "      <td>0</td>\n",
       "      <td>0</td>\n",
       "      <td>0</td>\n",
       "      <td>...</td>\n",
       "      <td>0.000000</td>\n",
       "      <td>0.0</td>\n",
       "      <td>0.000000</td>\n",
       "      <td>0.000000</td>\n",
       "      <td>0.000000</td>\n",
       "      <td>0.541071</td>\n",
       "      <td>0.067560</td>\n",
       "      <td>0.041071</td>\n",
       "      <td>0.067560</td>\n",
       "      <td>3100</td>\n",
       "    </tr>\n",
       "  </tbody>\n",
       "</table>\n",
       "<p>5 rows × 61 columns</p>\n",
       "</div>"
      ],
      "text/plain": [
       "                                                 url  timedelta  \\\n",
       "0  http://mashable.com/2014/09/28/jobs-tech-workers/        101   \n",
       "1  http://mashable.com/2014/09/28/obama-says-u-s-...        101   \n",
       "2  http://mashable.com/2014/09/28/once-upon-a-tim...        101   \n",
       "3  http://mashable.com/2014/09/28/the-simpsons-de...        101   \n",
       "4  http://mashable.com/2014/09/28/viola-davis-les...        101   \n",
       "\n",
       "   n_tokens_title  n_tokens_content  n_unique_tokens  n_non_stop_words  \\\n",
       "0              12               332         0.528481               1.0   \n",
       "1              10               393         0.518817               1.0   \n",
       "2              13              1643         0.388854               1.0   \n",
       "3               9               272         0.488889               1.0   \n",
       "4              12                 0         0.000000               0.0   \n",
       "\n",
       "   n_non_stop_unique_tokens  num_hrefs  num_self_hrefs  num_imgs  ...  \\\n",
       "0                  0.645833          6               3         1  ...   \n",
       "1                  0.596899         14               1         1  ...   \n",
       "2                  0.546967         29               4         7  ...   \n",
       "3                  0.512690          2               2        11  ...   \n",
       "4                  0.000000          0               0         0  ...   \n",
       "\n",
       "   min_positive_polarity  max_positive_polarity  avg_negative_polarity  \\\n",
       "0               0.100000                    0.7              -0.145833   \n",
       "1               0.250000                    0.8              -0.312500   \n",
       "2               0.033333                    0.8              -0.227778   \n",
       "3               0.100000                    1.0              -0.416667   \n",
       "4               0.000000                    0.0               0.000000   \n",
       "\n",
       "   min_negative_polarity  max_negative_polarity  title_subjectivity  \\\n",
       "0              -0.166667              -0.125000            0.718182   \n",
       "1              -0.500000              -0.250000            0.500000   \n",
       "2              -0.800000              -0.050000            0.000000   \n",
       "3              -1.000000              -0.166667            0.000000   \n",
       "4               0.000000               0.000000            0.541071   \n",
       "\n",
       "   title_sentiment_polarity  abs_title_subjectivity  \\\n",
       "0                  0.137121                0.218182   \n",
       "1                  0.000000                0.000000   \n",
       "2                  0.000000                0.500000   \n",
       "3                  0.000000                0.500000   \n",
       "4                  0.067560                0.041071   \n",
       "\n",
       "   abs_title_sentiment_polarity  shares  \n",
       "0                      0.137121    8600  \n",
       "1                      0.000000   23700  \n",
       "2                      0.000000    8400  \n",
       "3                      0.000000    4800  \n",
       "4                      0.067560    3100  \n",
       "\n",
       "[5 rows x 61 columns]"
      ]
     },
     "execution_count": 2,
     "metadata": {},
     "output_type": "execute_result"
    }
   ],
   "source": [
    "df = pd.read_csv(\"../input/online-news-popularity-dataset/OnlineNewsPopularityReduced.csv\")\n",
    "df.head()"
   ]
  },
  {
   "cell_type": "code",
   "execution_count": 3,
   "id": "1b881a61",
   "metadata": {
    "execution": {
     "iopub.execute_input": "2023-10-19T09:30:39.350386Z",
     "iopub.status.busy": "2023-10-19T09:30:39.350047Z",
     "iopub.status.idle": "2023-10-19T09:30:39.380134Z",
     "shell.execute_reply": "2023-10-19T09:30:39.378572Z"
    },
    "papermill": {
     "duration": 0.039788,
     "end_time": "2023-10-19T09:30:39.382349",
     "exception": false,
     "start_time": "2023-10-19T09:30:39.342561",
     "status": "completed"
    },
    "tags": []
   },
   "outputs": [
    {
     "name": "stdout",
     "output_type": "stream",
     "text": [
      "<class 'pandas.core.frame.DataFrame'>\n",
      "RangeIndex: 4954 entries, 0 to 4953\n",
      "Data columns (total 61 columns):\n",
      " #   Column                         Non-Null Count  Dtype  \n",
      "---  ------                         --------------  -----  \n",
      " 0   url                            4954 non-null   object \n",
      " 1   timedelta                      4954 non-null   int64  \n",
      " 2   n_tokens_title                 4954 non-null   int64  \n",
      " 3   n_tokens_content               4954 non-null   int64  \n",
      " 4   n_unique_tokens                4954 non-null   float64\n",
      " 5   n_non_stop_words               4954 non-null   float64\n",
      " 6   n_non_stop_unique_tokens       4954 non-null   float64\n",
      " 7   num_hrefs                      4954 non-null   int64  \n",
      " 8   num_self_hrefs                 4954 non-null   int64  \n",
      " 9   num_imgs                       4954 non-null   int64  \n",
      " 10  num_videos                     4954 non-null   int64  \n",
      " 11  average_token_length           4954 non-null   float64\n",
      " 12  num_keywords                   4954 non-null   int64  \n",
      " 13  data_channel_is_lifestyle      4954 non-null   int64  \n",
      " 14  data_channel_is_entertainment  4954 non-null   int64  \n",
      " 15  data_channel_is_bus            4954 non-null   int64  \n",
      " 16  data_channel_is_socmed         4954 non-null   int64  \n",
      " 17  data_channel_is_tech           4954 non-null   int64  \n",
      " 18  data_channel_is_world          4954 non-null   int64  \n",
      " 19  kw_min_min                     4954 non-null   int64  \n",
      " 20  kw_max_min                     4954 non-null   float64\n",
      " 21  kw_avg_min                     4954 non-null   float64\n",
      " 22  kw_min_max                     4954 non-null   int64  \n",
      " 23  kw_max_max                     4954 non-null   int64  \n",
      " 24  kw_avg_max                     4954 non-null   float64\n",
      " 25  kw_min_avg                     4954 non-null   float64\n",
      " 26  kw_max_avg                     4954 non-null   float64\n",
      " 27  kw_avg_avg                     4954 non-null   float64\n",
      " 28  self_reference_min_shares      4954 non-null   float64\n",
      " 29  self_reference_max_shares      4954 non-null   int64  \n",
      " 30  self_reference_avg_sharess     4954 non-null   float64\n",
      " 31  weekday_is_monday              4954 non-null   int64  \n",
      " 32  weekday_is_tuesday             4954 non-null   int64  \n",
      " 33  weekday_is_wednesday           4954 non-null   int64  \n",
      " 34  weekday_is_thursday            4954 non-null   int64  \n",
      " 35  weekday_is_friday              4954 non-null   int64  \n",
      " 36  weekday_is_saturday            4954 non-null   int64  \n",
      " 37  weekday_is_sunday              4954 non-null   int64  \n",
      " 38  is_weekend                     4954 non-null   int64  \n",
      " 39  LDA_00                         4954 non-null   float64\n",
      " 40  LDA_01                         4954 non-null   float64\n",
      " 41  LDA_02                         4954 non-null   float64\n",
      " 42  LDA_03                         4954 non-null   float64\n",
      " 43  LDA_04                         4954 non-null   float64\n",
      " 44  global_subjectivity            4954 non-null   float64\n",
      " 45  global_sentiment_polarity      4954 non-null   float64\n",
      " 46  global_rate_positive_words     4954 non-null   float64\n",
      " 47  global_rate_negative_words     4954 non-null   float64\n",
      " 48  rate_positive_words            4954 non-null   float64\n",
      " 49  rate_negative_words            4954 non-null   float64\n",
      " 50  avg_positive_polarity          4954 non-null   float64\n",
      " 51  min_positive_polarity          4954 non-null   float64\n",
      " 52  max_positive_polarity          4954 non-null   float64\n",
      " 53  avg_negative_polarity          4954 non-null   float64\n",
      " 54  min_negative_polarity          4954 non-null   float64\n",
      " 55  max_negative_polarity          4954 non-null   float64\n",
      " 56  title_subjectivity             4954 non-null   float64\n",
      " 57  title_sentiment_polarity       4954 non-null   float64\n",
      " 58  abs_title_subjectivity         4954 non-null   float64\n",
      " 59  abs_title_sentiment_polarity   4954 non-null   float64\n",
      " 60  shares                         4954 non-null   int64  \n",
      "dtypes: float64(33), int64(27), object(1)\n",
      "memory usage: 2.3+ MB\n"
     ]
    }
   ],
   "source": [
    "df.info()"
   ]
  },
  {
   "cell_type": "markdown",
   "id": "3e4ff1e9",
   "metadata": {
    "papermill": {
     "duration": 0.006644,
     "end_time": "2023-10-19T09:30:39.396439",
     "exception": false,
     "start_time": "2023-10-19T09:30:39.389795",
     "status": "completed"
    },
    "tags": []
   },
   "source": [
    "#### This looks like exponential distribution."
   ]
  },
  {
   "cell_type": "code",
   "execution_count": 4,
   "id": "4ca035d4",
   "metadata": {
    "execution": {
     "iopub.execute_input": "2023-10-19T09:30:39.412032Z",
     "iopub.status.busy": "2023-10-19T09:30:39.411216Z",
     "iopub.status.idle": "2023-10-19T09:30:39.792202Z",
     "shell.execute_reply": "2023-10-19T09:30:39.791314Z"
    },
    "papermill": {
     "duration": 0.391621,
     "end_time": "2023-10-19T09:30:39.794666",
     "exception": false,
     "start_time": "2023-10-19T09:30:39.403045",
     "status": "completed"
    },
    "tags": []
   },
   "outputs": [
    {
     "data": {
      "text/plain": [
       "(0.0, 20000.0)"
      ]
     },
     "execution_count": 4,
     "metadata": {},
     "output_type": "execute_result"
    },
    {
     "data": {
      "image/png": "[encoded data removed]",
      "text/plain": [
       "<Figure size 640x480 with 1 Axes>"
      ]
     },
     "metadata": {},
     "output_type": "display_data"
    }
   ],
   "source": [
    "sns.kdeplot(df['shares'])\n",
    "plt.xlim(0, 20000)"
   ]
  },
  {
   "cell_type": "markdown",
   "id": "e6a2f92a",
   "metadata": {
    "papermill": {
     "duration": 0.006996,
     "end_time": "2023-10-19T09:30:39.809183",
     "exception": false,
     "start_time": "2023-10-19T09:30:39.802187",
     "status": "completed"
    },
    "tags": []
   },
   "source": [
    "#### Preproccessing is almost already done. Lets make shares more demonstrative. Now we have tagret variable ```is_popular``` that says if article have more than 2500 shares article is popular. And now we have issue classification. We will drop column `share`, because this column misrepresent our model. "
   ]
  },
  {
   "cell_type": "code",
   "execution_count": 5,
   "id": "07a765cc",
   "metadata": {
    "execution": {
     "iopub.execute_input": "2023-10-19T09:30:39.825594Z",
     "iopub.status.busy": "2023-10-19T09:30:39.824865Z",
     "iopub.status.idle": "2023-10-19T09:30:39.836650Z",
     "shell.execute_reply": "2023-10-19T09:30:39.835780Z"
    },
    "papermill": {
     "duration": 0.02233,
     "end_time": "2023-10-19T09:30:39.838688",
     "exception": false,
     "start_time": "2023-10-19T09:30:39.816358",
     "status": "completed"
    },
    "tags": []
   },
   "outputs": [
    {
     "data": {
      "text/plain": [
       "is_popular\n",
       "0    3622\n",
       "1    1332\n",
       "Name: count, dtype: int64"
      ]
     },
     "execution_count": 5,
     "metadata": {},
     "output_type": "execute_result"
    }
   ],
   "source": [
    "df['is_popular'] = (df['shares'] > 2500).astype(int)\n",
    "df.drop(columns=['shares'], axis=1, inplace=True)\n",
    "df['is_popular'].value_counts()"
   ]
  },
  {
   "cell_type": "code",
   "execution_count": 6,
   "id": "5712004a",
   "metadata": {
    "execution": {
     "iopub.execute_input": "2023-10-19T09:30:39.855742Z",
     "iopub.status.busy": "2023-10-19T09:30:39.854678Z",
     "iopub.status.idle": "2023-10-19T09:30:39.863896Z",
     "shell.execute_reply": "2023-10-19T09:30:39.862867Z"
    },
    "papermill": {
     "duration": 0.019588,
     "end_time": "2023-10-19T09:30:39.865818",
     "exception": false,
     "start_time": "2023-10-19T09:30:39.846230",
     "status": "completed"
    },
    "tags": []
   },
   "outputs": [],
   "source": [
    "df.drop(columns=['url'], axis=1, inplace=True)"
   ]
  },
  {
   "cell_type": "markdown",
   "id": "1237d0d4",
   "metadata": {
    "papermill": {
     "duration": 0.007209,
     "end_time": "2023-10-19T09:30:39.881036",
     "exception": false,
     "start_time": "2023-10-19T09:30:39.873827",
     "status": "completed"
    },
    "tags": []
   },
   "source": [
    "#### Now let`s split and normalize data "
   ]
  },
  {
   "cell_type": "code",
   "execution_count": 7,
   "id": "d223d663",
   "metadata": {
    "execution": {
     "iopub.execute_input": "2023-10-19T09:30:39.897368Z",
     "iopub.status.busy": "2023-10-19T09:30:39.897013Z",
     "iopub.status.idle": "2023-10-19T09:30:40.193964Z",
     "shell.execute_reply": "2023-10-19T09:30:40.193066Z"
    },
    "papermill": {
     "duration": 0.308023,
     "end_time": "2023-10-19T09:30:40.196307",
     "exception": false,
     "start_time": "2023-10-19T09:30:39.888284",
     "status": "completed"
    },
    "tags": []
   },
   "outputs": [],
   "source": [
    "from sklearn.model_selection import train_test_split\n",
    "from sklearn.preprocessing import StandardScaler\n",
    "scaler = StandardScaler()\n",
    "X = df.drop('is_popular', axis=1)\n",
    "X = scaler.fit_transform(X)\n",
    "y = df['is_popular']\n",
    "X_train, X_valid, y_train, y_valid = train_test_split(X, y, test_size=0.25, random_state=4)"
   ]
  },
  {
   "cell_type": "markdown",
   "id": "41da2601",
   "metadata": {
    "papermill": {
     "duration": 0.007189,
     "end_time": "2023-10-19T09:30:40.211160",
     "exception": false,
     "start_time": "2023-10-19T09:30:40.203971",
     "status": "completed"
    },
    "tags": []
   },
   "source": [
    "#### And let`s train our model and evaluate the quality of predictions for our hyperparameter."
   ]
  },
  {
   "cell_type": "code",
   "execution_count": 8,
   "id": "eb05eeb9",
   "metadata": {
    "execution": {
     "iopub.execute_input": "2023-10-19T09:30:40.227959Z",
     "iopub.status.busy": "2023-10-19T09:30:40.227585Z",
     "iopub.status.idle": "2023-10-19T09:30:43.039174Z",
     "shell.execute_reply": "2023-10-19T09:30:43.038036Z"
    },
    "papermill": {
     "duration": 2.822775,
     "end_time": "2023-10-19T09:30:43.041450",
     "exception": false,
     "start_time": "2023-10-19T09:30:40.218675",
     "status": "completed"
    },
    "tags": []
   },
   "outputs": [
    {
     "data": {
      "image/png": "[encoded data removed]",
      "text/plain": [
       "<Figure size 640x480 with 1 Axes>"
      ]
     },
     "metadata": {},
     "output_type": "display_data"
    }
   ],
   "source": [
    "from sklearn.metrics import accuracy_score\n",
    "from sklearn.neighbors import KNeighborsClassifier\n",
    "accuracy_scores = []\n",
    "for k in range(1, 50, 2):\n",
    "  knn = KNeighborsClassifier(n_neighbors=k)\n",
    "  knn.fit(X_train, y_train)\n",
    "  y_pred = knn.predict(X_valid)\n",
    "  acc = accuracy_score(y_valid, y_pred)\n",
    "  accuracy_scores.append(acc)\n",
    "\n",
    "plt.plot(list(range(1, 50, 2)), accuracy_scores)\n",
    "plt.xlabel('n_neighbors')\n",
    "plt.ylabel('accuracy_score')\n",
    "plt.show()"
   ]
  },
  {
   "cell_type": "markdown",
   "id": "c07f8cca",
   "metadata": {
    "papermill": {
     "duration": 0.008298,
     "end_time": "2023-10-19T09:30:43.059712",
     "exception": false,
     "start_time": "2023-10-19T09:30:43.051414",
     "status": "completed"
    },
    "tags": []
   },
   "source": [
    "We can see that result almost the same after `k=13` and have accuracy 74%."
   ]
  },
  {
   "cell_type": "markdown",
   "id": "e8ed6cb4",
   "metadata": {
    "papermill": {
     "duration": 0.008997,
     "end_time": "2023-10-19T09:30:43.078006",
     "exception": false,
     "start_time": "2023-10-19T09:30:43.069009",
     "status": "completed"
    },
    "tags": []
   },
   "source": [
    "# 2. Setting the optimal number of nearest neighbors in the method kNN"
   ]
  },
  {
   "cell_type": "markdown",
   "id": "76e95141",
   "metadata": {
    "papermill": {
     "duration": 0.007877,
     "end_time": "2023-10-19T09:30:43.095689",
     "exception": false,
     "start_time": "2023-10-19T09:30:43.087812",
     "status": "completed"
    },
    "tags": []
   },
   "source": [
    "Now lets try cross validation with 5 splits."
   ]
  },
  {
   "cell_type": "code",
   "execution_count": 9,
   "id": "ccf6d9d1",
   "metadata": {
    "execution": {
     "iopub.execute_input": "2023-10-19T09:30:43.113718Z",
     "iopub.status.busy": "2023-10-19T09:30:43.112992Z",
     "iopub.status.idle": "2023-10-19T09:31:09.892859Z",
     "shell.execute_reply": "2023-10-19T09:31:09.891728Z"
    },
    "papermill": {
     "duration": 26.791384,
     "end_time": "2023-10-19T09:31:09.894973",
     "exception": false,
     "start_time": "2023-10-19T09:30:43.103589",
     "status": "completed"
    },
    "tags": []
   },
   "outputs": [
    {
     "name": "stdout",
     "output_type": "stream",
     "text": [
      "Best params:  {'n_neighbors': 27, 'p': 1} ; with best accuracy:  0.7404099521960269\n"
     ]
    }
   ],
   "source": [
    "from sklearn.model_selection import KFold\n",
    "from sklearn.model_selection import GridSearchCV\n",
    "kf = KFold(n_splits=5, shuffle=True, random_state=42)\n",
    "cross = kf.split(X)\n",
    "knn_grid = GridSearchCV(knn, {'n_neighbors': np.arange(1, 50, 2), 'p': [1]}, scoring='accuracy', cv = cross)\n",
    "knn_grid.fit(X, y)\n",
    "print(\"Best params: \", knn_grid.best_params_, \"; with best accuracy: \", knn_grid.best_score_)"
   ]
  },
  {
   "cell_type": "markdown",
   "id": "ff7b8505",
   "metadata": {
    "papermill": {
     "duration": 0.007416,
     "end_time": "2023-10-19T09:31:09.910460",
     "exception": false,
     "start_time": "2023-10-19T09:31:09.903044",
     "status": "completed"
    },
    "tags": []
   },
   "source": [
    "We can see that `k=27` have the best result with best accuracy 74.0%. "
   ]
  },
  {
   "cell_type": "code",
   "execution_count": 10,
   "id": "d706b3e4",
   "metadata": {
    "execution": {
     "iopub.execute_input": "2023-10-19T09:31:09.927532Z",
     "iopub.status.busy": "2023-10-19T09:31:09.927199Z",
     "iopub.status.idle": "2023-10-19T09:31:10.149484Z",
     "shell.execute_reply": "2023-10-19T09:31:10.148420Z"
    },
    "papermill": {
     "duration": 0.233589,
     "end_time": "2023-10-19T09:31:10.151728",
     "exception": false,
     "start_time": "2023-10-19T09:31:09.918139",
     "status": "completed"
    },
    "tags": []
   },
   "outputs": [
    {
     "data": {
      "image/png": "[encoded data removed]",
      "text/plain": [
       "<Figure size 640x480 with 1 Axes>"
      ]
     },
     "metadata": {},
     "output_type": "display_data"
    }
   ],
   "source": [
    "plt.plot(list(range(1, 50, 2)), knn_grid.cv_results_['mean_test_score'])\n",
    "plt.xlabel('n_neighbors')\n",
    "plt.ylabel('accuracy_score')\n",
    "plt.show()"
   ]
  },
  {
   "cell_type": "code",
   "execution_count": 11,
   "id": "0f14f5cf",
   "metadata": {
    "execution": {
     "iopub.execute_input": "2023-10-19T09:31:10.169891Z",
     "iopub.status.busy": "2023-10-19T09:31:10.169546Z",
     "iopub.status.idle": "2023-10-19T09:31:10.425399Z",
     "shell.execute_reply": "2023-10-19T09:31:10.424290Z"
    },
    "papermill": {
     "duration": 0.267444,
     "end_time": "2023-10-19T09:31:10.427576",
     "exception": false,
     "start_time": "2023-10-19T09:31:10.160132",
     "status": "completed"
    },
    "tags": []
   },
   "outputs": [
    {
     "data": {
      "image/png": "[encoded data removed]",
      "text/plain": [
       "<Figure size 640x480 with 1 Axes>"
      ]
     },
     "metadata": {},
     "output_type": "display_data"
    }
   ],
   "source": [
    "plt.plot(list(range(1, 50, 2)), knn_grid.cv_results_['mean_test_score'])\n",
    "plt.xlabel('n_neighbors')\n",
    "plt.ylabel('accuracy_score')\n",
    "plt.xlim(10)\n",
    "plt.ylim(0.7)\n",
    "plt.show()"
   ]
  },
  {
   "cell_type": "markdown",
   "id": "c88bb8aa",
   "metadata": {
    "papermill": {
     "duration": 0.008596,
     "end_time": "2023-10-19T09:31:10.445106",
     "exception": false,
     "start_time": "2023-10-19T09:31:10.436510",
     "status": "completed"
    },
    "tags": []
   },
   "source": [
    "So we can take `k=27` or, for example, `k=21`."
   ]
  },
  {
   "cell_type": "markdown",
   "id": "1b2d2403",
   "metadata": {
    "papermill": {
     "duration": 0.009162,
     "end_time": "2023-10-19T09:31:10.463054",
     "exception": false,
     "start_time": "2023-10-19T09:31:10.453892",
     "status": "completed"
    },
    "tags": []
   },
   "source": [
    "# 3. Selection of the metric in the method kNN"
   ]
  },
  {
   "cell_type": "markdown",
   "id": "a9d5c805",
   "metadata": {
    "papermill": {
     "duration": 0.008763,
     "end_time": "2023-10-19T09:31:10.480941",
     "exception": false,
     "start_time": "2023-10-19T09:31:10.472178",
     "status": "completed"
    },
    "tags": []
   },
   "source": [
    "Lets find `p` for `k=27` and `k=21`. "
   ]
  },
  {
   "cell_type": "code",
   "execution_count": 12,
   "id": "5cf566a2",
   "metadata": {
    "execution": {
     "iopub.execute_input": "2023-10-19T09:31:10.500216Z",
     "iopub.status.busy": "2023-10-19T09:31:10.499834Z",
     "iopub.status.idle": "2023-10-19T09:34:29.547047Z",
     "shell.execute_reply": "2023-10-19T09:34:29.545940Z"
    },
    "papermill": {
     "duration": 199.060068,
     "end_time": "2023-10-19T09:34:29.549648",
     "exception": false,
     "start_time": "2023-10-19T09:31:10.489580",
     "status": "completed"
    },
    "tags": []
   },
   "outputs": [],
   "source": [
    "from sklearn.model_selection import cross_val_score\n",
    "def mean(l):\n",
    "    sum = 0\n",
    "    for i in l:\n",
    "        sum += i\n",
    "    return sum/len(l)\n",
    "accuracy_scoresfor27 = []\n",
    "param_ps = np.linspace(1, 10, 20)\n",
    "for p in param_ps:\n",
    "  knn = KNeighborsClassifier(n_neighbors=27, p=p, weights='distance')\n",
    "  acc = mean( cross_val_score(knn, X, y, cv=5, scoring=\"accuracy\") )\n",
    "  accuracy_scoresfor27.append(acc)\n"
   ]
  },
  {
   "cell_type": "code",
   "execution_count": 13,
   "id": "6553c4b8",
   "metadata": {
    "execution": {
     "iopub.execute_input": "2023-10-19T09:34:29.571962Z",
     "iopub.status.busy": "2023-10-19T09:34:29.571589Z",
     "iopub.status.idle": "2023-10-19T09:34:29.719245Z",
     "shell.execute_reply": "2023-10-19T09:34:29.718163Z"
    },
    "papermill": {
     "duration": 0.160158,
     "end_time": "2023-10-19T09:34:29.721459",
     "exception": false,
     "start_time": "2023-10-19T09:34:29.561301",
     "status": "completed"
    },
    "tags": []
   },
   "outputs": [
    {
     "data": {
      "image/png": "[encoded data removed]",
      "text/plain": [
       "<Figure size 640x480 with 1 Axes>"
      ]
     },
     "metadata": {},
     "output_type": "display_data"
    }
   ],
   "source": [
    "plt.plot(param_ps, accuracy_scoresfor27)\n",
    "plt.xlabel('p')\n",
    "plt.ylabel('accuracy_score')\n",
    "plt.show()"
   ]
  },
  {
   "cell_type": "code",
   "execution_count": 14,
   "id": "f6be9ae0",
   "metadata": {
    "execution": {
     "iopub.execute_input": "2023-10-19T09:34:29.802842Z",
     "iopub.status.busy": "2023-10-19T09:34:29.801837Z",
     "iopub.status.idle": "2023-10-19T09:34:29.807725Z",
     "shell.execute_reply": "2023-10-19T09:34:29.806689Z"
    },
    "papermill": {
     "duration": 0.018128,
     "end_time": "2023-10-19T09:34:29.809512",
     "exception": false,
     "start_time": "2023-10-19T09:34:29.791384",
     "status": "completed"
    },
    "tags": []
   },
   "outputs": [
    {
     "name": "stdout",
     "output_type": "stream",
     "text": [
      "accuracy for k=27: 0.7425343018563357\n"
     ]
    }
   ],
   "source": [
    "print(\"accuracy for k=27:\", max(accuracy_scores))"
   ]
  },
  {
   "cell_type": "code",
   "execution_count": 15,
   "id": "445d743d",
   "metadata": {
    "execution": {
     "iopub.execute_input": "2023-10-19T09:34:29.830496Z",
     "iopub.status.busy": "2023-10-19T09:34:29.829439Z",
     "iopub.status.idle": "2023-10-19T09:37:49.255806Z",
     "shell.execute_reply": "2023-10-19T09:37:49.254942Z"
    },
    "papermill": {
     "duration": 199.439668,
     "end_time": "2023-10-19T09:37:49.258522",
     "exception": false,
     "start_time": "2023-10-19T09:34:29.818854",
     "status": "completed"
    },
    "tags": []
   },
   "outputs": [],
   "source": [
    "accuracy_scoresfor30 = []\n",
    "param_ps = np.linspace(1, 10, 20)\n",
    "for p in param_ps:\n",
    "  knn = KNeighborsClassifier(n_neighbors=21, p=p, weights='distance')\n",
    "  acc = mean( cross_val_score(knn, X, y, cv=5, scoring=\"accuracy\") )\n",
    "  accuracy_scoresfor30.append(acc)"
   ]
  },
  {
   "cell_type": "code",
   "execution_count": 16,
   "id": "2aca206a",
   "metadata": {
    "execution": {
     "iopub.execute_input": "2023-10-19T09:37:49.281918Z",
     "iopub.status.busy": "2023-10-19T09:37:49.281558Z",
     "iopub.status.idle": "2023-10-19T09:37:49.444691Z",
     "shell.execute_reply": "2023-10-19T09:37:49.443954Z"
    },
    "papermill": {
     "duration": 0.175879,
     "end_time": "2023-10-19T09:37:49.446616",
     "exception": false,
     "start_time": "2023-10-19T09:37:49.270737",
     "status": "completed"
    },
    "tags": []
   },
   "outputs": [
    {
     "data": {
      "image/png": "[encoded data removed]",
      "text/plain": [
       "<Figure size 640x480 with 1 Axes>"
      ]
     },
     "metadata": {},
     "output_type": "display_data"
    }
   ],
   "source": [
    "plt.plot(param_ps, accuracy_scoresfor30)\n",
    "plt.xlabel('p')\n",
    "plt.ylabel('accuracy_score')\n",
    "plt.show()"
   ]
  },
  {
   "cell_type": "code",
   "execution_count": 17,
   "id": "637f8320",
   "metadata": {
    "execution": {
     "iopub.execute_input": "2023-10-19T09:37:49.470134Z",
     "iopub.status.busy": "2023-10-19T09:37:49.469535Z",
     "iopub.status.idle": "2023-10-19T09:37:49.475463Z",
     "shell.execute_reply": "2023-10-19T09:37:49.474147Z"
    },
    "papermill": {
     "duration": 0.019548,
     "end_time": "2023-10-19T09:37:49.477284",
     "exception": false,
     "start_time": "2023-10-19T09:37:49.457736",
     "status": "completed"
    },
    "tags": []
   },
   "outputs": [
    {
     "name": "stdout",
     "output_type": "stream",
     "text": [
      "accuracy for k=21: 0.7339532560723278\n"
     ]
    }
   ],
   "source": [
    "print(\"accuracy for k=21:\", max(accuracy_scoresfor30))"
   ]
  },
  {
   "cell_type": "markdown",
   "id": "68e99546",
   "metadata": {
    "papermill": {
     "duration": 0.009994,
     "end_time": "2023-10-19T09:37:49.498128",
     "exception": false,
     "start_time": "2023-10-19T09:37:49.488134",
     "status": "completed"
    },
    "tags": []
   },
   "source": [
    "We can see that with `k=27` and `p=3.8421052631578947` (74.25%) we have better result than the best result `k=21` and `p=1.4736842105263157` (73.39%)"
   ]
  },
  {
   "cell_type": "markdown",
   "id": "9c47512c",
   "metadata": {
    "papermill": {
     "duration": 0.010186,
     "end_time": "2023-10-19T09:37:49.518971",
     "exception": false,
     "start_time": "2023-10-19T09:37:49.508785",
     "status": "completed"
    },
    "tags": []
   },
   "source": [
    "# 4. Test another metric"
   ]
  },
  {
   "cell_type": "markdown",
   "id": "829eec92",
   "metadata": {
    "papermill": {
     "duration": 0.009826,
     "end_time": "2023-10-19T09:37:49.539179",
     "exception": false,
     "start_time": "2023-10-19T09:37:49.529353",
     "status": "completed"
    },
    "tags": []
   },
   "source": [
    "Let test `NearestCentroid` with hyperparamet `metric`"
   ]
  },
  {
   "cell_type": "code",
   "execution_count": 18,
   "id": "ded386b3",
   "metadata": {
    "execution": {
     "iopub.execute_input": "2023-10-19T09:37:49.561175Z",
     "iopub.status.busy": "2023-10-19T09:37:49.560539Z",
     "iopub.status.idle": "2023-10-19T09:37:49.597474Z",
     "shell.execute_reply": "2023-10-19T09:37:49.596607Z"
    },
    "papermill": {
     "duration": 0.050193,
     "end_time": "2023-10-19T09:37:49.599412",
     "exception": false,
     "start_time": "2023-10-19T09:37:49.549219",
     "status": "completed"
    },
    "tags": []
   },
   "outputs": [
    {
     "name": "stdout",
     "output_type": "stream",
     "text": [
      "Accuracy score: 0.681470813075253\n"
     ]
    }
   ],
   "source": [
    "from sklearn.neighbors import NearestCentroid\n",
    "\n",
    "nc = NearestCentroid()\n",
    "\n",
    "kf = KFold(n_splits=5, shuffle=True, random_state=29) \n",
    "scores = cross_val_score(nc, X, y, cv=kf, scoring='accuracy')\n",
    "\n",
    "print('Accuracy score:', np.mean(scores))"
   ]
  },
  {
   "cell_type": "markdown",
   "id": "13262f5e",
   "metadata": {
    "papermill": {
     "duration": 0.010598,
     "end_time": "2023-10-19T09:37:49.623452",
     "exception": false,
     "start_time": "2023-10-19T09:37:49.612854",
     "status": "completed"
    },
    "tags": []
   },
   "source": [
    "Lets try manhatam metric"
   ]
  },
  {
   "cell_type": "code",
   "execution_count": 19,
   "id": "222475c0",
   "metadata": {
    "execution": {
     "iopub.execute_input": "2023-10-19T09:37:49.646598Z",
     "iopub.status.busy": "2023-10-19T09:37:49.646229Z",
     "iopub.status.idle": "2023-10-19T09:37:49.705905Z",
     "shell.execute_reply": "2023-10-19T09:37:49.705069Z"
    },
    "papermill": {
     "duration": 0.07368,
     "end_time": "2023-10-19T09:37:49.708112",
     "exception": false,
     "start_time": "2023-10-19T09:37:49.634432",
     "status": "completed"
    },
    "tags": []
   },
   "outputs": [
    {
     "name": "stdout",
     "output_type": "stream",
     "text": [
      "Accuracy score: 0.6360490882589773\n"
     ]
    }
   ],
   "source": [
    "from sklearn.neighbors import NearestCentroid\n",
    "\n",
    "nc = NearestCentroid(metric='manhattan')\n",
    "\n",
    "kf = KFold(n_splits=5, shuffle=True, random_state=29) \n",
    "scores = cross_val_score(nc, X, y, cv=kf, scoring='accuracy')\n",
    "\n",
    "print('Accuracy score:', np.mean(scores))"
   ]
  },
  {
   "cell_type": "markdown",
   "id": "d3a7ad91",
   "metadata": {
    "papermill": {
     "duration": 0.010173,
     "end_time": "2023-10-19T09:37:49.731232",
     "exception": false,
     "start_time": "2023-10-19T09:37:49.721059",
     "status": "completed"
    },
    "tags": []
   },
   "source": [
    "We have that manhattan metric worse result than euclidean. And have worse result for KNN"
   ]
  }
 ],
 "metadata": {
  "kernelspec": {
   "display_name": "Python 3",
   "language": "python",
   "name": "python3"
  },
  "language_info": {
   "codemirror_mode": {
    "name": "ipython",
    "version": 3
   },
   "file_extension": ".py",
   "mimetype": "text/x-python",
   "name": "python",
   "nbconvert_exporter": "python",
   "pygments_lexer": "ipython3",
   "version": "3.10.12"
  },
  "papermill": {
   "default_parameters": {},
   "duration": 436.145173,
   "end_time": "2023-10-19T09:37:50.363526",
   "environment_variables": {},
   "exception": null,
   "input_path": "__notebook__.ipynb",
   "output_path": "__notebook__.ipynb",
   "parameters": {},
   "start_time": "2023-10-19T09:30:34.218353",
   "version": "2.4.0"
  }
 },
 "nbformat": 4,
 "nbformat_minor": 5
}
