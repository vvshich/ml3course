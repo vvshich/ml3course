{
 "cells": [
  {
   "cell_type": "code",
   "execution_count": 1,
   "id": "0e6d81b2",
   "metadata": {
    "_cell_guid": "b1076dfc-b9ad-4769-8c92-a6c4dae69d19",
    "_uuid": "8f2839f25d086af736a60e9eeb907d3b93b6e0e5",
    "execution": {
     "iopub.execute_input": "2023-12-08T15:18:45.538334Z",
     "iopub.status.busy": "2023-12-08T15:18:45.537259Z",
     "iopub.status.idle": "2023-12-08T15:18:48.080077Z",
     "shell.execute_reply": "2023-12-08T15:18:48.078272Z"
    },
    "papermill": {
     "duration": 2.577692,
     "end_time": "2023-12-08T15:18:48.083310",
     "exception": false,
     "start_time": "2023-12-08T15:18:45.505618",
     "status": "completed"
    },
    "tags": []
   },
   "outputs": [
    {
     "name": "stdout",
     "output_type": "stream",
     "text": [
      "['online-news-popularity-dataset']\n",
      "/kaggle/input/online-news-popularity-dataset/OnlineNewsPopularityReduced.csv\n"
     ]
    }
   ],
   "source": [
    "# This Python 3 environment comes with many helpful analytics libraries installed\n",
    "# It is defined by the kaggle/python Docker image: https://github.com/kaggle/docker-python\n",
    "# For example, here's several helpful packages to load\n",
    "\n",
    "import os\n",
    "print(os.listdir(\"../input\"))\n",
    "\n",
    "import numpy as np\n",
    "import pandas as pd\n",
    "import matplotlib.pyplot as plt\n",
    "import seaborn as sns\n",
    "\n",
    "# Input data files are available in the read-only \"../input/\" directory\n",
    "# For example, running this (by clicking run or pressing Shift+Enter) will list all files under the input directory\n",
    "\n",
    "import os\n",
    "for dirname, _, filenames in os.walk('/kaggle/input'):\n",
    "    for filename in filenames:\n",
    "        print(os.path.join(dirname, filename))\n",
    "\n",
    "# You can write up to 20GB to the current directory (/kaggle/working/) that gets preserved as output when you create a version using \"Save & Run All\" \n",
    "# You can also write temporary files to /kaggle/temp/, but they won't be saved outside of the current session"
   ]
  },
  {
   "cell_type": "markdown",
   "id": "6776d991",
   "metadata": {
    "papermill": {
     "duration": 0.02979,
     "end_time": "2023-12-08T15:18:48.140678",
     "exception": false,
     "start_time": "2023-12-08T15:18:48.110888",
     "status": "completed"
    },
    "tags": []
   },
   "source": [
    "# MLPRegression and MLPClassification"
   ]
  },
  {
   "cell_type": "markdown",
   "id": "19310bb4",
   "metadata": {
    "papermill": {
     "duration": 0.026689,
     "end_time": "2023-12-08T15:18:48.195278",
     "exception": false,
     "start_time": "2023-12-08T15:18:48.168589",
     "status": "completed"
    },
    "tags": []
   },
   "source": [
    "## Preprocessing"
   ]
  },
  {
   "cell_type": "code",
   "execution_count": 2,
   "id": "2de70c7c",
   "metadata": {
    "execution": {
     "iopub.execute_input": "2023-12-08T15:18:48.252826Z",
     "iopub.status.busy": "2023-12-08T15:18:48.252103Z",
     "iopub.status.idle": "2023-12-08T15:18:48.410659Z",
     "shell.execute_reply": "2023-12-08T15:18:48.409785Z"
    },
    "papermill": {
     "duration": 0.189881,
     "end_time": "2023-12-08T15:18:48.413039",
     "exception": false,
     "start_time": "2023-12-08T15:18:48.223158",
     "status": "completed"
    },
    "tags": []
   },
   "outputs": [
    {
     "data": {
      "text/html": [
       "<div>\n",
       "<style scoped>\n",
       "    .dataframe tbody tr th:only-of-type {\n",
       "        vertical-align: middle;\n",
       "    }\n",
       "\n",
       "    .dataframe tbody tr th {\n",
       "        vertical-align: top;\n",
       "    }\n",
       "\n",
       "    .dataframe thead th {\n",
       "        text-align: right;\n",
       "    }\n",
       "</style>\n",
       "<table border=\"1\" class=\"dataframe\">\n",
       "  <thead>\n",
       "    <tr style=\"text-align: right;\">\n",
       "      <th></th>\n",
       "      <th>url</th>\n",
       "      <th>timedelta</th>\n",
       "      <th>n_tokens_title</th>\n",
       "      <th>n_tokens_content</th>\n",
       "      <th>n_unique_tokens</th>\n",
       "      <th>n_non_stop_words</th>\n",
       "      <th>n_non_stop_unique_tokens</th>\n",
       "      <th>num_hrefs</th>\n",
       "      <th>num_self_hrefs</th>\n",
       "      <th>num_imgs</th>\n",
       "      <th>...</th>\n",
       "      <th>min_positive_polarity</th>\n",
       "      <th>max_positive_polarity</th>\n",
       "      <th>avg_negative_polarity</th>\n",
       "      <th>min_negative_polarity</th>\n",
       "      <th>max_negative_polarity</th>\n",
       "      <th>title_subjectivity</th>\n",
       "      <th>title_sentiment_polarity</th>\n",
       "      <th>abs_title_subjectivity</th>\n",
       "      <th>abs_title_sentiment_polarity</th>\n",
       "      <th>shares</th>\n",
       "    </tr>\n",
       "  </thead>\n",
       "  <tbody>\n",
       "    <tr>\n",
       "      <th>0</th>\n",
       "      <td>http://mashable.com/2014/09/28/jobs-tech-workers/</td>\n",
       "      <td>101</td>\n",
       "      <td>12</td>\n",
       "      <td>332</td>\n",
       "      <td>0.528481</td>\n",
       "      <td>1.0</td>\n",
       "      <td>0.645833</td>\n",
       "      <td>6</td>\n",
       "      <td>3</td>\n",
       "      <td>1</td>\n",
       "      <td>...</td>\n",
       "      <td>0.100000</td>\n",
       "      <td>0.7</td>\n",
       "      <td>-0.145833</td>\n",
       "      <td>-0.166667</td>\n",
       "      <td>-0.125000</td>\n",
       "      <td>0.718182</td>\n",
       "      <td>0.137121</td>\n",
       "      <td>0.218182</td>\n",
       "      <td>0.137121</td>\n",
       "      <td>8600</td>\n",
       "    </tr>\n",
       "    <tr>\n",
       "      <th>1</th>\n",
       "      <td>http://mashable.com/2014/09/28/obama-says-u-s-...</td>\n",
       "      <td>101</td>\n",
       "      <td>10</td>\n",
       "      <td>393</td>\n",
       "      <td>0.518817</td>\n",
       "      <td>1.0</td>\n",
       "      <td>0.596899</td>\n",
       "      <td>14</td>\n",
       "      <td>1</td>\n",
       "      <td>1</td>\n",
       "      <td>...</td>\n",
       "      <td>0.250000</td>\n",
       "      <td>0.8</td>\n",
       "      <td>-0.312500</td>\n",
       "      <td>-0.500000</td>\n",
       "      <td>-0.250000</td>\n",
       "      <td>0.500000</td>\n",
       "      <td>0.000000</td>\n",
       "      <td>0.000000</td>\n",
       "      <td>0.000000</td>\n",
       "      <td>23700</td>\n",
       "    </tr>\n",
       "    <tr>\n",
       "      <th>2</th>\n",
       "      <td>http://mashable.com/2014/09/28/once-upon-a-tim...</td>\n",
       "      <td>101</td>\n",
       "      <td>13</td>\n",
       "      <td>1643</td>\n",
       "      <td>0.388854</td>\n",
       "      <td>1.0</td>\n",
       "      <td>0.546967</td>\n",
       "      <td>29</td>\n",
       "      <td>4</td>\n",
       "      <td>7</td>\n",
       "      <td>...</td>\n",
       "      <td>0.033333</td>\n",
       "      <td>0.8</td>\n",
       "      <td>-0.227778</td>\n",
       "      <td>-0.800000</td>\n",
       "      <td>-0.050000</td>\n",
       "      <td>0.000000</td>\n",
       "      <td>0.000000</td>\n",
       "      <td>0.500000</td>\n",
       "      <td>0.000000</td>\n",
       "      <td>8400</td>\n",
       "    </tr>\n",
       "    <tr>\n",
       "      <th>3</th>\n",
       "      <td>http://mashable.com/2014/09/28/the-simpsons-de...</td>\n",
       "      <td>101</td>\n",
       "      <td>9</td>\n",
       "      <td>272</td>\n",
       "      <td>0.488889</td>\n",
       "      <td>1.0</td>\n",
       "      <td>0.512690</td>\n",
       "      <td>2</td>\n",
       "      <td>2</td>\n",
       "      <td>11</td>\n",
       "      <td>...</td>\n",
       "      <td>0.100000</td>\n",
       "      <td>1.0</td>\n",
       "      <td>-0.416667</td>\n",
       "      <td>-1.000000</td>\n",
       "      <td>-0.166667</td>\n",
       "      <td>0.000000</td>\n",
       "      <td>0.000000</td>\n",
       "      <td>0.500000</td>\n",
       "      <td>0.000000</td>\n",
       "      <td>4800</td>\n",
       "    </tr>\n",
       "    <tr>\n",
       "      <th>4</th>\n",
       "      <td>http://mashable.com/2014/09/28/viola-davis-les...</td>\n",
       "      <td>101</td>\n",
       "      <td>12</td>\n",
       "      <td>0</td>\n",
       "      <td>0.000000</td>\n",
       "      <td>0.0</td>\n",
       "      <td>0.000000</td>\n",
       "      <td>0</td>\n",
       "      <td>0</td>\n",
       "      <td>0</td>\n",
       "      <td>...</td>\n",
       "      <td>0.000000</td>\n",
       "      <td>0.0</td>\n",
       "      <td>0.000000</td>\n",
       "      <td>0.000000</td>\n",
       "      <td>0.000000</td>\n",
       "      <td>0.541071</td>\n",
       "      <td>0.067560</td>\n",
       "      <td>0.041071</td>\n",
       "      <td>0.067560</td>\n",
       "      <td>3100</td>\n",
       "    </tr>\n",
       "  </tbody>\n",
       "</table>\n",
       "<p>5 rows × 61 columns</p>\n",
       "</div>"
      ],
      "text/plain": [
       "                                                 url  timedelta  \\\n",
       "0  http://mashable.com/2014/09/28/jobs-tech-workers/        101   \n",
       "1  http://mashable.com/2014/09/28/obama-says-u-s-...        101   \n",
       "2  http://mashable.com/2014/09/28/once-upon-a-tim...        101   \n",
       "3  http://mashable.com/2014/09/28/the-simpsons-de...        101   \n",
       "4  http://mashable.com/2014/09/28/viola-davis-les...        101   \n",
       "\n",
       "   n_tokens_title  n_tokens_content  n_unique_tokens  n_non_stop_words  \\\n",
       "0              12               332         0.528481               1.0   \n",
       "1              10               393         0.518817               1.0   \n",
       "2              13              1643         0.388854               1.0   \n",
       "3               9               272         0.488889               1.0   \n",
       "4              12                 0         0.000000               0.0   \n",
       "\n",
       "   n_non_stop_unique_tokens  num_hrefs  num_self_hrefs  num_imgs  ...  \\\n",
       "0                  0.645833          6               3         1  ...   \n",
       "1                  0.596899         14               1         1  ...   \n",
       "2                  0.546967         29               4         7  ...   \n",
       "3                  0.512690          2               2        11  ...   \n",
       "4                  0.000000          0               0         0  ...   \n",
       "\n",
       "   min_positive_polarity  max_positive_polarity  avg_negative_polarity  \\\n",
       "0               0.100000                    0.7              -0.145833   \n",
       "1               0.250000                    0.8              -0.312500   \n",
       "2               0.033333                    0.8              -0.227778   \n",
       "3               0.100000                    1.0              -0.416667   \n",
       "4               0.000000                    0.0               0.000000   \n",
       "\n",
       "   min_negative_polarity  max_negative_polarity  title_subjectivity  \\\n",
       "0              -0.166667              -0.125000            0.718182   \n",
       "1              -0.500000              -0.250000            0.500000   \n",
       "2              -0.800000              -0.050000            0.000000   \n",
       "3              -1.000000              -0.166667            0.000000   \n",
       "4               0.000000               0.000000            0.541071   \n",
       "\n",
       "   title_sentiment_polarity  abs_title_subjectivity  \\\n",
       "0                  0.137121                0.218182   \n",
       "1                  0.000000                0.000000   \n",
       "2                  0.000000                0.500000   \n",
       "3                  0.000000                0.500000   \n",
       "4                  0.067560                0.041071   \n",
       "\n",
       "   abs_title_sentiment_polarity  shares  \n",
       "0                      0.137121    8600  \n",
       "1                      0.000000   23700  \n",
       "2                      0.000000    8400  \n",
       "3                      0.000000    4800  \n",
       "4                      0.067560    3100  \n",
       "\n",
       "[5 rows x 61 columns]"
      ]
     },
     "execution_count": 2,
     "metadata": {},
     "output_type": "execute_result"
    }
   ],
   "source": [
    "df = pd.read_csv(\"../input/online-news-popularity-dataset/OnlineNewsPopularityReduced.csv\")\n",
    "df.head()"
   ]
  },
  {
   "cell_type": "code",
   "execution_count": 3,
   "id": "3c8409bf",
   "metadata": {
    "execution": {
     "iopub.execute_input": "2023-12-08T15:18:48.474228Z",
     "iopub.status.busy": "2023-12-08T15:18:48.473088Z",
     "iopub.status.idle": "2023-12-08T15:18:48.602871Z",
     "shell.execute_reply": "2023-12-08T15:18:48.602049Z"
    },
    "papermill": {
     "duration": 0.164429,
     "end_time": "2023-12-08T15:18:48.605915",
     "exception": false,
     "start_time": "2023-12-08T15:18:48.441486",
     "status": "completed"
    },
    "tags": []
   },
   "outputs": [
    {
     "name": "stdout",
     "output_type": "stream",
     "text": [
      "<class 'pandas.core.frame.DataFrame'>\n",
      "RangeIndex: 4954 entries, 0 to 4953\n",
      "Data columns (total 61 columns):\n",
      " #   Column                         Non-Null Count  Dtype  \n",
      "---  ------                         --------------  -----  \n",
      " 0   url                            4954 non-null   object \n",
      " 1   timedelta                      4954 non-null   int64  \n",
      " 2   n_tokens_title                 4954 non-null   int64  \n",
      " 3   n_tokens_content               4954 non-null   int64  \n",
      " 4   n_unique_tokens                4954 non-null   float64\n",
      " 5   n_non_stop_words               4954 non-null   float64\n",
      " 6   n_non_stop_unique_tokens       4954 non-null   float64\n",
      " 7   num_hrefs                      4954 non-null   int64  \n",
      " 8   num_self_hrefs                 4954 non-null   int64  \n",
      " 9   num_imgs                       4954 non-null   int64  \n",
      " 10  num_videos                     4954 non-null   int64  \n",
      " 11  average_token_length           4954 non-null   float64\n",
      " 12  num_keywords                   4954 non-null   int64  \n",
      " 13  data_channel_is_lifestyle      4954 non-null   int64  \n",
      " 14  data_channel_is_entertainment  4954 non-null   int64  \n",
      " 15  data_channel_is_bus            4954 non-null   int64  \n",
      " 16  data_channel_is_socmed         4954 non-null   int64  \n",
      " 17  data_channel_is_tech           4954 non-null   int64  \n",
      " 18  data_channel_is_world          4954 non-null   int64  \n",
      " 19  kw_min_min                     4954 non-null   int64  \n",
      " 20  kw_max_min                     4954 non-null   float64\n",
      " 21  kw_avg_min                     4954 non-null   float64\n",
      " 22  kw_min_max                     4954 non-null   int64  \n",
      " 23  kw_max_max                     4954 non-null   int64  \n",
      " 24  kw_avg_max                     4954 non-null   float64\n",
      " 25  kw_min_avg                     4954 non-null   float64\n",
      " 26  kw_max_avg                     4954 non-null   float64\n",
      " 27  kw_avg_avg                     4954 non-null   float64\n",
      " 28  self_reference_min_shares      4954 non-null   float64\n",
      " 29  self_reference_max_shares      4954 non-null   int64  \n",
      " 30  self_reference_avg_sharess     4954 non-null   float64\n",
      " 31  weekday_is_monday              4954 non-null   int64  \n",
      " 32  weekday_is_tuesday             4954 non-null   int64  \n",
      " 33  weekday_is_wednesday           4954 non-null   int64  \n",
      " 34  weekday_is_thursday            4954 non-null   int64  \n",
      " 35  weekday_is_friday              4954 non-null   int64  \n",
      " 36  weekday_is_saturday            4954 non-null   int64  \n",
      " 37  weekday_is_sunday              4954 non-null   int64  \n",
      " 38  is_weekend                     4954 non-null   int64  \n",
      " 39  LDA_00                         4954 non-null   float64\n",
      " 40  LDA_01                         4954 non-null   float64\n",
      " 41  LDA_02                         4954 non-null   float64\n",
      " 42  LDA_03                         4954 non-null   float64\n",
      " 43  LDA_04                         4954 non-null   float64\n",
      " 44  global_subjectivity            4954 non-null   float64\n",
      " 45  global_sentiment_polarity      4954 non-null   float64\n",
      " 46  global_rate_positive_words     4954 non-null   float64\n",
      " 47  global_rate_negative_words     4954 non-null   float64\n",
      " 48  rate_positive_words            4954 non-null   float64\n",
      " 49  rate_negative_words            4954 non-null   float64\n",
      " 50  avg_positive_polarity          4954 non-null   float64\n",
      " 51  min_positive_polarity          4954 non-null   float64\n",
      " 52  max_positive_polarity          4954 non-null   float64\n",
      " 53  avg_negative_polarity          4954 non-null   float64\n",
      " 54  min_negative_polarity          4954 non-null   float64\n",
      " 55  max_negative_polarity          4954 non-null   float64\n",
      " 56  title_subjectivity             4954 non-null   float64\n",
      " 57  title_sentiment_polarity       4954 non-null   float64\n",
      " 58  abs_title_subjectivity         4954 non-null   float64\n",
      " 59  abs_title_sentiment_polarity   4954 non-null   float64\n",
      " 60  shares                         4954 non-null   int64  \n",
      "dtypes: float64(33), int64(27), object(1)\n",
      "memory usage: 2.3+ MB\n"
     ]
    }
   ],
   "source": [
    "df.info()"
   ]
  },
  {
   "cell_type": "markdown",
   "id": "f8c87b4c",
   "metadata": {
    "papermill": {
     "duration": 0.028111,
     "end_time": "2023-12-08T15:18:48.757364",
     "exception": false,
     "start_time": "2023-12-08T15:18:48.729253",
     "status": "completed"
    },
    "tags": []
   },
   "source": [
    "This looks like exponential distribution."
   ]
  },
  {
   "cell_type": "code",
   "execution_count": 4,
   "id": "34677e6f",
   "metadata": {
    "execution": {
     "iopub.execute_input": "2023-12-08T15:18:48.817076Z",
     "iopub.status.busy": "2023-12-08T15:18:48.816444Z",
     "iopub.status.idle": "2023-12-08T15:18:49.261081Z",
     "shell.execute_reply": "2023-12-08T15:18:49.259752Z"
    },
    "papermill": {
     "duration": 0.478273,
     "end_time": "2023-12-08T15:18:49.264409",
     "exception": false,
     "start_time": "2023-12-08T15:18:48.786136",
     "status": "completed"
    },
    "tags": []
   },
   "outputs": [
    {
     "data": {
      "text/plain": [
       "(0.0, 15000.0)"
      ]
     },
     "execution_count": 4,
     "metadata": {},
     "output_type": "execute_result"
    },
    {
     "data": {
      "image/png": "[encoded data removed]",
      "text/plain": [
       "<Figure size 640x480 with 1 Axes>"
      ]
     },
     "metadata": {},
     "output_type": "display_data"
    }
   ],
   "source": [
    "sns.kdeplot(df['shares'])\n",
    "plt.xlim(0, 15000)"
   ]
  },
  {
   "cell_type": "markdown",
   "id": "b825e9d0",
   "metadata": {
    "papermill": {
     "duration": 0.029948,
     "end_time": "2023-12-08T15:18:49.324498",
     "exception": false,
     "start_time": "2023-12-08T15:18:49.294550",
     "status": "completed"
    },
    "tags": []
   },
   "source": [
    "Lets drop columns `url`, because variable unique for all data set."
   ]
  },
  {
   "cell_type": "code",
   "execution_count": 5,
   "id": "e91f9063",
   "metadata": {
    "execution": {
     "iopub.execute_input": "2023-12-08T15:18:49.386092Z",
     "iopub.status.busy": "2023-12-08T15:18:49.385517Z",
     "iopub.status.idle": "2023-12-08T15:18:49.394609Z",
     "shell.execute_reply": "2023-12-08T15:18:49.393169Z"
    },
    "papermill": {
     "duration": 0.043125,
     "end_time": "2023-12-08T15:18:49.397484",
     "exception": false,
     "start_time": "2023-12-08T15:18:49.354359",
     "status": "completed"
    },
    "tags": []
   },
   "outputs": [],
   "source": [
    "df.drop(columns=['url'], axis=1, inplace=True)"
   ]
  },
  {
   "cell_type": "markdown",
   "id": "e350d366",
   "metadata": {
    "papermill": {
     "duration": 0.028322,
     "end_time": "2023-12-08T15:18:49.455115",
     "exception": false,
     "start_time": "2023-12-08T15:18:49.426793",
     "status": "completed"
    },
    "tags": []
   },
   "source": [
    "Let also delete `kw_min_min kw_max_max n_non_stop_words` collumns, because all values same."
   ]
  },
  {
   "cell_type": "code",
   "execution_count": 6,
   "id": "7171fcb4",
   "metadata": {
    "execution": {
     "iopub.execute_input": "2023-12-08T15:18:49.515514Z",
     "iopub.status.busy": "2023-12-08T15:18:49.515000Z",
     "iopub.status.idle": "2023-12-08T15:18:49.523956Z",
     "shell.execute_reply": "2023-12-08T15:18:49.523071Z"
    },
    "papermill": {
     "duration": 0.041634,
     "end_time": "2023-12-08T15:18:49.526155",
     "exception": false,
     "start_time": "2023-12-08T15:18:49.484521",
     "status": "completed"
    },
    "tags": []
   },
   "outputs": [
    {
     "data": {
      "text/plain": [
       "kw_max_max\n",
       "843300    4951\n",
       "663600       2\n",
       "233400       1\n",
       "Name: count, dtype: int64"
      ]
     },
     "execution_count": 6,
     "metadata": {},
     "output_type": "execute_result"
    }
   ],
   "source": [
    "df['kw_max_max'].value_counts()"
   ]
  },
  {
   "cell_type": "code",
   "execution_count": 7,
   "id": "14979d98",
   "metadata": {
    "execution": {
     "iopub.execute_input": "2023-12-08T15:18:49.589146Z",
     "iopub.status.busy": "2023-12-08T15:18:49.588378Z",
     "iopub.status.idle": "2023-12-08T15:18:49.597103Z",
     "shell.execute_reply": "2023-12-08T15:18:49.595691Z"
    },
    "papermill": {
     "duration": 0.043235,
     "end_time": "2023-12-08T15:18:49.599423",
     "exception": false,
     "start_time": "2023-12-08T15:18:49.556188",
     "status": "completed"
    },
    "tags": []
   },
   "outputs": [
    {
     "data": {
      "text/plain": [
       "kw_min_min\n",
       "-1    4954\n",
       "Name: count, dtype: int64"
      ]
     },
     "execution_count": 7,
     "metadata": {},
     "output_type": "execute_result"
    }
   ],
   "source": [
    "df['kw_min_min'].value_counts()"
   ]
  },
  {
   "cell_type": "code",
   "execution_count": 8,
   "id": "b9d173c1",
   "metadata": {
    "execution": {
     "iopub.execute_input": "2023-12-08T15:18:49.660207Z",
     "iopub.status.busy": "2023-12-08T15:18:49.659299Z",
     "iopub.status.idle": "2023-12-08T15:18:49.672475Z",
     "shell.execute_reply": "2023-12-08T15:18:49.670968Z"
    },
    "papermill": {
     "duration": 0.047207,
     "end_time": "2023-12-08T15:18:49.675481",
     "exception": false,
     "start_time": "2023-12-08T15:18:49.628274",
     "status": "completed"
    },
    "tags": []
   },
   "outputs": [
    {
     "data": {
      "text/plain": [
       "n_non_stop_words\n",
       "1.0    1020\n",
       "1.0     792\n",
       "1.0     599\n",
       "1.0     488\n",
       "0.0     488\n",
       "1.0     469\n",
       "1.0     353\n",
       "1.0     204\n",
       "1.0     155\n",
       "1.0     106\n",
       "1.0      75\n",
       "1.0      63\n",
       "1.0      44\n",
       "1.0      24\n",
       "1.0      23\n",
       "1.0      13\n",
       "1.0       8\n",
       "1.0       8\n",
       "1.0       4\n",
       "1.0       3\n",
       "1.0       3\n",
       "1.0       2\n",
       "1.0       2\n",
       "1.0       2\n",
       "1.0       2\n",
       "1.0       2\n",
       "1.0       1\n",
       "1.0       1\n",
       "Name: count, dtype: int64"
      ]
     },
     "execution_count": 8,
     "metadata": {},
     "output_type": "execute_result"
    }
   ],
   "source": [
    "df['n_non_stop_words'].value_counts()"
   ]
  },
  {
   "cell_type": "code",
   "execution_count": 9,
   "id": "13a3901e",
   "metadata": {
    "execution": {
     "iopub.execute_input": "2023-12-08T15:18:49.738644Z",
     "iopub.status.busy": "2023-12-08T15:18:49.737211Z",
     "iopub.status.idle": "2023-12-08T15:18:49.745612Z",
     "shell.execute_reply": "2023-12-08T15:18:49.744375Z"
    },
    "papermill": {
     "duration": 0.0434,
     "end_time": "2023-12-08T15:18:49.748945",
     "exception": false,
     "start_time": "2023-12-08T15:18:49.705545",
     "status": "completed"
    },
    "tags": []
   },
   "outputs": [],
   "source": [
    "garbage = ['kw_max_max', 'kw_min_min', 'n_non_stop_words']\n",
    "df.drop(columns=garbage, axis=1, inplace=True)"
   ]
  },
  {
   "cell_type": "markdown",
   "id": "7aecf7c3",
   "metadata": {
    "papermill": {
     "duration": 0.028994,
     "end_time": "2023-12-08T15:18:49.807500",
     "exception": false,
     "start_time": "2023-12-08T15:18:49.778506",
     "status": "completed"
    },
    "tags": []
   },
   "source": [
    "Lets delete anomaly articles that have `shares`>=15000 and <400 and log our target variable to make distribution more familiar to normal."
   ]
  },
  {
   "cell_type": "code",
   "execution_count": 10,
   "id": "8ba7988b",
   "metadata": {
    "execution": {
     "iopub.execute_input": "2023-12-08T15:18:49.869662Z",
     "iopub.status.busy": "2023-12-08T15:18:49.868377Z",
     "iopub.status.idle": "2023-12-08T15:18:49.880074Z",
     "shell.execute_reply": "2023-12-08T15:18:49.878809Z"
    },
    "papermill": {
     "duration": 0.045046,
     "end_time": "2023-12-08T15:18:49.882595",
     "exception": false,
     "start_time": "2023-12-08T15:18:49.837549",
     "status": "completed"
    },
    "tags": []
   },
   "outputs": [
    {
     "data": {
      "text/plain": [
       "shares\n",
       "1100     316\n",
       "1200     279\n",
       "1300     225\n",
       "1400     224\n",
       "1500     165\n",
       "        ... \n",
       "26900      1\n",
       "569        1\n",
       "19100      1\n",
       "477        1\n",
       "470        1\n",
       "Name: count, Length: 781, dtype: int64"
      ]
     },
     "execution_count": 10,
     "metadata": {},
     "output_type": "execute_result"
    }
   ],
   "source": [
    "df['shares'].value_counts()"
   ]
  },
  {
   "cell_type": "code",
   "execution_count": 11,
   "id": "4e3ce1ad",
   "metadata": {
    "execution": {
     "iopub.execute_input": "2023-12-08T15:18:49.945490Z",
     "iopub.status.busy": "2023-12-08T15:18:49.944039Z",
     "iopub.status.idle": "2023-12-08T15:18:49.955326Z",
     "shell.execute_reply": "2023-12-08T15:18:49.953767Z"
    },
    "papermill": {
     "duration": 0.046326,
     "end_time": "2023-12-08T15:18:49.958518",
     "exception": false,
     "start_time": "2023-12-08T15:18:49.912192",
     "status": "completed"
    },
    "tags": []
   },
   "outputs": [],
   "source": [
    "df = df[df['shares'] <= 15000]\n",
    "df = df[df['shares'] > 200]"
   ]
  },
  {
   "cell_type": "code",
   "execution_count": 12,
   "id": "e2f51826",
   "metadata": {
    "execution": {
     "iopub.execute_input": "2023-12-08T15:18:50.020936Z",
     "iopub.status.busy": "2023-12-08T15:18:50.019733Z",
     "iopub.status.idle": "2023-12-08T15:18:50.381654Z",
     "shell.execute_reply": "2023-12-08T15:18:50.380244Z"
    },
    "papermill": {
     "duration": 0.396752,
     "end_time": "2023-12-08T15:18:50.384639",
     "exception": false,
     "start_time": "2023-12-08T15:18:49.987887",
     "status": "completed"
    },
    "tags": []
   },
   "outputs": [
    {
     "data": {
      "text/plain": [
       "<Axes: xlabel='shares', ylabel='Density'>"
      ]
     },
     "execution_count": 12,
     "metadata": {},
     "output_type": "execute_result"
    },
    {
     "data": {
      "image/png": "[encoded data removed]",
      "text/plain": [
       "<Figure size 640x480 with 1 Axes>"
      ]
     },
     "metadata": {},
     "output_type": "display_data"
    }
   ],
   "source": [
    "y_regretion = np.log(df['shares'])\n",
    "sns.kdeplot(y_regretion)"
   ]
  },
  {
   "cell_type": "markdown",
   "id": "7a62ed37",
   "metadata": {
    "papermill": {
     "duration": 0.030343,
     "end_time": "2023-12-08T15:18:50.445590",
     "exception": false,
     "start_time": "2023-12-08T15:18:50.415247",
     "status": "completed"
    },
    "tags": []
   },
   "source": [
    "Like previous model, lets also see classification issues."
   ]
  },
  {
   "cell_type": "code",
   "execution_count": 13,
   "id": "feda1452",
   "metadata": {
    "execution": {
     "iopub.execute_input": "2023-12-08T15:18:50.510500Z",
     "iopub.status.busy": "2023-12-08T15:18:50.510079Z",
     "iopub.status.idle": "2023-12-08T15:18:50.523999Z",
     "shell.execute_reply": "2023-12-08T15:18:50.522608Z"
    },
    "papermill": {
     "duration": 0.04823,
     "end_time": "2023-12-08T15:18:50.526714",
     "exception": false,
     "start_time": "2023-12-08T15:18:50.478484",
     "status": "completed"
    },
    "tags": []
   },
   "outputs": [
    {
     "data": {
      "text/plain": [
       "is_popular\n",
       "0    2741\n",
       "1    2041\n",
       "Name: count, dtype: int64"
      ]
     },
     "execution_count": 13,
     "metadata": {},
     "output_type": "execute_result"
    }
   ],
   "source": [
    "df['is_popular'] = (df['shares'] > 1500).astype(int)\n",
    "df.drop(columns=['shares'], axis=1, inplace=True)\n",
    "df['is_popular'].value_counts()"
   ]
  },
  {
   "cell_type": "markdown",
   "id": "77927a8a",
   "metadata": {
    "papermill": {
     "duration": 0.030076,
     "end_time": "2023-12-08T15:18:50.587314",
     "exception": false,
     "start_time": "2023-12-08T15:18:50.557238",
     "status": "completed"
    },
    "tags": []
   },
   "source": [
    "## Split Data"
   ]
  },
  {
   "cell_type": "code",
   "execution_count": 14,
   "id": "2b73cffa",
   "metadata": {
    "execution": {
     "iopub.execute_input": "2023-12-08T15:18:50.650872Z",
     "iopub.status.busy": "2023-12-08T15:18:50.649986Z",
     "iopub.status.idle": "2023-12-08T15:18:50.974405Z",
     "shell.execute_reply": "2023-12-08T15:18:50.973219Z"
    },
    "papermill": {
     "duration": 0.359759,
     "end_time": "2023-12-08T15:18:50.977416",
     "exception": false,
     "start_time": "2023-12-08T15:18:50.617657",
     "status": "completed"
    },
    "tags": []
   },
   "outputs": [],
   "source": [
    "from sklearn.model_selection import train_test_split\n",
    "X = df.drop('is_popular', axis=1)\n",
    "y_classification = df['is_popular']\n",
    "X_train, X_valid, y_train_cl, y_valid_cl = train_test_split(X, y_classification, test_size=0.25, random_state=4)\n",
    "X_train, X_valid, y_train_reg, y_valid_reg = train_test_split(X, y_regretion, test_size=0.25, random_state=4)"
   ]
  },
  {
   "cell_type": "markdown",
   "id": "749abc27",
   "metadata": {
    "papermill": {
     "duration": 0.029894,
     "end_time": "2023-12-08T15:18:51.038478",
     "exception": false,
     "start_time": "2023-12-08T15:18:51.008584",
     "status": "completed"
    },
    "tags": []
   },
   "source": [
    "Lets standart data"
   ]
  },
  {
   "cell_type": "code",
   "execution_count": 15,
   "id": "9f071183",
   "metadata": {
    "execution": {
     "iopub.execute_input": "2023-12-08T15:18:51.101817Z",
     "iopub.status.busy": "2023-12-08T15:18:51.101326Z",
     "iopub.status.idle": "2023-12-08T15:18:51.107189Z",
     "shell.execute_reply": "2023-12-08T15:18:51.105832Z"
    },
    "papermill": {
     "duration": 0.041207,
     "end_time": "2023-12-08T15:18:51.109720",
     "exception": false,
     "start_time": "2023-12-08T15:18:51.068513",
     "status": "completed"
    },
    "tags": []
   },
   "outputs": [],
   "source": [
    "from sklearn.preprocessing import StandardScaler"
   ]
  },
  {
   "cell_type": "markdown",
   "id": "634a4e05",
   "metadata": {
    "papermill": {
     "duration": 0.030002,
     "end_time": "2023-12-08T15:18:51.169896",
     "exception": false,
     "start_time": "2023-12-08T15:18:51.139894",
     "status": "completed"
    },
    "tags": []
   },
   "source": [
    "For regression"
   ]
  },
  {
   "cell_type": "code",
   "execution_count": 16,
   "id": "a85e4d9c",
   "metadata": {
    "execution": {
     "iopub.execute_input": "2023-12-08T15:18:51.232538Z",
     "iopub.status.busy": "2023-12-08T15:18:51.232058Z",
     "iopub.status.idle": "2023-12-08T15:18:51.252494Z",
     "shell.execute_reply": "2023-12-08T15:18:51.251146Z"
    },
    "papermill": {
     "duration": 0.05547,
     "end_time": "2023-12-08T15:18:51.255528",
     "exception": false,
     "start_time": "2023-12-08T15:18:51.200058",
     "status": "completed"
    },
    "tags": []
   },
   "outputs": [],
   "source": [
    "scaler_reg = StandardScaler()\n",
    "scaler_reg.fit(X_train, y_train_reg)\n",
    "\n",
    "X_train_st_reg = scaler_reg.transform(X_train)\n",
    "X_valid_st_reg = scaler_reg.transform(X_valid)"
   ]
  },
  {
   "cell_type": "markdown",
   "id": "756e531b",
   "metadata": {
    "papermill": {
     "duration": 0.029947,
     "end_time": "2023-12-08T15:18:51.316818",
     "exception": false,
     "start_time": "2023-12-08T15:18:51.286871",
     "status": "completed"
    },
    "tags": []
   },
   "source": [
    "For classification"
   ]
  },
  {
   "cell_type": "code",
   "execution_count": 17,
   "id": "ef0dc09d",
   "metadata": {
    "execution": {
     "iopub.execute_input": "2023-12-08T15:18:51.382532Z",
     "iopub.status.busy": "2023-12-08T15:18:51.382071Z",
     "iopub.status.idle": "2023-12-08T15:18:51.401494Z",
     "shell.execute_reply": "2023-12-08T15:18:51.400259Z"
    },
    "papermill": {
     "duration": 0.0558,
     "end_time": "2023-12-08T15:18:51.404667",
     "exception": false,
     "start_time": "2023-12-08T15:18:51.348867",
     "status": "completed"
    },
    "tags": []
   },
   "outputs": [],
   "source": [
    "scaler_cl = StandardScaler()\n",
    "scaler_cl.fit(X_train, y_train_cl)\n",
    "\n",
    "X_train_st_cl = scaler_cl.transform(X_train)\n",
    "X_valid_st_cl = scaler_cl.transform(X_valid)"
   ]
  },
  {
   "cell_type": "markdown",
   "id": "4972e35d",
   "metadata": {
    "papermill": {
     "duration": 0.031943,
     "end_time": "2023-12-08T15:18:51.467957",
     "exception": false,
     "start_time": "2023-12-08T15:18:51.436014",
     "status": "completed"
    },
    "tags": []
   },
   "source": [
    "## Classifier and Regressor"
   ]
  },
  {
   "cell_type": "code",
   "execution_count": 18,
   "id": "0da87ab0",
   "metadata": {
    "execution": {
     "iopub.execute_input": "2023-12-08T15:18:51.533738Z",
     "iopub.status.busy": "2023-12-08T15:18:51.532998Z",
     "iopub.status.idle": "2023-12-08T15:18:51.552406Z",
     "shell.execute_reply": "2023-12-08T15:18:51.551452Z"
    },
    "papermill": {
     "duration": 0.05524,
     "end_time": "2023-12-08T15:18:51.555428",
     "exception": false,
     "start_time": "2023-12-08T15:18:51.500188",
     "status": "completed"
    },
    "tags": []
   },
   "outputs": [],
   "source": [
    "from sklearn.neural_network import MLPRegressor\n",
    "from sklearn.metrics import mean_squared_error\n",
    "from sklearn.metrics import r2_score\n",
    "\n",
    "from sklearn.neural_network import MLPClassifier\n",
    "from sklearn.metrics import f1_score"
   ]
  },
  {
   "cell_type": "markdown",
   "id": "9d2f59c4",
   "metadata": {
    "papermill": {
     "duration": 0.030802,
     "end_time": "2023-12-08T15:18:51.617428",
     "exception": false,
     "start_time": "2023-12-08T15:18:51.586626",
     "status": "completed"
    },
    "tags": []
   },
   "source": [
    "Lets build our models and check result"
   ]
  },
  {
   "cell_type": "code",
   "execution_count": 19,
   "id": "e15218d7",
   "metadata": {
    "execution": {
     "iopub.execute_input": "2023-12-08T15:18:51.682089Z",
     "iopub.status.busy": "2023-12-08T15:18:51.681346Z",
     "iopub.status.idle": "2023-12-08T15:19:34.407070Z",
     "shell.execute_reply": "2023-12-08T15:19:34.405421Z"
    },
    "papermill": {
     "duration": 42.828596,
     "end_time": "2023-12-08T15:19:34.477225",
     "exception": false,
     "start_time": "2023-12-08T15:18:51.648629",
     "status": "completed"
    },
    "tags": []
   },
   "outputs": [
    {
     "name": "stdout",
     "output_type": "stream",
     "text": [
      "mean_squared_error score: 48.89624979816056\n",
      "r2 score: -87.98012203557035\n"
     ]
    }
   ],
   "source": [
    "mlp_reg = MLPRegressor(solver='lbfgs', max_iter=20000, random_state=23)\n",
    "mlp_reg.fit(X_train_st_reg, y_train_cl)\n",
    "\n",
    "y_pred_reg = mlp_reg.predict(X_valid_st_reg)\n",
    "print(\"mean_squared_error score:\", mean_squared_error(y_valid_reg, y_pred_reg))\n",
    "print(\"r2 score:\", r2_score(y_valid_reg, y_pred_reg))"
   ]
  },
  {
   "cell_type": "code",
   "execution_count": 20,
   "id": "1c532588",
   "metadata": {
    "execution": {
     "iopub.execute_input": "2023-12-08T15:19:34.564611Z",
     "iopub.status.busy": "2023-12-08T15:19:34.564143Z",
     "iopub.status.idle": "2023-12-08T15:19:38.292649Z",
     "shell.execute_reply": "2023-12-08T15:19:38.290983Z"
    },
    "papermill": {
     "duration": 3.767276,
     "end_time": "2023-12-08T15:19:38.297340",
     "exception": false,
     "start_time": "2023-12-08T15:19:34.530064",
     "status": "completed"
    },
    "tags": []
   },
   "outputs": [
    {
     "name": "stdout",
     "output_type": "stream",
     "text": [
      "f1 score: 0.5691699604743082\n"
     ]
    }
   ],
   "source": [
    "mlp_cl = MLPClassifier(solver='lbfgs', max_iter=200, random_state=23)\n",
    "mlp_cl.fit(X_train_st_cl, y_train_cl)\n",
    "\n",
    "y_pred_cl = mlp_cl.predict(X_valid_st_cl)\n",
    "print(\"f1 score:\", f1_score(y_valid_cl, y_pred_cl))"
   ]
  },
  {
   "cell_type": "markdown",
   "id": "0ee294d7",
   "metadata": {
    "papermill": {
     "duration": 0.05125,
     "end_time": "2023-12-08T15:19:38.414779",
     "exception": false,
     "start_time": "2023-12-08T15:19:38.363529",
     "status": "completed"
    },
    "tags": []
   },
   "source": [
    "Not bad result for classification, but lets try to make better result with parameters"
   ]
  },
  {
   "cell_type": "markdown",
   "id": "3180ce2a",
   "metadata": {
    "papermill": {
     "duration": 0.03145,
     "end_time": "2023-12-08T15:19:38.478415",
     "exception": false,
     "start_time": "2023-12-08T15:19:38.446965",
     "status": "completed"
    },
    "tags": []
   },
   "source": [
    "## SearchCV"
   ]
  },
  {
   "cell_type": "code",
   "execution_count": 21,
   "id": "b3d414c9",
   "metadata": {
    "execution": {
     "iopub.execute_input": "2023-12-08T15:19:38.543997Z",
     "iopub.status.busy": "2023-12-08T15:19:38.543487Z",
     "iopub.status.idle": "2023-12-08T15:19:38.548703Z",
     "shell.execute_reply": "2023-12-08T15:19:38.547761Z"
    },
    "papermill": {
     "duration": 0.040647,
     "end_time": "2023-12-08T15:19:38.551119",
     "exception": false,
     "start_time": "2023-12-08T15:19:38.510472",
     "status": "completed"
    },
    "tags": []
   },
   "outputs": [],
   "source": [
    "from sklearn.model_selection import RandomizedSearchCV"
   ]
  },
  {
   "cell_type": "markdown",
   "id": "f6adfe9f",
   "metadata": {
    "papermill": {
     "duration": 0.030628,
     "end_time": "2023-12-08T15:19:38.613067",
     "exception": false,
     "start_time": "2023-12-08T15:19:38.582439",
     "status": "completed"
    },
    "tags": []
   },
   "source": [
    "We have 4 params. In hidden_layer_sizes we can change layers and number of layers."
   ]
  },
  {
   "cell_type": "code",
   "execution_count": 22,
   "id": "16dba5e4",
   "metadata": {
    "execution": {
     "iopub.execute_input": "2023-12-08T15:19:38.677169Z",
     "iopub.status.busy": "2023-12-08T15:19:38.675742Z",
     "iopub.status.idle": "2023-12-08T15:19:38.687592Z",
     "shell.execute_reply": "2023-12-08T15:19:38.686024Z"
    },
    "papermill": {
     "duration": 0.046351,
     "end_time": "2023-12-08T15:19:38.690377",
     "exception": false,
     "start_time": "2023-12-08T15:19:38.644026",
     "status": "completed"
    },
    "tags": []
   },
   "outputs": [
    {
     "name": "stdout",
     "output_type": "stream",
     "text": [
      "1 Hiden 1 layers with neurons: 30\n",
      "2 Hiden 2 layers with neurons: 20 80\n",
      "3 Hiden 3 layers with neurons: 30 80 50\n"
     ]
    }
   ],
   "source": [
    "np.random.seed(52)\n",
    "params = {\n",
    "    'alpha': np.logspace(-4, 4, 10),\n",
    "    'hidden_layer_sizes': [ tuple(np.random.choice((20, 30, 50, 80), i)) for i in range(1, 4)],\n",
    "    'activation': ['relu', 'tanh', 'logistic'],\n",
    "    'learning_rate_init': [0.0001, 0.001, 0.01, 0.1],\n",
    "    'max_iter': [50000]\n",
    "}\n",
    "j=0\n",
    "for i in params['hidden_layer_sizes']:\n",
    "    j+=1\n",
    "    print(j,\"Hiden\",len(i), \"layers with neurons:\", *i)"
   ]
  },
  {
   "cell_type": "code",
   "execution_count": 23,
   "id": "672995c8",
   "metadata": {
    "execution": {
     "iopub.execute_input": "2023-12-08T15:19:38.756168Z",
     "iopub.status.busy": "2023-12-08T15:19:38.755439Z",
     "iopub.status.idle": "2023-12-08T15:19:38.761934Z",
     "shell.execute_reply": "2023-12-08T15:19:38.760441Z"
    },
    "papermill": {
     "duration": 0.043919,
     "end_time": "2023-12-08T15:19:38.765030",
     "exception": false,
     "start_time": "2023-12-08T15:19:38.721111",
     "status": "completed"
    },
    "tags": []
   },
   "outputs": [],
   "source": [
    "MLPRegressor_CV = RandomizedSearchCV(mlp_reg, params, cv=5, scoring='r2', n_jobs=-1, random_state=52)\n",
    "MLPClassifier_CV = RandomizedSearchCV(mlp_cl, params, cv=5, scoring='f1', n_jobs=-1, random_state=52)"
   ]
  },
  {
   "cell_type": "code",
   "execution_count": 24,
   "id": "6265f2b2",
   "metadata": {
    "execution": {
     "iopub.execute_input": "2023-12-08T15:19:38.831929Z",
     "iopub.status.busy": "2023-12-08T15:19:38.831303Z",
     "iopub.status.idle": "2023-12-08T15:27:37.227004Z",
     "shell.execute_reply": "2023-12-08T15:27:37.224715Z"
    },
    "papermill": {
     "duration": 478.48912,
     "end_time": "2023-12-08T15:27:37.287065",
     "exception": false,
     "start_time": "2023-12-08T15:19:38.797945",
     "status": "completed"
    },
    "tags": []
   },
   "outputs": [
    {
     "data": {
      "text/html": [
       "<style>#sk-container-id-1 {color: black;background-color: white;}#sk-container-id-1 pre{padding: 0;}#sk-container-id-1 div.sk-toggleable {background-color: white;}#sk-container-id-1 label.sk-toggleable__label {cursor: pointer;display: block;width: 100%;margin-bottom: 0;padding: 0.3em;box-sizing: border-box;text-align: center;}#sk-container-id-1 label.sk-toggleable__label-arrow:before {content: \"▸\";float: left;margin-right: 0.25em;color: #696969;}#sk-container-id-1 label.sk-toggleable__label-arrow:hover:before {color: black;}#sk-container-id-1 div.sk-estimator:hover label.sk-toggleable__label-arrow:before {color: black;}#sk-container-id-1 div.sk-toggleable__content {max-height: 0;max-width: 0;overflow: hidden;text-align: left;background-color: #f0f8ff;}#sk-container-id-1 div.sk-toggleable__content pre {margin: 0.2em;color: black;border-radius: 0.25em;background-color: #f0f8ff;}#sk-container-id-1 input.sk-toggleable__control:checked~div.sk-toggleable__content {max-height: 200px;max-width: 100%;overflow: auto;}#sk-container-id-1 input.sk-toggleable__control:checked~label.sk-toggleable__label-arrow:before {content: \"▾\";}#sk-container-id-1 div.sk-estimator input.sk-toggleable__control:checked~label.sk-toggleable__label {background-color: #d4ebff;}#sk-container-id-1 div.sk-label input.sk-toggleable__control:checked~label.sk-toggleable__label {background-color: #d4ebff;}#sk-container-id-1 input.sk-hidden--visually {border: 0;clip: rect(1px 1px 1px 1px);clip: rect(1px, 1px, 1px, 1px);height: 1px;margin: -1px;overflow: hidden;padding: 0;position: absolute;width: 1px;}#sk-container-id-1 div.sk-estimator {font-family: monospace;background-color: #f0f8ff;border: 1px dotted black;border-radius: 0.25em;box-sizing: border-box;margin-bottom: 0.5em;}#sk-container-id-1 div.sk-estimator:hover {background-color: #d4ebff;}#sk-container-id-1 div.sk-parallel-item::after {content: \"\";width: 100%;border-bottom: 1px solid gray;flex-grow: 1;}#sk-container-id-1 div.sk-label:hover label.sk-toggleable__label {background-color: #d4ebff;}#sk-container-id-1 div.sk-serial::before {content: \"\";position: absolute;border-left: 1px solid gray;box-sizing: border-box;top: 0;bottom: 0;left: 50%;z-index: 0;}#sk-container-id-1 div.sk-serial {display: flex;flex-direction: column;align-items: center;background-color: white;padding-right: 0.2em;padding-left: 0.2em;position: relative;}#sk-container-id-1 div.sk-item {position: relative;z-index: 1;}#sk-container-id-1 div.sk-parallel {display: flex;align-items: stretch;justify-content: center;background-color: white;position: relative;}#sk-container-id-1 div.sk-item::before, #sk-container-id-1 div.sk-parallel-item::before {content: \"\";position: absolute;border-left: 1px solid gray;box-sizing: border-box;top: 0;bottom: 0;left: 50%;z-index: -1;}#sk-container-id-1 div.sk-parallel-item {display: flex;flex-direction: column;z-index: 1;position: relative;background-color: white;}#sk-container-id-1 div.sk-parallel-item:first-child::after {align-self: flex-end;width: 50%;}#sk-container-id-1 div.sk-parallel-item:last-child::after {align-self: flex-start;width: 50%;}#sk-container-id-1 div.sk-parallel-item:only-child::after {width: 0;}#sk-container-id-1 div.sk-dashed-wrapped {border: 1px dashed gray;margin: 0 0.4em 0.5em 0.4em;box-sizing: border-box;padding-bottom: 0.4em;background-color: white;}#sk-container-id-1 div.sk-label label {font-family: monospace;font-weight: bold;display: inline-block;line-height: 1.2em;}#sk-container-id-1 div.sk-label-container {text-align: center;}#sk-container-id-1 div.sk-container {/* jupyter's `normalize.less` sets `[hidden] { display: none; }` but bootstrap.min.css set `[hidden] { display: none !important; }` so we also need the `!important` here to be able to override the default hidden behavior on the sphinx rendered scikit-learn.org. See: https://github.com/scikit-learn/scikit-learn/issues/21755 */display: inline-block !important;position: relative;}#sk-container-id-1 div.sk-text-repr-fallback {display: none;}</style><div id=\"sk-container-id-1\" class=\"sk-top-container\"><div class=\"sk-text-repr-fallback\"><pre>RandomizedSearchCV(cv=5,\n",
       "                   estimator=MLPRegressor(max_iter=20000, random_state=23,\n",
       "                                          solver=&#x27;lbfgs&#x27;),\n",
       "                   n_jobs=-1,\n",
       "                   param_distributions={&#x27;activation&#x27;: [&#x27;relu&#x27;, &#x27;tanh&#x27;,\n",
       "                                                       &#x27;logistic&#x27;],\n",
       "                                        &#x27;alpha&#x27;: array([1.00000000e-04, 7.74263683e-04, 5.99484250e-03, 4.64158883e-02,\n",
       "       3.59381366e-01, 2.78255940e+00, 2.15443469e+01, 1.66810054e+02,\n",
       "       1.29154967e+03, 1.00000000e+04]),\n",
       "                                        &#x27;hidden_layer_sizes&#x27;: [(30,), (20, 80),\n",
       "                                                               (30, 80, 50)],\n",
       "                                        &#x27;learning_rate_init&#x27;: [0.0001, 0.001,\n",
       "                                                               0.01, 0.1],\n",
       "                                        &#x27;max_iter&#x27;: [50000]},\n",
       "                   random_state=52, scoring=&#x27;r2&#x27;)</pre><b>In a Jupyter environment, please rerun this cell to show the HTML representation or trust the notebook. <br />On GitHub, the HTML representation is unable to render, please try loading this page with nbviewer.org.</b></div><div class=\"sk-container\" hidden><div class=\"sk-item sk-dashed-wrapped\"><div class=\"sk-label-container\"><div class=\"sk-label sk-toggleable\"><input class=\"sk-toggleable__control sk-hidden--visually\" id=\"sk-estimator-id-1\" type=\"checkbox\" ><label for=\"sk-estimator-id-1\" class=\"sk-toggleable__label sk-toggleable__label-arrow\">RandomizedSearchCV</label><div class=\"sk-toggleable__content\"><pre>RandomizedSearchCV(cv=5,\n",
       "                   estimator=MLPRegressor(max_iter=20000, random_state=23,\n",
       "                                          solver=&#x27;lbfgs&#x27;),\n",
       "                   n_jobs=-1,\n",
       "                   param_distributions={&#x27;activation&#x27;: [&#x27;relu&#x27;, &#x27;tanh&#x27;,\n",
       "                                                       &#x27;logistic&#x27;],\n",
       "                                        &#x27;alpha&#x27;: array([1.00000000e-04, 7.74263683e-04, 5.99484250e-03, 4.64158883e-02,\n",
       "       3.59381366e-01, 2.78255940e+00, 2.15443469e+01, 1.66810054e+02,\n",
       "       1.29154967e+03, 1.00000000e+04]),\n",
       "                                        &#x27;hidden_layer_sizes&#x27;: [(30,), (20, 80),\n",
       "                                                               (30, 80, 50)],\n",
       "                                        &#x27;learning_rate_init&#x27;: [0.0001, 0.001,\n",
       "                                                               0.01, 0.1],\n",
       "                                        &#x27;max_iter&#x27;: [50000]},\n",
       "                   random_state=52, scoring=&#x27;r2&#x27;)</pre></div></div></div><div class=\"sk-parallel\"><div class=\"sk-parallel-item\"><div class=\"sk-item\"><div class=\"sk-label-container\"><div class=\"sk-label sk-toggleable\"><input class=\"sk-toggleable__control sk-hidden--visually\" id=\"sk-estimator-id-2\" type=\"checkbox\" ><label for=\"sk-estimator-id-2\" class=\"sk-toggleable__label sk-toggleable__label-arrow\">estimator: MLPRegressor</label><div class=\"sk-toggleable__content\"><pre>MLPRegressor(max_iter=20000, random_state=23, solver=&#x27;lbfgs&#x27;)</pre></div></div></div><div class=\"sk-serial\"><div class=\"sk-item\"><div class=\"sk-estimator sk-toggleable\"><input class=\"sk-toggleable__control sk-hidden--visually\" id=\"sk-estimator-id-3\" type=\"checkbox\" ><label for=\"sk-estimator-id-3\" class=\"sk-toggleable__label sk-toggleable__label-arrow\">MLPRegressor</label><div class=\"sk-toggleable__content\"><pre>MLPRegressor(max_iter=20000, random_state=23, solver=&#x27;lbfgs&#x27;)</pre></div></div></div></div></div></div></div></div></div></div>"
      ],
      "text/plain": [
       "RandomizedSearchCV(cv=5,\n",
       "                   estimator=MLPRegressor(max_iter=20000, random_state=23,\n",
       "                                          solver='lbfgs'),\n",
       "                   n_jobs=-1,\n",
       "                   param_distributions={'activation': ['relu', 'tanh',\n",
       "                                                       'logistic'],\n",
       "                                        'alpha': array([1.00000000e-04, 7.74263683e-04, 5.99484250e-03, 4.64158883e-02,\n",
       "       3.59381366e-01, 2.78255940e+00, 2.15443469e+01, 1.66810054e+02,\n",
       "       1.29154967e+03, 1.00000000e+04]),\n",
       "                                        'hidden_layer_sizes': [(30,), (20, 80),\n",
       "                                                               (30, 80, 50)],\n",
       "                                        'learning_rate_init': [0.0001, 0.001,\n",
       "                                                               0.01, 0.1],\n",
       "                                        'max_iter': [50000]},\n",
       "                   random_state=52, scoring='r2')"
      ]
     },
     "execution_count": 24,
     "metadata": {},
     "output_type": "execute_result"
    }
   ],
   "source": [
    "MLPRegressor_CV.fit(X_train_st_reg, y_train_reg)"
   ]
  },
  {
   "cell_type": "code",
   "execution_count": 25,
   "id": "90bbbcf2",
   "metadata": {
    "execution": {
     "iopub.execute_input": "2023-12-08T15:27:37.356246Z",
     "iopub.status.busy": "2023-12-08T15:27:37.355743Z",
     "iopub.status.idle": "2023-12-08T15:32:35.297621Z",
     "shell.execute_reply": "2023-12-08T15:32:35.295955Z"
    },
    "papermill": {
     "duration": 298.05126,
     "end_time": "2023-12-08T15:32:35.373649",
     "exception": false,
     "start_time": "2023-12-08T15:27:37.322389",
     "status": "completed"
    },
    "tags": []
   },
   "outputs": [
    {
     "data": {
      "text/html": [
       "<style>#sk-container-id-2 {color: black;background-color: white;}#sk-container-id-2 pre{padding: 0;}#sk-container-id-2 div.sk-toggleable {background-color: white;}#sk-container-id-2 label.sk-toggleable__label {cursor: pointer;display: block;width: 100%;margin-bottom: 0;padding: 0.3em;box-sizing: border-box;text-align: center;}#sk-container-id-2 label.sk-toggleable__label-arrow:before {content: \"▸\";float: left;margin-right: 0.25em;color: #696969;}#sk-container-id-2 label.sk-toggleable__label-arrow:hover:before {color: black;}#sk-container-id-2 div.sk-estimator:hover label.sk-toggleable__label-arrow:before {color: black;}#sk-container-id-2 div.sk-toggleable__content {max-height: 0;max-width: 0;overflow: hidden;text-align: left;background-color: #f0f8ff;}#sk-container-id-2 div.sk-toggleable__content pre {margin: 0.2em;color: black;border-radius: 0.25em;background-color: #f0f8ff;}#sk-container-id-2 input.sk-toggleable__control:checked~div.sk-toggleable__content {max-height: 200px;max-width: 100%;overflow: auto;}#sk-container-id-2 input.sk-toggleable__control:checked~label.sk-toggleable__label-arrow:before {content: \"▾\";}#sk-container-id-2 div.sk-estimator input.sk-toggleable__control:checked~label.sk-toggleable__label {background-color: #d4ebff;}#sk-container-id-2 div.sk-label input.sk-toggleable__control:checked~label.sk-toggleable__label {background-color: #d4ebff;}#sk-container-id-2 input.sk-hidden--visually {border: 0;clip: rect(1px 1px 1px 1px);clip: rect(1px, 1px, 1px, 1px);height: 1px;margin: -1px;overflow: hidden;padding: 0;position: absolute;width: 1px;}#sk-container-id-2 div.sk-estimator {font-family: monospace;background-color: #f0f8ff;border: 1px dotted black;border-radius: 0.25em;box-sizing: border-box;margin-bottom: 0.5em;}#sk-container-id-2 div.sk-estimator:hover {background-color: #d4ebff;}#sk-container-id-2 div.sk-parallel-item::after {content: \"\";width: 100%;border-bottom: 1px solid gray;flex-grow: 1;}#sk-container-id-2 div.sk-label:hover label.sk-toggleable__label {background-color: #d4ebff;}#sk-container-id-2 div.sk-serial::before {content: \"\";position: absolute;border-left: 1px solid gray;box-sizing: border-box;top: 0;bottom: 0;left: 50%;z-index: 0;}#sk-container-id-2 div.sk-serial {display: flex;flex-direction: column;align-items: center;background-color: white;padding-right: 0.2em;padding-left: 0.2em;position: relative;}#sk-container-id-2 div.sk-item {position: relative;z-index: 1;}#sk-container-id-2 div.sk-parallel {display: flex;align-items: stretch;justify-content: center;background-color: white;position: relative;}#sk-container-id-2 div.sk-item::before, #sk-container-id-2 div.sk-parallel-item::before {content: \"\";position: absolute;border-left: 1px solid gray;box-sizing: border-box;top: 0;bottom: 0;left: 50%;z-index: -1;}#sk-container-id-2 div.sk-parallel-item {display: flex;flex-direction: column;z-index: 1;position: relative;background-color: white;}#sk-container-id-2 div.sk-parallel-item:first-child::after {align-self: flex-end;width: 50%;}#sk-container-id-2 div.sk-parallel-item:last-child::after {align-self: flex-start;width: 50%;}#sk-container-id-2 div.sk-parallel-item:only-child::after {width: 0;}#sk-container-id-2 div.sk-dashed-wrapped {border: 1px dashed gray;margin: 0 0.4em 0.5em 0.4em;box-sizing: border-box;padding-bottom: 0.4em;background-color: white;}#sk-container-id-2 div.sk-label label {font-family: monospace;font-weight: bold;display: inline-block;line-height: 1.2em;}#sk-container-id-2 div.sk-label-container {text-align: center;}#sk-container-id-2 div.sk-container {/* jupyter's `normalize.less` sets `[hidden] { display: none; }` but bootstrap.min.css set `[hidden] { display: none !important; }` so we also need the `!important` here to be able to override the default hidden behavior on the sphinx rendered scikit-learn.org. See: https://github.com/scikit-learn/scikit-learn/issues/21755 */display: inline-block !important;position: relative;}#sk-container-id-2 div.sk-text-repr-fallback {display: none;}</style><div id=\"sk-container-id-2\" class=\"sk-top-container\"><div class=\"sk-text-repr-fallback\"><pre>RandomizedSearchCV(cv=5,\n",
       "                   estimator=MLPClassifier(random_state=23, solver=&#x27;lbfgs&#x27;),\n",
       "                   n_jobs=-1,\n",
       "                   param_distributions={&#x27;activation&#x27;: [&#x27;relu&#x27;, &#x27;tanh&#x27;,\n",
       "                                                       &#x27;logistic&#x27;],\n",
       "                                        &#x27;alpha&#x27;: array([1.00000000e-04, 7.74263683e-04, 5.99484250e-03, 4.64158883e-02,\n",
       "       3.59381366e-01, 2.78255940e+00, 2.15443469e+01, 1.66810054e+02,\n",
       "       1.29154967e+03, 1.00000000e+04]),\n",
       "                                        &#x27;hidden_layer_sizes&#x27;: [(30,), (20, 80),\n",
       "                                                               (30, 80, 50)],\n",
       "                                        &#x27;learning_rate_init&#x27;: [0.0001, 0.001,\n",
       "                                                               0.01, 0.1],\n",
       "                                        &#x27;max_iter&#x27;: [50000]},\n",
       "                   random_state=52, scoring=&#x27;f1&#x27;)</pre><b>In a Jupyter environment, please rerun this cell to show the HTML representation or trust the notebook. <br />On GitHub, the HTML representation is unable to render, please try loading this page with nbviewer.org.</b></div><div class=\"sk-container\" hidden><div class=\"sk-item sk-dashed-wrapped\"><div class=\"sk-label-container\"><div class=\"sk-label sk-toggleable\"><input class=\"sk-toggleable__control sk-hidden--visually\" id=\"sk-estimator-id-4\" type=\"checkbox\" ><label for=\"sk-estimator-id-4\" class=\"sk-toggleable__label sk-toggleable__label-arrow\">RandomizedSearchCV</label><div class=\"sk-toggleable__content\"><pre>RandomizedSearchCV(cv=5,\n",
       "                   estimator=MLPClassifier(random_state=23, solver=&#x27;lbfgs&#x27;),\n",
       "                   n_jobs=-1,\n",
       "                   param_distributions={&#x27;activation&#x27;: [&#x27;relu&#x27;, &#x27;tanh&#x27;,\n",
       "                                                       &#x27;logistic&#x27;],\n",
       "                                        &#x27;alpha&#x27;: array([1.00000000e-04, 7.74263683e-04, 5.99484250e-03, 4.64158883e-02,\n",
       "       3.59381366e-01, 2.78255940e+00, 2.15443469e+01, 1.66810054e+02,\n",
       "       1.29154967e+03, 1.00000000e+04]),\n",
       "                                        &#x27;hidden_layer_sizes&#x27;: [(30,), (20, 80),\n",
       "                                                               (30, 80, 50)],\n",
       "                                        &#x27;learning_rate_init&#x27;: [0.0001, 0.001,\n",
       "                                                               0.01, 0.1],\n",
       "                                        &#x27;max_iter&#x27;: [50000]},\n",
       "                   random_state=52, scoring=&#x27;f1&#x27;)</pre></div></div></div><div class=\"sk-parallel\"><div class=\"sk-parallel-item\"><div class=\"sk-item\"><div class=\"sk-label-container\"><div class=\"sk-label sk-toggleable\"><input class=\"sk-toggleable__control sk-hidden--visually\" id=\"sk-estimator-id-5\" type=\"checkbox\" ><label for=\"sk-estimator-id-5\" class=\"sk-toggleable__label sk-toggleable__label-arrow\">estimator: MLPClassifier</label><div class=\"sk-toggleable__content\"><pre>MLPClassifier(random_state=23, solver=&#x27;lbfgs&#x27;)</pre></div></div></div><div class=\"sk-serial\"><div class=\"sk-item\"><div class=\"sk-estimator sk-toggleable\"><input class=\"sk-toggleable__control sk-hidden--visually\" id=\"sk-estimator-id-6\" type=\"checkbox\" ><label for=\"sk-estimator-id-6\" class=\"sk-toggleable__label sk-toggleable__label-arrow\">MLPClassifier</label><div class=\"sk-toggleable__content\"><pre>MLPClassifier(random_state=23, solver=&#x27;lbfgs&#x27;)</pre></div></div></div></div></div></div></div></div></div></div>"
      ],
      "text/plain": [
       "RandomizedSearchCV(cv=5,\n",
       "                   estimator=MLPClassifier(random_state=23, solver='lbfgs'),\n",
       "                   n_jobs=-1,\n",
       "                   param_distributions={'activation': ['relu', 'tanh',\n",
       "                                                       'logistic'],\n",
       "                                        'alpha': array([1.00000000e-04, 7.74263683e-04, 5.99484250e-03, 4.64158883e-02,\n",
       "       3.59381366e-01, 2.78255940e+00, 2.15443469e+01, 1.66810054e+02,\n",
       "       1.29154967e+03, 1.00000000e+04]),\n",
       "                                        'hidden_layer_sizes': [(30,), (20, 80),\n",
       "                                                               (30, 80, 50)],\n",
       "                                        'learning_rate_init': [0.0001, 0.001,\n",
       "                                                               0.01, 0.1],\n",
       "                                        'max_iter': [50000]},\n",
       "                   random_state=52, scoring='f1')"
      ]
     },
     "execution_count": 25,
     "metadata": {},
     "output_type": "execute_result"
    }
   ],
   "source": [
    "MLPClassifier_CV.fit(X_train_st_cl, y_train_cl)"
   ]
  },
  {
   "cell_type": "code",
   "execution_count": 26,
   "id": "6e1d99a9",
   "metadata": {
    "execution": {
     "iopub.execute_input": "2023-12-08T15:32:35.449931Z",
     "iopub.status.busy": "2023-12-08T15:32:35.449467Z",
     "iopub.status.idle": "2023-12-08T15:32:35.456523Z",
     "shell.execute_reply": "2023-12-08T15:32:35.455667Z"
    },
    "papermill": {
     "duration": 0.043564,
     "end_time": "2023-12-08T15:32:35.458957",
     "exception": false,
     "start_time": "2023-12-08T15:32:35.415393",
     "status": "completed"
    },
    "tags": []
   },
   "outputs": [
    {
     "name": "stdout",
     "output_type": "stream",
     "text": [
      "Best params for classification: {'max_iter': 50000, 'learning_rate_init': 0.01, 'hidden_layer_sizes': (30,), 'alpha': 2.782559402207126, 'activation': 'relu'}\n",
      "Best score for classification: 0.5446840343202712\n",
      "Best params for regressor: {'max_iter': 50000, 'learning_rate_init': 0.01, 'hidden_layer_sizes': (20, 80), 'alpha': 10000.0, 'activation': 'logistic'}\n",
      "Best r2 for regressor: -0.001169114836156826\n"
     ]
    }
   ],
   "source": [
    "print(\"Best params for classification:\", MLPClassifier_CV.best_params_)\n",
    "print(\"Best score for classification:\", MLPClassifier_CV.best_score_)\n",
    "print(\"Best params for regressor:\", MLPRegressor_CV.best_params_)\n",
    "print(\"Best r2 for regressor:\", MLPRegressor_CV.best_score_)"
   ]
  },
  {
   "cell_type": "markdown",
   "id": "3b5ba10e",
   "metadata": {
    "papermill": {
     "duration": 0.032712,
     "end_time": "2023-12-08T15:32:35.524183",
     "exception": false,
     "start_time": "2023-12-08T15:32:35.491471",
     "status": "completed"
    },
    "tags": []
   },
   "source": [
    "`relu` activator, have best result, learning_rate_init 0.01"
   ]
  },
  {
   "cell_type": "markdown",
   "id": "c339eef5",
   "metadata": {
    "papermill": {
     "duration": 0.032591,
     "end_time": "2023-12-08T15:32:35.589026",
     "exception": false,
     "start_time": "2023-12-08T15:32:35.556435",
     "status": "completed"
    },
    "tags": []
   },
   "source": [
    "We have worse f1 score, and bad for r2"
   ]
  },
  {
   "cell_type": "code",
   "execution_count": 27,
   "id": "3bc0c696",
   "metadata": {
    "execution": {
     "iopub.execute_input": "2023-12-08T15:32:35.657327Z",
     "iopub.status.busy": "2023-12-08T15:32:35.656020Z",
     "iopub.status.idle": "2023-12-08T15:32:35.679197Z",
     "shell.execute_reply": "2023-12-08T15:32:35.677670Z"
    },
    "papermill": {
     "duration": 0.062381,
     "end_time": "2023-12-08T15:32:35.683823",
     "exception": false,
     "start_time": "2023-12-08T15:32:35.621442",
     "status": "completed"
    },
    "tags": []
   },
   "outputs": [
    {
     "name": "stdout",
     "output_type": "stream",
     "text": [
      "mean_squared_error score: 48.956203909586705\n",
      "r2 score: -88.08922496622972\n",
      "f1 score: 0.5666991236611489\n"
     ]
    }
   ],
   "source": [
    "best_cl = MLPClassifier_CV.best_estimator_\n",
    "best_reg = MLPRegressor_CV.best_estimator_\n",
    "y_pred_cl = best_cl.predict(X_valid_st_cl)\n",
    "y_pred_reg = best_cl.predict(X_valid_st_reg)\n",
    "print(\"mean_squared_error score:\", mean_squared_error(y_valid_reg, y_pred_reg))\n",
    "print(\"r2 score:\", r2_score(y_valid_reg, y_pred_reg))\n",
    "print(\"f1 score:\", f1_score(y_valid_cl, y_pred_cl))"
   ]
  },
  {
   "cell_type": "markdown",
   "id": "136045d0",
   "metadata": {
    "papermill": {
     "duration": 0.051101,
     "end_time": "2023-12-08T15:32:35.803147",
     "exception": false,
     "start_time": "2023-12-08T15:32:35.752046",
     "status": "completed"
    },
    "tags": []
   },
   "source": [
    "Lets build valid curve"
   ]
  },
  {
   "cell_type": "code",
   "execution_count": 28,
   "id": "04a430f4",
   "metadata": {
    "execution": {
     "iopub.execute_input": "2023-12-08T15:32:35.871780Z",
     "iopub.status.busy": "2023-12-08T15:32:35.871358Z",
     "iopub.status.idle": "2023-12-08T15:32:36.807855Z",
     "shell.execute_reply": "2023-12-08T15:32:36.806947Z"
    },
    "papermill": {
     "duration": 0.973998,
     "end_time": "2023-12-08T15:32:36.810312",
     "exception": false,
     "start_time": "2023-12-08T15:32:35.836314",
     "status": "completed"
    },
    "tags": []
   },
   "outputs": [
    {
     "data": {
      "image/png": "[encoded data removed]",
      "text/plain": [
       "<Figure size 640x480 with 1 Axes>"
      ]
     },
     "metadata": {},
     "output_type": "display_data"
    },
    {
     "data": {
      "image/png": "[encoded data removed]",
      "text/plain": [
       "<Figure size 640x480 with 1 Axes>"
      ]
     },
     "metadata": {},
     "output_type": "display_data"
    },
    {
     "data": {
      "image/png": "[encoded data removed]",
      "text/plain": [
       "<Figure size 640x480 with 1 Axes>"
      ]
     },
     "metadata": {},
     "output_type": "display_data"
    },
    {
     "data": {
      "image/png": "[encoded data removed]",
      "text/plain": [
       "<Figure size 640x480 with 1 Axes>"
      ]
     },
     "metadata": {},
     "output_type": "display_data"
    }
   ],
   "source": [
    "result = pd.DataFrame(MLPClassifier_CV.cv_results_)\n",
    "for feature in ['param_alpha','param_learning_rate_init', 'param_activation', 'param_hidden_layer_sizes']:\n",
    "  result.groupby(feature)['mean_test_score'].mean().plot(marker='o')\n",
    "  plt.show()"
   ]
  },
  {
   "cell_type": "markdown",
   "id": "522be9bf",
   "metadata": {
    "papermill": {
     "duration": 0.033953,
     "end_time": "2023-12-08T15:32:36.879752",
     "exception": false,
     "start_time": "2023-12-08T15:32:36.845799",
     "status": "completed"
    },
    "tags": []
   },
   "source": [
    "We can see that one hidden layer have better result than two and same result with 3. "
   ]
  },
  {
   "cell_type": "markdown",
   "id": "8cfaa233",
   "metadata": {
    "papermill": {
     "duration": 0.034106,
     "end_time": "2023-12-08T15:32:36.948431",
     "exception": false,
     "start_time": "2023-12-08T15:32:36.914325",
     "status": "completed"
    },
    "tags": []
   },
   "source": [
    "Conclusion: we didnt make better model than default model."
   ]
  },
  {
   "cell_type": "markdown",
   "id": "166087be",
   "metadata": {
    "papermill": {
     "duration": 0.033973,
     "end_time": "2023-12-08T15:32:37.017061",
     "exception": false,
     "start_time": "2023-12-08T15:32:36.983088",
     "status": "completed"
    },
    "tags": []
   },
   "source": [
    "## Bagging KNN"
   ]
  },
  {
   "cell_type": "markdown",
   "id": "3388f8e7",
   "metadata": {
    "papermill": {
     "duration": 0.033968,
     "end_time": "2023-12-08T15:32:37.085166",
     "exception": false,
     "start_time": "2023-12-08T15:32:37.051198",
     "status": "completed"
    },
    "tags": []
   },
   "source": [
    "Now lets try another models using bagging and boosting"
   ]
  },
  {
   "cell_type": "code",
   "execution_count": 29,
   "id": "fa76fd49",
   "metadata": {
    "execution": {
     "iopub.execute_input": "2023-12-08T15:32:37.157209Z",
     "iopub.status.busy": "2023-12-08T15:32:37.156482Z",
     "iopub.status.idle": "2023-12-08T15:32:37.447943Z",
     "shell.execute_reply": "2023-12-08T15:32:37.446329Z"
    },
    "papermill": {
     "duration": 0.332301,
     "end_time": "2023-12-08T15:32:37.451456",
     "exception": false,
     "start_time": "2023-12-08T15:32:37.119155",
     "status": "completed"
    },
    "tags": []
   },
   "outputs": [],
   "source": [
    "from sklearn.ensemble import BaggingClassifier\n",
    "from sklearn.ensemble import BaggingRegressor\n",
    "from sklearn.neighbors import KNeighborsClassifier\n",
    "from sklearn.neighbors import KNeighborsRegressor"
   ]
  },
  {
   "cell_type": "code",
   "execution_count": 30,
   "id": "72a38617",
   "metadata": {
    "execution": {
     "iopub.execute_input": "2023-12-08T15:32:37.525760Z",
     "iopub.status.busy": "2023-12-08T15:32:37.525276Z",
     "iopub.status.idle": "2023-12-08T15:32:37.532271Z",
     "shell.execute_reply": "2023-12-08T15:32:37.530889Z"
    },
    "papermill": {
     "duration": 0.047913,
     "end_time": "2023-12-08T15:32:37.534693",
     "exception": false,
     "start_time": "2023-12-08T15:32:37.486780",
     "status": "completed"
    },
    "tags": []
   },
   "outputs": [],
   "source": [
    "bagging_cl = BaggingClassifier(KNeighborsClassifier(), max_samples=0.5, max_features=1.0, n_estimators=10)\n",
    "bagging_reg = BaggingRegressor(KNeighborsRegressor(), max_samples=0.5, max_features=1.0, n_estimators=10)"
   ]
  },
  {
   "cell_type": "code",
   "execution_count": 31,
   "id": "362bd524",
   "metadata": {
    "execution": {
     "iopub.execute_input": "2023-12-08T15:32:37.620314Z",
     "iopub.status.busy": "2023-12-08T15:32:37.619570Z",
     "iopub.status.idle": "2023-12-08T15:32:37.669174Z",
     "shell.execute_reply": "2023-12-08T15:32:37.667764Z"
    },
    "papermill": {
     "duration": 0.098605,
     "end_time": "2023-12-08T15:32:37.672231",
     "exception": false,
     "start_time": "2023-12-08T15:32:37.573626",
     "status": "completed"
    },
    "tags": []
   },
   "outputs": [
    {
     "data": {
      "text/html": [
       "<style>#sk-container-id-3 {color: black;background-color: white;}#sk-container-id-3 pre{padding: 0;}#sk-container-id-3 div.sk-toggleable {background-color: white;}#sk-container-id-3 label.sk-toggleable__label {cursor: pointer;display: block;width: 100%;margin-bottom: 0;padding: 0.3em;box-sizing: border-box;text-align: center;}#sk-container-id-3 label.sk-toggleable__label-arrow:before {content: \"▸\";float: left;margin-right: 0.25em;color: #696969;}#sk-container-id-3 label.sk-toggleable__label-arrow:hover:before {color: black;}#sk-container-id-3 div.sk-estimator:hover label.sk-toggleable__label-arrow:before {color: black;}#sk-container-id-3 div.sk-toggleable__content {max-height: 0;max-width: 0;overflow: hidden;text-align: left;background-color: #f0f8ff;}#sk-container-id-3 div.sk-toggleable__content pre {margin: 0.2em;color: black;border-radius: 0.25em;background-color: #f0f8ff;}#sk-container-id-3 input.sk-toggleable__control:checked~div.sk-toggleable__content {max-height: 200px;max-width: 100%;overflow: auto;}#sk-container-id-3 input.sk-toggleable__control:checked~label.sk-toggleable__label-arrow:before {content: \"▾\";}#sk-container-id-3 div.sk-estimator input.sk-toggleable__control:checked~label.sk-toggleable__label {background-color: #d4ebff;}#sk-container-id-3 div.sk-label input.sk-toggleable__control:checked~label.sk-toggleable__label {background-color: #d4ebff;}#sk-container-id-3 input.sk-hidden--visually {border: 0;clip: rect(1px 1px 1px 1px);clip: rect(1px, 1px, 1px, 1px);height: 1px;margin: -1px;overflow: hidden;padding: 0;position: absolute;width: 1px;}#sk-container-id-3 div.sk-estimator {font-family: monospace;background-color: #f0f8ff;border: 1px dotted black;border-radius: 0.25em;box-sizing: border-box;margin-bottom: 0.5em;}#sk-container-id-3 div.sk-estimator:hover {background-color: #d4ebff;}#sk-container-id-3 div.sk-parallel-item::after {content: \"\";width: 100%;border-bottom: 1px solid gray;flex-grow: 1;}#sk-container-id-3 div.sk-label:hover label.sk-toggleable__label {background-color: #d4ebff;}#sk-container-id-3 div.sk-serial::before {content: \"\";position: absolute;border-left: 1px solid gray;box-sizing: border-box;top: 0;bottom: 0;left: 50%;z-index: 0;}#sk-container-id-3 div.sk-serial {display: flex;flex-direction: column;align-items: center;background-color: white;padding-right: 0.2em;padding-left: 0.2em;position: relative;}#sk-container-id-3 div.sk-item {position: relative;z-index: 1;}#sk-container-id-3 div.sk-parallel {display: flex;align-items: stretch;justify-content: center;background-color: white;position: relative;}#sk-container-id-3 div.sk-item::before, #sk-container-id-3 div.sk-parallel-item::before {content: \"\";position: absolute;border-left: 1px solid gray;box-sizing: border-box;top: 0;bottom: 0;left: 50%;z-index: -1;}#sk-container-id-3 div.sk-parallel-item {display: flex;flex-direction: column;z-index: 1;position: relative;background-color: white;}#sk-container-id-3 div.sk-parallel-item:first-child::after {align-self: flex-end;width: 50%;}#sk-container-id-3 div.sk-parallel-item:last-child::after {align-self: flex-start;width: 50%;}#sk-container-id-3 div.sk-parallel-item:only-child::after {width: 0;}#sk-container-id-3 div.sk-dashed-wrapped {border: 1px dashed gray;margin: 0 0.4em 0.5em 0.4em;box-sizing: border-box;padding-bottom: 0.4em;background-color: white;}#sk-container-id-3 div.sk-label label {font-family: monospace;font-weight: bold;display: inline-block;line-height: 1.2em;}#sk-container-id-3 div.sk-label-container {text-align: center;}#sk-container-id-3 div.sk-container {/* jupyter's `normalize.less` sets `[hidden] { display: none; }` but bootstrap.min.css set `[hidden] { display: none !important; }` so we also need the `!important` here to be able to override the default hidden behavior on the sphinx rendered scikit-learn.org. See: https://github.com/scikit-learn/scikit-learn/issues/21755 */display: inline-block !important;position: relative;}#sk-container-id-3 div.sk-text-repr-fallback {display: none;}</style><div id=\"sk-container-id-3\" class=\"sk-top-container\"><div class=\"sk-text-repr-fallback\"><pre>BaggingClassifier(estimator=KNeighborsClassifier(), max_samples=0.5)</pre><b>In a Jupyter environment, please rerun this cell to show the HTML representation or trust the notebook. <br />On GitHub, the HTML representation is unable to render, please try loading this page with nbviewer.org.</b></div><div class=\"sk-container\" hidden><div class=\"sk-item sk-dashed-wrapped\"><div class=\"sk-label-container\"><div class=\"sk-label sk-toggleable\"><input class=\"sk-toggleable__control sk-hidden--visually\" id=\"sk-estimator-id-7\" type=\"checkbox\" ><label for=\"sk-estimator-id-7\" class=\"sk-toggleable__label sk-toggleable__label-arrow\">BaggingClassifier</label><div class=\"sk-toggleable__content\"><pre>BaggingClassifier(estimator=KNeighborsClassifier(), max_samples=0.5)</pre></div></div></div><div class=\"sk-parallel\"><div class=\"sk-parallel-item\"><div class=\"sk-item\"><div class=\"sk-label-container\"><div class=\"sk-label sk-toggleable\"><input class=\"sk-toggleable__control sk-hidden--visually\" id=\"sk-estimator-id-8\" type=\"checkbox\" ><label for=\"sk-estimator-id-8\" class=\"sk-toggleable__label sk-toggleable__label-arrow\">estimator: KNeighborsClassifier</label><div class=\"sk-toggleable__content\"><pre>KNeighborsClassifier()</pre></div></div></div><div class=\"sk-serial\"><div class=\"sk-item\"><div class=\"sk-estimator sk-toggleable\"><input class=\"sk-toggleable__control sk-hidden--visually\" id=\"sk-estimator-id-9\" type=\"checkbox\" ><label for=\"sk-estimator-id-9\" class=\"sk-toggleable__label sk-toggleable__label-arrow\">KNeighborsClassifier</label><div class=\"sk-toggleable__content\"><pre>KNeighborsClassifier()</pre></div></div></div></div></div></div></div></div></div></div>"
      ],
      "text/plain": [
       "BaggingClassifier(estimator=KNeighborsClassifier(), max_samples=0.5)"
      ]
     },
     "execution_count": 31,
     "metadata": {},
     "output_type": "execute_result"
    }
   ],
   "source": [
    "bagging_cl.fit(X_train_st_cl, y_train_cl)"
   ]
  },
  {
   "cell_type": "code",
   "execution_count": 32,
   "id": "47dc074d",
   "metadata": {
    "execution": {
     "iopub.execute_input": "2023-12-08T15:32:37.745646Z",
     "iopub.status.busy": "2023-12-08T15:32:37.745171Z",
     "iopub.status.idle": "2023-12-08T15:32:37.787500Z",
     "shell.execute_reply": "2023-12-08T15:32:37.786192Z"
    },
    "papermill": {
     "duration": 0.082918,
     "end_time": "2023-12-08T15:32:37.790301",
     "exception": false,
     "start_time": "2023-12-08T15:32:37.707383",
     "status": "completed"
    },
    "tags": []
   },
   "outputs": [
    {
     "data": {
      "text/html": [
       "<style>#sk-container-id-4 {color: black;background-color: white;}#sk-container-id-4 pre{padding: 0;}#sk-container-id-4 div.sk-toggleable {background-color: white;}#sk-container-id-4 label.sk-toggleable__label {cursor: pointer;display: block;width: 100%;margin-bottom: 0;padding: 0.3em;box-sizing: border-box;text-align: center;}#sk-container-id-4 label.sk-toggleable__label-arrow:before {content: \"▸\";float: left;margin-right: 0.25em;color: #696969;}#sk-container-id-4 label.sk-toggleable__label-arrow:hover:before {color: black;}#sk-container-id-4 div.sk-estimator:hover label.sk-toggleable__label-arrow:before {color: black;}#sk-container-id-4 div.sk-toggleable__content {max-height: 0;max-width: 0;overflow: hidden;text-align: left;background-color: #f0f8ff;}#sk-container-id-4 div.sk-toggleable__content pre {margin: 0.2em;color: black;border-radius: 0.25em;background-color: #f0f8ff;}#sk-container-id-4 input.sk-toggleable__control:checked~div.sk-toggleable__content {max-height: 200px;max-width: 100%;overflow: auto;}#sk-container-id-4 input.sk-toggleable__control:checked~label.sk-toggleable__label-arrow:before {content: \"▾\";}#sk-container-id-4 div.sk-estimator input.sk-toggleable__control:checked~label.sk-toggleable__label {background-color: #d4ebff;}#sk-container-id-4 div.sk-label input.sk-toggleable__control:checked~label.sk-toggleable__label {background-color: #d4ebff;}#sk-container-id-4 input.sk-hidden--visually {border: 0;clip: rect(1px 1px 1px 1px);clip: rect(1px, 1px, 1px, 1px);height: 1px;margin: -1px;overflow: hidden;padding: 0;position: absolute;width: 1px;}#sk-container-id-4 div.sk-estimator {font-family: monospace;background-color: #f0f8ff;border: 1px dotted black;border-radius: 0.25em;box-sizing: border-box;margin-bottom: 0.5em;}#sk-container-id-4 div.sk-estimator:hover {background-color: #d4ebff;}#sk-container-id-4 div.sk-parallel-item::after {content: \"\";width: 100%;border-bottom: 1px solid gray;flex-grow: 1;}#sk-container-id-4 div.sk-label:hover label.sk-toggleable__label {background-color: #d4ebff;}#sk-container-id-4 div.sk-serial::before {content: \"\";position: absolute;border-left: 1px solid gray;box-sizing: border-box;top: 0;bottom: 0;left: 50%;z-index: 0;}#sk-container-id-4 div.sk-serial {display: flex;flex-direction: column;align-items: center;background-color: white;padding-right: 0.2em;padding-left: 0.2em;position: relative;}#sk-container-id-4 div.sk-item {position: relative;z-index: 1;}#sk-container-id-4 div.sk-parallel {display: flex;align-items: stretch;justify-content: center;background-color: white;position: relative;}#sk-container-id-4 div.sk-item::before, #sk-container-id-4 div.sk-parallel-item::before {content: \"\";position: absolute;border-left: 1px solid gray;box-sizing: border-box;top: 0;bottom: 0;left: 50%;z-index: -1;}#sk-container-id-4 div.sk-parallel-item {display: flex;flex-direction: column;z-index: 1;position: relative;background-color: white;}#sk-container-id-4 div.sk-parallel-item:first-child::after {align-self: flex-end;width: 50%;}#sk-container-id-4 div.sk-parallel-item:last-child::after {align-self: flex-start;width: 50%;}#sk-container-id-4 div.sk-parallel-item:only-child::after {width: 0;}#sk-container-id-4 div.sk-dashed-wrapped {border: 1px dashed gray;margin: 0 0.4em 0.5em 0.4em;box-sizing: border-box;padding-bottom: 0.4em;background-color: white;}#sk-container-id-4 div.sk-label label {font-family: monospace;font-weight: bold;display: inline-block;line-height: 1.2em;}#sk-container-id-4 div.sk-label-container {text-align: center;}#sk-container-id-4 div.sk-container {/* jupyter's `normalize.less` sets `[hidden] { display: none; }` but bootstrap.min.css set `[hidden] { display: none !important; }` so we also need the `!important` here to be able to override the default hidden behavior on the sphinx rendered scikit-learn.org. See: https://github.com/scikit-learn/scikit-learn/issues/21755 */display: inline-block !important;position: relative;}#sk-container-id-4 div.sk-text-repr-fallback {display: none;}</style><div id=\"sk-container-id-4\" class=\"sk-top-container\"><div class=\"sk-text-repr-fallback\"><pre>BaggingRegressor(estimator=KNeighborsRegressor(), max_samples=0.5)</pre><b>In a Jupyter environment, please rerun this cell to show the HTML representation or trust the notebook. <br />On GitHub, the HTML representation is unable to render, please try loading this page with nbviewer.org.</b></div><div class=\"sk-container\" hidden><div class=\"sk-item sk-dashed-wrapped\"><div class=\"sk-label-container\"><div class=\"sk-label sk-toggleable\"><input class=\"sk-toggleable__control sk-hidden--visually\" id=\"sk-estimator-id-10\" type=\"checkbox\" ><label for=\"sk-estimator-id-10\" class=\"sk-toggleable__label sk-toggleable__label-arrow\">BaggingRegressor</label><div class=\"sk-toggleable__content\"><pre>BaggingRegressor(estimator=KNeighborsRegressor(), max_samples=0.5)</pre></div></div></div><div class=\"sk-parallel\"><div class=\"sk-parallel-item\"><div class=\"sk-item\"><div class=\"sk-label-container\"><div class=\"sk-label sk-toggleable\"><input class=\"sk-toggleable__control sk-hidden--visually\" id=\"sk-estimator-id-11\" type=\"checkbox\" ><label for=\"sk-estimator-id-11\" class=\"sk-toggleable__label sk-toggleable__label-arrow\">estimator: KNeighborsRegressor</label><div class=\"sk-toggleable__content\"><pre>KNeighborsRegressor()</pre></div></div></div><div class=\"sk-serial\"><div class=\"sk-item\"><div class=\"sk-estimator sk-toggleable\"><input class=\"sk-toggleable__control sk-hidden--visually\" id=\"sk-estimator-id-12\" type=\"checkbox\" ><label for=\"sk-estimator-id-12\" class=\"sk-toggleable__label sk-toggleable__label-arrow\">KNeighborsRegressor</label><div class=\"sk-toggleable__content\"><pre>KNeighborsRegressor()</pre></div></div></div></div></div></div></div></div></div></div>"
      ],
      "text/plain": [
       "BaggingRegressor(estimator=KNeighborsRegressor(), max_samples=0.5)"
      ]
     },
     "execution_count": 32,
     "metadata": {},
     "output_type": "execute_result"
    }
   ],
   "source": [
    "bagging_reg.fit(X_train_st_reg, y_train_reg)"
   ]
  },
  {
   "cell_type": "code",
   "execution_count": 33,
   "id": "0435174a",
   "metadata": {
    "execution": {
     "iopub.execute_input": "2023-12-08T15:32:37.865158Z",
     "iopub.status.busy": "2023-12-08T15:32:37.864325Z",
     "iopub.status.idle": "2023-12-08T15:32:38.277588Z",
     "shell.execute_reply": "2023-12-08T15:32:38.276346Z"
    },
    "papermill": {
     "duration": 0.453609,
     "end_time": "2023-12-08T15:32:38.280772",
     "exception": false,
     "start_time": "2023-12-08T15:32:37.827163",
     "status": "completed"
    },
    "tags": []
   },
   "outputs": [
    {
     "name": "stdout",
     "output_type": "stream",
     "text": [
      "mean_squared_error score: 0.530560570048568\n",
      "r2 score: 0.03449969138616171\n",
      "f1 score: 0.5063879210220673\n"
     ]
    }
   ],
   "source": [
    "y_pred_cl = bagging_cl.predict(X_valid_st_cl)\n",
    "y_pred_reg = bagging_reg.predict(X_valid_st_reg)\n",
    "\n",
    "print(\"mean_squared_error score:\", mean_squared_error(y_valid_reg, y_pred_reg))\n",
    "print(\"r2 score:\", r2_score(y_valid_reg, y_pred_reg))\n",
    "print(\"f1 score:\", f1_score(y_valid_cl, y_pred_cl))"
   ]
  },
  {
   "cell_type": "markdown",
   "id": "1460260d",
   "metadata": {
    "papermill": {
     "duration": 0.035203,
     "end_time": "2023-12-08T15:32:38.353229",
     "exception": false,
     "start_time": "2023-12-08T15:32:38.318026",
     "status": "completed"
    },
    "tags": []
   },
   "source": [
    "We have worse result for classification and much better result for regression. But let try make better result with parameters."
   ]
  },
  {
   "cell_type": "code",
   "execution_count": 34,
   "id": "4a48c018",
   "metadata": {
    "execution": {
     "iopub.execute_input": "2023-12-08T15:32:38.427117Z",
     "iopub.status.busy": "2023-12-08T15:32:38.426099Z",
     "iopub.status.idle": "2023-12-08T15:32:38.431996Z",
     "shell.execute_reply": "2023-12-08T15:32:38.431053Z"
    },
    "papermill": {
     "duration": 0.045985,
     "end_time": "2023-12-08T15:32:38.434510",
     "exception": false,
     "start_time": "2023-12-08T15:32:38.388525",
     "status": "completed"
    },
    "tags": []
   },
   "outputs": [],
   "source": [
    "from sklearn.model_selection import GridSearchCV"
   ]
  },
  {
   "cell_type": "code",
   "execution_count": 35,
   "id": "62548f01",
   "metadata": {
    "execution": {
     "iopub.execute_input": "2023-12-08T15:32:38.509488Z",
     "iopub.status.busy": "2023-12-08T15:32:38.507964Z",
     "iopub.status.idle": "2023-12-08T15:32:38.515308Z",
     "shell.execute_reply": "2023-12-08T15:32:38.514264Z"
    },
    "papermill": {
     "duration": 0.048111,
     "end_time": "2023-12-08T15:32:38.518050",
     "exception": false,
     "start_time": "2023-12-08T15:32:38.469939",
     "status": "completed"
    },
    "tags": []
   },
   "outputs": [],
   "source": [
    "params_bg = { 'n_estimators': list(range(1, 100, 2)) }\n",
    "bg_cl_CV = GridSearchCV(bagging_cl, params_bg, cv=5, scoring='f1')\n",
    "bg_reg_CV = GridSearchCV(bagging_reg, params_bg, cv=5, scoring='r2')"
   ]
  },
  {
   "cell_type": "code",
   "execution_count": 36,
   "id": "2e00716a",
   "metadata": {
    "execution": {
     "iopub.execute_input": "2023-12-08T15:32:38.592738Z",
     "iopub.status.busy": "2023-12-08T15:32:38.591275Z",
     "iopub.status.idle": "2023-12-08T15:35:07.931262Z",
     "shell.execute_reply": "2023-12-08T15:35:07.929996Z"
    },
    "papermill": {
     "duration": 149.414996,
     "end_time": "2023-12-08T15:35:07.968961",
     "exception": false,
     "start_time": "2023-12-08T15:32:38.553965",
     "status": "completed"
    },
    "tags": []
   },
   "outputs": [
    {
     "data": {
      "text/html": [
       "<style>#sk-container-id-5 {color: black;background-color: white;}#sk-container-id-5 pre{padding: 0;}#sk-container-id-5 div.sk-toggleable {background-color: white;}#sk-container-id-5 label.sk-toggleable__label {cursor: pointer;display: block;width: 100%;margin-bottom: 0;padding: 0.3em;box-sizing: border-box;text-align: center;}#sk-container-id-5 label.sk-toggleable__label-arrow:before {content: \"▸\";float: left;margin-right: 0.25em;color: #696969;}#sk-container-id-5 label.sk-toggleable__label-arrow:hover:before {color: black;}#sk-container-id-5 div.sk-estimator:hover label.sk-toggleable__label-arrow:before {color: black;}#sk-container-id-5 div.sk-toggleable__content {max-height: 0;max-width: 0;overflow: hidden;text-align: left;background-color: #f0f8ff;}#sk-container-id-5 div.sk-toggleable__content pre {margin: 0.2em;color: black;border-radius: 0.25em;background-color: #f0f8ff;}#sk-container-id-5 input.sk-toggleable__control:checked~div.sk-toggleable__content {max-height: 200px;max-width: 100%;overflow: auto;}#sk-container-id-5 input.sk-toggleable__control:checked~label.sk-toggleable__label-arrow:before {content: \"▾\";}#sk-container-id-5 div.sk-estimator input.sk-toggleable__control:checked~label.sk-toggleable__label {background-color: #d4ebff;}#sk-container-id-5 div.sk-label input.sk-toggleable__control:checked~label.sk-toggleable__label {background-color: #d4ebff;}#sk-container-id-5 input.sk-hidden--visually {border: 0;clip: rect(1px 1px 1px 1px);clip: rect(1px, 1px, 1px, 1px);height: 1px;margin: -1px;overflow: hidden;padding: 0;position: absolute;width: 1px;}#sk-container-id-5 div.sk-estimator {font-family: monospace;background-color: #f0f8ff;border: 1px dotted black;border-radius: 0.25em;box-sizing: border-box;margin-bottom: 0.5em;}#sk-container-id-5 div.sk-estimator:hover {background-color: #d4ebff;}#sk-container-id-5 div.sk-parallel-item::after {content: \"\";width: 100%;border-bottom: 1px solid gray;flex-grow: 1;}#sk-container-id-5 div.sk-label:hover label.sk-toggleable__label {background-color: #d4ebff;}#sk-container-id-5 div.sk-serial::before {content: \"\";position: absolute;border-left: 1px solid gray;box-sizing: border-box;top: 0;bottom: 0;left: 50%;z-index: 0;}#sk-container-id-5 div.sk-serial {display: flex;flex-direction: column;align-items: center;background-color: white;padding-right: 0.2em;padding-left: 0.2em;position: relative;}#sk-container-id-5 div.sk-item {position: relative;z-index: 1;}#sk-container-id-5 div.sk-parallel {display: flex;align-items: stretch;justify-content: center;background-color: white;position: relative;}#sk-container-id-5 div.sk-item::before, #sk-container-id-5 div.sk-parallel-item::before {content: \"\";position: absolute;border-left: 1px solid gray;box-sizing: border-box;top: 0;bottom: 0;left: 50%;z-index: -1;}#sk-container-id-5 div.sk-parallel-item {display: flex;flex-direction: column;z-index: 1;position: relative;background-color: white;}#sk-container-id-5 div.sk-parallel-item:first-child::after {align-self: flex-end;width: 50%;}#sk-container-id-5 div.sk-parallel-item:last-child::after {align-self: flex-start;width: 50%;}#sk-container-id-5 div.sk-parallel-item:only-child::after {width: 0;}#sk-container-id-5 div.sk-dashed-wrapped {border: 1px dashed gray;margin: 0 0.4em 0.5em 0.4em;box-sizing: border-box;padding-bottom: 0.4em;background-color: white;}#sk-container-id-5 div.sk-label label {font-family: monospace;font-weight: bold;display: inline-block;line-height: 1.2em;}#sk-container-id-5 div.sk-label-container {text-align: center;}#sk-container-id-5 div.sk-container {/* jupyter's `normalize.less` sets `[hidden] { display: none; }` but bootstrap.min.css set `[hidden] { display: none !important; }` so we also need the `!important` here to be able to override the default hidden behavior on the sphinx rendered scikit-learn.org. See: https://github.com/scikit-learn/scikit-learn/issues/21755 */display: inline-block !important;position: relative;}#sk-container-id-5 div.sk-text-repr-fallback {display: none;}</style><div id=\"sk-container-id-5\" class=\"sk-top-container\"><div class=\"sk-text-repr-fallback\"><pre>GridSearchCV(cv=5,\n",
       "             estimator=BaggingClassifier(estimator=KNeighborsClassifier(),\n",
       "                                         max_samples=0.5),\n",
       "             param_grid={&#x27;n_estimators&#x27;: [1, 3, 5, 7, 9, 11, 13, 15, 17, 19, 21,\n",
       "                                          23, 25, 27, 29, 31, 33, 35, 37, 39,\n",
       "                                          41, 43, 45, 47, 49, 51, 53, 55, 57,\n",
       "                                          59, ...]},\n",
       "             scoring=&#x27;f1&#x27;)</pre><b>In a Jupyter environment, please rerun this cell to show the HTML representation or trust the notebook. <br />On GitHub, the HTML representation is unable to render, please try loading this page with nbviewer.org.</b></div><div class=\"sk-container\" hidden><div class=\"sk-item sk-dashed-wrapped\"><div class=\"sk-label-container\"><div class=\"sk-label sk-toggleable\"><input class=\"sk-toggleable__control sk-hidden--visually\" id=\"sk-estimator-id-13\" type=\"checkbox\" ><label for=\"sk-estimator-id-13\" class=\"sk-toggleable__label sk-toggleable__label-arrow\">GridSearchCV</label><div class=\"sk-toggleable__content\"><pre>GridSearchCV(cv=5,\n",
       "             estimator=BaggingClassifier(estimator=KNeighborsClassifier(),\n",
       "                                         max_samples=0.5),\n",
       "             param_grid={&#x27;n_estimators&#x27;: [1, 3, 5, 7, 9, 11, 13, 15, 17, 19, 21,\n",
       "                                          23, 25, 27, 29, 31, 33, 35, 37, 39,\n",
       "                                          41, 43, 45, 47, 49, 51, 53, 55, 57,\n",
       "                                          59, ...]},\n",
       "             scoring=&#x27;f1&#x27;)</pre></div></div></div><div class=\"sk-parallel\"><div class=\"sk-parallel-item\"><div class=\"sk-item\"><div class=\"sk-label-container\"><div class=\"sk-label sk-toggleable\"><input class=\"sk-toggleable__control sk-hidden--visually\" id=\"sk-estimator-id-14\" type=\"checkbox\" ><label for=\"sk-estimator-id-14\" class=\"sk-toggleable__label sk-toggleable__label-arrow\">estimator: BaggingClassifier</label><div class=\"sk-toggleable__content\"><pre>BaggingClassifier(estimator=KNeighborsClassifier(), max_samples=0.5)</pre></div></div></div><div class=\"sk-serial\"><div class=\"sk-item sk-dashed-wrapped\"><div class=\"sk-parallel\"><div class=\"sk-parallel-item\"><div class=\"sk-item\"><div class=\"sk-label-container\"><div class=\"sk-label sk-toggleable\"><input class=\"sk-toggleable__control sk-hidden--visually\" id=\"sk-estimator-id-15\" type=\"checkbox\" ><label for=\"sk-estimator-id-15\" class=\"sk-toggleable__label sk-toggleable__label-arrow\">estimator: KNeighborsClassifier</label><div class=\"sk-toggleable__content\"><pre>KNeighborsClassifier()</pre></div></div></div><div class=\"sk-serial\"><div class=\"sk-item\"><div class=\"sk-estimator sk-toggleable\"><input class=\"sk-toggleable__control sk-hidden--visually\" id=\"sk-estimator-id-16\" type=\"checkbox\" ><label for=\"sk-estimator-id-16\" class=\"sk-toggleable__label sk-toggleable__label-arrow\">KNeighborsClassifier</label><div class=\"sk-toggleable__content\"><pre>KNeighborsClassifier()</pre></div></div></div></div></div></div></div></div></div></div></div></div></div></div></div>"
      ],
      "text/plain": [
       "GridSearchCV(cv=5,\n",
       "             estimator=BaggingClassifier(estimator=KNeighborsClassifier(),\n",
       "                                         max_samples=0.5),\n",
       "             param_grid={'n_estimators': [1, 3, 5, 7, 9, 11, 13, 15, 17, 19, 21,\n",
       "                                          23, 25, 27, 29, 31, 33, 35, 37, 39,\n",
       "                                          41, 43, 45, 47, 49, 51, 53, 55, 57,\n",
       "                                          59, ...]},\n",
       "             scoring='f1')"
      ]
     },
     "execution_count": 36,
     "metadata": {},
     "output_type": "execute_result"
    }
   ],
   "source": [
    "bg_cl_CV.fit(X_train_st_cl, y_train_cl)"
   ]
  },
  {
   "cell_type": "code",
   "execution_count": 37,
   "id": "fed79809",
   "metadata": {
    "execution": {
     "iopub.execute_input": "2023-12-08T15:35:08.041105Z",
     "iopub.status.busy": "2023-12-08T15:35:08.040259Z",
     "iopub.status.idle": "2023-12-08T15:37:30.316662Z",
     "shell.execute_reply": "2023-12-08T15:37:30.314932Z"
    },
    "papermill": {
     "duration": 142.349915,
     "end_time": "2023-12-08T15:37:30.353884",
     "exception": false,
     "start_time": "2023-12-08T15:35:08.003969",
     "status": "completed"
    },
    "tags": []
   },
   "outputs": [
    {
     "data": {
      "text/html": [
       "<style>#sk-container-id-6 {color: black;background-color: white;}#sk-container-id-6 pre{padding: 0;}#sk-container-id-6 div.sk-toggleable {background-color: white;}#sk-container-id-6 label.sk-toggleable__label {cursor: pointer;display: block;width: 100%;margin-bottom: 0;padding: 0.3em;box-sizing: border-box;text-align: center;}#sk-container-id-6 label.sk-toggleable__label-arrow:before {content: \"▸\";float: left;margin-right: 0.25em;color: #696969;}#sk-container-id-6 label.sk-toggleable__label-arrow:hover:before {color: black;}#sk-container-id-6 div.sk-estimator:hover label.sk-toggleable__label-arrow:before {color: black;}#sk-container-id-6 div.sk-toggleable__content {max-height: 0;max-width: 0;overflow: hidden;text-align: left;background-color: #f0f8ff;}#sk-container-id-6 div.sk-toggleable__content pre {margin: 0.2em;color: black;border-radius: 0.25em;background-color: #f0f8ff;}#sk-container-id-6 input.sk-toggleable__control:checked~div.sk-toggleable__content {max-height: 200px;max-width: 100%;overflow: auto;}#sk-container-id-6 input.sk-toggleable__control:checked~label.sk-toggleable__label-arrow:before {content: \"▾\";}#sk-container-id-6 div.sk-estimator input.sk-toggleable__control:checked~label.sk-toggleable__label {background-color: #d4ebff;}#sk-container-id-6 div.sk-label input.sk-toggleable__control:checked~label.sk-toggleable__label {background-color: #d4ebff;}#sk-container-id-6 input.sk-hidden--visually {border: 0;clip: rect(1px 1px 1px 1px);clip: rect(1px, 1px, 1px, 1px);height: 1px;margin: -1px;overflow: hidden;padding: 0;position: absolute;width: 1px;}#sk-container-id-6 div.sk-estimator {font-family: monospace;background-color: #f0f8ff;border: 1px dotted black;border-radius: 0.25em;box-sizing: border-box;margin-bottom: 0.5em;}#sk-container-id-6 div.sk-estimator:hover {background-color: #d4ebff;}#sk-container-id-6 div.sk-parallel-item::after {content: \"\";width: 100%;border-bottom: 1px solid gray;flex-grow: 1;}#sk-container-id-6 div.sk-label:hover label.sk-toggleable__label {background-color: #d4ebff;}#sk-container-id-6 div.sk-serial::before {content: \"\";position: absolute;border-left: 1px solid gray;box-sizing: border-box;top: 0;bottom: 0;left: 50%;z-index: 0;}#sk-container-id-6 div.sk-serial {display: flex;flex-direction: column;align-items: center;background-color: white;padding-right: 0.2em;padding-left: 0.2em;position: relative;}#sk-container-id-6 div.sk-item {position: relative;z-index: 1;}#sk-container-id-6 div.sk-parallel {display: flex;align-items: stretch;justify-content: center;background-color: white;position: relative;}#sk-container-id-6 div.sk-item::before, #sk-container-id-6 div.sk-parallel-item::before {content: \"\";position: absolute;border-left: 1px solid gray;box-sizing: border-box;top: 0;bottom: 0;left: 50%;z-index: -1;}#sk-container-id-6 div.sk-parallel-item {display: flex;flex-direction: column;z-index: 1;position: relative;background-color: white;}#sk-container-id-6 div.sk-parallel-item:first-child::after {align-self: flex-end;width: 50%;}#sk-container-id-6 div.sk-parallel-item:last-child::after {align-self: flex-start;width: 50%;}#sk-container-id-6 div.sk-parallel-item:only-child::after {width: 0;}#sk-container-id-6 div.sk-dashed-wrapped {border: 1px dashed gray;margin: 0 0.4em 0.5em 0.4em;box-sizing: border-box;padding-bottom: 0.4em;background-color: white;}#sk-container-id-6 div.sk-label label {font-family: monospace;font-weight: bold;display: inline-block;line-height: 1.2em;}#sk-container-id-6 div.sk-label-container {text-align: center;}#sk-container-id-6 div.sk-container {/* jupyter's `normalize.less` sets `[hidden] { display: none; }` but bootstrap.min.css set `[hidden] { display: none !important; }` so we also need the `!important` here to be able to override the default hidden behavior on the sphinx rendered scikit-learn.org. See: https://github.com/scikit-learn/scikit-learn/issues/21755 */display: inline-block !important;position: relative;}#sk-container-id-6 div.sk-text-repr-fallback {display: none;}</style><div id=\"sk-container-id-6\" class=\"sk-top-container\"><div class=\"sk-text-repr-fallback\"><pre>GridSearchCV(cv=5,\n",
       "             estimator=BaggingRegressor(estimator=KNeighborsRegressor(),\n",
       "                                        max_samples=0.5),\n",
       "             param_grid={&#x27;n_estimators&#x27;: [1, 3, 5, 7, 9, 11, 13, 15, 17, 19, 21,\n",
       "                                          23, 25, 27, 29, 31, 33, 35, 37, 39,\n",
       "                                          41, 43, 45, 47, 49, 51, 53, 55, 57,\n",
       "                                          59, ...]},\n",
       "             scoring=&#x27;r2&#x27;)</pre><b>In a Jupyter environment, please rerun this cell to show the HTML representation or trust the notebook. <br />On GitHub, the HTML representation is unable to render, please try loading this page with nbviewer.org.</b></div><div class=\"sk-container\" hidden><div class=\"sk-item sk-dashed-wrapped\"><div class=\"sk-label-container\"><div class=\"sk-label sk-toggleable\"><input class=\"sk-toggleable__control sk-hidden--visually\" id=\"sk-estimator-id-17\" type=\"checkbox\" ><label for=\"sk-estimator-id-17\" class=\"sk-toggleable__label sk-toggleable__label-arrow\">GridSearchCV</label><div class=\"sk-toggleable__content\"><pre>GridSearchCV(cv=5,\n",
       "             estimator=BaggingRegressor(estimator=KNeighborsRegressor(),\n",
       "                                        max_samples=0.5),\n",
       "             param_grid={&#x27;n_estimators&#x27;: [1, 3, 5, 7, 9, 11, 13, 15, 17, 19, 21,\n",
       "                                          23, 25, 27, 29, 31, 33, 35, 37, 39,\n",
       "                                          41, 43, 45, 47, 49, 51, 53, 55, 57,\n",
       "                                          59, ...]},\n",
       "             scoring=&#x27;r2&#x27;)</pre></div></div></div><div class=\"sk-parallel\"><div class=\"sk-parallel-item\"><div class=\"sk-item\"><div class=\"sk-label-container\"><div class=\"sk-label sk-toggleable\"><input class=\"sk-toggleable__control sk-hidden--visually\" id=\"sk-estimator-id-18\" type=\"checkbox\" ><label for=\"sk-estimator-id-18\" class=\"sk-toggleable__label sk-toggleable__label-arrow\">estimator: BaggingRegressor</label><div class=\"sk-toggleable__content\"><pre>BaggingRegressor(estimator=KNeighborsRegressor(), max_samples=0.5)</pre></div></div></div><div class=\"sk-serial\"><div class=\"sk-item sk-dashed-wrapped\"><div class=\"sk-parallel\"><div class=\"sk-parallel-item\"><div class=\"sk-item\"><div class=\"sk-label-container\"><div class=\"sk-label sk-toggleable\"><input class=\"sk-toggleable__control sk-hidden--visually\" id=\"sk-estimator-id-19\" type=\"checkbox\" ><label for=\"sk-estimator-id-19\" class=\"sk-toggleable__label sk-toggleable__label-arrow\">estimator: KNeighborsRegressor</label><div class=\"sk-toggleable__content\"><pre>KNeighborsRegressor()</pre></div></div></div><div class=\"sk-serial\"><div class=\"sk-item\"><div class=\"sk-estimator sk-toggleable\"><input class=\"sk-toggleable__control sk-hidden--visually\" id=\"sk-estimator-id-20\" type=\"checkbox\" ><label for=\"sk-estimator-id-20\" class=\"sk-toggleable__label sk-toggleable__label-arrow\">KNeighborsRegressor</label><div class=\"sk-toggleable__content\"><pre>KNeighborsRegressor()</pre></div></div></div></div></div></div></div></div></div></div></div></div></div></div></div>"
      ],
      "text/plain": [
       "GridSearchCV(cv=5,\n",
       "             estimator=BaggingRegressor(estimator=KNeighborsRegressor(),\n",
       "                                        max_samples=0.5),\n",
       "             param_grid={'n_estimators': [1, 3, 5, 7, 9, 11, 13, 15, 17, 19, 21,\n",
       "                                          23, 25, 27, 29, 31, 33, 35, 37, 39,\n",
       "                                          41, 43, 45, 47, 49, 51, 53, 55, 57,\n",
       "                                          59, ...]},\n",
       "             scoring='r2')"
      ]
     },
     "execution_count": 37,
     "metadata": {},
     "output_type": "execute_result"
    }
   ],
   "source": [
    "bg_reg_CV.fit(X_train_st_reg, y_train_reg)"
   ]
  },
  {
   "cell_type": "code",
   "execution_count": 38,
   "id": "0ac0e72c",
   "metadata": {
    "execution": {
     "iopub.execute_input": "2023-12-08T15:37:30.426034Z",
     "iopub.status.busy": "2023-12-08T15:37:30.425519Z",
     "iopub.status.idle": "2023-12-08T15:37:31.603070Z",
     "shell.execute_reply": "2023-12-08T15:37:31.601714Z"
    },
    "papermill": {
     "duration": 1.217248,
     "end_time": "2023-12-08T15:37:31.606313",
     "exception": false,
     "start_time": "2023-12-08T15:37:30.389065",
     "status": "completed"
    },
    "tags": []
   },
   "outputs": [
    {
     "name": "stdout",
     "output_type": "stream",
     "text": [
      "mean_squared_error score: 0.5131516530300871\n",
      "r2 score: 0.06617998521658575\n",
      "f1 score: 0.514218009478673\n"
     ]
    }
   ],
   "source": [
    "best_bgcl = bg_cl_CV.best_estimator_\n",
    "best_bgreg = bg_reg_CV.best_estimator_\n",
    "y_pred_cl = best_bgcl.predict(X_valid_st_cl)\n",
    "y_pred_reg = best_bgreg.predict(X_valid_st_reg)\n",
    "print(\"mean_squared_error score:\", mean_squared_error(y_valid_reg, y_pred_reg))\n",
    "print(\"r2 score:\", r2_score(y_valid_reg, y_pred_reg))\n",
    "print(\"f1 score:\", f1_score(y_valid_cl, y_pred_cl))"
   ]
  },
  {
   "cell_type": "markdown",
   "id": "f11c437b",
   "metadata": {
    "papermill": {
     "duration": 0.034578,
     "end_time": "2023-12-08T15:37:31.676991",
     "exception": false,
     "start_time": "2023-12-08T15:37:31.642413",
     "status": "completed"
    },
    "tags": []
   },
   "source": [
    "Parameters not too much helped"
   ]
  },
  {
   "cell_type": "code",
   "execution_count": 39,
   "id": "13431d64",
   "metadata": {
    "execution": {
     "iopub.execute_input": "2023-12-08T15:37:31.750669Z",
     "iopub.status.busy": "2023-12-08T15:37:31.750205Z",
     "iopub.status.idle": "2023-12-08T15:37:32.094786Z",
     "shell.execute_reply": "2023-12-08T15:37:32.093605Z"
    },
    "papermill": {
     "duration": 0.385084,
     "end_time": "2023-12-08T15:37:32.098111",
     "exception": false,
     "start_time": "2023-12-08T15:37:31.713027",
     "status": "completed"
    },
    "tags": []
   },
   "outputs": [
    {
     "data": {
      "text/plain": [
       "[<matplotlib.lines.Line2D at 0x7b36800d2530>]"
      ]
     },
     "execution_count": 39,
     "metadata": {},
     "output_type": "execute_result"
    },
    {
     "data": {
      "image/png": "[encoded data removed]",
      "text/plain": [
       "<Figure size 640x480 with 1 Axes>"
      ]
     },
     "metadata": {},
     "output_type": "display_data"
    }
   ],
   "source": [
    "results = pd.DataFrame(bg_cl_CV.cv_results_)\n",
    "plt.xlabel('n_estimators')\n",
    "plt.ylabel('Test accuracy')\n",
    "plt.title('Validation curve')\n",
    "plt.plot(results['param_n_estimators'], results['mean_test_score'])"
   ]
  },
  {
   "cell_type": "code",
   "execution_count": 40,
   "id": "204e212f",
   "metadata": {
    "execution": {
     "iopub.execute_input": "2023-12-08T15:37:32.174691Z",
     "iopub.status.busy": "2023-12-08T15:37:32.174205Z",
     "iopub.status.idle": "2023-12-08T15:37:32.541406Z",
     "shell.execute_reply": "2023-12-08T15:37:32.540241Z"
    },
    "papermill": {
     "duration": 0.409072,
     "end_time": "2023-12-08T15:37:32.544160",
     "exception": false,
     "start_time": "2023-12-08T15:37:32.135088",
     "status": "completed"
    },
    "tags": []
   },
   "outputs": [
    {
     "data": {
      "text/plain": [
       "[<matplotlib.lines.Line2D at 0x7b3680126800>]"
      ]
     },
     "execution_count": 40,
     "metadata": {},
     "output_type": "execute_result"
    },
    {
     "data": {
      "image/png": "[encoded data removed]",
      "text/plain": [
       "<Figure size 640x480 with 1 Axes>"
      ]
     },
     "metadata": {},
     "output_type": "display_data"
    }
   ],
   "source": [
    "results = pd.DataFrame(bg_reg_CV.cv_results_)\n",
    "plt.xlabel('n_estimators')\n",
    "plt.ylabel('Test accuracy')\n",
    "plt.title('Validation curve')\n",
    "plt.plot(results['param_n_estimators'], results['mean_test_score'])"
   ]
  },
  {
   "cell_type": "markdown",
   "id": "1d04ddfd",
   "metadata": {
    "papermill": {
     "duration": 0.036669,
     "end_time": "2023-12-08T15:37:32.619357",
     "exception": false,
     "start_time": "2023-12-08T15:37:32.582688",
     "status": "completed"
    },
    "tags": []
   },
   "source": [
    "We can see interesting moment that parameter `n_estimators` more effective for regressor than classifier, but not too much. On 20 regression have almoust the same result."
   ]
  },
  {
   "cell_type": "markdown",
   "id": "0f5fc347",
   "metadata": {
    "papermill": {
     "duration": 0.038679,
     "end_time": "2023-12-08T15:37:32.697222",
     "exception": false,
     "start_time": "2023-12-08T15:37:32.658543",
     "status": "completed"
    },
    "tags": []
   },
   "source": [
    "Lets try liear and logistic regression"
   ]
  },
  {
   "cell_type": "code",
   "execution_count": 41,
   "id": "42359971",
   "metadata": {
    "execution": {
     "iopub.execute_input": "2023-12-08T15:37:32.775608Z",
     "iopub.status.busy": "2023-12-08T15:37:32.775115Z",
     "iopub.status.idle": "2023-12-08T15:37:32.780752Z",
     "shell.execute_reply": "2023-12-08T15:37:32.779724Z"
    },
    "papermill": {
     "duration": 0.048145,
     "end_time": "2023-12-08T15:37:32.783274",
     "exception": false,
     "start_time": "2023-12-08T15:37:32.735129",
     "status": "completed"
    },
    "tags": []
   },
   "outputs": [],
   "source": [
    "from sklearn.linear_model import LinearRegression\n",
    "from sklearn.linear_model import LogisticRegression "
   ]
  },
  {
   "cell_type": "code",
   "execution_count": 42,
   "id": "2421822d",
   "metadata": {
    "execution": {
     "iopub.execute_input": "2023-12-08T15:37:32.859587Z",
     "iopub.status.busy": "2023-12-08T15:37:32.859135Z",
     "iopub.status.idle": "2023-12-08T15:37:32.865102Z",
     "shell.execute_reply": "2023-12-08T15:37:32.863897Z"
    },
    "papermill": {
     "duration": 0.046825,
     "end_time": "2023-12-08T15:37:32.867274",
     "exception": false,
     "start_time": "2023-12-08T15:37:32.820449",
     "status": "completed"
    },
    "tags": []
   },
   "outputs": [],
   "source": [
    "bagging_cl_lr = BaggingClassifier(LogisticRegression(), max_samples=0.5, max_features=1.0, n_estimators=10)\n",
    "bagging_reg_lr = BaggingRegressor(LinearRegression(), max_samples=0.5, max_features=1.0, n_estimators=10)"
   ]
  },
  {
   "cell_type": "code",
   "execution_count": 43,
   "id": "3a3ad9de",
   "metadata": {
    "execution": {
     "iopub.execute_input": "2023-12-08T15:37:32.942643Z",
     "iopub.status.busy": "2023-12-08T15:37:32.941785Z",
     "iopub.status.idle": "2023-12-08T15:37:33.909929Z",
     "shell.execute_reply": "2023-12-08T15:37:33.908321Z"
    },
    "papermill": {
     "duration": 1.011008,
     "end_time": "2023-12-08T15:37:33.914582",
     "exception": false,
     "start_time": "2023-12-08T15:37:32.903574",
     "status": "completed"
    },
    "tags": []
   },
   "outputs": [
    {
     "data": {
      "text/html": [
       "<style>#sk-container-id-7 {color: black;background-color: white;}#sk-container-id-7 pre{padding: 0;}#sk-container-id-7 div.sk-toggleable {background-color: white;}#sk-container-id-7 label.sk-toggleable__label {cursor: pointer;display: block;width: 100%;margin-bottom: 0;padding: 0.3em;box-sizing: border-box;text-align: center;}#sk-container-id-7 label.sk-toggleable__label-arrow:before {content: \"▸\";float: left;margin-right: 0.25em;color: #696969;}#sk-container-id-7 label.sk-toggleable__label-arrow:hover:before {color: black;}#sk-container-id-7 div.sk-estimator:hover label.sk-toggleable__label-arrow:before {color: black;}#sk-container-id-7 div.sk-toggleable__content {max-height: 0;max-width: 0;overflow: hidden;text-align: left;background-color: #f0f8ff;}#sk-container-id-7 div.sk-toggleable__content pre {margin: 0.2em;color: black;border-radius: 0.25em;background-color: #f0f8ff;}#sk-container-id-7 input.sk-toggleable__control:checked~div.sk-toggleable__content {max-height: 200px;max-width: 100%;overflow: auto;}#sk-container-id-7 input.sk-toggleable__control:checked~label.sk-toggleable__label-arrow:before {content: \"▾\";}#sk-container-id-7 div.sk-estimator input.sk-toggleable__control:checked~label.sk-toggleable__label {background-color: #d4ebff;}#sk-container-id-7 div.sk-label input.sk-toggleable__control:checked~label.sk-toggleable__label {background-color: #d4ebff;}#sk-container-id-7 input.sk-hidden--visually {border: 0;clip: rect(1px 1px 1px 1px);clip: rect(1px, 1px, 1px, 1px);height: 1px;margin: -1px;overflow: hidden;padding: 0;position: absolute;width: 1px;}#sk-container-id-7 div.sk-estimator {font-family: monospace;background-color: #f0f8ff;border: 1px dotted black;border-radius: 0.25em;box-sizing: border-box;margin-bottom: 0.5em;}#sk-container-id-7 div.sk-estimator:hover {background-color: #d4ebff;}#sk-container-id-7 div.sk-parallel-item::after {content: \"\";width: 100%;border-bottom: 1px solid gray;flex-grow: 1;}#sk-container-id-7 div.sk-label:hover label.sk-toggleable__label {background-color: #d4ebff;}#sk-container-id-7 div.sk-serial::before {content: \"\";position: absolute;border-left: 1px solid gray;box-sizing: border-box;top: 0;bottom: 0;left: 50%;z-index: 0;}#sk-container-id-7 div.sk-serial {display: flex;flex-direction: column;align-items: center;background-color: white;padding-right: 0.2em;padding-left: 0.2em;position: relative;}#sk-container-id-7 div.sk-item {position: relative;z-index: 1;}#sk-container-id-7 div.sk-parallel {display: flex;align-items: stretch;justify-content: center;background-color: white;position: relative;}#sk-container-id-7 div.sk-item::before, #sk-container-id-7 div.sk-parallel-item::before {content: \"\";position: absolute;border-left: 1px solid gray;box-sizing: border-box;top: 0;bottom: 0;left: 50%;z-index: -1;}#sk-container-id-7 div.sk-parallel-item {display: flex;flex-direction: column;z-index: 1;position: relative;background-color: white;}#sk-container-id-7 div.sk-parallel-item:first-child::after {align-self: flex-end;width: 50%;}#sk-container-id-7 div.sk-parallel-item:last-child::after {align-self: flex-start;width: 50%;}#sk-container-id-7 div.sk-parallel-item:only-child::after {width: 0;}#sk-container-id-7 div.sk-dashed-wrapped {border: 1px dashed gray;margin: 0 0.4em 0.5em 0.4em;box-sizing: border-box;padding-bottom: 0.4em;background-color: white;}#sk-container-id-7 div.sk-label label {font-family: monospace;font-weight: bold;display: inline-block;line-height: 1.2em;}#sk-container-id-7 div.sk-label-container {text-align: center;}#sk-container-id-7 div.sk-container {/* jupyter's `normalize.less` sets `[hidden] { display: none; }` but bootstrap.min.css set `[hidden] { display: none !important; }` so we also need the `!important` here to be able to override the default hidden behavior on the sphinx rendered scikit-learn.org. See: https://github.com/scikit-learn/scikit-learn/issues/21755 */display: inline-block !important;position: relative;}#sk-container-id-7 div.sk-text-repr-fallback {display: none;}</style><div id=\"sk-container-id-7\" class=\"sk-top-container\"><div class=\"sk-text-repr-fallback\"><pre>BaggingClassifier(estimator=LogisticRegression(), max_samples=0.5)</pre><b>In a Jupyter environment, please rerun this cell to show the HTML representation or trust the notebook. <br />On GitHub, the HTML representation is unable to render, please try loading this page with nbviewer.org.</b></div><div class=\"sk-container\" hidden><div class=\"sk-item sk-dashed-wrapped\"><div class=\"sk-label-container\"><div class=\"sk-label sk-toggleable\"><input class=\"sk-toggleable__control sk-hidden--visually\" id=\"sk-estimator-id-21\" type=\"checkbox\" ><label for=\"sk-estimator-id-21\" class=\"sk-toggleable__label sk-toggleable__label-arrow\">BaggingClassifier</label><div class=\"sk-toggleable__content\"><pre>BaggingClassifier(estimator=LogisticRegression(), max_samples=0.5)</pre></div></div></div><div class=\"sk-parallel\"><div class=\"sk-parallel-item\"><div class=\"sk-item\"><div class=\"sk-label-container\"><div class=\"sk-label sk-toggleable\"><input class=\"sk-toggleable__control sk-hidden--visually\" id=\"sk-estimator-id-22\" type=\"checkbox\" ><label for=\"sk-estimator-id-22\" class=\"sk-toggleable__label sk-toggleable__label-arrow\">estimator: LogisticRegression</label><div class=\"sk-toggleable__content\"><pre>LogisticRegression()</pre></div></div></div><div class=\"sk-serial\"><div class=\"sk-item\"><div class=\"sk-estimator sk-toggleable\"><input class=\"sk-toggleable__control sk-hidden--visually\" id=\"sk-estimator-id-23\" type=\"checkbox\" ><label for=\"sk-estimator-id-23\" class=\"sk-toggleable__label sk-toggleable__label-arrow\">LogisticRegression</label><div class=\"sk-toggleable__content\"><pre>LogisticRegression()</pre></div></div></div></div></div></div></div></div></div></div>"
      ],
      "text/plain": [
       "BaggingClassifier(estimator=LogisticRegression(), max_samples=0.5)"
      ]
     },
     "execution_count": 43,
     "metadata": {},
     "output_type": "execute_result"
    }
   ],
   "source": [
    "bagging_cl_lr.fit(X_train_st_cl, y_train_cl)"
   ]
  },
  {
   "cell_type": "code",
   "execution_count": 44,
   "id": "79cfc604",
   "metadata": {
    "execution": {
     "iopub.execute_input": "2023-12-08T15:37:34.048688Z",
     "iopub.status.busy": "2023-12-08T15:37:34.048279Z",
     "iopub.status.idle": "2023-12-08T15:37:34.277120Z",
     "shell.execute_reply": "2023-12-08T15:37:34.275589Z"
    },
    "papermill": {
     "duration": 0.285629,
     "end_time": "2023-12-08T15:37:34.281653",
     "exception": false,
     "start_time": "2023-12-08T15:37:33.996024",
     "status": "completed"
    },
    "tags": []
   },
   "outputs": [
    {
     "data": {
      "text/html": [
       "<style>#sk-container-id-8 {color: black;background-color: white;}#sk-container-id-8 pre{padding: 0;}#sk-container-id-8 div.sk-toggleable {background-color: white;}#sk-container-id-8 label.sk-toggleable__label {cursor: pointer;display: block;width: 100%;margin-bottom: 0;padding: 0.3em;box-sizing: border-box;text-align: center;}#sk-container-id-8 label.sk-toggleable__label-arrow:before {content: \"▸\";float: left;margin-right: 0.25em;color: #696969;}#sk-container-id-8 label.sk-toggleable__label-arrow:hover:before {color: black;}#sk-container-id-8 div.sk-estimator:hover label.sk-toggleable__label-arrow:before {color: black;}#sk-container-id-8 div.sk-toggleable__content {max-height: 0;max-width: 0;overflow: hidden;text-align: left;background-color: #f0f8ff;}#sk-container-id-8 div.sk-toggleable__content pre {margin: 0.2em;color: black;border-radius: 0.25em;background-color: #f0f8ff;}#sk-container-id-8 input.sk-toggleable__control:checked~div.sk-toggleable__content {max-height: 200px;max-width: 100%;overflow: auto;}#sk-container-id-8 input.sk-toggleable__control:checked~label.sk-toggleable__label-arrow:before {content: \"▾\";}#sk-container-id-8 div.sk-estimator input.sk-toggleable__control:checked~label.sk-toggleable__label {background-color: #d4ebff;}#sk-container-id-8 div.sk-label input.sk-toggleable__control:checked~label.sk-toggleable__label {background-color: #d4ebff;}#sk-container-id-8 input.sk-hidden--visually {border: 0;clip: rect(1px 1px 1px 1px);clip: rect(1px, 1px, 1px, 1px);height: 1px;margin: -1px;overflow: hidden;padding: 0;position: absolute;width: 1px;}#sk-container-id-8 div.sk-estimator {font-family: monospace;background-color: #f0f8ff;border: 1px dotted black;border-radius: 0.25em;box-sizing: border-box;margin-bottom: 0.5em;}#sk-container-id-8 div.sk-estimator:hover {background-color: #d4ebff;}#sk-container-id-8 div.sk-parallel-item::after {content: \"\";width: 100%;border-bottom: 1px solid gray;flex-grow: 1;}#sk-container-id-8 div.sk-label:hover label.sk-toggleable__label {background-color: #d4ebff;}#sk-container-id-8 div.sk-serial::before {content: \"\";position: absolute;border-left: 1px solid gray;box-sizing: border-box;top: 0;bottom: 0;left: 50%;z-index: 0;}#sk-container-id-8 div.sk-serial {display: flex;flex-direction: column;align-items: center;background-color: white;padding-right: 0.2em;padding-left: 0.2em;position: relative;}#sk-container-id-8 div.sk-item {position: relative;z-index: 1;}#sk-container-id-8 div.sk-parallel {display: flex;align-items: stretch;justify-content: center;background-color: white;position: relative;}#sk-container-id-8 div.sk-item::before, #sk-container-id-8 div.sk-parallel-item::before {content: \"\";position: absolute;border-left: 1px solid gray;box-sizing: border-box;top: 0;bottom: 0;left: 50%;z-index: -1;}#sk-container-id-8 div.sk-parallel-item {display: flex;flex-direction: column;z-index: 1;position: relative;background-color: white;}#sk-container-id-8 div.sk-parallel-item:first-child::after {align-self: flex-end;width: 50%;}#sk-container-id-8 div.sk-parallel-item:last-child::after {align-self: flex-start;width: 50%;}#sk-container-id-8 div.sk-parallel-item:only-child::after {width: 0;}#sk-container-id-8 div.sk-dashed-wrapped {border: 1px dashed gray;margin: 0 0.4em 0.5em 0.4em;box-sizing: border-box;padding-bottom: 0.4em;background-color: white;}#sk-container-id-8 div.sk-label label {font-family: monospace;font-weight: bold;display: inline-block;line-height: 1.2em;}#sk-container-id-8 div.sk-label-container {text-align: center;}#sk-container-id-8 div.sk-container {/* jupyter's `normalize.less` sets `[hidden] { display: none; }` but bootstrap.min.css set `[hidden] { display: none !important; }` so we also need the `!important` here to be able to override the default hidden behavior on the sphinx rendered scikit-learn.org. See: https://github.com/scikit-learn/scikit-learn/issues/21755 */display: inline-block !important;position: relative;}#sk-container-id-8 div.sk-text-repr-fallback {display: none;}</style><div id=\"sk-container-id-8\" class=\"sk-top-container\"><div class=\"sk-text-repr-fallback\"><pre>BaggingRegressor(estimator=LinearRegression(), max_samples=0.5)</pre><b>In a Jupyter environment, please rerun this cell to show the HTML representation or trust the notebook. <br />On GitHub, the HTML representation is unable to render, please try loading this page with nbviewer.org.</b></div><div class=\"sk-container\" hidden><div class=\"sk-item sk-dashed-wrapped\"><div class=\"sk-label-container\"><div class=\"sk-label sk-toggleable\"><input class=\"sk-toggleable__control sk-hidden--visually\" id=\"sk-estimator-id-24\" type=\"checkbox\" ><label for=\"sk-estimator-id-24\" class=\"sk-toggleable__label sk-toggleable__label-arrow\">BaggingRegressor</label><div class=\"sk-toggleable__content\"><pre>BaggingRegressor(estimator=LinearRegression(), max_samples=0.5)</pre></div></div></div><div class=\"sk-parallel\"><div class=\"sk-parallel-item\"><div class=\"sk-item\"><div class=\"sk-label-container\"><div class=\"sk-label sk-toggleable\"><input class=\"sk-toggleable__control sk-hidden--visually\" id=\"sk-estimator-id-25\" type=\"checkbox\" ><label for=\"sk-estimator-id-25\" class=\"sk-toggleable__label sk-toggleable__label-arrow\">estimator: LinearRegression</label><div class=\"sk-toggleable__content\"><pre>LinearRegression()</pre></div></div></div><div class=\"sk-serial\"><div class=\"sk-item\"><div class=\"sk-estimator sk-toggleable\"><input class=\"sk-toggleable__control sk-hidden--visually\" id=\"sk-estimator-id-26\" type=\"checkbox\" ><label for=\"sk-estimator-id-26\" class=\"sk-toggleable__label sk-toggleable__label-arrow\">LinearRegression</label><div class=\"sk-toggleable__content\"><pre>LinearRegression()</pre></div></div></div></div></div></div></div></div></div></div>"
      ],
      "text/plain": [
       "BaggingRegressor(estimator=LinearRegression(), max_samples=0.5)"
      ]
     },
     "execution_count": 44,
     "metadata": {},
     "output_type": "execute_result"
    }
   ],
   "source": [
    "bagging_reg_lr.fit(X_train_st_reg, y_train_reg)"
   ]
  },
  {
   "cell_type": "code",
   "execution_count": 45,
   "id": "1660a9f9",
   "metadata": {
    "execution": {
     "iopub.execute_input": "2023-12-08T15:37:34.417780Z",
     "iopub.status.busy": "2023-12-08T15:37:34.417349Z",
     "iopub.status.idle": "2023-12-08T15:37:34.458162Z",
     "shell.execute_reply": "2023-12-08T15:37:34.455856Z"
    },
    "papermill": {
     "duration": 0.098104,
     "end_time": "2023-12-08T15:37:34.463251",
     "exception": false,
     "start_time": "2023-12-08T15:37:34.365147",
     "status": "completed"
    },
    "tags": []
   },
   "outputs": [
    {
     "name": "stdout",
     "output_type": "stream",
     "text": [
      "mean_squared_error score: 0.4632082776498562\n",
      "r2 score: 0.1570656391173565\n",
      "f1 score: 0.5989528795811518\n"
     ]
    }
   ],
   "source": [
    "y_pred_cl = bagging_cl_lr.predict(X_valid_st_cl)\n",
    "y_pred_reg = bagging_reg_lr.predict(X_valid_st_reg)\n",
    "\n",
    "print(\"mean_squared_error score:\", mean_squared_error(y_valid_reg, y_pred_reg))\n",
    "print(\"r2 score:\", r2_score(y_valid_reg, y_pred_reg))\n",
    "print(\"f1 score:\", f1_score(y_valid_cl, y_pred_cl))"
   ]
  },
  {
   "cell_type": "markdown",
   "id": "3c8f33d4",
   "metadata": {
    "papermill": {
     "duration": 0.047427,
     "end_time": "2023-12-08T15:37:34.590621",
     "exception": false,
     "start_time": "2023-12-08T15:37:34.543194",
     "status": "completed"
    },
    "tags": []
   },
   "source": [
    "We have better result than 2 models earlier. Lets try make better accuracy with parameter"
   ]
  },
  {
   "cell_type": "code",
   "execution_count": 46,
   "id": "f77f815e",
   "metadata": {
    "execution": {
     "iopub.execute_input": "2023-12-08T15:37:34.669329Z",
     "iopub.status.busy": "2023-12-08T15:37:34.668821Z",
     "iopub.status.idle": "2023-12-08T15:37:34.676099Z",
     "shell.execute_reply": "2023-12-08T15:37:34.674521Z"
    },
    "papermill": {
     "duration": 0.049804,
     "end_time": "2023-12-08T15:37:34.678599",
     "exception": false,
     "start_time": "2023-12-08T15:37:34.628795",
     "status": "completed"
    },
    "tags": []
   },
   "outputs": [],
   "source": [
    "params_bg = { 'n_estimators': list(range(1, 40, 2)) }\n",
    "bg_cllr_CV = GridSearchCV(bagging_cl_lr, params_bg, cv=5, scoring='f1')\n",
    "bg_reglr_CV = GridSearchCV(bagging_reg_lr, params_bg, cv=5, scoring='r2')"
   ]
  },
  {
   "cell_type": "code",
   "execution_count": 47,
   "id": "ee487aa5",
   "metadata": {
    "execution": {
     "iopub.execute_input": "2023-12-08T15:37:34.757463Z",
     "iopub.status.busy": "2023-12-08T15:37:34.756992Z",
     "iopub.status.idle": "2023-12-08T15:40:25.470370Z",
     "shell.execute_reply": "2023-12-08T15:40:25.468656Z"
    },
    "papermill": {
     "duration": 170.75852,
     "end_time": "2023-12-08T15:40:25.475531",
     "exception": false,
     "start_time": "2023-12-08T15:37:34.717011",
     "status": "completed"
    },
    "tags": []
   },
   "outputs": [
    {
     "name": "stderr",
     "output_type": "stream",
     "text": [
      "/opt/conda/lib/python3.10/site-packages/sklearn/linear_model/_logistic.py:458: ConvergenceWarning: lbfgs failed to converge (status=1):\n",
      "STOP: TOTAL NO. of ITERATIONS REACHED LIMIT.\n",
      "\n",
      "Increase the number of iterations (max_iter) or scale the data as shown in:\n",
      "    https://scikit-learn.org/stable/modules/preprocessing.html\n",
      "Please also refer to the documentation for alternative solver options:\n",
      "    https://scikit-learn.org/stable/modules/linear_model.html#logistic-regression\n",
      "  n_iter_i = _check_optimize_result(\n",
      "/opt/conda/lib/python3.10/site-packages/sklearn/linear_model/_logistic.py:458: ConvergenceWarning: lbfgs failed to converge (status=1):\n",
      "STOP: TOTAL NO. of ITERATIONS REACHED LIMIT.\n",
      "\n",
      "Increase the number of iterations (max_iter) or scale the data as shown in:\n",
      "    https://scikit-learn.org/stable/modules/preprocessing.html\n",
      "Please also refer to the documentation for alternative solver options:\n",
      "    https://scikit-learn.org/stable/modules/linear_model.html#logistic-regression\n",
      "  n_iter_i = _check_optimize_result(\n",
      "/opt/conda/lib/python3.10/site-packages/sklearn/linear_model/_logistic.py:458: ConvergenceWarning: lbfgs failed to converge (status=1):\n",
      "STOP: TOTAL NO. of ITERATIONS REACHED LIMIT.\n",
      "\n",
      "Increase the number of iterations (max_iter) or scale the data as shown in:\n",
      "    https://scikit-learn.org/stable/modules/preprocessing.html\n",
      "Please also refer to the documentation for alternative solver options:\n",
      "    https://scikit-learn.org/stable/modules/linear_model.html#logistic-regression\n",
      "  n_iter_i = _check_optimize_result(\n",
      "/opt/conda/lib/python3.10/site-packages/sklearn/linear_model/_logistic.py:458: ConvergenceWarning: lbfgs failed to converge (status=1):\n",
      "STOP: TOTAL NO. of ITERATIONS REACHED LIMIT.\n",
      "\n",
      "Increase the number of iterations (max_iter) or scale the data as shown in:\n",
      "    https://scikit-learn.org/stable/modules/preprocessing.html\n",
      "Please also refer to the documentation for alternative solver options:\n",
      "    https://scikit-learn.org/stable/modules/linear_model.html#logistic-regression\n",
      "  n_iter_i = _check_optimize_result(\n",
      "/opt/conda/lib/python3.10/site-packages/sklearn/linear_model/_logistic.py:458: ConvergenceWarning: lbfgs failed to converge (status=1):\n",
      "STOP: TOTAL NO. of ITERATIONS REACHED LIMIT.\n",
      "\n",
      "Increase the number of iterations (max_iter) or scale the data as shown in:\n",
      "    https://scikit-learn.org/stable/modules/preprocessing.html\n",
      "Please also refer to the documentation for alternative solver options:\n",
      "    https://scikit-learn.org/stable/modules/linear_model.html#logistic-regression\n",
      "  n_iter_i = _check_optimize_result(\n",
      "/opt/conda/lib/python3.10/site-packages/sklearn/linear_model/_logistic.py:458: ConvergenceWarning: lbfgs failed to converge (status=1):\n",
      "STOP: TOTAL NO. of ITERATIONS REACHED LIMIT.\n",
      "\n",
      "Increase the number of iterations (max_iter) or scale the data as shown in:\n",
      "    https://scikit-learn.org/stable/modules/preprocessing.html\n",
      "Please also refer to the documentation for alternative solver options:\n",
      "    https://scikit-learn.org/stable/modules/linear_model.html#logistic-regression\n",
      "  n_iter_i = _check_optimize_result(\n",
      "/opt/conda/lib/python3.10/site-packages/sklearn/linear_model/_logistic.py:458: ConvergenceWarning: lbfgs failed to converge (status=1):\n",
      "STOP: TOTAL NO. of ITERATIONS REACHED LIMIT.\n",
      "\n",
      "Increase the number of iterations (max_iter) or scale the data as shown in:\n",
      "    https://scikit-learn.org/stable/modules/preprocessing.html\n",
      "Please also refer to the documentation for alternative solver options:\n",
      "    https://scikit-learn.org/stable/modules/linear_model.html#logistic-regression\n",
      "  n_iter_i = _check_optimize_result(\n",
      "/opt/conda/lib/python3.10/site-packages/sklearn/linear_model/_logistic.py:458: ConvergenceWarning: lbfgs failed to converge (status=1):\n",
      "STOP: TOTAL NO. of ITERATIONS REACHED LIMIT.\n",
      "\n",
      "Increase the number of iterations (max_iter) or scale the data as shown in:\n",
      "    https://scikit-learn.org/stable/modules/preprocessing.html\n",
      "Please also refer to the documentation for alternative solver options:\n",
      "    https://scikit-learn.org/stable/modules/linear_model.html#logistic-regression\n",
      "  n_iter_i = _check_optimize_result(\n",
      "/opt/conda/lib/python3.10/site-packages/sklearn/linear_model/_logistic.py:458: ConvergenceWarning: lbfgs failed to converge (status=1):\n",
      "STOP: TOTAL NO. of ITERATIONS REACHED LIMIT.\n",
      "\n",
      "Increase the number of iterations (max_iter) or scale the data as shown in:\n",
      "    https://scikit-learn.org/stable/modules/preprocessing.html\n",
      "Please also refer to the documentation for alternative solver options:\n",
      "    https://scikit-learn.org/stable/modules/linear_model.html#logistic-regression\n",
      "  n_iter_i = _check_optimize_result(\n"
     ]
    },
    {
     "data": {
      "text/html": [
       "<style>#sk-container-id-9 {color: black;background-color: white;}#sk-container-id-9 pre{padding: 0;}#sk-container-id-9 div.sk-toggleable {background-color: white;}#sk-container-id-9 label.sk-toggleable__label {cursor: pointer;display: block;width: 100%;margin-bottom: 0;padding: 0.3em;box-sizing: border-box;text-align: center;}#sk-container-id-9 label.sk-toggleable__label-arrow:before {content: \"▸\";float: left;margin-right: 0.25em;color: #696969;}#sk-container-id-9 label.sk-toggleable__label-arrow:hover:before {color: black;}#sk-container-id-9 div.sk-estimator:hover label.sk-toggleable__label-arrow:before {color: black;}#sk-container-id-9 div.sk-toggleable__content {max-height: 0;max-width: 0;overflow: hidden;text-align: left;background-color: #f0f8ff;}#sk-container-id-9 div.sk-toggleable__content pre {margin: 0.2em;color: black;border-radius: 0.25em;background-color: #f0f8ff;}#sk-container-id-9 input.sk-toggleable__control:checked~div.sk-toggleable__content {max-height: 200px;max-width: 100%;overflow: auto;}#sk-container-id-9 input.sk-toggleable__control:checked~label.sk-toggleable__label-arrow:before {content: \"▾\";}#sk-container-id-9 div.sk-estimator input.sk-toggleable__control:checked~label.sk-toggleable__label {background-color: #d4ebff;}#sk-container-id-9 div.sk-label input.sk-toggleable__control:checked~label.sk-toggleable__label {background-color: #d4ebff;}#sk-container-id-9 input.sk-hidden--visually {border: 0;clip: rect(1px 1px 1px 1px);clip: rect(1px, 1px, 1px, 1px);height: 1px;margin: -1px;overflow: hidden;padding: 0;position: absolute;width: 1px;}#sk-container-id-9 div.sk-estimator {font-family: monospace;background-color: #f0f8ff;border: 1px dotted black;border-radius: 0.25em;box-sizing: border-box;margin-bottom: 0.5em;}#sk-container-id-9 div.sk-estimator:hover {background-color: #d4ebff;}#sk-container-id-9 div.sk-parallel-item::after {content: \"\";width: 100%;border-bottom: 1px solid gray;flex-grow: 1;}#sk-container-id-9 div.sk-label:hover label.sk-toggleable__label {background-color: #d4ebff;}#sk-container-id-9 div.sk-serial::before {content: \"\";position: absolute;border-left: 1px solid gray;box-sizing: border-box;top: 0;bottom: 0;left: 50%;z-index: 0;}#sk-container-id-9 div.sk-serial {display: flex;flex-direction: column;align-items: center;background-color: white;padding-right: 0.2em;padding-left: 0.2em;position: relative;}#sk-container-id-9 div.sk-item {position: relative;z-index: 1;}#sk-container-id-9 div.sk-parallel {display: flex;align-items: stretch;justify-content: center;background-color: white;position: relative;}#sk-container-id-9 div.sk-item::before, #sk-container-id-9 div.sk-parallel-item::before {content: \"\";position: absolute;border-left: 1px solid gray;box-sizing: border-box;top: 0;bottom: 0;left: 50%;z-index: -1;}#sk-container-id-9 div.sk-parallel-item {display: flex;flex-direction: column;z-index: 1;position: relative;background-color: white;}#sk-container-id-9 div.sk-parallel-item:first-child::after {align-self: flex-end;width: 50%;}#sk-container-id-9 div.sk-parallel-item:last-child::after {align-self: flex-start;width: 50%;}#sk-container-id-9 div.sk-parallel-item:only-child::after {width: 0;}#sk-container-id-9 div.sk-dashed-wrapped {border: 1px dashed gray;margin: 0 0.4em 0.5em 0.4em;box-sizing: border-box;padding-bottom: 0.4em;background-color: white;}#sk-container-id-9 div.sk-label label {font-family: monospace;font-weight: bold;display: inline-block;line-height: 1.2em;}#sk-container-id-9 div.sk-label-container {text-align: center;}#sk-container-id-9 div.sk-container {/* jupyter's `normalize.less` sets `[hidden] { display: none; }` but bootstrap.min.css set `[hidden] { display: none !important; }` so we also need the `!important` here to be able to override the default hidden behavior on the sphinx rendered scikit-learn.org. See: https://github.com/scikit-learn/scikit-learn/issues/21755 */display: inline-block !important;position: relative;}#sk-container-id-9 div.sk-text-repr-fallback {display: none;}</style><div id=\"sk-container-id-9\" class=\"sk-top-container\"><div class=\"sk-text-repr-fallback\"><pre>GridSearchCV(cv=5,\n",
       "             estimator=BaggingClassifier(estimator=LogisticRegression(),\n",
       "                                         max_samples=0.5),\n",
       "             param_grid={&#x27;n_estimators&#x27;: [1, 3, 5, 7, 9, 11, 13, 15, 17, 19, 21,\n",
       "                                          23, 25, 27, 29, 31, 33, 35, 37, 39]},\n",
       "             scoring=&#x27;f1&#x27;)</pre><b>In a Jupyter environment, please rerun this cell to show the HTML representation or trust the notebook. <br />On GitHub, the HTML representation is unable to render, please try loading this page with nbviewer.org.</b></div><div class=\"sk-container\" hidden><div class=\"sk-item sk-dashed-wrapped\"><div class=\"sk-label-container\"><div class=\"sk-label sk-toggleable\"><input class=\"sk-toggleable__control sk-hidden--visually\" id=\"sk-estimator-id-27\" type=\"checkbox\" ><label for=\"sk-estimator-id-27\" class=\"sk-toggleable__label sk-toggleable__label-arrow\">GridSearchCV</label><div class=\"sk-toggleable__content\"><pre>GridSearchCV(cv=5,\n",
       "             estimator=BaggingClassifier(estimator=LogisticRegression(),\n",
       "                                         max_samples=0.5),\n",
       "             param_grid={&#x27;n_estimators&#x27;: [1, 3, 5, 7, 9, 11, 13, 15, 17, 19, 21,\n",
       "                                          23, 25, 27, 29, 31, 33, 35, 37, 39]},\n",
       "             scoring=&#x27;f1&#x27;)</pre></div></div></div><div class=\"sk-parallel\"><div class=\"sk-parallel-item\"><div class=\"sk-item\"><div class=\"sk-label-container\"><div class=\"sk-label sk-toggleable\"><input class=\"sk-toggleable__control sk-hidden--visually\" id=\"sk-estimator-id-28\" type=\"checkbox\" ><label for=\"sk-estimator-id-28\" class=\"sk-toggleable__label sk-toggleable__label-arrow\">estimator: BaggingClassifier</label><div class=\"sk-toggleable__content\"><pre>BaggingClassifier(estimator=LogisticRegression(), max_samples=0.5)</pre></div></div></div><div class=\"sk-serial\"><div class=\"sk-item sk-dashed-wrapped\"><div class=\"sk-parallel\"><div class=\"sk-parallel-item\"><div class=\"sk-item\"><div class=\"sk-label-container\"><div class=\"sk-label sk-toggleable\"><input class=\"sk-toggleable__control sk-hidden--visually\" id=\"sk-estimator-id-29\" type=\"checkbox\" ><label for=\"sk-estimator-id-29\" class=\"sk-toggleable__label sk-toggleable__label-arrow\">estimator: LogisticRegression</label><div class=\"sk-toggleable__content\"><pre>LogisticRegression()</pre></div></div></div><div class=\"sk-serial\"><div class=\"sk-item\"><div class=\"sk-estimator sk-toggleable\"><input class=\"sk-toggleable__control sk-hidden--visually\" id=\"sk-estimator-id-30\" type=\"checkbox\" ><label for=\"sk-estimator-id-30\" class=\"sk-toggleable__label sk-toggleable__label-arrow\">LogisticRegression</label><div class=\"sk-toggleable__content\"><pre>LogisticRegression()</pre></div></div></div></div></div></div></div></div></div></div></div></div></div></div></div>"
      ],
      "text/plain": [
       "GridSearchCV(cv=5,\n",
       "             estimator=BaggingClassifier(estimator=LogisticRegression(),\n",
       "                                         max_samples=0.5),\n",
       "             param_grid={'n_estimators': [1, 3, 5, 7, 9, 11, 13, 15, 17, 19, 21,\n",
       "                                          23, 25, 27, 29, 31, 33, 35, 37, 39]},\n",
       "             scoring='f1')"
      ]
     },
     "execution_count": 47,
     "metadata": {},
     "output_type": "execute_result"
    }
   ],
   "source": [
    "bg_cllr_CV.fit(X_train_st_cl, y_train_cl)"
   ]
  },
  {
   "cell_type": "code",
   "execution_count": 48,
   "id": "c502ce14",
   "metadata": {
    "execution": {
     "iopub.execute_input": "2023-12-08T15:40:25.615775Z",
     "iopub.status.busy": "2023-12-08T15:40:25.615297Z",
     "iopub.status.idle": "2023-12-08T15:41:07.926315Z",
     "shell.execute_reply": "2023-12-08T15:41:07.924485Z"
    },
    "papermill": {
     "duration": 42.453891,
     "end_time": "2023-12-08T15:41:08.019245",
     "exception": false,
     "start_time": "2023-12-08T15:40:25.565354",
     "status": "completed"
    },
    "tags": []
   },
   "outputs": [
    {
     "data": {
      "text/html": [
       "<style>#sk-container-id-10 {color: black;background-color: white;}#sk-container-id-10 pre{padding: 0;}#sk-container-id-10 div.sk-toggleable {background-color: white;}#sk-container-id-10 label.sk-toggleable__label {cursor: pointer;display: block;width: 100%;margin-bottom: 0;padding: 0.3em;box-sizing: border-box;text-align: center;}#sk-container-id-10 label.sk-toggleable__label-arrow:before {content: \"▸\";float: left;margin-right: 0.25em;color: #696969;}#sk-container-id-10 label.sk-toggleable__label-arrow:hover:before {color: black;}#sk-container-id-10 div.sk-estimator:hover label.sk-toggleable__label-arrow:before {color: black;}#sk-container-id-10 div.sk-toggleable__content {max-height: 0;max-width: 0;overflow: hidden;text-align: left;background-color: #f0f8ff;}#sk-container-id-10 div.sk-toggleable__content pre {margin: 0.2em;color: black;border-radius: 0.25em;background-color: #f0f8ff;}#sk-container-id-10 input.sk-toggleable__control:checked~div.sk-toggleable__content {max-height: 200px;max-width: 100%;overflow: auto;}#sk-container-id-10 input.sk-toggleable__control:checked~label.sk-toggleable__label-arrow:before {content: \"▾\";}#sk-container-id-10 div.sk-estimator input.sk-toggleable__control:checked~label.sk-toggleable__label {background-color: #d4ebff;}#sk-container-id-10 div.sk-label input.sk-toggleable__control:checked~label.sk-toggleable__label {background-color: #d4ebff;}#sk-container-id-10 input.sk-hidden--visually {border: 0;clip: rect(1px 1px 1px 1px);clip: rect(1px, 1px, 1px, 1px);height: 1px;margin: -1px;overflow: hidden;padding: 0;position: absolute;width: 1px;}#sk-container-id-10 div.sk-estimator {font-family: monospace;background-color: #f0f8ff;border: 1px dotted black;border-radius: 0.25em;box-sizing: border-box;margin-bottom: 0.5em;}#sk-container-id-10 div.sk-estimator:hover {background-color: #d4ebff;}#sk-container-id-10 div.sk-parallel-item::after {content: \"\";width: 100%;border-bottom: 1px solid gray;flex-grow: 1;}#sk-container-id-10 div.sk-label:hover label.sk-toggleable__label {background-color: #d4ebff;}#sk-container-id-10 div.sk-serial::before {content: \"\";position: absolute;border-left: 1px solid gray;box-sizing: border-box;top: 0;bottom: 0;left: 50%;z-index: 0;}#sk-container-id-10 div.sk-serial {display: flex;flex-direction: column;align-items: center;background-color: white;padding-right: 0.2em;padding-left: 0.2em;position: relative;}#sk-container-id-10 div.sk-item {position: relative;z-index: 1;}#sk-container-id-10 div.sk-parallel {display: flex;align-items: stretch;justify-content: center;background-color: white;position: relative;}#sk-container-id-10 div.sk-item::before, #sk-container-id-10 div.sk-parallel-item::before {content: \"\";position: absolute;border-left: 1px solid gray;box-sizing: border-box;top: 0;bottom: 0;left: 50%;z-index: -1;}#sk-container-id-10 div.sk-parallel-item {display: flex;flex-direction: column;z-index: 1;position: relative;background-color: white;}#sk-container-id-10 div.sk-parallel-item:first-child::after {align-self: flex-end;width: 50%;}#sk-container-id-10 div.sk-parallel-item:last-child::after {align-self: flex-start;width: 50%;}#sk-container-id-10 div.sk-parallel-item:only-child::after {width: 0;}#sk-container-id-10 div.sk-dashed-wrapped {border: 1px dashed gray;margin: 0 0.4em 0.5em 0.4em;box-sizing: border-box;padding-bottom: 0.4em;background-color: white;}#sk-container-id-10 div.sk-label label {font-family: monospace;font-weight: bold;display: inline-block;line-height: 1.2em;}#sk-container-id-10 div.sk-label-container {text-align: center;}#sk-container-id-10 div.sk-container {/* jupyter's `normalize.less` sets `[hidden] { display: none; }` but bootstrap.min.css set `[hidden] { display: none !important; }` so we also need the `!important` here to be able to override the default hidden behavior on the sphinx rendered scikit-learn.org. See: https://github.com/scikit-learn/scikit-learn/issues/21755 */display: inline-block !important;position: relative;}#sk-container-id-10 div.sk-text-repr-fallback {display: none;}</style><div id=\"sk-container-id-10\" class=\"sk-top-container\"><div class=\"sk-text-repr-fallback\"><pre>GridSearchCV(cv=5,\n",
       "             estimator=BaggingRegressor(estimator=LinearRegression(),\n",
       "                                        max_samples=0.5),\n",
       "             param_grid={&#x27;n_estimators&#x27;: [1, 3, 5, 7, 9, 11, 13, 15, 17, 19, 21,\n",
       "                                          23, 25, 27, 29, 31, 33, 35, 37, 39]},\n",
       "             scoring=&#x27;r2&#x27;)</pre><b>In a Jupyter environment, please rerun this cell to show the HTML representation or trust the notebook. <br />On GitHub, the HTML representation is unable to render, please try loading this page with nbviewer.org.</b></div><div class=\"sk-container\" hidden><div class=\"sk-item sk-dashed-wrapped\"><div class=\"sk-label-container\"><div class=\"sk-label sk-toggleable\"><input class=\"sk-toggleable__control sk-hidden--visually\" id=\"sk-estimator-id-31\" type=\"checkbox\" ><label for=\"sk-estimator-id-31\" class=\"sk-toggleable__label sk-toggleable__label-arrow\">GridSearchCV</label><div class=\"sk-toggleable__content\"><pre>GridSearchCV(cv=5,\n",
       "             estimator=BaggingRegressor(estimator=LinearRegression(),\n",
       "                                        max_samples=0.5),\n",
       "             param_grid={&#x27;n_estimators&#x27;: [1, 3, 5, 7, 9, 11, 13, 15, 17, 19, 21,\n",
       "                                          23, 25, 27, 29, 31, 33, 35, 37, 39]},\n",
       "             scoring=&#x27;r2&#x27;)</pre></div></div></div><div class=\"sk-parallel\"><div class=\"sk-parallel-item\"><div class=\"sk-item\"><div class=\"sk-label-container\"><div class=\"sk-label sk-toggleable\"><input class=\"sk-toggleable__control sk-hidden--visually\" id=\"sk-estimator-id-32\" type=\"checkbox\" ><label for=\"sk-estimator-id-32\" class=\"sk-toggleable__label sk-toggleable__label-arrow\">estimator: BaggingRegressor</label><div class=\"sk-toggleable__content\"><pre>BaggingRegressor(estimator=LinearRegression(), max_samples=0.5)</pre></div></div></div><div class=\"sk-serial\"><div class=\"sk-item sk-dashed-wrapped\"><div class=\"sk-parallel\"><div class=\"sk-parallel-item\"><div class=\"sk-item\"><div class=\"sk-label-container\"><div class=\"sk-label sk-toggleable\"><input class=\"sk-toggleable__control sk-hidden--visually\" id=\"sk-estimator-id-33\" type=\"checkbox\" ><label for=\"sk-estimator-id-33\" class=\"sk-toggleable__label sk-toggleable__label-arrow\">estimator: LinearRegression</label><div class=\"sk-toggleable__content\"><pre>LinearRegression()</pre></div></div></div><div class=\"sk-serial\"><div class=\"sk-item\"><div class=\"sk-estimator sk-toggleable\"><input class=\"sk-toggleable__control sk-hidden--visually\" id=\"sk-estimator-id-34\" type=\"checkbox\" ><label for=\"sk-estimator-id-34\" class=\"sk-toggleable__label sk-toggleable__label-arrow\">LinearRegression</label><div class=\"sk-toggleable__content\"><pre>LinearRegression()</pre></div></div></div></div></div></div></div></div></div></div></div></div></div></div></div>"
      ],
      "text/plain": [
       "GridSearchCV(cv=5,\n",
       "             estimator=BaggingRegressor(estimator=LinearRegression(),\n",
       "                                        max_samples=0.5),\n",
       "             param_grid={'n_estimators': [1, 3, 5, 7, 9, 11, 13, 15, 17, 19, 21,\n",
       "                                          23, 25, 27, 29, 31, 33, 35, 37, 39]},\n",
       "             scoring='r2')"
      ]
     },
     "execution_count": 48,
     "metadata": {},
     "output_type": "execute_result"
    }
   ],
   "source": [
    "bg_reglr_CV.fit(X_train_st_reg, y_train_reg)"
   ]
  },
  {
   "cell_type": "code",
   "execution_count": 49,
   "id": "88988c1b",
   "metadata": {
    "execution": {
     "iopub.execute_input": "2023-12-08T15:41:08.104385Z",
     "iopub.status.busy": "2023-12-08T15:41:08.103948Z",
     "iopub.status.idle": "2023-12-08T15:41:08.152873Z",
     "shell.execute_reply": "2023-12-08T15:41:08.150919Z"
    },
    "papermill": {
     "duration": 0.095006,
     "end_time": "2023-12-08T15:41:08.157131",
     "exception": false,
     "start_time": "2023-12-08T15:41:08.062125",
     "status": "completed"
    },
    "tags": []
   },
   "outputs": [
    {
     "name": "stdout",
     "output_type": "stream",
     "text": [
      "mean_squared_error score: 0.46256972850412176\n",
      "r2 score: 0.15822765422378504\n",
      "f1 score: 0.6018808777429467\n"
     ]
    }
   ],
   "source": [
    "best_bgcl = bg_cllr_CV.best_estimator_\n",
    "best_bgreg = bg_reglr_CV.best_estimator_\n",
    "y_pred_cl = best_bgcl.predict(X_valid_st_cl)\n",
    "y_pred_reg = best_bgreg.predict(X_valid_st_reg)\n",
    "print(\"mean_squared_error score:\", mean_squared_error(y_valid_reg, y_pred_reg))\n",
    "print(\"r2 score:\", r2_score(y_valid_reg, y_pred_reg))\n",
    "print(\"f1 score:\", f1_score(y_valid_cl, y_pred_cl))"
   ]
  },
  {
   "cell_type": "code",
   "execution_count": 50,
   "id": "8e786eae",
   "metadata": {
    "execution": {
     "iopub.execute_input": "2023-12-08T15:41:08.292542Z",
     "iopub.status.busy": "2023-12-08T15:41:08.292132Z",
     "iopub.status.idle": "2023-12-08T15:41:08.655763Z",
     "shell.execute_reply": "2023-12-08T15:41:08.653871Z"
    },
    "papermill": {
     "duration": 0.416975,
     "end_time": "2023-12-08T15:41:08.658293",
     "exception": false,
     "start_time": "2023-12-08T15:41:08.241318",
     "status": "completed"
    },
    "tags": []
   },
   "outputs": [
    {
     "data": {
      "text/plain": [
       "[<matplotlib.lines.Line2D at 0x7b367874e8c0>]"
      ]
     },
     "execution_count": 50,
     "metadata": {},
     "output_type": "execute_result"
    },
    {
     "data": {
      "image/png": "[encoded data removed]",
      "text/plain": [
       "<Figure size 640x480 with 1 Axes>"
      ]
     },
     "metadata": {},
     "output_type": "display_data"
    }
   ],
   "source": [
    "results = pd.DataFrame(bg_cllr_CV.cv_results_)\n",
    "plt.xlabel('n_estimators')\n",
    "plt.ylabel('Test accuracy')\n",
    "plt.title('Validation curve')\n",
    "plt.plot(results['param_n_estimators'], results['mean_test_score'])"
   ]
  },
  {
   "cell_type": "code",
   "execution_count": 51,
   "id": "3df556bb",
   "metadata": {
    "execution": {
     "iopub.execute_input": "2023-12-08T15:41:08.742557Z",
     "iopub.status.busy": "2023-12-08T15:41:08.741324Z",
     "iopub.status.idle": "2023-12-08T15:41:09.069543Z",
     "shell.execute_reply": "2023-12-08T15:41:09.067842Z"
    },
    "papermill": {
     "duration": 0.372782,
     "end_time": "2023-12-08T15:41:09.072293",
     "exception": false,
     "start_time": "2023-12-08T15:41:08.699511",
     "status": "completed"
    },
    "tags": []
   },
   "outputs": [
    {
     "data": {
      "text/plain": [
       "[<matplotlib.lines.Line2D at 0x7b36907db310>]"
      ]
     },
     "execution_count": 51,
     "metadata": {},
     "output_type": "execute_result"
    },
    {
     "data": {
      "image/png": "[encoded data removed]",
      "text/plain": [
       "<Figure size 640x480 with 1 Axes>"
      ]
     },
     "metadata": {},
     "output_type": "display_data"
    }
   ],
   "source": [
    "results = pd.DataFrame(bg_reglr_CV.cv_results_)\n",
    "plt.xlabel('n_estimators')\n",
    "plt.ylabel('Test accuracy')\n",
    "plt.title('Validation curve')\n",
    "plt.plot(results['param_n_estimators'], results['mean_test_score'])"
   ]
  },
  {
   "cell_type": "markdown",
   "id": "711c4098",
   "metadata": {
    "papermill": {
     "duration": 0.041018,
     "end_time": "2023-12-08T15:41:09.153786",
     "exception": false,
     "start_time": "2023-12-08T15:41:09.112768",
     "status": "completed"
    },
    "tags": []
   },
   "source": [
    "On this model parameter also didnt helped"
   ]
  },
  {
   "cell_type": "markdown",
   "id": "bb25ddfb",
   "metadata": {
    "papermill": {
     "duration": 0.041549,
     "end_time": "2023-12-08T15:41:09.236688",
     "exception": false,
     "start_time": "2023-12-08T15:41:09.195139",
     "status": "completed"
    },
    "tags": []
   },
   "source": [
    "## Boosting Tree"
   ]
  },
  {
   "cell_type": "code",
   "execution_count": 52,
   "id": "ea178f01",
   "metadata": {
    "execution": {
     "iopub.execute_input": "2023-12-08T15:41:09.321211Z",
     "iopub.status.busy": "2023-12-08T15:41:09.320682Z",
     "iopub.status.idle": "2023-12-08T15:41:09.326615Z",
     "shell.execute_reply": "2023-12-08T15:41:09.325699Z"
    },
    "papermill": {
     "duration": 0.050798,
     "end_time": "2023-12-08T15:41:09.328856",
     "exception": false,
     "start_time": "2023-12-08T15:41:09.278058",
     "status": "completed"
    },
    "tags": []
   },
   "outputs": [],
   "source": [
    "from sklearn.ensemble import GradientBoostingClassifier\n",
    "from sklearn.ensemble import GradientBoostingRegressor\n",
    "from sklearn.tree import DecisionTreeClassifier\n",
    "from sklearn.tree import DecisionTreeRegressor"
   ]
  },
  {
   "cell_type": "code",
   "execution_count": 53,
   "id": "9f28cdda",
   "metadata": {
    "execution": {
     "iopub.execute_input": "2023-12-08T15:41:09.413352Z",
     "iopub.status.busy": "2023-12-08T15:41:09.412026Z",
     "iopub.status.idle": "2023-12-08T15:41:09.418425Z",
     "shell.execute_reply": "2023-12-08T15:41:09.417231Z"
    },
    "papermill": {
     "duration": 0.051301,
     "end_time": "2023-12-08T15:41:09.421029",
     "exception": false,
     "start_time": "2023-12-08T15:41:09.369728",
     "status": "completed"
    },
    "tags": []
   },
   "outputs": [],
   "source": [
    "boosting_cl = GradientBoostingClassifier(n_estimators=10)\n",
    "boosting_reg = GradientBoostingRegressor(n_estimators=10)"
   ]
  },
  {
   "cell_type": "code",
   "execution_count": 54,
   "id": "569a7fd6",
   "metadata": {
    "execution": {
     "iopub.execute_input": "2023-12-08T15:41:09.505358Z",
     "iopub.status.busy": "2023-12-08T15:41:09.504628Z",
     "iopub.status.idle": "2023-12-08T15:41:09.883240Z",
     "shell.execute_reply": "2023-12-08T15:41:09.882207Z"
    },
    "papermill": {
     "duration": 0.42339,
     "end_time": "2023-12-08T15:41:09.885599",
     "exception": false,
     "start_time": "2023-12-08T15:41:09.462209",
     "status": "completed"
    },
    "tags": []
   },
   "outputs": [
    {
     "data": {
      "text/html": [
       "<style>#sk-container-id-11 {color: black;background-color: white;}#sk-container-id-11 pre{padding: 0;}#sk-container-id-11 div.sk-toggleable {background-color: white;}#sk-container-id-11 label.sk-toggleable__label {cursor: pointer;display: block;width: 100%;margin-bottom: 0;padding: 0.3em;box-sizing: border-box;text-align: center;}#sk-container-id-11 label.sk-toggleable__label-arrow:before {content: \"▸\";float: left;margin-right: 0.25em;color: #696969;}#sk-container-id-11 label.sk-toggleable__label-arrow:hover:before {color: black;}#sk-container-id-11 div.sk-estimator:hover label.sk-toggleable__label-arrow:before {color: black;}#sk-container-id-11 div.sk-toggleable__content {max-height: 0;max-width: 0;overflow: hidden;text-align: left;background-color: #f0f8ff;}#sk-container-id-11 div.sk-toggleable__content pre {margin: 0.2em;color: black;border-radius: 0.25em;background-color: #f0f8ff;}#sk-container-id-11 input.sk-toggleable__control:checked~div.sk-toggleable__content {max-height: 200px;max-width: 100%;overflow: auto;}#sk-container-id-11 input.sk-toggleable__control:checked~label.sk-toggleable__label-arrow:before {content: \"▾\";}#sk-container-id-11 div.sk-estimator input.sk-toggleable__control:checked~label.sk-toggleable__label {background-color: #d4ebff;}#sk-container-id-11 div.sk-label input.sk-toggleable__control:checked~label.sk-toggleable__label {background-color: #d4ebff;}#sk-container-id-11 input.sk-hidden--visually {border: 0;clip: rect(1px 1px 1px 1px);clip: rect(1px, 1px, 1px, 1px);height: 1px;margin: -1px;overflow: hidden;padding: 0;position: absolute;width: 1px;}#sk-container-id-11 div.sk-estimator {font-family: monospace;background-color: #f0f8ff;border: 1px dotted black;border-radius: 0.25em;box-sizing: border-box;margin-bottom: 0.5em;}#sk-container-id-11 div.sk-estimator:hover {background-color: #d4ebff;}#sk-container-id-11 div.sk-parallel-item::after {content: \"\";width: 100%;border-bottom: 1px solid gray;flex-grow: 1;}#sk-container-id-11 div.sk-label:hover label.sk-toggleable__label {background-color: #d4ebff;}#sk-container-id-11 div.sk-serial::before {content: \"\";position: absolute;border-left: 1px solid gray;box-sizing: border-box;top: 0;bottom: 0;left: 50%;z-index: 0;}#sk-container-id-11 div.sk-serial {display: flex;flex-direction: column;align-items: center;background-color: white;padding-right: 0.2em;padding-left: 0.2em;position: relative;}#sk-container-id-11 div.sk-item {position: relative;z-index: 1;}#sk-container-id-11 div.sk-parallel {display: flex;align-items: stretch;justify-content: center;background-color: white;position: relative;}#sk-container-id-11 div.sk-item::before, #sk-container-id-11 div.sk-parallel-item::before {content: \"\";position: absolute;border-left: 1px solid gray;box-sizing: border-box;top: 0;bottom: 0;left: 50%;z-index: -1;}#sk-container-id-11 div.sk-parallel-item {display: flex;flex-direction: column;z-index: 1;position: relative;background-color: white;}#sk-container-id-11 div.sk-parallel-item:first-child::after {align-self: flex-end;width: 50%;}#sk-container-id-11 div.sk-parallel-item:last-child::after {align-self: flex-start;width: 50%;}#sk-container-id-11 div.sk-parallel-item:only-child::after {width: 0;}#sk-container-id-11 div.sk-dashed-wrapped {border: 1px dashed gray;margin: 0 0.4em 0.5em 0.4em;box-sizing: border-box;padding-bottom: 0.4em;background-color: white;}#sk-container-id-11 div.sk-label label {font-family: monospace;font-weight: bold;display: inline-block;line-height: 1.2em;}#sk-container-id-11 div.sk-label-container {text-align: center;}#sk-container-id-11 div.sk-container {/* jupyter's `normalize.less` sets `[hidden] { display: none; }` but bootstrap.min.css set `[hidden] { display: none !important; }` so we also need the `!important` here to be able to override the default hidden behavior on the sphinx rendered scikit-learn.org. See: https://github.com/scikit-learn/scikit-learn/issues/21755 */display: inline-block !important;position: relative;}#sk-container-id-11 div.sk-text-repr-fallback {display: none;}</style><div id=\"sk-container-id-11\" class=\"sk-top-container\"><div class=\"sk-text-repr-fallback\"><pre>GradientBoostingClassifier(n_estimators=10)</pre><b>In a Jupyter environment, please rerun this cell to show the HTML representation or trust the notebook. <br />On GitHub, the HTML representation is unable to render, please try loading this page with nbviewer.org.</b></div><div class=\"sk-container\" hidden><div class=\"sk-item\"><div class=\"sk-estimator sk-toggleable\"><input class=\"sk-toggleable__control sk-hidden--visually\" id=\"sk-estimator-id-35\" type=\"checkbox\" checked><label for=\"sk-estimator-id-35\" class=\"sk-toggleable__label sk-toggleable__label-arrow\">GradientBoostingClassifier</label><div class=\"sk-toggleable__content\"><pre>GradientBoostingClassifier(n_estimators=10)</pre></div></div></div></div></div>"
      ],
      "text/plain": [
       "GradientBoostingClassifier(n_estimators=10)"
      ]
     },
     "execution_count": 54,
     "metadata": {},
     "output_type": "execute_result"
    }
   ],
   "source": [
    "boosting_cl.fit(X_train_st_cl, y_train_cl)"
   ]
  },
  {
   "cell_type": "code",
   "execution_count": 55,
   "id": "4b559fda",
   "metadata": {
    "execution": {
     "iopub.execute_input": "2023-12-08T15:41:09.971088Z",
     "iopub.status.busy": "2023-12-08T15:41:09.970399Z",
     "iopub.status.idle": "2023-12-08T15:41:10.340289Z",
     "shell.execute_reply": "2023-12-08T15:41:10.338768Z"
    },
    "papermill": {
     "duration": 0.416196,
     "end_time": "2023-12-08T15:41:10.343370",
     "exception": false,
     "start_time": "2023-12-08T15:41:09.927174",
     "status": "completed"
    },
    "tags": []
   },
   "outputs": [
    {
     "data": {
      "text/html": [
       "<style>#sk-container-id-12 {color: black;background-color: white;}#sk-container-id-12 pre{padding: 0;}#sk-container-id-12 div.sk-toggleable {background-color: white;}#sk-container-id-12 label.sk-toggleable__label {cursor: pointer;display: block;width: 100%;margin-bottom: 0;padding: 0.3em;box-sizing: border-box;text-align: center;}#sk-container-id-12 label.sk-toggleable__label-arrow:before {content: \"▸\";float: left;margin-right: 0.25em;color: #696969;}#sk-container-id-12 label.sk-toggleable__label-arrow:hover:before {color: black;}#sk-container-id-12 div.sk-estimator:hover label.sk-toggleable__label-arrow:before {color: black;}#sk-container-id-12 div.sk-toggleable__content {max-height: 0;max-width: 0;overflow: hidden;text-align: left;background-color: #f0f8ff;}#sk-container-id-12 div.sk-toggleable__content pre {margin: 0.2em;color: black;border-radius: 0.25em;background-color: #f0f8ff;}#sk-container-id-12 input.sk-toggleable__control:checked~div.sk-toggleable__content {max-height: 200px;max-width: 100%;overflow: auto;}#sk-container-id-12 input.sk-toggleable__control:checked~label.sk-toggleable__label-arrow:before {content: \"▾\";}#sk-container-id-12 div.sk-estimator input.sk-toggleable__control:checked~label.sk-toggleable__label {background-color: #d4ebff;}#sk-container-id-12 div.sk-label input.sk-toggleable__control:checked~label.sk-toggleable__label {background-color: #d4ebff;}#sk-container-id-12 input.sk-hidden--visually {border: 0;clip: rect(1px 1px 1px 1px);clip: rect(1px, 1px, 1px, 1px);height: 1px;margin: -1px;overflow: hidden;padding: 0;position: absolute;width: 1px;}#sk-container-id-12 div.sk-estimator {font-family: monospace;background-color: #f0f8ff;border: 1px dotted black;border-radius: 0.25em;box-sizing: border-box;margin-bottom: 0.5em;}#sk-container-id-12 div.sk-estimator:hover {background-color: #d4ebff;}#sk-container-id-12 div.sk-parallel-item::after {content: \"\";width: 100%;border-bottom: 1px solid gray;flex-grow: 1;}#sk-container-id-12 div.sk-label:hover label.sk-toggleable__label {background-color: #d4ebff;}#sk-container-id-12 div.sk-serial::before {content: \"\";position: absolute;border-left: 1px solid gray;box-sizing: border-box;top: 0;bottom: 0;left: 50%;z-index: 0;}#sk-container-id-12 div.sk-serial {display: flex;flex-direction: column;align-items: center;background-color: white;padding-right: 0.2em;padding-left: 0.2em;position: relative;}#sk-container-id-12 div.sk-item {position: relative;z-index: 1;}#sk-container-id-12 div.sk-parallel {display: flex;align-items: stretch;justify-content: center;background-color: white;position: relative;}#sk-container-id-12 div.sk-item::before, #sk-container-id-12 div.sk-parallel-item::before {content: \"\";position: absolute;border-left: 1px solid gray;box-sizing: border-box;top: 0;bottom: 0;left: 50%;z-index: -1;}#sk-container-id-12 div.sk-parallel-item {display: flex;flex-direction: column;z-index: 1;position: relative;background-color: white;}#sk-container-id-12 div.sk-parallel-item:first-child::after {align-self: flex-end;width: 50%;}#sk-container-id-12 div.sk-parallel-item:last-child::after {align-self: flex-start;width: 50%;}#sk-container-id-12 div.sk-parallel-item:only-child::after {width: 0;}#sk-container-id-12 div.sk-dashed-wrapped {border: 1px dashed gray;margin: 0 0.4em 0.5em 0.4em;box-sizing: border-box;padding-bottom: 0.4em;background-color: white;}#sk-container-id-12 div.sk-label label {font-family: monospace;font-weight: bold;display: inline-block;line-height: 1.2em;}#sk-container-id-12 div.sk-label-container {text-align: center;}#sk-container-id-12 div.sk-container {/* jupyter's `normalize.less` sets `[hidden] { display: none; }` but bootstrap.min.css set `[hidden] { display: none !important; }` so we also need the `!important` here to be able to override the default hidden behavior on the sphinx rendered scikit-learn.org. See: https://github.com/scikit-learn/scikit-learn/issues/21755 */display: inline-block !important;position: relative;}#sk-container-id-12 div.sk-text-repr-fallback {display: none;}</style><div id=\"sk-container-id-12\" class=\"sk-top-container\"><div class=\"sk-text-repr-fallback\"><pre>GradientBoostingRegressor(n_estimators=10)</pre><b>In a Jupyter environment, please rerun this cell to show the HTML representation or trust the notebook. <br />On GitHub, the HTML representation is unable to render, please try loading this page with nbviewer.org.</b></div><div class=\"sk-container\" hidden><div class=\"sk-item\"><div class=\"sk-estimator sk-toggleable\"><input class=\"sk-toggleable__control sk-hidden--visually\" id=\"sk-estimator-id-36\" type=\"checkbox\" checked><label for=\"sk-estimator-id-36\" class=\"sk-toggleable__label sk-toggleable__label-arrow\">GradientBoostingRegressor</label><div class=\"sk-toggleable__content\"><pre>GradientBoostingRegressor(n_estimators=10)</pre></div></div></div></div></div>"
      ],
      "text/plain": [
       "GradientBoostingRegressor(n_estimators=10)"
      ]
     },
     "execution_count": 55,
     "metadata": {},
     "output_type": "execute_result"
    }
   ],
   "source": [
    "boosting_reg.fit(X_train_st_reg, y_train_reg)"
   ]
  },
  {
   "cell_type": "code",
   "execution_count": 56,
   "id": "96fc655c",
   "metadata": {
    "execution": {
     "iopub.execute_input": "2023-12-08T15:41:10.431123Z",
     "iopub.status.busy": "2023-12-08T15:41:10.430615Z",
     "iopub.status.idle": "2023-12-08T15:41:10.446692Z",
     "shell.execute_reply": "2023-12-08T15:41:10.445290Z"
    },
    "papermill": {
     "duration": 0.062926,
     "end_time": "2023-12-08T15:41:10.449941",
     "exception": false,
     "start_time": "2023-12-08T15:41:10.387015",
     "status": "completed"
    },
    "tags": []
   },
   "outputs": [
    {
     "name": "stdout",
     "output_type": "stream",
     "text": [
      "mean_squared_error score: 0.45406836401322576\n",
      "r2 score: 0.17369821593335089\n",
      "f1 score: 0.514501891551072\n"
     ]
    }
   ],
   "source": [
    "y_pred_cl = boosting_cl.predict(X_valid_st_cl)\n",
    "y_pred_reg = boosting_reg.predict(X_valid_st_reg)\n",
    "\n",
    "print(\"mean_squared_error score:\", mean_squared_error(y_valid_reg, y_pred_reg))\n",
    "print(\"r2 score:\", r2_score(y_valid_reg, y_pred_reg))\n",
    "print(\"f1 score:\", f1_score(y_valid_cl, y_pred_cl))"
   ]
  },
  {
   "cell_type": "markdown",
   "id": "28e24ea0",
   "metadata": {
    "papermill": {
     "duration": 0.040722,
     "end_time": "2023-12-08T15:41:10.533272",
     "exception": false,
     "start_time": "2023-12-08T15:41:10.492550",
     "status": "completed"
    },
    "tags": []
   },
   "source": [
    "We have the same result for classification and more much better result for regression. But let try make better result with parameters."
   ]
  },
  {
   "cell_type": "code",
   "execution_count": 57,
   "id": "661197d7",
   "metadata": {
    "execution": {
     "iopub.execute_input": "2023-12-08T15:41:10.620208Z",
     "iopub.status.busy": "2023-12-08T15:41:10.619235Z",
     "iopub.status.idle": "2023-12-08T15:41:10.625945Z",
     "shell.execute_reply": "2023-12-08T15:41:10.625105Z"
    },
    "papermill": {
     "duration": 0.053092,
     "end_time": "2023-12-08T15:41:10.628230",
     "exception": false,
     "start_time": "2023-12-08T15:41:10.575138",
     "status": "completed"
    },
    "tags": []
   },
   "outputs": [],
   "source": [
    "params_bg = { 'n_estimators': list(range(1, 50, 2)) }\n",
    "bog_cl_CV = GridSearchCV(boosting_cl, params_bg, cv=5, scoring='f1')\n",
    "bog_reg_CV = GridSearchCV(boosting_reg, params_bg, cv=5, scoring='r2')"
   ]
  },
  {
   "cell_type": "code",
   "execution_count": 58,
   "id": "0dd4148b",
   "metadata": {
    "execution": {
     "iopub.execute_input": "2023-12-08T15:41:10.712724Z",
     "iopub.status.busy": "2023-12-08T15:41:10.711574Z",
     "iopub.status.idle": "2023-12-08T15:42:45.080766Z",
     "shell.execute_reply": "2023-12-08T15:42:45.079338Z"
    },
    "papermill": {
     "duration": 94.455969,
     "end_time": "2023-12-08T15:42:45.124940",
     "exception": false,
     "start_time": "2023-12-08T15:41:10.668971",
     "status": "completed"
    },
    "tags": []
   },
   "outputs": [
    {
     "data": {
      "text/html": [
       "<style>#sk-container-id-13 {color: black;background-color: white;}#sk-container-id-13 pre{padding: 0;}#sk-container-id-13 div.sk-toggleable {background-color: white;}#sk-container-id-13 label.sk-toggleable__label {cursor: pointer;display: block;width: 100%;margin-bottom: 0;padding: 0.3em;box-sizing: border-box;text-align: center;}#sk-container-id-13 label.sk-toggleable__label-arrow:before {content: \"▸\";float: left;margin-right: 0.25em;color: #696969;}#sk-container-id-13 label.sk-toggleable__label-arrow:hover:before {color: black;}#sk-container-id-13 div.sk-estimator:hover label.sk-toggleable__label-arrow:before {color: black;}#sk-container-id-13 div.sk-toggleable__content {max-height: 0;max-width: 0;overflow: hidden;text-align: left;background-color: #f0f8ff;}#sk-container-id-13 div.sk-toggleable__content pre {margin: 0.2em;color: black;border-radius: 0.25em;background-color: #f0f8ff;}#sk-container-id-13 input.sk-toggleable__control:checked~div.sk-toggleable__content {max-height: 200px;max-width: 100%;overflow: auto;}#sk-container-id-13 input.sk-toggleable__control:checked~label.sk-toggleable__label-arrow:before {content: \"▾\";}#sk-container-id-13 div.sk-estimator input.sk-toggleable__control:checked~label.sk-toggleable__label {background-color: #d4ebff;}#sk-container-id-13 div.sk-label input.sk-toggleable__control:checked~label.sk-toggleable__label {background-color: #d4ebff;}#sk-container-id-13 input.sk-hidden--visually {border: 0;clip: rect(1px 1px 1px 1px);clip: rect(1px, 1px, 1px, 1px);height: 1px;margin: -1px;overflow: hidden;padding: 0;position: absolute;width: 1px;}#sk-container-id-13 div.sk-estimator {font-family: monospace;background-color: #f0f8ff;border: 1px dotted black;border-radius: 0.25em;box-sizing: border-box;margin-bottom: 0.5em;}#sk-container-id-13 div.sk-estimator:hover {background-color: #d4ebff;}#sk-container-id-13 div.sk-parallel-item::after {content: \"\";width: 100%;border-bottom: 1px solid gray;flex-grow: 1;}#sk-container-id-13 div.sk-label:hover label.sk-toggleable__label {background-color: #d4ebff;}#sk-container-id-13 div.sk-serial::before {content: \"\";position: absolute;border-left: 1px solid gray;box-sizing: border-box;top: 0;bottom: 0;left: 50%;z-index: 0;}#sk-container-id-13 div.sk-serial {display: flex;flex-direction: column;align-items: center;background-color: white;padding-right: 0.2em;padding-left: 0.2em;position: relative;}#sk-container-id-13 div.sk-item {position: relative;z-index: 1;}#sk-container-id-13 div.sk-parallel {display: flex;align-items: stretch;justify-content: center;background-color: white;position: relative;}#sk-container-id-13 div.sk-item::before, #sk-container-id-13 div.sk-parallel-item::before {content: \"\";position: absolute;border-left: 1px solid gray;box-sizing: border-box;top: 0;bottom: 0;left: 50%;z-index: -1;}#sk-container-id-13 div.sk-parallel-item {display: flex;flex-direction: column;z-index: 1;position: relative;background-color: white;}#sk-container-id-13 div.sk-parallel-item:first-child::after {align-self: flex-end;width: 50%;}#sk-container-id-13 div.sk-parallel-item:last-child::after {align-self: flex-start;width: 50%;}#sk-container-id-13 div.sk-parallel-item:only-child::after {width: 0;}#sk-container-id-13 div.sk-dashed-wrapped {border: 1px dashed gray;margin: 0 0.4em 0.5em 0.4em;box-sizing: border-box;padding-bottom: 0.4em;background-color: white;}#sk-container-id-13 div.sk-label label {font-family: monospace;font-weight: bold;display: inline-block;line-height: 1.2em;}#sk-container-id-13 div.sk-label-container {text-align: center;}#sk-container-id-13 div.sk-container {/* jupyter's `normalize.less` sets `[hidden] { display: none; }` but bootstrap.min.css set `[hidden] { display: none !important; }` so we also need the `!important` here to be able to override the default hidden behavior on the sphinx rendered scikit-learn.org. See: https://github.com/scikit-learn/scikit-learn/issues/21755 */display: inline-block !important;position: relative;}#sk-container-id-13 div.sk-text-repr-fallback {display: none;}</style><div id=\"sk-container-id-13\" class=\"sk-top-container\"><div class=\"sk-text-repr-fallback\"><pre>GridSearchCV(cv=5, estimator=GradientBoostingClassifier(n_estimators=10),\n",
       "             param_grid={&#x27;n_estimators&#x27;: [1, 3, 5, 7, 9, 11, 13, 15, 17, 19, 21,\n",
       "                                          23, 25, 27, 29, 31, 33, 35, 37, 39,\n",
       "                                          41, 43, 45, 47, 49]},\n",
       "             scoring=&#x27;f1&#x27;)</pre><b>In a Jupyter environment, please rerun this cell to show the HTML representation or trust the notebook. <br />On GitHub, the HTML representation is unable to render, please try loading this page with nbviewer.org.</b></div><div class=\"sk-container\" hidden><div class=\"sk-item sk-dashed-wrapped\"><div class=\"sk-label-container\"><div class=\"sk-label sk-toggleable\"><input class=\"sk-toggleable__control sk-hidden--visually\" id=\"sk-estimator-id-37\" type=\"checkbox\" ><label for=\"sk-estimator-id-37\" class=\"sk-toggleable__label sk-toggleable__label-arrow\">GridSearchCV</label><div class=\"sk-toggleable__content\"><pre>GridSearchCV(cv=5, estimator=GradientBoostingClassifier(n_estimators=10),\n",
       "             param_grid={&#x27;n_estimators&#x27;: [1, 3, 5, 7, 9, 11, 13, 15, 17, 19, 21,\n",
       "                                          23, 25, 27, 29, 31, 33, 35, 37, 39,\n",
       "                                          41, 43, 45, 47, 49]},\n",
       "             scoring=&#x27;f1&#x27;)</pre></div></div></div><div class=\"sk-parallel\"><div class=\"sk-parallel-item\"><div class=\"sk-item\"><div class=\"sk-label-container\"><div class=\"sk-label sk-toggleable\"><input class=\"sk-toggleable__control sk-hidden--visually\" id=\"sk-estimator-id-38\" type=\"checkbox\" ><label for=\"sk-estimator-id-38\" class=\"sk-toggleable__label sk-toggleable__label-arrow\">estimator: GradientBoostingClassifier</label><div class=\"sk-toggleable__content\"><pre>GradientBoostingClassifier(n_estimators=10)</pre></div></div></div><div class=\"sk-serial\"><div class=\"sk-item\"><div class=\"sk-estimator sk-toggleable\"><input class=\"sk-toggleable__control sk-hidden--visually\" id=\"sk-estimator-id-39\" type=\"checkbox\" ><label for=\"sk-estimator-id-39\" class=\"sk-toggleable__label sk-toggleable__label-arrow\">GradientBoostingClassifier</label><div class=\"sk-toggleable__content\"><pre>GradientBoostingClassifier(n_estimators=10)</pre></div></div></div></div></div></div></div></div></div></div>"
      ],
      "text/plain": [
       "GridSearchCV(cv=5, estimator=GradientBoostingClassifier(n_estimators=10),\n",
       "             param_grid={'n_estimators': [1, 3, 5, 7, 9, 11, 13, 15, 17, 19, 21,\n",
       "                                          23, 25, 27, 29, 31, 33, 35, 37, 39,\n",
       "                                          41, 43, 45, 47, 49]},\n",
       "             scoring='f1')"
      ]
     },
     "execution_count": 58,
     "metadata": {},
     "output_type": "execute_result"
    }
   ],
   "source": [
    "bog_cl_CV.fit(X_train_st_cl, y_train_cl)"
   ]
  },
  {
   "cell_type": "code",
   "execution_count": 59,
   "id": "d76dc8ba",
   "metadata": {
    "execution": {
     "iopub.execute_input": "2023-12-08T15:42:45.210689Z",
     "iopub.status.busy": "2023-12-08T15:42:45.210115Z",
     "iopub.status.idle": "2023-12-08T15:44:16.956690Z",
     "shell.execute_reply": "2023-12-08T15:44:16.955374Z"
    },
    "papermill": {
     "duration": 91.834338,
     "end_time": "2023-12-08T15:44:17.001065",
     "exception": false,
     "start_time": "2023-12-08T15:42:45.166727",
     "status": "completed"
    },
    "tags": []
   },
   "outputs": [
    {
     "data": {
      "text/html": [
       "<style>#sk-container-id-14 {color: black;background-color: white;}#sk-container-id-14 pre{padding: 0;}#sk-container-id-14 div.sk-toggleable {background-color: white;}#sk-container-id-14 label.sk-toggleable__label {cursor: pointer;display: block;width: 100%;margin-bottom: 0;padding: 0.3em;box-sizing: border-box;text-align: center;}#sk-container-id-14 label.sk-toggleable__label-arrow:before {content: \"▸\";float: left;margin-right: 0.25em;color: #696969;}#sk-container-id-14 label.sk-toggleable__label-arrow:hover:before {color: black;}#sk-container-id-14 div.sk-estimator:hover label.sk-toggleable__label-arrow:before {color: black;}#sk-container-id-14 div.sk-toggleable__content {max-height: 0;max-width: 0;overflow: hidden;text-align: left;background-color: #f0f8ff;}#sk-container-id-14 div.sk-toggleable__content pre {margin: 0.2em;color: black;border-radius: 0.25em;background-color: #f0f8ff;}#sk-container-id-14 input.sk-toggleable__control:checked~div.sk-toggleable__content {max-height: 200px;max-width: 100%;overflow: auto;}#sk-container-id-14 input.sk-toggleable__control:checked~label.sk-toggleable__label-arrow:before {content: \"▾\";}#sk-container-id-14 div.sk-estimator input.sk-toggleable__control:checked~label.sk-toggleable__label {background-color: #d4ebff;}#sk-container-id-14 div.sk-label input.sk-toggleable__control:checked~label.sk-toggleable__label {background-color: #d4ebff;}#sk-container-id-14 input.sk-hidden--visually {border: 0;clip: rect(1px 1px 1px 1px);clip: rect(1px, 1px, 1px, 1px);height: 1px;margin: -1px;overflow: hidden;padding: 0;position: absolute;width: 1px;}#sk-container-id-14 div.sk-estimator {font-family: monospace;background-color: #f0f8ff;border: 1px dotted black;border-radius: 0.25em;box-sizing: border-box;margin-bottom: 0.5em;}#sk-container-id-14 div.sk-estimator:hover {background-color: #d4ebff;}#sk-container-id-14 div.sk-parallel-item::after {content: \"\";width: 100%;border-bottom: 1px solid gray;flex-grow: 1;}#sk-container-id-14 div.sk-label:hover label.sk-toggleable__label {background-color: #d4ebff;}#sk-container-id-14 div.sk-serial::before {content: \"\";position: absolute;border-left: 1px solid gray;box-sizing: border-box;top: 0;bottom: 0;left: 50%;z-index: 0;}#sk-container-id-14 div.sk-serial {display: flex;flex-direction: column;align-items: center;background-color: white;padding-right: 0.2em;padding-left: 0.2em;position: relative;}#sk-container-id-14 div.sk-item {position: relative;z-index: 1;}#sk-container-id-14 div.sk-parallel {display: flex;align-items: stretch;justify-content: center;background-color: white;position: relative;}#sk-container-id-14 div.sk-item::before, #sk-container-id-14 div.sk-parallel-item::before {content: \"\";position: absolute;border-left: 1px solid gray;box-sizing: border-box;top: 0;bottom: 0;left: 50%;z-index: -1;}#sk-container-id-14 div.sk-parallel-item {display: flex;flex-direction: column;z-index: 1;position: relative;background-color: white;}#sk-container-id-14 div.sk-parallel-item:first-child::after {align-self: flex-end;width: 50%;}#sk-container-id-14 div.sk-parallel-item:last-child::after {align-self: flex-start;width: 50%;}#sk-container-id-14 div.sk-parallel-item:only-child::after {width: 0;}#sk-container-id-14 div.sk-dashed-wrapped {border: 1px dashed gray;margin: 0 0.4em 0.5em 0.4em;box-sizing: border-box;padding-bottom: 0.4em;background-color: white;}#sk-container-id-14 div.sk-label label {font-family: monospace;font-weight: bold;display: inline-block;line-height: 1.2em;}#sk-container-id-14 div.sk-label-container {text-align: center;}#sk-container-id-14 div.sk-container {/* jupyter's `normalize.less` sets `[hidden] { display: none; }` but bootstrap.min.css set `[hidden] { display: none !important; }` so we also need the `!important` here to be able to override the default hidden behavior on the sphinx rendered scikit-learn.org. See: https://github.com/scikit-learn/scikit-learn/issues/21755 */display: inline-block !important;position: relative;}#sk-container-id-14 div.sk-text-repr-fallback {display: none;}</style><div id=\"sk-container-id-14\" class=\"sk-top-container\"><div class=\"sk-text-repr-fallback\"><pre>GridSearchCV(cv=5, estimator=GradientBoostingRegressor(n_estimators=10),\n",
       "             param_grid={&#x27;n_estimators&#x27;: [1, 3, 5, 7, 9, 11, 13, 15, 17, 19, 21,\n",
       "                                          23, 25, 27, 29, 31, 33, 35, 37, 39,\n",
       "                                          41, 43, 45, 47, 49]},\n",
       "             scoring=&#x27;r2&#x27;)</pre><b>In a Jupyter environment, please rerun this cell to show the HTML representation or trust the notebook. <br />On GitHub, the HTML representation is unable to render, please try loading this page with nbviewer.org.</b></div><div class=\"sk-container\" hidden><div class=\"sk-item sk-dashed-wrapped\"><div class=\"sk-label-container\"><div class=\"sk-label sk-toggleable\"><input class=\"sk-toggleable__control sk-hidden--visually\" id=\"sk-estimator-id-40\" type=\"checkbox\" ><label for=\"sk-estimator-id-40\" class=\"sk-toggleable__label sk-toggleable__label-arrow\">GridSearchCV</label><div class=\"sk-toggleable__content\"><pre>GridSearchCV(cv=5, estimator=GradientBoostingRegressor(n_estimators=10),\n",
       "             param_grid={&#x27;n_estimators&#x27;: [1, 3, 5, 7, 9, 11, 13, 15, 17, 19, 21,\n",
       "                                          23, 25, 27, 29, 31, 33, 35, 37, 39,\n",
       "                                          41, 43, 45, 47, 49]},\n",
       "             scoring=&#x27;r2&#x27;)</pre></div></div></div><div class=\"sk-parallel\"><div class=\"sk-parallel-item\"><div class=\"sk-item\"><div class=\"sk-label-container\"><div class=\"sk-label sk-toggleable\"><input class=\"sk-toggleable__control sk-hidden--visually\" id=\"sk-estimator-id-41\" type=\"checkbox\" ><label for=\"sk-estimator-id-41\" class=\"sk-toggleable__label sk-toggleable__label-arrow\">estimator: GradientBoostingRegressor</label><div class=\"sk-toggleable__content\"><pre>GradientBoostingRegressor(n_estimators=10)</pre></div></div></div><div class=\"sk-serial\"><div class=\"sk-item\"><div class=\"sk-estimator sk-toggleable\"><input class=\"sk-toggleable__control sk-hidden--visually\" id=\"sk-estimator-id-42\" type=\"checkbox\" ><label for=\"sk-estimator-id-42\" class=\"sk-toggleable__label sk-toggleable__label-arrow\">GradientBoostingRegressor</label><div class=\"sk-toggleable__content\"><pre>GradientBoostingRegressor(n_estimators=10)</pre></div></div></div></div></div></div></div></div></div></div>"
      ],
      "text/plain": [
       "GridSearchCV(cv=5, estimator=GradientBoostingRegressor(n_estimators=10),\n",
       "             param_grid={'n_estimators': [1, 3, 5, 7, 9, 11, 13, 15, 17, 19, 21,\n",
       "                                          23, 25, 27, 29, 31, 33, 35, 37, 39,\n",
       "                                          41, 43, 45, 47, 49]},\n",
       "             scoring='r2')"
      ]
     },
     "execution_count": 59,
     "metadata": {},
     "output_type": "execute_result"
    }
   ],
   "source": [
    "bog_reg_CV.fit(X_train_st_reg, y_train_reg)"
   ]
  },
  {
   "cell_type": "code",
   "execution_count": 60,
   "id": "5b8cff9d",
   "metadata": {
    "execution": {
     "iopub.execute_input": "2023-12-08T15:44:17.087878Z",
     "iopub.status.busy": "2023-12-08T15:44:17.087355Z",
     "iopub.status.idle": "2023-12-08T15:44:17.105305Z",
     "shell.execute_reply": "2023-12-08T15:44:17.103923Z"
    },
    "papermill": {
     "duration": 0.065159,
     "end_time": "2023-12-08T15:44:17.108346",
     "exception": false,
     "start_time": "2023-12-08T15:44:17.043187",
     "status": "completed"
    },
    "tags": []
   },
   "outputs": [
    {
     "name": "stdout",
     "output_type": "stream",
     "text": [
      "mean_squared_error score: 0.426878902607294\n",
      "r2 score: 0.2231768897369245\n",
      "f1 score: 0.5852017937219731\n"
     ]
    }
   ],
   "source": [
    "best_bogcl = bog_cl_CV.best_estimator_\n",
    "best_bogreg = bog_reg_CV.best_estimator_\n",
    "y_pred_cl = best_bogcl.predict(X_valid_st_cl)\n",
    "y_pred_reg = best_bogreg.predict(X_valid_st_reg)\n",
    "print(\"mean_squared_error score:\", mean_squared_error(y_valid_reg, y_pred_reg))\n",
    "print(\"r2 score:\", r2_score(y_valid_reg, y_pred_reg))\n",
    "print(\"f1 score:\", f1_score(y_valid_cl, y_pred_cl))"
   ]
  },
  {
   "cell_type": "markdown",
   "id": "0280ad47",
   "metadata": {
    "papermill": {
     "duration": 0.043183,
     "end_time": "2023-12-08T15:44:17.195578",
     "exception": false,
     "start_time": "2023-12-08T15:44:17.152395",
     "status": "completed"
    },
    "tags": []
   },
   "source": [
    "We have the best result on this lab."
   ]
  },
  {
   "cell_type": "code",
   "execution_count": 61,
   "id": "f18670a1",
   "metadata": {
    "execution": {
     "iopub.execute_input": "2023-12-08T15:44:17.285547Z",
     "iopub.status.busy": "2023-12-08T15:44:17.285090Z",
     "iopub.status.idle": "2023-12-08T15:44:17.629079Z",
     "shell.execute_reply": "2023-12-08T15:44:17.627477Z"
    },
    "papermill": {
     "duration": 0.394736,
     "end_time": "2023-12-08T15:44:17.634268",
     "exception": false,
     "start_time": "2023-12-08T15:44:17.239532",
     "status": "completed"
    },
    "tags": []
   },
   "outputs": [
    {
     "data": {
      "text/plain": [
       "[<matplotlib.lines.Line2D at 0x7b36907f95a0>]"
      ]
     },
     "execution_count": 61,
     "metadata": {},
     "output_type": "execute_result"
    },
    {
     "data": {
      "image/png": "[encoded data removed]",
      "text/plain": [
       "<Figure size 640x480 with 1 Axes>"
      ]
     },
     "metadata": {},
     "output_type": "display_data"
    }
   ],
   "source": [
    "results = pd.DataFrame(bog_cl_CV.cv_results_)\n",
    "plt.xlabel('n_estimators')\n",
    "plt.ylabel('Test accuracy')\n",
    "plt.title('Validation curve')\n",
    "plt.plot(results['param_n_estimators'], results['mean_test_score'])"
   ]
  },
  {
   "cell_type": "code",
   "execution_count": 62,
   "id": "b48f56cc",
   "metadata": {
    "execution": {
     "iopub.execute_input": "2023-12-08T15:44:17.729387Z",
     "iopub.status.busy": "2023-12-08T15:44:17.728923Z",
     "iopub.status.idle": "2023-12-08T15:44:18.077138Z",
     "shell.execute_reply": "2023-12-08T15:44:18.075680Z"
    },
    "papermill": {
     "duration": 0.396048,
     "end_time": "2023-12-08T15:44:18.079932",
     "exception": false,
     "start_time": "2023-12-08T15:44:17.683884",
     "status": "completed"
    },
    "tags": []
   },
   "outputs": [
    {
     "data": {
      "text/plain": [
       "[<matplotlib.lines.Line2D at 0x7b3678611f00>]"
      ]
     },
     "execution_count": 62,
     "metadata": {},
     "output_type": "execute_result"
    },
    {
     "data": {
      "image/png": "[encoded data removed]",
      "text/plain": [
       "<Figure size 640x480 with 1 Axes>"
      ]
     },
     "metadata": {},
     "output_type": "display_data"
    }
   ],
   "source": [
    "results = pd.DataFrame(bog_reg_CV.cv_results_)\n",
    "plt.xlabel('n_estimators')\n",
    "plt.ylabel('Test accuracy')\n",
    "plt.title('Validation curve')\n",
    "plt.plot(results['param_n_estimators'], results['mean_test_score'])"
   ]
  },
  {
   "cell_type": "markdown",
   "id": "e73bff73",
   "metadata": {
    "papermill": {
     "duration": 0.04469,
     "end_time": "2023-12-08T15:44:18.170177",
     "exception": false,
     "start_time": "2023-12-08T15:44:18.125487",
     "status": "completed"
    },
    "tags": []
   },
   "source": [
    "We can see that on this case parameter more effective than another models. "
   ]
  },
  {
   "cell_type": "markdown",
   "id": "8dfcaf71",
   "metadata": {
    "papermill": {
     "duration": 0.044251,
     "end_time": "2023-12-08T15:44:18.258604",
     "exception": false,
     "start_time": "2023-12-08T15:44:18.214353",
     "status": "completed"
    },
    "tags": []
   },
   "source": [
    "## Conclusions"
   ]
  },
  {
   "cell_type": "markdown",
   "id": "d5562033",
   "metadata": {
    "papermill": {
     "duration": 0.045264,
     "end_time": "2023-12-08T15:44:18.348206",
     "exception": false,
     "start_time": "2023-12-08T15:44:18.302942",
     "status": "completed"
    },
    "tags": []
   },
   "source": []
  },
  {
   "cell_type": "code",
   "execution_count": 63,
   "id": "67269f33",
   "metadata": {
    "execution": {
     "iopub.execute_input": "2023-12-08T15:44:18.442298Z",
     "iopub.status.busy": "2023-12-08T15:44:18.441145Z",
     "iopub.status.idle": "2023-12-08T15:44:19.340358Z",
     "shell.execute_reply": "2023-12-08T15:44:19.339227Z"
    },
    "papermill": {
     "duration": 0.950282,
     "end_time": "2023-12-08T15:44:19.342888",
     "exception": false,
     "start_time": "2023-12-08T15:44:18.392606",
     "status": "completed"
    },
    "tags": []
   },
   "outputs": [
    {
     "data": {
      "text/plain": [
       "<BarContainer object of 4 artists>"
      ]
     },
     "execution_count": 63,
     "metadata": {},
     "output_type": "execute_result"
    },
    {
     "data": {
      "image/png": "[encoded data removed]",
      "text/plain": [
       "<Figure size 640x480 with 1 Axes>"
      ]
     },
     "metadata": {},
     "output_type": "display_data"
    }
   ],
   "source": [
    "bests_cl = [MLPClassifier_CV.best_estimator_, bg_cl_CV.best_estimator_, bg_cllr_CV.best_estimator_, bog_cl_CV.best_estimator_]\n",
    "results = []\n",
    "for model in bests_cl:\n",
    "    y_pred_cl =  model.predict(X_valid_st_cl) \n",
    "    results.append( f1_score(y_valid_cl, y_pred_cl) )\n",
    "    \n",
    "plt.title('Classification result')\n",
    "plt.xlabel('Model')\n",
    "plt.ylabel('F1 accuracy')\n",
    "plt.bar(['Neurons', 'KNN Bagging', 'Liear Bagging', 'Trees Boosting'], results)"
   ]
  },
  {
   "cell_type": "code",
   "execution_count": 64,
   "id": "cb412536",
   "metadata": {
    "execution": {
     "iopub.execute_input": "2023-12-08T15:44:19.433119Z",
     "iopub.status.busy": "2023-12-08T15:44:19.432266Z",
     "iopub.status.idle": "2023-12-08T15:44:20.720270Z",
     "shell.execute_reply": "2023-12-08T15:44:20.718961Z"
    },
    "papermill": {
     "duration": 1.336698,
     "end_time": "2023-12-08T15:44:20.723283",
     "exception": false,
     "start_time": "2023-12-08T15:44:19.386585",
     "status": "completed"
    },
    "tags": []
   },
   "outputs": [
    {
     "data": {
      "text/plain": [
       "<BarContainer object of 4 artists>"
      ]
     },
     "execution_count": 64,
     "metadata": {},
     "output_type": "execute_result"
    },
    {
     "data": {
      "image/png": "[encoded data removed]",
      "text/plain": [
       "<Figure size 640x480 with 1 Axes>"
      ]
     },
     "metadata": {},
     "output_type": "display_data"
    }
   ],
   "source": [
    "bests_reg = [MLPRegressor_CV.best_estimator_, bg_reg_CV.best_estimator_, bg_reglr_CV.best_estimator_, bog_reg_CV.best_estimator_]\n",
    "results_r2 = []\n",
    "results_mse = []\n",
    "for model in bests_reg:\n",
    "    y_pred_reg =  model.predict(X_valid_st_reg) \n",
    "    results_r2.append( r2_score(y_valid_reg, y_pred_reg) )\n",
    "    results_mse.append( mean_squared_error(y_valid_reg, y_pred_reg) )\n",
    "    \n",
    "\n",
    "plt.title('Regression result')\n",
    "plt.xlabel('Model')\n",
    "plt.ylabel('R2 accuracy')\n",
    "plt.bar(['Neurons', 'KNN Bagging', 'Liear Bagging', 'Trees Boosting'], results_r2)"
   ]
  },
  {
   "cell_type": "code",
   "execution_count": 65,
   "id": "70de9339",
   "metadata": {
    "execution": {
     "iopub.execute_input": "2023-12-08T15:44:20.817018Z",
     "iopub.status.busy": "2023-12-08T15:44:20.815779Z",
     "iopub.status.idle": "2023-12-08T15:44:21.123923Z",
     "shell.execute_reply": "2023-12-08T15:44:21.122352Z"
    },
    "papermill": {
     "duration": 0.358361,
     "end_time": "2023-12-08T15:44:21.126796",
     "exception": false,
     "start_time": "2023-12-08T15:44:20.768435",
     "status": "completed"
    },
    "tags": []
   },
   "outputs": [
    {
     "data": {
      "text/plain": [
       "<BarContainer object of 4 artists>"
      ]
     },
     "execution_count": 65,
     "metadata": {},
     "output_type": "execute_result"
    },
    {
     "data": {
      "image/png": "[encoded data removed]",
      "text/plain": [
       "<Figure size 640x480 with 1 Axes>"
      ]
     },
     "metadata": {},
     "output_type": "display_data"
    }
   ],
   "source": [
    "plt.title('Regression result')\n",
    "plt.xlabel('Model')\n",
    "plt.ylabel('MSE accuracy')\n",
    "plt.bar(['Neurons', 'KNN Bagging', 'Liear Bagging', 'Trees Boosting'], results_mse)"
   ]
  },
  {
   "cell_type": "markdown",
   "id": "ecee1a33",
   "metadata": {
    "papermill": {
     "duration": 0.047808,
     "end_time": "2023-12-08T15:44:21.220984",
     "exception": false,
     "start_time": "2023-12-08T15:44:21.173176",
     "status": "completed"
    },
    "tags": []
   },
   "source": [
    "For classification the worst result was KNN and the best boosting. For regresion the worst basic neurons, the best also is boosting. For classification bagging and boosting we have almoust the same result, but for regression bagging worse than boosting. It may cause on regresion we have higher displace than on classification. "
   ]
  },
  {
   "cell_type": "markdown",
   "id": "149065b4",
   "metadata": {
    "papermill": {
     "duration": 0.046048,
     "end_time": "2023-12-08T15:44:21.314934",
     "exception": false,
     "start_time": "2023-12-08T15:44:21.268886",
     "status": "completed"
    },
    "tags": []
   },
   "source": [
    "If we compare all models that we have viewed, Random Forest and Boosting Decision trees are the most effective for this data set."
   ]
  }
 ],
 "metadata": {
  "kaggle": {
   "accelerator": "none",
   "dataSources": [
    {
     "datasetId": 32347,
     "sourceId": 42031,
     "sourceType": "datasetVersion"
    }
   ],
   "dockerImageVersionId": 30615,
   "isGpuEnabled": false,
   "isInternetEnabled": false,
   "language": "python",
   "sourceType": "notebook"
  },
  "kernelspec": {
   "display_name": "Python 3",
   "language": "python",
   "name": "python3"
  },
  "language_info": {
   "codemirror_mode": {
    "name": "ipython",
    "version": 3
   },
   "file_extension": ".py",
   "mimetype": "text/x-python",
   "name": "python",
   "nbconvert_exporter": "python",
   "pygments_lexer": "ipython3",
   "version": "3.10.12"
  },
  "papermill": {
   "default_parameters": {},
   "duration": 1543.514521,
   "end_time": "2023-12-08T15:44:23.991314",
   "environment_variables": {},
   "exception": null,
   "input_path": "__notebook__.ipynb",
   "output_path": "__notebook__.ipynb",
   "parameters": {},
   "start_time": "2023-12-08T15:18:40.476793",
   "version": "2.4.0"
  }
 },
 "nbformat": 4,
 "nbformat_minor": 5
}
