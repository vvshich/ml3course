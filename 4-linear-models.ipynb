{
 "cells": [
  {
   "cell_type": "code",
   "execution_count": 1,
   "id": "b67bb3cc",
   "metadata": {
    "_cell_guid": "b1076dfc-b9ad-4769-8c92-a6c4dae69d19",
    "_uuid": "8f2839f25d086af736a60e9eeb907d3b93b6e0e5",
    "execution": {
     "iopub.execute_input": "2023-11-16T08:38:14.519415Z",
     "iopub.status.busy": "2023-11-16T08:38:14.518110Z",
     "iopub.status.idle": "2023-11-16T08:38:16.524157Z",
     "shell.execute_reply": "2023-11-16T08:38:16.521913Z"
    },
    "papermill": {
     "duration": 2.034964,
     "end_time": "2023-11-16T08:38:16.527443",
     "exception": false,
     "start_time": "2023-11-16T08:38:14.492479",
     "status": "completed"
    },
    "tags": []
   },
   "outputs": [
    {
     "name": "stdout",
     "output_type": "stream",
     "text": [
      "['online-news-popularity-dataset']\n",
      "/kaggle/input/online-news-popularity-dataset/OnlineNewsPopularityReduced.csv\n"
     ]
    }
   ],
   "source": [
    "# This Python 3 environment comes with many helpful analytics libraries installed\n",
    "# It is defined by the kaggle/python Docker image: https://github.com/kaggle/docker-python\n",
    "# For example, here's several helpful packages to load\n",
    "\n",
    "import os\n",
    "print(os.listdir(\"../input\"))\n",
    "\n",
    "import numpy as np\n",
    "import pandas as pd\n",
    "import matplotlib.pyplot as plt\n",
    "import seaborn as sns\n",
    "\n",
    "\n",
    "# Input data files are available in the read-only \"../input/\" directory\n",
    "# For example, running this (by clicking run or pressing Shift+Enter) will list all files under the input directory\n",
    "\n",
    "import os\n",
    "for dirname, _, filenames in os.walk('/kaggle/input'):\n",
    "    for filename in filenames:\n",
    "        print(os.path.join(dirname, filename))\n",
    "\n",
    "# You can write up to 20GB to the current directory (/kaggle/working/) that gets preserved as output when you create a version using \"Save & Run All\" \n",
    "# You can also write temporary files to /kaggle/temp/, but they won't be saved outside of the current session"
   ]
  },
  {
   "cell_type": "markdown",
   "id": "779e6bd0",
   "metadata": {
    "papermill": {
     "duration": 0.024054,
     "end_time": "2023-11-16T08:38:16.574925",
     "exception": false,
     "start_time": "2023-11-16T08:38:16.550871",
     "status": "completed"
    },
    "tags": []
   },
   "source": [
    "# Linear and logistic model"
   ]
  },
  {
   "cell_type": "code",
   "execution_count": 2,
   "id": "c84fe779",
   "metadata": {
    "execution": {
     "iopub.execute_input": "2023-11-16T08:38:16.623136Z",
     "iopub.status.busy": "2023-11-16T08:38:16.622560Z",
     "iopub.status.idle": "2023-11-16T08:38:16.781054Z",
     "shell.execute_reply": "2023-11-16T08:38:16.780076Z"
    },
    "papermill": {
     "duration": 0.185972,
     "end_time": "2023-11-16T08:38:16.783745",
     "exception": false,
     "start_time": "2023-11-16T08:38:16.597773",
     "status": "completed"
    },
    "tags": []
   },
   "outputs": [
    {
     "data": {
      "text/html": [
       "<div>\n",
       "<style scoped>\n",
       "    .dataframe tbody tr th:only-of-type {\n",
       "        vertical-align: middle;\n",
       "    }\n",
       "\n",
       "    .dataframe tbody tr th {\n",
       "        vertical-align: top;\n",
       "    }\n",
       "\n",
       "    .dataframe thead th {\n",
       "        text-align: right;\n",
       "    }\n",
       "</style>\n",
       "<table border=\"1\" class=\"dataframe\">\n",
       "  <thead>\n",
       "    <tr style=\"text-align: right;\">\n",
       "      <th></th>\n",
       "      <th>url</th>\n",
       "      <th>timedelta</th>\n",
       "      <th>n_tokens_title</th>\n",
       "      <th>n_tokens_content</th>\n",
       "      <th>n_unique_tokens</th>\n",
       "      <th>n_non_stop_words</th>\n",
       "      <th>n_non_stop_unique_tokens</th>\n",
       "      <th>num_hrefs</th>\n",
       "      <th>num_self_hrefs</th>\n",
       "      <th>num_imgs</th>\n",
       "      <th>...</th>\n",
       "      <th>min_positive_polarity</th>\n",
       "      <th>max_positive_polarity</th>\n",
       "      <th>avg_negative_polarity</th>\n",
       "      <th>min_negative_polarity</th>\n",
       "      <th>max_negative_polarity</th>\n",
       "      <th>title_subjectivity</th>\n",
       "      <th>title_sentiment_polarity</th>\n",
       "      <th>abs_title_subjectivity</th>\n",
       "      <th>abs_title_sentiment_polarity</th>\n",
       "      <th>shares</th>\n",
       "    </tr>\n",
       "  </thead>\n",
       "  <tbody>\n",
       "    <tr>\n",
       "      <th>0</th>\n",
       "      <td>http://mashable.com/2014/09/28/jobs-tech-workers/</td>\n",
       "      <td>101</td>\n",
       "      <td>12</td>\n",
       "      <td>332</td>\n",
       "      <td>0.528481</td>\n",
       "      <td>1.0</td>\n",
       "      <td>0.645833</td>\n",
       "      <td>6</td>\n",
       "      <td>3</td>\n",
       "      <td>1</td>\n",
       "      <td>...</td>\n",
       "      <td>0.100000</td>\n",
       "      <td>0.7</td>\n",
       "      <td>-0.145833</td>\n",
       "      <td>-0.166667</td>\n",
       "      <td>-0.125000</td>\n",
       "      <td>0.718182</td>\n",
       "      <td>0.137121</td>\n",
       "      <td>0.218182</td>\n",
       "      <td>0.137121</td>\n",
       "      <td>8600</td>\n",
       "    </tr>\n",
       "    <tr>\n",
       "      <th>1</th>\n",
       "      <td>http://mashable.com/2014/09/28/obama-says-u-s-...</td>\n",
       "      <td>101</td>\n",
       "      <td>10</td>\n",
       "      <td>393</td>\n",
       "      <td>0.518817</td>\n",
       "      <td>1.0</td>\n",
       "      <td>0.596899</td>\n",
       "      <td>14</td>\n",
       "      <td>1</td>\n",
       "      <td>1</td>\n",
       "      <td>...</td>\n",
       "      <td>0.250000</td>\n",
       "      <td>0.8</td>\n",
       "      <td>-0.312500</td>\n",
       "      <td>-0.500000</td>\n",
       "      <td>-0.250000</td>\n",
       "      <td>0.500000</td>\n",
       "      <td>0.000000</td>\n",
       "      <td>0.000000</td>\n",
       "      <td>0.000000</td>\n",
       "      <td>23700</td>\n",
       "    </tr>\n",
       "    <tr>\n",
       "      <th>2</th>\n",
       "      <td>http://mashable.com/2014/09/28/once-upon-a-tim...</td>\n",
       "      <td>101</td>\n",
       "      <td>13</td>\n",
       "      <td>1643</td>\n",
       "      <td>0.388854</td>\n",
       "      <td>1.0</td>\n",
       "      <td>0.546967</td>\n",
       "      <td>29</td>\n",
       "      <td>4</td>\n",
       "      <td>7</td>\n",
       "      <td>...</td>\n",
       "      <td>0.033333</td>\n",
       "      <td>0.8</td>\n",
       "      <td>-0.227778</td>\n",
       "      <td>-0.800000</td>\n",
       "      <td>-0.050000</td>\n",
       "      <td>0.000000</td>\n",
       "      <td>0.000000</td>\n",
       "      <td>0.500000</td>\n",
       "      <td>0.000000</td>\n",
       "      <td>8400</td>\n",
       "    </tr>\n",
       "    <tr>\n",
       "      <th>3</th>\n",
       "      <td>http://mashable.com/2014/09/28/the-simpsons-de...</td>\n",
       "      <td>101</td>\n",
       "      <td>9</td>\n",
       "      <td>272</td>\n",
       "      <td>0.488889</td>\n",
       "      <td>1.0</td>\n",
       "      <td>0.512690</td>\n",
       "      <td>2</td>\n",
       "      <td>2</td>\n",
       "      <td>11</td>\n",
       "      <td>...</td>\n",
       "      <td>0.100000</td>\n",
       "      <td>1.0</td>\n",
       "      <td>-0.416667</td>\n",
       "      <td>-1.000000</td>\n",
       "      <td>-0.166667</td>\n",
       "      <td>0.000000</td>\n",
       "      <td>0.000000</td>\n",
       "      <td>0.500000</td>\n",
       "      <td>0.000000</td>\n",
       "      <td>4800</td>\n",
       "    </tr>\n",
       "    <tr>\n",
       "      <th>4</th>\n",
       "      <td>http://mashable.com/2014/09/28/viola-davis-les...</td>\n",
       "      <td>101</td>\n",
       "      <td>12</td>\n",
       "      <td>0</td>\n",
       "      <td>0.000000</td>\n",
       "      <td>0.0</td>\n",
       "      <td>0.000000</td>\n",
       "      <td>0</td>\n",
       "      <td>0</td>\n",
       "      <td>0</td>\n",
       "      <td>...</td>\n",
       "      <td>0.000000</td>\n",
       "      <td>0.0</td>\n",
       "      <td>0.000000</td>\n",
       "      <td>0.000000</td>\n",
       "      <td>0.000000</td>\n",
       "      <td>0.541071</td>\n",
       "      <td>0.067560</td>\n",
       "      <td>0.041071</td>\n",
       "      <td>0.067560</td>\n",
       "      <td>3100</td>\n",
       "    </tr>\n",
       "  </tbody>\n",
       "</table>\n",
       "<p>5 rows × 61 columns</p>\n",
       "</div>"
      ],
      "text/plain": [
       "                                                 url  timedelta  \\\n",
       "0  http://mashable.com/2014/09/28/jobs-tech-workers/        101   \n",
       "1  http://mashable.com/2014/09/28/obama-says-u-s-...        101   \n",
       "2  http://mashable.com/2014/09/28/once-upon-a-tim...        101   \n",
       "3  http://mashable.com/2014/09/28/the-simpsons-de...        101   \n",
       "4  http://mashable.com/2014/09/28/viola-davis-les...        101   \n",
       "\n",
       "   n_tokens_title  n_tokens_content  n_unique_tokens  n_non_stop_words  \\\n",
       "0              12               332         0.528481               1.0   \n",
       "1              10               393         0.518817               1.0   \n",
       "2              13              1643         0.388854               1.0   \n",
       "3               9               272         0.488889               1.0   \n",
       "4              12                 0         0.000000               0.0   \n",
       "\n",
       "   n_non_stop_unique_tokens  num_hrefs  num_self_hrefs  num_imgs  ...  \\\n",
       "0                  0.645833          6               3         1  ...   \n",
       "1                  0.596899         14               1         1  ...   \n",
       "2                  0.546967         29               4         7  ...   \n",
       "3                  0.512690          2               2        11  ...   \n",
       "4                  0.000000          0               0         0  ...   \n",
       "\n",
       "   min_positive_polarity  max_positive_polarity  avg_negative_polarity  \\\n",
       "0               0.100000                    0.7              -0.145833   \n",
       "1               0.250000                    0.8              -0.312500   \n",
       "2               0.033333                    0.8              -0.227778   \n",
       "3               0.100000                    1.0              -0.416667   \n",
       "4               0.000000                    0.0               0.000000   \n",
       "\n",
       "   min_negative_polarity  max_negative_polarity  title_subjectivity  \\\n",
       "0              -0.166667              -0.125000            0.718182   \n",
       "1              -0.500000              -0.250000            0.500000   \n",
       "2              -0.800000              -0.050000            0.000000   \n",
       "3              -1.000000              -0.166667            0.000000   \n",
       "4               0.000000               0.000000            0.541071   \n",
       "\n",
       "   title_sentiment_polarity  abs_title_subjectivity  \\\n",
       "0                  0.137121                0.218182   \n",
       "1                  0.000000                0.000000   \n",
       "2                  0.000000                0.500000   \n",
       "3                  0.000000                0.500000   \n",
       "4                  0.067560                0.041071   \n",
       "\n",
       "   abs_title_sentiment_polarity  shares  \n",
       "0                      0.137121    8600  \n",
       "1                      0.000000   23700  \n",
       "2                      0.000000    8400  \n",
       "3                      0.000000    4800  \n",
       "4                      0.067560    3100  \n",
       "\n",
       "[5 rows x 61 columns]"
      ]
     },
     "execution_count": 2,
     "metadata": {},
     "output_type": "execute_result"
    }
   ],
   "source": [
    "df = pd.read_csv(\"../input/online-news-popularity-dataset/OnlineNewsPopularityReduced.csv\")\n",
    "df.head()"
   ]
  },
  {
   "cell_type": "code",
   "execution_count": 3,
   "id": "021cdb5d",
   "metadata": {
    "execution": {
     "iopub.execute_input": "2023-11-16T08:38:16.836214Z",
     "iopub.status.busy": "2023-11-16T08:38:16.834957Z",
     "iopub.status.idle": "2023-11-16T08:38:16.872894Z",
     "shell.execute_reply": "2023-11-16T08:38:16.871146Z"
    },
    "papermill": {
     "duration": 0.066505,
     "end_time": "2023-11-16T08:38:16.875794",
     "exception": false,
     "start_time": "2023-11-16T08:38:16.809289",
     "status": "completed"
    },
    "tags": []
   },
   "outputs": [
    {
     "name": "stdout",
     "output_type": "stream",
     "text": [
      "<class 'pandas.core.frame.DataFrame'>\n",
      "RangeIndex: 4954 entries, 0 to 4953\n",
      "Data columns (total 61 columns):\n",
      " #   Column                         Non-Null Count  Dtype  \n",
      "---  ------                         --------------  -----  \n",
      " 0   url                            4954 non-null   object \n",
      " 1   timedelta                      4954 non-null   int64  \n",
      " 2   n_tokens_title                 4954 non-null   int64  \n",
      " 3   n_tokens_content               4954 non-null   int64  \n",
      " 4   n_unique_tokens                4954 non-null   float64\n",
      " 5   n_non_stop_words               4954 non-null   float64\n",
      " 6   n_non_stop_unique_tokens       4954 non-null   float64\n",
      " 7   num_hrefs                      4954 non-null   int64  \n",
      " 8   num_self_hrefs                 4954 non-null   int64  \n",
      " 9   num_imgs                       4954 non-null   int64  \n",
      " 10  num_videos                     4954 non-null   int64  \n",
      " 11  average_token_length           4954 non-null   float64\n",
      " 12  num_keywords                   4954 non-null   int64  \n",
      " 13  data_channel_is_lifestyle      4954 non-null   int64  \n",
      " 14  data_channel_is_entertainment  4954 non-null   int64  \n",
      " 15  data_channel_is_bus            4954 non-null   int64  \n",
      " 16  data_channel_is_socmed         4954 non-null   int64  \n",
      " 17  data_channel_is_tech           4954 non-null   int64  \n",
      " 18  data_channel_is_world          4954 non-null   int64  \n",
      " 19  kw_min_min                     4954 non-null   int64  \n",
      " 20  kw_max_min                     4954 non-null   float64\n",
      " 21  kw_avg_min                     4954 non-null   float64\n",
      " 22  kw_min_max                     4954 non-null   int64  \n",
      " 23  kw_max_max                     4954 non-null   int64  \n",
      " 24  kw_avg_max                     4954 non-null   float64\n",
      " 25  kw_min_avg                     4954 non-null   float64\n",
      " 26  kw_max_avg                     4954 non-null   float64\n",
      " 27  kw_avg_avg                     4954 non-null   float64\n",
      " 28  self_reference_min_shares      4954 non-null   float64\n",
      " 29  self_reference_max_shares      4954 non-null   int64  \n",
      " 30  self_reference_avg_sharess     4954 non-null   float64\n",
      " 31  weekday_is_monday              4954 non-null   int64  \n",
      " 32  weekday_is_tuesday             4954 non-null   int64  \n",
      " 33  weekday_is_wednesday           4954 non-null   int64  \n",
      " 34  weekday_is_thursday            4954 non-null   int64  \n",
      " 35  weekday_is_friday              4954 non-null   int64  \n",
      " 36  weekday_is_saturday            4954 non-null   int64  \n",
      " 37  weekday_is_sunday              4954 non-null   int64  \n",
      " 38  is_weekend                     4954 non-null   int64  \n",
      " 39  LDA_00                         4954 non-null   float64\n",
      " 40  LDA_01                         4954 non-null   float64\n",
      " 41  LDA_02                         4954 non-null   float64\n",
      " 42  LDA_03                         4954 non-null   float64\n",
      " 43  LDA_04                         4954 non-null   float64\n",
      " 44  global_subjectivity            4954 non-null   float64\n",
      " 45  global_sentiment_polarity      4954 non-null   float64\n",
      " 46  global_rate_positive_words     4954 non-null   float64\n",
      " 47  global_rate_negative_words     4954 non-null   float64\n",
      " 48  rate_positive_words            4954 non-null   float64\n",
      " 49  rate_negative_words            4954 non-null   float64\n",
      " 50  avg_positive_polarity          4954 non-null   float64\n",
      " 51  min_positive_polarity          4954 non-null   float64\n",
      " 52  max_positive_polarity          4954 non-null   float64\n",
      " 53  avg_negative_polarity          4954 non-null   float64\n",
      " 54  min_negative_polarity          4954 non-null   float64\n",
      " 55  max_negative_polarity          4954 non-null   float64\n",
      " 56  title_subjectivity             4954 non-null   float64\n",
      " 57  title_sentiment_polarity       4954 non-null   float64\n",
      " 58  abs_title_subjectivity         4954 non-null   float64\n",
      " 59  abs_title_sentiment_polarity   4954 non-null   float64\n",
      " 60  shares                         4954 non-null   int64  \n",
      "dtypes: float64(33), int64(27), object(1)\n",
      "memory usage: 2.3+ MB\n"
     ]
    }
   ],
   "source": [
    "df.info()"
   ]
  },
  {
   "cell_type": "markdown",
   "id": "36e45cbc",
   "metadata": {
    "papermill": {
     "duration": 0.023561,
     "end_time": "2023-11-16T08:38:16.923410",
     "exception": false,
     "start_time": "2023-11-16T08:38:16.899849",
     "status": "completed"
    },
    "tags": []
   },
   "source": [
    "This looks like exponential distribution."
   ]
  },
  {
   "cell_type": "code",
   "execution_count": 4,
   "id": "53ec4d85",
   "metadata": {
    "execution": {
     "iopub.execute_input": "2023-11-16T08:38:16.975916Z",
     "iopub.status.busy": "2023-11-16T08:38:16.974839Z",
     "iopub.status.idle": "2023-11-16T08:38:17.517164Z",
     "shell.execute_reply": "2023-11-16T08:38:17.515959Z"
    },
    "papermill": {
     "duration": 0.571948,
     "end_time": "2023-11-16T08:38:17.520181",
     "exception": false,
     "start_time": "2023-11-16T08:38:16.948233",
     "status": "completed"
    },
    "tags": []
   },
   "outputs": [
    {
     "data": {
      "text/plain": [
       "(0.0, 15000.0)"
      ]
     },
     "execution_count": 4,
     "metadata": {},
     "output_type": "execute_result"
    },
    {
     "data": {
      "image/png": "[encoded data removed]",
      "text/plain": [
       "<Figure size 640x480 with 1 Axes>"
      ]
     },
     "metadata": {},
     "output_type": "display_data"
    }
   ],
   "source": [
    "sns.kdeplot(df['shares'])\n",
    "plt.xlim(0, 15000)"
   ]
  },
  {
   "cell_type": "markdown",
   "id": "10ece702",
   "metadata": {
    "papermill": {
     "duration": 0.024256,
     "end_time": "2023-11-16T08:38:17.568873",
     "exception": false,
     "start_time": "2023-11-16T08:38:17.544617",
     "status": "completed"
    },
    "tags": []
   },
   "source": [
    "## Preprocessing"
   ]
  },
  {
   "cell_type": "markdown",
   "id": "64fd455b",
   "metadata": {
    "papermill": {
     "duration": 0.023992,
     "end_time": "2023-11-16T08:38:17.618472",
     "exception": false,
     "start_time": "2023-11-16T08:38:17.594480",
     "status": "completed"
    },
    "tags": []
   },
   "source": [
    "Lets drop columns `url`, because variable unique for all data set.  "
   ]
  },
  {
   "cell_type": "code",
   "execution_count": 5,
   "id": "76750569",
   "metadata": {
    "execution": {
     "iopub.execute_input": "2023-11-16T08:38:17.670481Z",
     "iopub.status.busy": "2023-11-16T08:38:17.668963Z",
     "iopub.status.idle": "2023-11-16T08:38:17.677232Z",
     "shell.execute_reply": "2023-11-16T08:38:17.676233Z"
    },
    "papermill": {
     "duration": 0.037336,
     "end_time": "2023-11-16T08:38:17.679982",
     "exception": false,
     "start_time": "2023-11-16T08:38:17.642646",
     "status": "completed"
    },
    "tags": []
   },
   "outputs": [],
   "source": [
    "df.drop(columns=['url'], axis=1, inplace=True)"
   ]
  },
  {
   "cell_type": "markdown",
   "id": "2aa33612",
   "metadata": {
    "papermill": {
     "duration": 0.024945,
     "end_time": "2023-11-16T08:38:17.794017",
     "exception": false,
     "start_time": "2023-11-16T08:38:17.769072",
     "status": "completed"
    },
    "tags": []
   },
   "source": [
    "Let also delete `kw_min_min` `kw_max_max` `n_non_stop_words` collumns, because all values same."
   ]
  },
  {
   "cell_type": "code",
   "execution_count": 6,
   "id": "2f2b3e05",
   "metadata": {
    "execution": {
     "iopub.execute_input": "2023-11-16T08:38:17.848410Z",
     "iopub.status.busy": "2023-11-16T08:38:17.847366Z",
     "iopub.status.idle": "2023-11-16T08:38:17.856738Z",
     "shell.execute_reply": "2023-11-16T08:38:17.855354Z"
    },
    "papermill": {
     "duration": 0.039598,
     "end_time": "2023-11-16T08:38:17.859565",
     "exception": false,
     "start_time": "2023-11-16T08:38:17.819967",
     "status": "completed"
    },
    "tags": []
   },
   "outputs": [
    {
     "data": {
      "text/plain": [
       "kw_max_max\n",
       "843300    4951\n",
       "663600       2\n",
       "233400       1\n",
       "Name: count, dtype: int64"
      ]
     },
     "execution_count": 6,
     "metadata": {},
     "output_type": "execute_result"
    }
   ],
   "source": [
    "df['kw_max_max'].value_counts()"
   ]
  },
  {
   "cell_type": "code",
   "execution_count": 7,
   "id": "c54b43c5",
   "metadata": {
    "execution": {
     "iopub.execute_input": "2023-11-16T08:38:17.910950Z",
     "iopub.status.busy": "2023-11-16T08:38:17.910540Z",
     "iopub.status.idle": "2023-11-16T08:38:17.919334Z",
     "shell.execute_reply": "2023-11-16T08:38:17.918065Z"
    },
    "papermill": {
     "duration": 0.037708,
     "end_time": "2023-11-16T08:38:17.921913",
     "exception": false,
     "start_time": "2023-11-16T08:38:17.884205",
     "status": "completed"
    },
    "tags": []
   },
   "outputs": [
    {
     "data": {
      "text/plain": [
       "kw_min_min\n",
       "-1    4954\n",
       "Name: count, dtype: int64"
      ]
     },
     "execution_count": 7,
     "metadata": {},
     "output_type": "execute_result"
    }
   ],
   "source": [
    "df['kw_min_min'].value_counts()"
   ]
  },
  {
   "cell_type": "code",
   "execution_count": 8,
   "id": "0374a23e",
   "metadata": {
    "execution": {
     "iopub.execute_input": "2023-11-16T08:38:17.974793Z",
     "iopub.status.busy": "2023-11-16T08:38:17.974393Z",
     "iopub.status.idle": "2023-11-16T08:38:17.985684Z",
     "shell.execute_reply": "2023-11-16T08:38:17.984714Z"
    },
    "papermill": {
     "duration": 0.041657,
     "end_time": "2023-11-16T08:38:17.988486",
     "exception": false,
     "start_time": "2023-11-16T08:38:17.946829",
     "status": "completed"
    },
    "tags": []
   },
   "outputs": [
    {
     "data": {
      "text/plain": [
       "n_non_stop_words\n",
       "1.0    1020\n",
       "1.0     792\n",
       "1.0     599\n",
       "1.0     488\n",
       "0.0     488\n",
       "1.0     469\n",
       "1.0     353\n",
       "1.0     204\n",
       "1.0     155\n",
       "1.0     106\n",
       "1.0      75\n",
       "1.0      63\n",
       "1.0      44\n",
       "1.0      24\n",
       "1.0      23\n",
       "1.0      13\n",
       "1.0       8\n",
       "1.0       8\n",
       "1.0       4\n",
       "1.0       3\n",
       "1.0       3\n",
       "1.0       2\n",
       "1.0       2\n",
       "1.0       2\n",
       "1.0       2\n",
       "1.0       2\n",
       "1.0       1\n",
       "1.0       1\n",
       "Name: count, dtype: int64"
      ]
     },
     "execution_count": 8,
     "metadata": {},
     "output_type": "execute_result"
    }
   ],
   "source": [
    "df['n_non_stop_words'].value_counts()"
   ]
  },
  {
   "cell_type": "code",
   "execution_count": 9,
   "id": "6861958c",
   "metadata": {
    "execution": {
     "iopub.execute_input": "2023-11-16T08:38:18.042295Z",
     "iopub.status.busy": "2023-11-16T08:38:18.041578Z",
     "iopub.status.idle": "2023-11-16T08:38:18.047836Z",
     "shell.execute_reply": "2023-11-16T08:38:18.046978Z"
    },
    "papermill": {
     "duration": 0.035145,
     "end_time": "2023-11-16T08:38:18.050273",
     "exception": false,
     "start_time": "2023-11-16T08:38:18.015128",
     "status": "completed"
    },
    "tags": []
   },
   "outputs": [],
   "source": [
    "garbage = ['kw_max_max', 'kw_min_min', 'n_non_stop_words']\n",
    "df.drop(columns=garbage, axis=1, inplace=True)"
   ]
  },
  {
   "cell_type": "markdown",
   "id": "42df44f2",
   "metadata": {
    "papermill": {
     "duration": 0.025622,
     "end_time": "2023-11-16T08:38:18.101074",
     "exception": false,
     "start_time": "2023-11-16T08:38:18.075452",
     "status": "completed"
    },
    "tags": []
   },
   "source": [
    "Lets delete anomaly articles that have shares>=15000 and <400 and log our target variable to make distribution more familiar to normal."
   ]
  },
  {
   "cell_type": "code",
   "execution_count": 10,
   "id": "9c0326ab",
   "metadata": {
    "execution": {
     "iopub.execute_input": "2023-11-16T08:38:18.153438Z",
     "iopub.status.busy": "2023-11-16T08:38:18.152700Z",
     "iopub.status.idle": "2023-11-16T08:38:18.162753Z",
     "shell.execute_reply": "2023-11-16T08:38:18.161317Z"
    },
    "papermill": {
     "duration": 0.039314,
     "end_time": "2023-11-16T08:38:18.165554",
     "exception": false,
     "start_time": "2023-11-16T08:38:18.126240",
     "status": "completed"
    },
    "tags": []
   },
   "outputs": [
    {
     "data": {
      "text/plain": [
       "shares\n",
       "1100     316\n",
       "1200     279\n",
       "1300     225\n",
       "1400     224\n",
       "1500     165\n",
       "        ... \n",
       "26900      1\n",
       "569        1\n",
       "19100      1\n",
       "477        1\n",
       "470        1\n",
       "Name: count, Length: 781, dtype: int64"
      ]
     },
     "execution_count": 10,
     "metadata": {},
     "output_type": "execute_result"
    }
   ],
   "source": [
    "df['shares'].value_counts()"
   ]
  },
  {
   "cell_type": "code",
   "execution_count": 11,
   "id": "ae5bf569",
   "metadata": {
    "execution": {
     "iopub.execute_input": "2023-11-16T08:38:18.220011Z",
     "iopub.status.busy": "2023-11-16T08:38:18.218767Z",
     "iopub.status.idle": "2023-11-16T08:38:18.228697Z",
     "shell.execute_reply": "2023-11-16T08:38:18.227636Z"
    },
    "papermill": {
     "duration": 0.04126,
     "end_time": "2023-11-16T08:38:18.232003",
     "exception": false,
     "start_time": "2023-11-16T08:38:18.190743",
     "status": "completed"
    },
    "tags": []
   },
   "outputs": [],
   "source": [
    "df = df[df['shares'] <= 15000]\n",
    "df = df[df['shares'] > 200]"
   ]
  },
  {
   "cell_type": "code",
   "execution_count": 12,
   "id": "cc9b209f",
   "metadata": {
    "execution": {
     "iopub.execute_input": "2023-11-16T08:38:18.286519Z",
     "iopub.status.busy": "2023-11-16T08:38:18.284966Z",
     "iopub.status.idle": "2023-11-16T08:38:18.660702Z",
     "shell.execute_reply": "2023-11-16T08:38:18.659800Z"
    },
    "papermill": {
     "duration": 0.404499,
     "end_time": "2023-11-16T08:38:18.662964",
     "exception": false,
     "start_time": "2023-11-16T08:38:18.258465",
     "status": "completed"
    },
    "tags": []
   },
   "outputs": [
    {
     "data": {
      "text/plain": [
       "<Axes: xlabel='shares', ylabel='Density'>"
      ]
     },
     "execution_count": 12,
     "metadata": {},
     "output_type": "execute_result"
    },
    {
     "data": {
      "image/png": "[encoded data removed]",
      "text/plain": [
       "<Figure size 640x480 with 1 Axes>"
      ]
     },
     "metadata": {},
     "output_type": "display_data"
    }
   ],
   "source": [
    "y_regretion = np.log(df['shares'])\n",
    "sns.kdeplot(y_regretion)"
   ]
  },
  {
   "cell_type": "markdown",
   "id": "8c837a35",
   "metadata": {
    "papermill": {
     "duration": 0.025822,
     "end_time": "2023-11-16T08:38:18.715949",
     "exception": false,
     "start_time": "2023-11-16T08:38:18.690127",
     "status": "completed"
    },
    "tags": []
   },
   "source": [
    "Like previous model, lets also see classification issues."
   ]
  },
  {
   "cell_type": "code",
   "execution_count": 13,
   "id": "4e304db1",
   "metadata": {
    "execution": {
     "iopub.execute_input": "2023-11-16T08:38:18.770279Z",
     "iopub.status.busy": "2023-11-16T08:38:18.769147Z",
     "iopub.status.idle": "2023-11-16T08:38:18.780709Z",
     "shell.execute_reply": "2023-11-16T08:38:18.779906Z"
    },
    "papermill": {
     "duration": 0.041209,
     "end_time": "2023-11-16T08:38:18.783004",
     "exception": false,
     "start_time": "2023-11-16T08:38:18.741795",
     "status": "completed"
    },
    "tags": []
   },
   "outputs": [
    {
     "data": {
      "text/plain": [
       "is_popular\n",
       "0    2741\n",
       "1    2041\n",
       "Name: count, dtype: int64"
      ]
     },
     "execution_count": 13,
     "metadata": {},
     "output_type": "execute_result"
    }
   ],
   "source": [
    "df['is_popular'] = (df['shares'] > 1500).astype(int)\n",
    "df.drop(columns=['shares'], axis=1, inplace=True)\n",
    "df['is_popular'].value_counts()"
   ]
  },
  {
   "cell_type": "markdown",
   "id": "201fe33e",
   "metadata": {
    "papermill": {
     "duration": 0.025848,
     "end_time": "2023-11-16T08:38:18.834944",
     "exception": false,
     "start_time": "2023-11-16T08:38:18.809096",
     "status": "completed"
    },
    "tags": []
   },
   "source": [
    "## Split Data"
   ]
  },
  {
   "cell_type": "code",
   "execution_count": 14,
   "id": "95914862",
   "metadata": {
    "execution": {
     "iopub.execute_input": "2023-11-16T08:38:18.890248Z",
     "iopub.status.busy": "2023-11-16T08:38:18.889775Z",
     "iopub.status.idle": "2023-11-16T08:38:19.211198Z",
     "shell.execute_reply": "2023-11-16T08:38:19.209811Z"
    },
    "papermill": {
     "duration": 0.35304,
     "end_time": "2023-11-16T08:38:19.214181",
     "exception": false,
     "start_time": "2023-11-16T08:38:18.861141",
     "status": "completed"
    },
    "tags": []
   },
   "outputs": [],
   "source": [
    "from sklearn.model_selection import train_test_split\n",
    "X = df.drop('is_popular', axis=1)\n",
    "y_classification = df['is_popular']\n",
    "X_train, X_valid, y_train_cl, y_valid_cl = train_test_split(X, y_classification, test_size=0.25, random_state=4)\n",
    "X_train, X_valid, y_train_reg, y_valid_reg = train_test_split(X, y_regretion, test_size=0.25, random_state=4)"
   ]
  },
  {
   "cell_type": "markdown",
   "id": "6bee5675",
   "metadata": {
    "papermill": {
     "duration": 0.025346,
     "end_time": "2023-11-16T08:38:19.265799",
     "exception": false,
     "start_time": "2023-11-16T08:38:19.240453",
     "status": "completed"
    },
    "tags": []
   },
   "source": [
    "## Classifier and Regressor"
   ]
  },
  {
   "cell_type": "markdown",
   "id": "44edc0b1",
   "metadata": {
    "papermill": {
     "duration": 0.025577,
     "end_time": "2023-11-16T08:38:19.317179",
     "exception": false,
     "start_time": "2023-11-16T08:38:19.291602",
     "status": "completed"
    },
    "tags": []
   },
   "source": [
    "Lets build Liear Regression and Logistic Regression"
   ]
  },
  {
   "cell_type": "code",
   "execution_count": 15,
   "id": "7da6e64f",
   "metadata": {
    "execution": {
     "iopub.execute_input": "2023-11-16T08:38:19.370833Z",
     "iopub.status.busy": "2023-11-16T08:38:19.370204Z",
     "iopub.status.idle": "2023-11-16T08:38:19.526930Z",
     "shell.execute_reply": "2023-11-16T08:38:19.526013Z"
    },
    "papermill": {
     "duration": 0.186734,
     "end_time": "2023-11-16T08:38:19.529693",
     "exception": false,
     "start_time": "2023-11-16T08:38:19.342959",
     "status": "completed"
    },
    "tags": []
   },
   "outputs": [],
   "source": [
    "from sklearn.linear_model import LinearRegression\n",
    "from sklearn.metrics import mean_squared_error\n",
    "from sklearn.metrics import r2_score\n",
    "\n",
    "from sklearn.linear_model import LogisticRegression \n",
    "from sklearn.metrics import confusion_matrix\n",
    "from sklearn.metrics import accuracy_score, precision_score, recall_score, f1_score\n",
    "from mlxtend.plotting import plot_confusion_matrix"
   ]
  },
  {
   "cell_type": "code",
   "execution_count": 16,
   "id": "0eecd97d",
   "metadata": {
    "execution": {
     "iopub.execute_input": "2023-11-16T08:38:19.586774Z",
     "iopub.status.busy": "2023-11-16T08:38:19.586078Z",
     "iopub.status.idle": "2023-11-16T08:38:19.591170Z",
     "shell.execute_reply": "2023-11-16T08:38:19.590317Z"
    },
    "papermill": {
     "duration": 0.037492,
     "end_time": "2023-11-16T08:38:19.593564",
     "exception": false,
     "start_time": "2023-11-16T08:38:19.556072",
     "status": "completed"
    },
    "tags": []
   },
   "outputs": [],
   "source": [
    "linear_regression = LinearRegression()\n",
    "logistic_regression = LogisticRegression(random_state=20)"
   ]
  },
  {
   "cell_type": "code",
   "execution_count": 17,
   "id": "434d63aa",
   "metadata": {
    "execution": {
     "iopub.execute_input": "2023-11-16T08:38:19.648011Z",
     "iopub.status.busy": "2023-11-16T08:38:19.647230Z",
     "iopub.status.idle": "2023-11-16T08:38:19.697364Z",
     "shell.execute_reply": "2023-11-16T08:38:19.695771Z"
    },
    "papermill": {
     "duration": 0.082085,
     "end_time": "2023-11-16T08:38:19.701658",
     "exception": false,
     "start_time": "2023-11-16T08:38:19.619573",
     "status": "completed"
    },
    "tags": []
   },
   "outputs": [
    {
     "data": {
      "text/html": [
       "<style>#sk-container-id-1 {color: black;background-color: white;}#sk-container-id-1 pre{padding: 0;}#sk-container-id-1 div.sk-toggleable {background-color: white;}#sk-container-id-1 label.sk-toggleable__label {cursor: pointer;display: block;width: 100%;margin-bottom: 0;padding: 0.3em;box-sizing: border-box;text-align: center;}#sk-container-id-1 label.sk-toggleable__label-arrow:before {content: \"▸\";float: left;margin-right: 0.25em;color: #696969;}#sk-container-id-1 label.sk-toggleable__label-arrow:hover:before {color: black;}#sk-container-id-1 div.sk-estimator:hover label.sk-toggleable__label-arrow:before {color: black;}#sk-container-id-1 div.sk-toggleable__content {max-height: 0;max-width: 0;overflow: hidden;text-align: left;background-color: #f0f8ff;}#sk-container-id-1 div.sk-toggleable__content pre {margin: 0.2em;color: black;border-radius: 0.25em;background-color: #f0f8ff;}#sk-container-id-1 input.sk-toggleable__control:checked~div.sk-toggleable__content {max-height: 200px;max-width: 100%;overflow: auto;}#sk-container-id-1 input.sk-toggleable__control:checked~label.sk-toggleable__label-arrow:before {content: \"▾\";}#sk-container-id-1 div.sk-estimator input.sk-toggleable__control:checked~label.sk-toggleable__label {background-color: #d4ebff;}#sk-container-id-1 div.sk-label input.sk-toggleable__control:checked~label.sk-toggleable__label {background-color: #d4ebff;}#sk-container-id-1 input.sk-hidden--visually {border: 0;clip: rect(1px 1px 1px 1px);clip: rect(1px, 1px, 1px, 1px);height: 1px;margin: -1px;overflow: hidden;padding: 0;position: absolute;width: 1px;}#sk-container-id-1 div.sk-estimator {font-family: monospace;background-color: #f0f8ff;border: 1px dotted black;border-radius: 0.25em;box-sizing: border-box;margin-bottom: 0.5em;}#sk-container-id-1 div.sk-estimator:hover {background-color: #d4ebff;}#sk-container-id-1 div.sk-parallel-item::after {content: \"\";width: 100%;border-bottom: 1px solid gray;flex-grow: 1;}#sk-container-id-1 div.sk-label:hover label.sk-toggleable__label {background-color: #d4ebff;}#sk-container-id-1 div.sk-serial::before {content: \"\";position: absolute;border-left: 1px solid gray;box-sizing: border-box;top: 0;bottom: 0;left: 50%;z-index: 0;}#sk-container-id-1 div.sk-serial {display: flex;flex-direction: column;align-items: center;background-color: white;padding-right: 0.2em;padding-left: 0.2em;position: relative;}#sk-container-id-1 div.sk-item {position: relative;z-index: 1;}#sk-container-id-1 div.sk-parallel {display: flex;align-items: stretch;justify-content: center;background-color: white;position: relative;}#sk-container-id-1 div.sk-item::before, #sk-container-id-1 div.sk-parallel-item::before {content: \"\";position: absolute;border-left: 1px solid gray;box-sizing: border-box;top: 0;bottom: 0;left: 50%;z-index: -1;}#sk-container-id-1 div.sk-parallel-item {display: flex;flex-direction: column;z-index: 1;position: relative;background-color: white;}#sk-container-id-1 div.sk-parallel-item:first-child::after {align-self: flex-end;width: 50%;}#sk-container-id-1 div.sk-parallel-item:last-child::after {align-self: flex-start;width: 50%;}#sk-container-id-1 div.sk-parallel-item:only-child::after {width: 0;}#sk-container-id-1 div.sk-dashed-wrapped {border: 1px dashed gray;margin: 0 0.4em 0.5em 0.4em;box-sizing: border-box;padding-bottom: 0.4em;background-color: white;}#sk-container-id-1 div.sk-label label {font-family: monospace;font-weight: bold;display: inline-block;line-height: 1.2em;}#sk-container-id-1 div.sk-label-container {text-align: center;}#sk-container-id-1 div.sk-container {/* jupyter's `normalize.less` sets `[hidden] { display: none; }` but bootstrap.min.css set `[hidden] { display: none !important; }` so we also need the `!important` here to be able to override the default hidden behavior on the sphinx rendered scikit-learn.org. See: https://github.com/scikit-learn/scikit-learn/issues/21755 */display: inline-block !important;position: relative;}#sk-container-id-1 div.sk-text-repr-fallback {display: none;}</style><div id=\"sk-container-id-1\" class=\"sk-top-container\"><div class=\"sk-text-repr-fallback\"><pre>LinearRegression()</pre><b>In a Jupyter environment, please rerun this cell to show the HTML representation or trust the notebook. <br />On GitHub, the HTML representation is unable to render, please try loading this page with nbviewer.org.</b></div><div class=\"sk-container\" hidden><div class=\"sk-item\"><div class=\"sk-estimator sk-toggleable\"><input class=\"sk-toggleable__control sk-hidden--visually\" id=\"sk-estimator-id-1\" type=\"checkbox\" checked><label for=\"sk-estimator-id-1\" class=\"sk-toggleable__label sk-toggleable__label-arrow\">LinearRegression</label><div class=\"sk-toggleable__content\"><pre>LinearRegression()</pre></div></div></div></div></div>"
      ],
      "text/plain": [
       "LinearRegression()"
      ]
     },
     "execution_count": 17,
     "metadata": {},
     "output_type": "execute_result"
    }
   ],
   "source": [
    "linear_regression.fit(X_train, y_train_reg)"
   ]
  },
  {
   "cell_type": "code",
   "execution_count": 18,
   "id": "f834c281",
   "metadata": {
    "execution": {
     "iopub.execute_input": "2023-11-16T08:38:19.812543Z",
     "iopub.status.busy": "2023-11-16T08:38:19.812115Z",
     "iopub.status.idle": "2023-11-16T08:38:19.963113Z",
     "shell.execute_reply": "2023-11-16T08:38:19.961506Z"
    },
    "papermill": {
     "duration": 0.210623,
     "end_time": "2023-11-16T08:38:19.968622",
     "exception": false,
     "start_time": "2023-11-16T08:38:19.757999",
     "status": "completed"
    },
    "tags": []
   },
   "outputs": [
    {
     "name": "stderr",
     "output_type": "stream",
     "text": [
      "/opt/conda/lib/python3.10/site-packages/sklearn/linear_model/_logistic.py:458: ConvergenceWarning: lbfgs failed to converge (status=1):\n",
      "STOP: TOTAL NO. of ITERATIONS REACHED LIMIT.\n",
      "\n",
      "Increase the number of iterations (max_iter) or scale the data as shown in:\n",
      "    https://scikit-learn.org/stable/modules/preprocessing.html\n",
      "Please also refer to the documentation for alternative solver options:\n",
      "    https://scikit-learn.org/stable/modules/linear_model.html#logistic-regression\n",
      "  n_iter_i = _check_optimize_result(\n"
     ]
    },
    {
     "data": {
      "text/html": [
       "<style>#sk-container-id-2 {color: black;background-color: white;}#sk-container-id-2 pre{padding: 0;}#sk-container-id-2 div.sk-toggleable {background-color: white;}#sk-container-id-2 label.sk-toggleable__label {cursor: pointer;display: block;width: 100%;margin-bottom: 0;padding: 0.3em;box-sizing: border-box;text-align: center;}#sk-container-id-2 label.sk-toggleable__label-arrow:before {content: \"▸\";float: left;margin-right: 0.25em;color: #696969;}#sk-container-id-2 label.sk-toggleable__label-arrow:hover:before {color: black;}#sk-container-id-2 div.sk-estimator:hover label.sk-toggleable__label-arrow:before {color: black;}#sk-container-id-2 div.sk-toggleable__content {max-height: 0;max-width: 0;overflow: hidden;text-align: left;background-color: #f0f8ff;}#sk-container-id-2 div.sk-toggleable__content pre {margin: 0.2em;color: black;border-radius: 0.25em;background-color: #f0f8ff;}#sk-container-id-2 input.sk-toggleable__control:checked~div.sk-toggleable__content {max-height: 200px;max-width: 100%;overflow: auto;}#sk-container-id-2 input.sk-toggleable__control:checked~label.sk-toggleable__label-arrow:before {content: \"▾\";}#sk-container-id-2 div.sk-estimator input.sk-toggleable__control:checked~label.sk-toggleable__label {background-color: #d4ebff;}#sk-container-id-2 div.sk-label input.sk-toggleable__control:checked~label.sk-toggleable__label {background-color: #d4ebff;}#sk-container-id-2 input.sk-hidden--visually {border: 0;clip: rect(1px 1px 1px 1px);clip: rect(1px, 1px, 1px, 1px);height: 1px;margin: -1px;overflow: hidden;padding: 0;position: absolute;width: 1px;}#sk-container-id-2 div.sk-estimator {font-family: monospace;background-color: #f0f8ff;border: 1px dotted black;border-radius: 0.25em;box-sizing: border-box;margin-bottom: 0.5em;}#sk-container-id-2 div.sk-estimator:hover {background-color: #d4ebff;}#sk-container-id-2 div.sk-parallel-item::after {content: \"\";width: 100%;border-bottom: 1px solid gray;flex-grow: 1;}#sk-container-id-2 div.sk-label:hover label.sk-toggleable__label {background-color: #d4ebff;}#sk-container-id-2 div.sk-serial::before {content: \"\";position: absolute;border-left: 1px solid gray;box-sizing: border-box;top: 0;bottom: 0;left: 50%;z-index: 0;}#sk-container-id-2 div.sk-serial {display: flex;flex-direction: column;align-items: center;background-color: white;padding-right: 0.2em;padding-left: 0.2em;position: relative;}#sk-container-id-2 div.sk-item {position: relative;z-index: 1;}#sk-container-id-2 div.sk-parallel {display: flex;align-items: stretch;justify-content: center;background-color: white;position: relative;}#sk-container-id-2 div.sk-item::before, #sk-container-id-2 div.sk-parallel-item::before {content: \"\";position: absolute;border-left: 1px solid gray;box-sizing: border-box;top: 0;bottom: 0;left: 50%;z-index: -1;}#sk-container-id-2 div.sk-parallel-item {display: flex;flex-direction: column;z-index: 1;position: relative;background-color: white;}#sk-container-id-2 div.sk-parallel-item:first-child::after {align-self: flex-end;width: 50%;}#sk-container-id-2 div.sk-parallel-item:last-child::after {align-self: flex-start;width: 50%;}#sk-container-id-2 div.sk-parallel-item:only-child::after {width: 0;}#sk-container-id-2 div.sk-dashed-wrapped {border: 1px dashed gray;margin: 0 0.4em 0.5em 0.4em;box-sizing: border-box;padding-bottom: 0.4em;background-color: white;}#sk-container-id-2 div.sk-label label {font-family: monospace;font-weight: bold;display: inline-block;line-height: 1.2em;}#sk-container-id-2 div.sk-label-container {text-align: center;}#sk-container-id-2 div.sk-container {/* jupyter's `normalize.less` sets `[hidden] { display: none; }` but bootstrap.min.css set `[hidden] { display: none !important; }` so we also need the `!important` here to be able to override the default hidden behavior on the sphinx rendered scikit-learn.org. See: https://github.com/scikit-learn/scikit-learn/issues/21755 */display: inline-block !important;position: relative;}#sk-container-id-2 div.sk-text-repr-fallback {display: none;}</style><div id=\"sk-container-id-2\" class=\"sk-top-container\"><div class=\"sk-text-repr-fallback\"><pre>LogisticRegression(random_state=20)</pre><b>In a Jupyter environment, please rerun this cell to show the HTML representation or trust the notebook. <br />On GitHub, the HTML representation is unable to render, please try loading this page with nbviewer.org.</b></div><div class=\"sk-container\" hidden><div class=\"sk-item\"><div class=\"sk-estimator sk-toggleable\"><input class=\"sk-toggleable__control sk-hidden--visually\" id=\"sk-estimator-id-2\" type=\"checkbox\" checked><label for=\"sk-estimator-id-2\" class=\"sk-toggleable__label sk-toggleable__label-arrow\">LogisticRegression</label><div class=\"sk-toggleable__content\"><pre>LogisticRegression(random_state=20)</pre></div></div></div></div></div>"
      ],
      "text/plain": [
       "LogisticRegression(random_state=20)"
      ]
     },
     "execution_count": 18,
     "metadata": {},
     "output_type": "execute_result"
    }
   ],
   "source": [
    "logistic_regression.fit(X_train, y_train_cl)"
   ]
  },
  {
   "cell_type": "markdown",
   "id": "2ce25f09",
   "metadata": {
    "papermill": {
     "duration": 0.042822,
     "end_time": "2023-11-16T08:38:20.071643",
     "exception": false,
     "start_time": "2023-11-16T08:38:20.028821",
     "status": "completed"
    },
    "tags": []
   },
   "source": [
    "We have good result even without searching hyperparameters"
   ]
  },
  {
   "cell_type": "code",
   "execution_count": 19,
   "id": "6a5d9023",
   "metadata": {
    "execution": {
     "iopub.execute_input": "2023-11-16T08:38:20.127500Z",
     "iopub.status.busy": "2023-11-16T08:38:20.127051Z",
     "iopub.status.idle": "2023-11-16T08:38:20.141776Z",
     "shell.execute_reply": "2023-11-16T08:38:20.140268Z"
    },
    "papermill": {
     "duration": 0.047225,
     "end_time": "2023-11-16T08:38:20.145956",
     "exception": false,
     "start_time": "2023-11-16T08:38:20.098731",
     "status": "completed"
    },
    "tags": []
   },
   "outputs": [
    {
     "name": "stdout",
     "output_type": "stream",
     "text": [
      "MSE: 0.4634111299609709\n",
      "R2: 0.15669649376423256\n"
     ]
    }
   ],
   "source": [
    "y_pred = linear_regression.predict(X_valid)\n",
    "\n",
    "print('MSE:', mean_squared_error(y_valid_reg, y_pred))\n",
    "print('R2:', r2_score(y_valid_reg, y_pred))"
   ]
  },
  {
   "cell_type": "code",
   "execution_count": 20,
   "id": "696fa50b",
   "metadata": {
    "execution": {
     "iopub.execute_input": "2023-11-16T08:38:20.254276Z",
     "iopub.status.busy": "2023-11-16T08:38:20.253592Z",
     "iopub.status.idle": "2023-11-16T08:38:20.316903Z",
     "shell.execute_reply": "2023-11-16T08:38:20.314646Z"
    },
    "papermill": {
     "duration": 0.12115,
     "end_time": "2023-11-16T08:38:20.322236",
     "exception": false,
     "start_time": "2023-11-16T08:38:20.201086",
     "status": "completed"
    },
    "tags": []
   },
   "outputs": [
    {
     "name": "stdout",
     "output_type": "stream",
     "text": [
      "accuracy: 0.6011705685618729\n",
      "precision_score: 0.5408805031446541\n",
      "recall_score: 0.341948310139165\n",
      "f1_score: 0.4190012180267966\n"
     ]
    }
   ],
   "source": [
    "y_pred = logistic_regression.predict(X_valid)\n",
    "\n",
    "print('accuracy:', accuracy_score(y_valid_cl, y_pred))\n",
    "print('precision_score:', precision_score(y_valid_cl, y_pred))\n",
    "print('recall_score:', recall_score(y_valid_cl, y_pred))\n",
    "print('f1_score:', f1_score(y_valid_cl, y_pred))"
   ]
  },
  {
   "cell_type": "code",
   "execution_count": 21,
   "id": "f38781b9",
   "metadata": {
    "execution": {
     "iopub.execute_input": "2023-11-16T08:38:20.432618Z",
     "iopub.status.busy": "2023-11-16T08:38:20.431205Z",
     "iopub.status.idle": "2023-11-16T08:38:20.440549Z",
     "shell.execute_reply": "2023-11-16T08:38:20.439210Z"
    },
    "papermill": {
     "duration": 0.046996,
     "end_time": "2023-11-16T08:38:20.443019",
     "exception": false,
     "start_time": "2023-11-16T08:38:20.396023",
     "status": "completed"
    },
    "tags": []
   },
   "outputs": [
    {
     "name": "stdout",
     "output_type": "stream",
     "text": [
      "[[547 146]\n",
      " [331 172]]\n"
     ]
    }
   ],
   "source": [
    "print(confusion_matrix(y_valid_cl, y_pred))"
   ]
  },
  {
   "cell_type": "markdown",
   "id": "648b837a",
   "metadata": {
    "papermill": {
     "duration": 0.027341,
     "end_time": "2023-11-16T08:38:20.497689",
     "exception": false,
     "start_time": "2023-11-16T08:38:20.470348",
     "status": "completed"
    },
    "tags": []
   },
   "source": [
    "Lets build confusion matrix to see what result we have. And what metric we want to take."
   ]
  },
  {
   "attachments": {
    "28100a3c-6e1b-4994-9801-1bfce0e4c90b.png": {
     "image/png": "[encoded data removed]"
    }
   },
   "cell_type": "markdown",
   "id": "1301fe1f",
   "metadata": {
    "papermill": {
     "duration": 0.027849,
     "end_time": "2023-11-16T08:38:20.552742",
     "exception": false,
     "start_time": "2023-11-16T08:38:20.524893",
     "status": "completed"
    },
    "tags": []
   },
   "source": [
    "![image.png](attachment:28100a3c-6e1b-4994-9801-1bfce0e4c90b.png)"
   ]
  },
  {
   "cell_type": "markdown",
   "id": "d68b1162",
   "metadata": {
    "papermill": {
     "duration": 0.027791,
     "end_time": "2023-11-16T08:38:20.607701",
     "exception": false,
     "start_time": "2023-11-16T08:38:20.579910",
     "status": "completed"
    },
    "tags": []
   },
   "source": [
    "* TN --- True Negative --- the number of class 0 objects that the model recognized correctly;\n",
    "* TP --- True Positive --- the number of class 1 objects that the model recognized correctly;\n",
    "* FP --- False Positive --- the number class 0 objects that the model incorrectly assigned to class 1;\n",
    "* FN --- False Negative --- the number class 1 objects that the model incorrectly assigned to class 0."
   ]
  },
  {
   "cell_type": "code",
   "execution_count": 22,
   "id": "ba0cea28",
   "metadata": {
    "execution": {
     "iopub.execute_input": "2023-11-16T08:38:20.664985Z",
     "iopub.status.busy": "2023-11-16T08:38:20.663550Z",
     "iopub.status.idle": "2023-11-16T08:38:20.868974Z",
     "shell.execute_reply": "2023-11-16T08:38:20.867321Z"
    },
    "papermill": {
     "duration": 0.238918,
     "end_time": "2023-11-16T08:38:20.873592",
     "exception": false,
     "start_time": "2023-11-16T08:38:20.634674",
     "status": "completed"
    },
    "tags": []
   },
   "outputs": [
    {
     "data": {
      "image/png": "[encoded data removed]",
      "text/plain": [
       "<Figure size 640x480 with 1 Axes>"
      ]
     },
     "metadata": {},
     "output_type": "display_data"
    }
   ],
   "source": [
    "plot_confusion_matrix(confusion_matrix(y_valid_cl, y_pred))\n",
    "plt.show()"
   ]
  },
  {
   "cell_type": "markdown",
   "id": "f801ec38",
   "metadata": {
    "papermill": {
     "duration": 0.027774,
     "end_time": "2023-11-16T08:38:20.939893",
     "exception": false,
     "start_time": "2023-11-16T08:38:20.912119",
     "status": "completed"
    },
    "tags": []
   },
   "source": [
    "Lets take f1 for minimaze FN and FP, because it is bad for this model, when we have a lot popular articles that are not popular, and when we have popular articles that model see like not popular."
   ]
  },
  {
   "cell_type": "markdown",
   "id": "bca49b34",
   "metadata": {
    "papermill": {
     "duration": 0.028597,
     "end_time": "2023-11-16T08:38:21.001696",
     "exception": false,
     "start_time": "2023-11-16T08:38:20.973099",
     "status": "completed"
    },
    "tags": []
   },
   "source": [
    "Lets see our parameters in regressions. `LDA_02`, `LDA_03`, `LDA_04` have big coef, because have small values."
   ]
  },
  {
   "cell_type": "code",
   "execution_count": 23,
   "id": "c9da0d6e",
   "metadata": {
    "execution": {
     "iopub.execute_input": "2023-11-16T08:38:21.061082Z",
     "iopub.status.busy": "2023-11-16T08:38:21.060509Z",
     "iopub.status.idle": "2023-11-16T08:38:21.068420Z",
     "shell.execute_reply": "2023-11-16T08:38:21.067143Z"
    },
    "papermill": {
     "duration": 0.042667,
     "end_time": "2023-11-16T08:38:21.072384",
     "exception": false,
     "start_time": "2023-11-16T08:38:21.029717",
     "status": "completed"
    },
    "tags": []
   },
   "outputs": [
    {
     "name": "stdout",
     "output_type": "stream",
     "text": [
      "LDA_02: -9388889.1459\n",
      "LDA_03: -9388889.0829\n",
      "LDA_04: -9388889.0159\n",
      "LDA_00: -9388888.9304\n",
      "LDA_01: -9388888.8959\n",
      "weekday_is_monday: 102.5569\n",
      "weekday_is_thursday: 102.5126\n",
      "weekday_is_friday: 102.5068\n",
      "weekday_is_tuesday: 102.491\n",
      "weekday_is_wednesday: 102.4322\n",
      "is_weekend: 99.0284\n",
      "weekday_is_sunday: 3.7767\n",
      "weekday_is_saturday: 3.7588\n",
      "global_rate_negative_words: -1.5856\n",
      "global_rate_positive_words: 1.442\n",
      "global_sentiment_polarity: -0.9621\n",
      "n_non_stop_unique_tokens: -0.6618\n",
      "rate_positive_words: 0.6477\n",
      "n_unique_tokens: 0.6254\n",
      "avg_positive_polarity: 0.3674\n",
      "rate_negative_words: 0.2744\n",
      "data_channel_is_entertainment: -0.2153\n",
      "min_positive_polarity: -0.1826\n",
      "data_channel_is_lifestyle: -0.139\n",
      "data_channel_is_socmed: 0.1312\n",
      "data_channel_is_tech: 0.1235\n",
      "average_token_length: -0.1127\n",
      "max_positive_polarity: 0.1126\n",
      "data_channel_is_world: -0.058\n",
      "avg_negative_polarity: 0.0557\n",
      "global_subjectivity: 0.0508\n",
      "title_subjectivity: 0.0361\n",
      "max_negative_polarity: 0.0305\n",
      "num_keywords: 0.028\n",
      "abs_title_subjectivity: 0.0257\n",
      "data_channel_is_bus: -0.0188\n",
      "title_sentiment_polarity: 0.0117\n",
      "num_videos: -0.0091\n",
      "abs_title_sentiment_polarity: 0.0056\n",
      "num_imgs: 0.0053\n",
      "timedelta: 0.0048\n",
      "num_hrefs: 0.0032\n",
      "num_self_hrefs: -0.003\n",
      "min_negative_polarity: -0.0029\n",
      "n_tokens_title: -0.0014\n",
      "kw_avg_avg: 0.0002\n",
      "kw_avg_min: 0.0001\n",
      "n_tokens_content: 0.0\n",
      "kw_max_min: -0.0\n",
      "kw_min_max: -0.0\n",
      "kw_avg_max: 0.0\n",
      "kw_min_avg: -0.0\n",
      "kw_max_avg: -0.0\n",
      "self_reference_min_shares: -0.0\n",
      "self_reference_max_shares: -0.0\n",
      "self_reference_avg_sharess: 0.0\n"
     ]
    }
   ],
   "source": [
    "feature_names = X_train.columns\n",
    "coefficients = np.round(linear_regression.coef_, 4)\n",
    "coefficients_tuples = list(zip(feature_names, coefficients))\n",
    "sorted_coefficients = sorted(coefficients_tuples, key=lambda x: abs(x[1]), reverse=True)\n",
    "for feature, coef in sorted_coefficients:\n",
    "    print(f\"{feature}: {coef}\")"
   ]
  },
  {
   "cell_type": "markdown",
   "id": "6c1ae389",
   "metadata": {
    "papermill": {
     "duration": 0.027065,
     "end_time": "2023-11-16T08:38:21.126703",
     "exception": false,
     "start_time": "2023-11-16T08:38:21.099638",
     "status": "completed"
    },
    "tags": []
   },
   "source": [
    "For logistic model we have that model retrained"
   ]
  },
  {
   "cell_type": "code",
   "execution_count": 24,
   "id": "664b6ca4",
   "metadata": {
    "execution": {
     "iopub.execute_input": "2023-11-16T08:38:21.184666Z",
     "iopub.status.busy": "2023-11-16T08:38:21.184248Z",
     "iopub.status.idle": "2023-11-16T08:38:21.192047Z",
     "shell.execute_reply": "2023-11-16T08:38:21.190666Z"
    },
    "papermill": {
     "duration": 0.041197,
     "end_time": "2023-11-16T08:38:21.195749",
     "exception": false,
     "start_time": "2023-11-16T08:38:21.154552",
     "status": "completed"
    },
    "tags": []
   },
   "outputs": [
    {
     "name": "stdout",
     "output_type": "stream",
     "text": [
      "n_tokens_content: -0.0003\n",
      "kw_avg_avg: 0.0003\n",
      "kw_max_avg: -0.0001\n",
      "timedelta: 0.0\n",
      "n_tokens_title: -0.0\n",
      "n_unique_tokens: -0.0\n",
      "n_non_stop_unique_tokens: -0.0\n",
      "num_hrefs: 0.0\n",
      "num_self_hrefs: -0.0\n",
      "num_imgs: 0.0\n",
      "num_videos: -0.0\n",
      "average_token_length: -0.0\n",
      "num_keywords: -0.0\n",
      "data_channel_is_lifestyle: 0.0\n",
      "data_channel_is_entertainment: -0.0\n",
      "data_channel_is_bus: 0.0\n",
      "data_channel_is_socmed: 0.0\n",
      "data_channel_is_tech: 0.0\n",
      "data_channel_is_world: -0.0\n",
      "kw_max_min: -0.0\n",
      "kw_avg_min: -0.0\n",
      "kw_min_max: 0.0\n",
      "kw_avg_max: -0.0\n",
      "kw_min_avg: 0.0\n",
      "self_reference_min_shares: -0.0\n",
      "self_reference_max_shares: -0.0\n",
      "self_reference_avg_sharess: 0.0\n",
      "weekday_is_monday: -0.0\n",
      "weekday_is_tuesday: -0.0\n",
      "weekday_is_wednesday: -0.0\n",
      "weekday_is_thursday: -0.0\n",
      "weekday_is_friday: -0.0\n",
      "weekday_is_saturday: 0.0\n",
      "weekday_is_sunday: 0.0\n",
      "is_weekend: 0.0\n",
      "LDA_00: 0.0\n",
      "LDA_01: -0.0\n",
      "LDA_02: -0.0\n",
      "LDA_03: 0.0\n",
      "LDA_04: 0.0\n",
      "global_subjectivity: -0.0\n",
      "global_sentiment_polarity: 0.0\n",
      "global_rate_positive_words: -0.0\n",
      "global_rate_negative_words: -0.0\n",
      "rate_positive_words: -0.0\n",
      "rate_negative_words: -0.0\n",
      "avg_positive_polarity: -0.0\n",
      "min_positive_polarity: -0.0\n",
      "max_positive_polarity: -0.0\n",
      "avg_negative_polarity: 0.0\n",
      "min_negative_polarity: 0.0\n",
      "max_negative_polarity: 0.0\n",
      "title_subjectivity: 0.0\n",
      "title_sentiment_polarity: 0.0\n",
      "abs_title_subjectivity: -0.0\n",
      "abs_title_sentiment_polarity: 0.0\n"
     ]
    }
   ],
   "source": [
    "feature_names = X_train.columns\n",
    "coefficients = np.round(logistic_regression.coef_[0], 4)\n",
    "coefficients_tuples = list(zip(feature_names, coefficients))\n",
    "sorted_coefficients = sorted(coefficients_tuples, key=lambda x: abs(x[1]), reverse=True)\n",
    "for feature, coef in sorted_coefficients:\n",
    "    print(f\"{feature}: {coef}\")"
   ]
  },
  {
   "cell_type": "markdown",
   "id": "f026c9ed",
   "metadata": {
    "papermill": {
     "duration": 0.027607,
     "end_time": "2023-11-16T08:38:21.251131",
     "exception": false,
     "start_time": "2023-11-16T08:38:21.223524",
     "status": "completed"
    },
    "tags": []
   },
   "source": [
    "Lets standart our data"
   ]
  },
  {
   "cell_type": "code",
   "execution_count": 25,
   "id": "3dacc3f7",
   "metadata": {
    "execution": {
     "iopub.execute_input": "2023-11-16T08:38:21.310062Z",
     "iopub.status.busy": "2023-11-16T08:38:21.309664Z",
     "iopub.status.idle": "2023-11-16T08:38:21.314898Z",
     "shell.execute_reply": "2023-11-16T08:38:21.313542Z"
    },
    "papermill": {
     "duration": 0.038214,
     "end_time": "2023-11-16T08:38:21.317477",
     "exception": false,
     "start_time": "2023-11-16T08:38:21.279263",
     "status": "completed"
    },
    "tags": []
   },
   "outputs": [],
   "source": [
    "from sklearn.preprocessing import StandardScaler"
   ]
  },
  {
   "cell_type": "code",
   "execution_count": 26,
   "id": "30ecbb8e",
   "metadata": {
    "execution": {
     "iopub.execute_input": "2023-11-16T08:38:21.376339Z",
     "iopub.status.busy": "2023-11-16T08:38:21.375131Z",
     "iopub.status.idle": "2023-11-16T08:38:21.392868Z",
     "shell.execute_reply": "2023-11-16T08:38:21.391681Z"
    },
    "papermill": {
     "duration": 0.050427,
     "end_time": "2023-11-16T08:38:21.395915",
     "exception": false,
     "start_time": "2023-11-16T08:38:21.345488",
     "status": "completed"
    },
    "tags": []
   },
   "outputs": [],
   "source": [
    "scaler_reg = StandardScaler()\n",
    "scaler_reg.fit(X_train, y_train_reg)\n",
    "\n",
    "X_train_st_reg = scaler_reg.transform(X_train)\n",
    "X_valid_st_reg = scaler_reg.transform(X_valid)"
   ]
  },
  {
   "cell_type": "code",
   "execution_count": 27,
   "id": "5307208e",
   "metadata": {
    "execution": {
     "iopub.execute_input": "2023-11-16T08:38:21.458582Z",
     "iopub.status.busy": "2023-11-16T08:38:21.457699Z",
     "iopub.status.idle": "2023-11-16T08:38:21.481697Z",
     "shell.execute_reply": "2023-11-16T08:38:21.479803Z"
    },
    "papermill": {
     "duration": 0.05964,
     "end_time": "2023-11-16T08:38:21.485913",
     "exception": false,
     "start_time": "2023-11-16T08:38:21.426273",
     "status": "completed"
    },
    "tags": []
   },
   "outputs": [],
   "source": [
    "scaler_cl = StandardScaler()\n",
    "scaler_cl.fit(X_train, y_train_cl)\n",
    "\n",
    "X_train_st_cl = scaler_cl.transform(X_train)\n",
    "X_valid_st_cl = scaler_cl.transform(X_valid)"
   ]
  },
  {
   "cell_type": "markdown",
   "id": "dc1083bd",
   "metadata": {
    "papermill": {
     "duration": 0.02727,
     "end_time": "2023-11-16T08:38:21.541873",
     "exception": false,
     "start_time": "2023-11-16T08:38:21.514603",
     "status": "completed"
    },
    "tags": []
   },
   "source": [
    "And now lets see what result we have"
   ]
  },
  {
   "cell_type": "code",
   "execution_count": 28,
   "id": "b89124cd",
   "metadata": {
    "execution": {
     "iopub.execute_input": "2023-11-16T08:38:21.599815Z",
     "iopub.status.busy": "2023-11-16T08:38:21.598600Z",
     "iopub.status.idle": "2023-11-16T08:38:21.628922Z",
     "shell.execute_reply": "2023-11-16T08:38:21.627775Z"
    },
    "papermill": {
     "duration": 0.063402,
     "end_time": "2023-11-16T08:38:21.632938",
     "exception": false,
     "start_time": "2023-11-16T08:38:21.569536",
     "status": "completed"
    },
    "tags": []
   },
   "outputs": [
    {
     "data": {
      "text/html": [
       "<style>#sk-container-id-3 {color: black;background-color: white;}#sk-container-id-3 pre{padding: 0;}#sk-container-id-3 div.sk-toggleable {background-color: white;}#sk-container-id-3 label.sk-toggleable__label {cursor: pointer;display: block;width: 100%;margin-bottom: 0;padding: 0.3em;box-sizing: border-box;text-align: center;}#sk-container-id-3 label.sk-toggleable__label-arrow:before {content: \"▸\";float: left;margin-right: 0.25em;color: #696969;}#sk-container-id-3 label.sk-toggleable__label-arrow:hover:before {color: black;}#sk-container-id-3 div.sk-estimator:hover label.sk-toggleable__label-arrow:before {color: black;}#sk-container-id-3 div.sk-toggleable__content {max-height: 0;max-width: 0;overflow: hidden;text-align: left;background-color: #f0f8ff;}#sk-container-id-3 div.sk-toggleable__content pre {margin: 0.2em;color: black;border-radius: 0.25em;background-color: #f0f8ff;}#sk-container-id-3 input.sk-toggleable__control:checked~div.sk-toggleable__content {max-height: 200px;max-width: 100%;overflow: auto;}#sk-container-id-3 input.sk-toggleable__control:checked~label.sk-toggleable__label-arrow:before {content: \"▾\";}#sk-container-id-3 div.sk-estimator input.sk-toggleable__control:checked~label.sk-toggleable__label {background-color: #d4ebff;}#sk-container-id-3 div.sk-label input.sk-toggleable__control:checked~label.sk-toggleable__label {background-color: #d4ebff;}#sk-container-id-3 input.sk-hidden--visually {border: 0;clip: rect(1px 1px 1px 1px);clip: rect(1px, 1px, 1px, 1px);height: 1px;margin: -1px;overflow: hidden;padding: 0;position: absolute;width: 1px;}#sk-container-id-3 div.sk-estimator {font-family: monospace;background-color: #f0f8ff;border: 1px dotted black;border-radius: 0.25em;box-sizing: border-box;margin-bottom: 0.5em;}#sk-container-id-3 div.sk-estimator:hover {background-color: #d4ebff;}#sk-container-id-3 div.sk-parallel-item::after {content: \"\";width: 100%;border-bottom: 1px solid gray;flex-grow: 1;}#sk-container-id-3 div.sk-label:hover label.sk-toggleable__label {background-color: #d4ebff;}#sk-container-id-3 div.sk-serial::before {content: \"\";position: absolute;border-left: 1px solid gray;box-sizing: border-box;top: 0;bottom: 0;left: 50%;z-index: 0;}#sk-container-id-3 div.sk-serial {display: flex;flex-direction: column;align-items: center;background-color: white;padding-right: 0.2em;padding-left: 0.2em;position: relative;}#sk-container-id-3 div.sk-item {position: relative;z-index: 1;}#sk-container-id-3 div.sk-parallel {display: flex;align-items: stretch;justify-content: center;background-color: white;position: relative;}#sk-container-id-3 div.sk-item::before, #sk-container-id-3 div.sk-parallel-item::before {content: \"\";position: absolute;border-left: 1px solid gray;box-sizing: border-box;top: 0;bottom: 0;left: 50%;z-index: -1;}#sk-container-id-3 div.sk-parallel-item {display: flex;flex-direction: column;z-index: 1;position: relative;background-color: white;}#sk-container-id-3 div.sk-parallel-item:first-child::after {align-self: flex-end;width: 50%;}#sk-container-id-3 div.sk-parallel-item:last-child::after {align-self: flex-start;width: 50%;}#sk-container-id-3 div.sk-parallel-item:only-child::after {width: 0;}#sk-container-id-3 div.sk-dashed-wrapped {border: 1px dashed gray;margin: 0 0.4em 0.5em 0.4em;box-sizing: border-box;padding-bottom: 0.4em;background-color: white;}#sk-container-id-3 div.sk-label label {font-family: monospace;font-weight: bold;display: inline-block;line-height: 1.2em;}#sk-container-id-3 div.sk-label-container {text-align: center;}#sk-container-id-3 div.sk-container {/* jupyter's `normalize.less` sets `[hidden] { display: none; }` but bootstrap.min.css set `[hidden] { display: none !important; }` so we also need the `!important` here to be able to override the default hidden behavior on the sphinx rendered scikit-learn.org. See: https://github.com/scikit-learn/scikit-learn/issues/21755 */display: inline-block !important;position: relative;}#sk-container-id-3 div.sk-text-repr-fallback {display: none;}</style><div id=\"sk-container-id-3\" class=\"sk-top-container\"><div class=\"sk-text-repr-fallback\"><pre>LinearRegression()</pre><b>In a Jupyter environment, please rerun this cell to show the HTML representation or trust the notebook. <br />On GitHub, the HTML representation is unable to render, please try loading this page with nbviewer.org.</b></div><div class=\"sk-container\" hidden><div class=\"sk-item\"><div class=\"sk-estimator sk-toggleable\"><input class=\"sk-toggleable__control sk-hidden--visually\" id=\"sk-estimator-id-3\" type=\"checkbox\" checked><label for=\"sk-estimator-id-3\" class=\"sk-toggleable__label sk-toggleable__label-arrow\">LinearRegression</label><div class=\"sk-toggleable__content\"><pre>LinearRegression()</pre></div></div></div></div></div>"
      ],
      "text/plain": [
       "LinearRegression()"
      ]
     },
     "execution_count": 28,
     "metadata": {},
     "output_type": "execute_result"
    }
   ],
   "source": [
    "linear_regression.fit(X_train_st_reg, y_train_reg)"
   ]
  },
  {
   "cell_type": "code",
   "execution_count": 29,
   "id": "31ccd99f",
   "metadata": {
    "execution": {
     "iopub.execute_input": "2023-11-16T08:38:21.748637Z",
     "iopub.status.busy": "2023-11-16T08:38:21.748176Z",
     "iopub.status.idle": "2023-11-16T08:38:21.842586Z",
     "shell.execute_reply": "2023-11-16T08:38:21.840920Z"
    },
    "papermill": {
     "duration": 0.154407,
     "end_time": "2023-11-16T08:38:21.846849",
     "exception": false,
     "start_time": "2023-11-16T08:38:21.692442",
     "status": "completed"
    },
    "tags": []
   },
   "outputs": [
    {
     "data": {
      "text/html": [
       "<style>#sk-container-id-4 {color: black;background-color: white;}#sk-container-id-4 pre{padding: 0;}#sk-container-id-4 div.sk-toggleable {background-color: white;}#sk-container-id-4 label.sk-toggleable__label {cursor: pointer;display: block;width: 100%;margin-bottom: 0;padding: 0.3em;box-sizing: border-box;text-align: center;}#sk-container-id-4 label.sk-toggleable__label-arrow:before {content: \"▸\";float: left;margin-right: 0.25em;color: #696969;}#sk-container-id-4 label.sk-toggleable__label-arrow:hover:before {color: black;}#sk-container-id-4 div.sk-estimator:hover label.sk-toggleable__label-arrow:before {color: black;}#sk-container-id-4 div.sk-toggleable__content {max-height: 0;max-width: 0;overflow: hidden;text-align: left;background-color: #f0f8ff;}#sk-container-id-4 div.sk-toggleable__content pre {margin: 0.2em;color: black;border-radius: 0.25em;background-color: #f0f8ff;}#sk-container-id-4 input.sk-toggleable__control:checked~div.sk-toggleable__content {max-height: 200px;max-width: 100%;overflow: auto;}#sk-container-id-4 input.sk-toggleable__control:checked~label.sk-toggleable__label-arrow:before {content: \"▾\";}#sk-container-id-4 div.sk-estimator input.sk-toggleable__control:checked~label.sk-toggleable__label {background-color: #d4ebff;}#sk-container-id-4 div.sk-label input.sk-toggleable__control:checked~label.sk-toggleable__label {background-color: #d4ebff;}#sk-container-id-4 input.sk-hidden--visually {border: 0;clip: rect(1px 1px 1px 1px);clip: rect(1px, 1px, 1px, 1px);height: 1px;margin: -1px;overflow: hidden;padding: 0;position: absolute;width: 1px;}#sk-container-id-4 div.sk-estimator {font-family: monospace;background-color: #f0f8ff;border: 1px dotted black;border-radius: 0.25em;box-sizing: border-box;margin-bottom: 0.5em;}#sk-container-id-4 div.sk-estimator:hover {background-color: #d4ebff;}#sk-container-id-4 div.sk-parallel-item::after {content: \"\";width: 100%;border-bottom: 1px solid gray;flex-grow: 1;}#sk-container-id-4 div.sk-label:hover label.sk-toggleable__label {background-color: #d4ebff;}#sk-container-id-4 div.sk-serial::before {content: \"\";position: absolute;border-left: 1px solid gray;box-sizing: border-box;top: 0;bottom: 0;left: 50%;z-index: 0;}#sk-container-id-4 div.sk-serial {display: flex;flex-direction: column;align-items: center;background-color: white;padding-right: 0.2em;padding-left: 0.2em;position: relative;}#sk-container-id-4 div.sk-item {position: relative;z-index: 1;}#sk-container-id-4 div.sk-parallel {display: flex;align-items: stretch;justify-content: center;background-color: white;position: relative;}#sk-container-id-4 div.sk-item::before, #sk-container-id-4 div.sk-parallel-item::before {content: \"\";position: absolute;border-left: 1px solid gray;box-sizing: border-box;top: 0;bottom: 0;left: 50%;z-index: -1;}#sk-container-id-4 div.sk-parallel-item {display: flex;flex-direction: column;z-index: 1;position: relative;background-color: white;}#sk-container-id-4 div.sk-parallel-item:first-child::after {align-self: flex-end;width: 50%;}#sk-container-id-4 div.sk-parallel-item:last-child::after {align-self: flex-start;width: 50%;}#sk-container-id-4 div.sk-parallel-item:only-child::after {width: 0;}#sk-container-id-4 div.sk-dashed-wrapped {border: 1px dashed gray;margin: 0 0.4em 0.5em 0.4em;box-sizing: border-box;padding-bottom: 0.4em;background-color: white;}#sk-container-id-4 div.sk-label label {font-family: monospace;font-weight: bold;display: inline-block;line-height: 1.2em;}#sk-container-id-4 div.sk-label-container {text-align: center;}#sk-container-id-4 div.sk-container {/* jupyter's `normalize.less` sets `[hidden] { display: none; }` but bootstrap.min.css set `[hidden] { display: none !important; }` so we also need the `!important` here to be able to override the default hidden behavior on the sphinx rendered scikit-learn.org. See: https://github.com/scikit-learn/scikit-learn/issues/21755 */display: inline-block !important;position: relative;}#sk-container-id-4 div.sk-text-repr-fallback {display: none;}</style><div id=\"sk-container-id-4\" class=\"sk-top-container\"><div class=\"sk-text-repr-fallback\"><pre>LogisticRegression(random_state=20)</pre><b>In a Jupyter environment, please rerun this cell to show the HTML representation or trust the notebook. <br />On GitHub, the HTML representation is unable to render, please try loading this page with nbviewer.org.</b></div><div class=\"sk-container\" hidden><div class=\"sk-item\"><div class=\"sk-estimator sk-toggleable\"><input class=\"sk-toggleable__control sk-hidden--visually\" id=\"sk-estimator-id-4\" type=\"checkbox\" checked><label for=\"sk-estimator-id-4\" class=\"sk-toggleable__label sk-toggleable__label-arrow\">LogisticRegression</label><div class=\"sk-toggleable__content\"><pre>LogisticRegression(random_state=20)</pre></div></div></div></div></div>"
      ],
      "text/plain": [
       "LogisticRegression(random_state=20)"
      ]
     },
     "execution_count": 29,
     "metadata": {},
     "output_type": "execute_result"
    }
   ],
   "source": [
    "logistic_regression.fit(X_train_st_cl, y_train_cl)"
   ]
  },
  {
   "cell_type": "markdown",
   "id": "b641e719",
   "metadata": {
    "papermill": {
     "duration": 0.053446,
     "end_time": "2023-11-16T08:38:21.960834",
     "exception": false,
     "start_time": "2023-11-16T08:38:21.907388",
     "status": "completed"
    },
    "tags": []
   },
   "source": [
    "We have the same result for linear regression"
   ]
  },
  {
   "cell_type": "code",
   "execution_count": 30,
   "id": "b76bc459",
   "metadata": {
    "execution": {
     "iopub.execute_input": "2023-11-16T08:38:22.019413Z",
     "iopub.status.busy": "2023-11-16T08:38:22.018977Z",
     "iopub.status.idle": "2023-11-16T08:38:22.031428Z",
     "shell.execute_reply": "2023-11-16T08:38:22.029874Z"
    },
    "papermill": {
     "duration": 0.047063,
     "end_time": "2023-11-16T08:38:22.036113",
     "exception": false,
     "start_time": "2023-11-16T08:38:21.989050",
     "status": "completed"
    },
    "tags": []
   },
   "outputs": [
    {
     "name": "stdout",
     "output_type": "stream",
     "text": [
      "MSE: 0.4635265680349607\n",
      "R2: 0.15648642256340295\n"
     ]
    }
   ],
   "source": [
    "y_pred = linear_regression.predict(X_valid_st_reg)\n",
    "\n",
    "print('MSE:', mean_squared_error(y_valid_reg, y_pred))\n",
    "print('R2:', r2_score(y_valid_reg, y_pred))"
   ]
  },
  {
   "cell_type": "markdown",
   "id": "f32e15a3",
   "metadata": {
    "papermill": {
     "duration": 0.053184,
     "end_time": "2023-11-16T08:38:22.150202",
     "exception": false,
     "start_time": "2023-11-16T08:38:22.097018",
     "status": "completed"
    },
    "tags": []
   },
   "source": [
    "And more better for logistic regression"
   ]
  },
  {
   "cell_type": "code",
   "execution_count": 31,
   "id": "1a07f18f",
   "metadata": {
    "execution": {
     "iopub.execute_input": "2023-11-16T08:38:22.208393Z",
     "iopub.status.busy": "2023-11-16T08:38:22.207941Z",
     "iopub.status.idle": "2023-11-16T08:38:22.241746Z",
     "shell.execute_reply": "2023-11-16T08:38:22.240104Z"
    },
    "papermill": {
     "duration": 0.068759,
     "end_time": "2023-11-16T08:38:22.246917",
     "exception": false,
     "start_time": "2023-11-16T08:38:22.178158",
     "status": "completed"
    },
    "tags": []
   },
   "outputs": [
    {
     "name": "stdout",
     "output_type": "stream",
     "text": [
      "accuracy: 0.6847826086956522\n",
      "precision_score: 0.6418918918918919\n",
      "recall_score: 0.5666003976143141\n",
      "f1_score: 0.6019007391763463\n"
     ]
    }
   ],
   "source": [
    "y_pred = logistic_regression.predict(X_valid_st_cl)\n",
    "\n",
    "print('accuracy:', accuracy_score(y_valid_cl, y_pred))\n",
    "print('precision_score:', precision_score(y_valid_cl, y_pred))\n",
    "print('recall_score:', recall_score(y_valid_cl, y_pred))\n",
    "print('f1_score:', f1_score(y_valid_cl, y_pred))"
   ]
  },
  {
   "cell_type": "markdown",
   "id": "9938d929",
   "metadata": {
    "papermill": {
     "duration": 0.041602,
     "end_time": "2023-11-16T08:38:22.351152",
     "exception": false,
     "start_time": "2023-11-16T08:38:22.309550",
     "status": "completed"
    },
    "tags": []
   },
   "source": [
    "And now we have coef standart coef, but for classification is small"
   ]
  },
  {
   "cell_type": "code",
   "execution_count": 32,
   "id": "6ef9f12b",
   "metadata": {
    "execution": {
     "iopub.execute_input": "2023-11-16T08:38:22.409728Z",
     "iopub.status.busy": "2023-11-16T08:38:22.409345Z",
     "iopub.status.idle": "2023-11-16T08:38:22.418293Z",
     "shell.execute_reply": "2023-11-16T08:38:22.416849Z"
    },
    "papermill": {
     "duration": 0.041481,
     "end_time": "2023-11-16T08:38:22.421029",
     "exception": false,
     "start_time": "2023-11-16T08:38:22.379548",
     "status": "completed"
    },
    "tags": []
   },
   "outputs": [
    {
     "name": "stdout",
     "output_type": "stream",
     "text": [
      "weekday_is_tuesday: -114236159644.803\n",
      "weekday_is_wednesday: -108645943123.055\n",
      "weekday_is_monday: -107843217094.6214\n",
      "weekday_is_thursday: -105701886526.8734\n",
      "weekday_is_friday: -100163637223.1112\n",
      "is_weekend: -86984787732.1272\n",
      "weekday_is_sunday: -6164231679.1376\n",
      "weekday_is_saturday: -5698160040.0819\n",
      "LDA_02: -2938818.6479\n",
      "LDA_03: -2929206.8624\n",
      "LDA_04: -2463353.0699\n",
      "LDA_00: -2236716.9342\n",
      "LDA_01: -2055222.1009\n",
      "kw_avg_avg: 0.3057\n",
      "kw_max_avg: -0.1706\n",
      "rate_positive_words: 0.1622\n",
      "average_token_length: -0.1615\n",
      "n_non_stop_unique_tokens: -0.1486\n",
      "self_reference_avg_sharess: 0.1293\n",
      "n_unique_tokens: 0.1161\n",
      "timedelta: 0.1074\n",
      "global_sentiment_polarity: -0.0915\n",
      "data_channel_is_entertainment: -0.0831\n",
      "self_reference_min_shares: -0.0788\n",
      "num_keywords: 0.0517\n",
      "avg_positive_polarity: 0.0516\n",
      "rate_negative_words: 0.0497\n",
      "kw_avg_min: 0.047\n",
      "self_reference_max_shares: -0.0455\n",
      "kw_min_avg: -0.042\n",
      "data_channel_is_tech: 0.0404\n",
      "kw_max_min: -0.0381\n",
      "num_hrefs: 0.038\n",
      "num_videos: -0.0348\n",
      "max_positive_polarity: 0.0323\n",
      "num_imgs: 0.0306\n",
      "data_channel_is_world: -0.0283\n",
      "data_channel_is_lifestyle: -0.026\n",
      "global_rate_positive_words: 0.0252\n",
      "data_channel_is_socmed: 0.0217\n",
      "global_rate_negative_words: -0.0175\n",
      "min_positive_polarity: -0.0155\n",
      "num_self_hrefs: -0.0111\n",
      "title_subjectivity: 0.0108\n",
      "avg_negative_polarity: 0.0092\n",
      "n_tokens_content: 0.0068\n",
      "data_channel_is_bus: -0.0067\n",
      "global_subjectivity: 0.0061\n",
      "kw_avg_max: 0.0048\n",
      "abs_title_subjectivity: 0.0048\n",
      "title_sentiment_polarity: 0.0034\n",
      "min_negative_polarity: -0.0033\n",
      "max_negative_polarity: 0.0033\n",
      "n_tokens_title: -0.003\n",
      "abs_title_sentiment_polarity: 0.0025\n",
      "kw_min_max: -0.0018\n"
     ]
    }
   ],
   "source": [
    "feature_names = X_train.columns\n",
    "coefficients = np.round(linear_regression.coef_, 4)\n",
    "coefficients_tuples = list(zip(feature_names, coefficients))\n",
    "sorted_coefficients = sorted(coefficients_tuples, key=lambda x: abs(x[1]), reverse=True)\n",
    "for feature, coef in sorted_coefficients:\n",
    "    print(f\"{feature}: {coef}\")"
   ]
  },
  {
   "cell_type": "code",
   "execution_count": 33,
   "id": "0fb54d7d",
   "metadata": {
    "execution": {
     "iopub.execute_input": "2023-11-16T08:38:22.481433Z",
     "iopub.status.busy": "2023-11-16T08:38:22.480148Z",
     "iopub.status.idle": "2023-11-16T08:38:22.489446Z",
     "shell.execute_reply": "2023-11-16T08:38:22.488082Z"
    },
    "papermill": {
     "duration": 0.041937,
     "end_time": "2023-11-16T08:38:22.492200",
     "exception": false,
     "start_time": "2023-11-16T08:38:22.450263",
     "status": "completed"
    },
    "tags": []
   },
   "outputs": [
    {
     "name": "stdout",
     "output_type": "stream",
     "text": [
      "kw_avg_avg: 0.6909\n",
      "average_token_length: -0.5212\n",
      "rate_positive_words: 0.4651\n",
      "kw_max_avg: -0.4303\n",
      "n_non_stop_unique_tokens: -0.4042\n",
      "self_reference_avg_sharess: 0.3532\n",
      "n_unique_tokens: 0.3417\n",
      "self_reference_min_shares: -0.2527\n",
      "timedelta: 0.2347\n",
      "kw_avg_min: 0.2192\n",
      "kw_max_min: -0.2142\n",
      "global_sentiment_polarity: -0.1932\n",
      "data_channel_is_entertainment: -0.1872\n",
      "num_keywords: 0.1733\n",
      "avg_positive_polarity: 0.1576\n",
      "is_weekend: 0.1368\n",
      "num_imgs: 0.1209\n",
      "title_subjectivity: 0.116\n",
      "data_channel_is_tech: 0.1151\n",
      "num_hrefs: 0.1071\n",
      "min_negative_polarity: -0.1051\n",
      "LDA_02: -0.1012\n",
      "avg_negative_polarity: 0.0999\n",
      "weekday_is_wednesday: -0.0973\n",
      "weekday_is_saturday: 0.096\n",
      "rate_negative_words: 0.0955\n",
      "data_channel_is_world: -0.0923\n",
      "weekday_is_sunday: 0.0911\n",
      "num_videos: -0.0897\n",
      "data_channel_is_socmed: 0.0876\n",
      "n_tokens_content: 0.0846\n",
      "num_self_hrefs: -0.0814\n",
      "LDA_00: 0.079\n",
      "abs_title_sentiment_polarity: -0.0712\n",
      "data_channel_is_lifestyle: -0.0706\n",
      "global_subjectivity: 0.0687\n",
      "global_rate_negative_words: -0.0626\n",
      "title_sentiment_polarity: 0.0596\n",
      "kw_min_avg: -0.0573\n",
      "weekday_is_tuesday: -0.0547\n",
      "LDA_04: 0.0544\n",
      "self_reference_max_shares: -0.0398\n",
      "LDA_01: 0.0367\n",
      "weekday_is_monday: 0.0365\n",
      "global_rate_positive_words: 0.0317\n",
      "LDA_03: -0.0303\n",
      "max_positive_polarity: 0.0214\n",
      "kw_avg_max: 0.018\n",
      "data_channel_is_bus: 0.0154\n",
      "max_negative_polarity: -0.01\n",
      "abs_title_subjectivity: 0.0098\n",
      "weekday_is_thursday: -0.0034\n",
      "kw_min_max: -0.003\n",
      "n_tokens_title: -0.0023\n",
      "weekday_is_friday: 0.0023\n",
      "min_positive_polarity: -0.0005\n"
     ]
    }
   ],
   "source": [
    "feature_names = X_train.columns\n",
    "coefficients = np.round(logistic_regression.coef_[0], 4)\n",
    "coefficients_tuples = list(zip(feature_names, coefficients))\n",
    "sorted_coefficients = sorted(coefficients_tuples, key=lambda x: abs(x[1]), reverse=True)\n",
    "for feature, coef in sorted_coefficients:\n",
    "    print(f\"{feature}: {coef}\")"
   ]
  },
  {
   "cell_type": "markdown",
   "id": "8b085905",
   "metadata": {
    "papermill": {
     "duration": 0.028409,
     "end_time": "2023-11-16T08:38:22.549669",
     "exception": false,
     "start_time": "2023-11-16T08:38:22.521260",
     "status": "completed"
    },
    "tags": []
   },
   "source": [
    "## Ridge, Lasso, ElasticNet"
   ]
  },
  {
   "cell_type": "code",
   "execution_count": 34,
   "id": "d1ee9431",
   "metadata": {
    "execution": {
     "iopub.execute_input": "2023-11-16T08:38:22.609143Z",
     "iopub.status.busy": "2023-11-16T08:38:22.608656Z",
     "iopub.status.idle": "2023-11-16T08:38:22.613822Z",
     "shell.execute_reply": "2023-11-16T08:38:22.612935Z"
    },
    "papermill": {
     "duration": 0.037995,
     "end_time": "2023-11-16T08:38:22.616666",
     "exception": false,
     "start_time": "2023-11-16T08:38:22.578671",
     "status": "completed"
    },
    "tags": []
   },
   "outputs": [],
   "source": [
    "from sklearn.linear_model import Ridge, Lasso, ElasticNet\n",
    "\n",
    "from sklearn.model_selection import GridSearchCV"
   ]
  },
  {
   "cell_type": "code",
   "execution_count": 35,
   "id": "715364cd",
   "metadata": {
    "execution": {
     "iopub.execute_input": "2023-11-16T08:38:22.678062Z",
     "iopub.status.busy": "2023-11-16T08:38:22.676855Z",
     "iopub.status.idle": "2023-11-16T08:38:22.687741Z",
     "shell.execute_reply": "2023-11-16T08:38:22.686661Z"
    },
    "papermill": {
     "duration": 0.044275,
     "end_time": "2023-11-16T08:38:22.690650",
     "exception": false,
     "start_time": "2023-11-16T08:38:22.646375",
     "status": "completed"
    },
    "tags": []
   },
   "outputs": [],
   "source": [
    "ridge = Ridge()\n",
    "lasso = Lasso(max_iter=5000, random_state=20)\n",
    "EN = ElasticNet(max_iter=5000, random_state=20)\n",
    "l1 = LogisticRegression(solver='liblinear', penalty='l1', random_state=20)\n",
    "l2 = LogisticRegression(solver='liblinear', penalty='l2', random_state=20)\n",
    "en_cl = LogisticRegression(solver='saga', penalty='elasticnet', random_state=20)\n",
    "params = {\n",
    "    'alpha': np.logspace(-4, 4, 9),\n",
    "    'l1_ratio': np.linspace(0, 1, 5),\n",
    "}\n",
    "\n",
    "ridge_grid_reg = GridSearchCV(ridge, {'alpha': params['alpha']}, cv=5, scoring='r2')\n",
    "lasso_grid_reg = GridSearchCV(lasso, {'alpha': params['alpha']}, cv=5, scoring='r2')\n",
    "EN_grid_reg = GridSearchCV(EN, params, cv=5, scoring='r2')\n",
    "\n",
    "ridge_grid_cl = GridSearchCV(l2, {'C': params['alpha']}, cv=5, scoring='f1')\n",
    "lasso_grid_cl = GridSearchCV(l1, {'C': params['alpha']}, cv=5, scoring='f1')\n",
    "EN_grid_cl = GridSearchCV(en_cl, {'C': params['alpha'], 'l1_ratio': params['l1_ratio']}, cv=5, scoring='f1')"
   ]
  },
  {
   "cell_type": "markdown",
   "id": "1a946402",
   "metadata": {
    "papermill": {
     "duration": 0.029514,
     "end_time": "2023-11-16T08:38:22.749572",
     "exception": false,
     "start_time": "2023-11-16T08:38:22.720058",
     "status": "completed"
    },
    "tags": []
   },
   "source": [
    "### Ridge"
   ]
  },
  {
   "cell_type": "code",
   "execution_count": 36,
   "id": "e593e0ef",
   "metadata": {
    "execution": {
     "iopub.execute_input": "2023-11-16T08:38:22.809405Z",
     "iopub.status.busy": "2023-11-16T08:38:22.808935Z",
     "iopub.status.idle": "2023-11-16T08:38:28.874617Z",
     "shell.execute_reply": "2023-11-16T08:38:28.873035Z"
    },
    "papermill": {
     "duration": 6.100259,
     "end_time": "2023-11-16T08:38:28.878931",
     "exception": false,
     "start_time": "2023-11-16T08:38:22.778672",
     "status": "completed"
    },
    "tags": []
   },
   "outputs": [
    {
     "data": {
      "text/html": [
       "<style>#sk-container-id-5 {color: black;background-color: white;}#sk-container-id-5 pre{padding: 0;}#sk-container-id-5 div.sk-toggleable {background-color: white;}#sk-container-id-5 label.sk-toggleable__label {cursor: pointer;display: block;width: 100%;margin-bottom: 0;padding: 0.3em;box-sizing: border-box;text-align: center;}#sk-container-id-5 label.sk-toggleable__label-arrow:before {content: \"▸\";float: left;margin-right: 0.25em;color: #696969;}#sk-container-id-5 label.sk-toggleable__label-arrow:hover:before {color: black;}#sk-container-id-5 div.sk-estimator:hover label.sk-toggleable__label-arrow:before {color: black;}#sk-container-id-5 div.sk-toggleable__content {max-height: 0;max-width: 0;overflow: hidden;text-align: left;background-color: #f0f8ff;}#sk-container-id-5 div.sk-toggleable__content pre {margin: 0.2em;color: black;border-radius: 0.25em;background-color: #f0f8ff;}#sk-container-id-5 input.sk-toggleable__control:checked~div.sk-toggleable__content {max-height: 200px;max-width: 100%;overflow: auto;}#sk-container-id-5 input.sk-toggleable__control:checked~label.sk-toggleable__label-arrow:before {content: \"▾\";}#sk-container-id-5 div.sk-estimator input.sk-toggleable__control:checked~label.sk-toggleable__label {background-color: #d4ebff;}#sk-container-id-5 div.sk-label input.sk-toggleable__control:checked~label.sk-toggleable__label {background-color: #d4ebff;}#sk-container-id-5 input.sk-hidden--visually {border: 0;clip: rect(1px 1px 1px 1px);clip: rect(1px, 1px, 1px, 1px);height: 1px;margin: -1px;overflow: hidden;padding: 0;position: absolute;width: 1px;}#sk-container-id-5 div.sk-estimator {font-family: monospace;background-color: #f0f8ff;border: 1px dotted black;border-radius: 0.25em;box-sizing: border-box;margin-bottom: 0.5em;}#sk-container-id-5 div.sk-estimator:hover {background-color: #d4ebff;}#sk-container-id-5 div.sk-parallel-item::after {content: \"\";width: 100%;border-bottom: 1px solid gray;flex-grow: 1;}#sk-container-id-5 div.sk-label:hover label.sk-toggleable__label {background-color: #d4ebff;}#sk-container-id-5 div.sk-serial::before {content: \"\";position: absolute;border-left: 1px solid gray;box-sizing: border-box;top: 0;bottom: 0;left: 50%;z-index: 0;}#sk-container-id-5 div.sk-serial {display: flex;flex-direction: column;align-items: center;background-color: white;padding-right: 0.2em;padding-left: 0.2em;position: relative;}#sk-container-id-5 div.sk-item {position: relative;z-index: 1;}#sk-container-id-5 div.sk-parallel {display: flex;align-items: stretch;justify-content: center;background-color: white;position: relative;}#sk-container-id-5 div.sk-item::before, #sk-container-id-5 div.sk-parallel-item::before {content: \"\";position: absolute;border-left: 1px solid gray;box-sizing: border-box;top: 0;bottom: 0;left: 50%;z-index: -1;}#sk-container-id-5 div.sk-parallel-item {display: flex;flex-direction: column;z-index: 1;position: relative;background-color: white;}#sk-container-id-5 div.sk-parallel-item:first-child::after {align-self: flex-end;width: 50%;}#sk-container-id-5 div.sk-parallel-item:last-child::after {align-self: flex-start;width: 50%;}#sk-container-id-5 div.sk-parallel-item:only-child::after {width: 0;}#sk-container-id-5 div.sk-dashed-wrapped {border: 1px dashed gray;margin: 0 0.4em 0.5em 0.4em;box-sizing: border-box;padding-bottom: 0.4em;background-color: white;}#sk-container-id-5 div.sk-label label {font-family: monospace;font-weight: bold;display: inline-block;line-height: 1.2em;}#sk-container-id-5 div.sk-label-container {text-align: center;}#sk-container-id-5 div.sk-container {/* jupyter's `normalize.less` sets `[hidden] { display: none; }` but bootstrap.min.css set `[hidden] { display: none !important; }` so we also need the `!important` here to be able to override the default hidden behavior on the sphinx rendered scikit-learn.org. See: https://github.com/scikit-learn/scikit-learn/issues/21755 */display: inline-block !important;position: relative;}#sk-container-id-5 div.sk-text-repr-fallback {display: none;}</style><div id=\"sk-container-id-5\" class=\"sk-top-container\"><div class=\"sk-text-repr-fallback\"><pre>GridSearchCV(cv=5,\n",
       "             estimator=LogisticRegression(random_state=20, solver=&#x27;liblinear&#x27;),\n",
       "             param_grid={&#x27;C&#x27;: array([1.e-04, 1.e-03, 1.e-02, 1.e-01, 1.e+00, 1.e+01, 1.e+02, 1.e+03,\n",
       "       1.e+04])},\n",
       "             scoring=&#x27;f1&#x27;)</pre><b>In a Jupyter environment, please rerun this cell to show the HTML representation or trust the notebook. <br />On GitHub, the HTML representation is unable to render, please try loading this page with nbviewer.org.</b></div><div class=\"sk-container\" hidden><div class=\"sk-item sk-dashed-wrapped\"><div class=\"sk-label-container\"><div class=\"sk-label sk-toggleable\"><input class=\"sk-toggleable__control sk-hidden--visually\" id=\"sk-estimator-id-5\" type=\"checkbox\" ><label for=\"sk-estimator-id-5\" class=\"sk-toggleable__label sk-toggleable__label-arrow\">GridSearchCV</label><div class=\"sk-toggleable__content\"><pre>GridSearchCV(cv=5,\n",
       "             estimator=LogisticRegression(random_state=20, solver=&#x27;liblinear&#x27;),\n",
       "             param_grid={&#x27;C&#x27;: array([1.e-04, 1.e-03, 1.e-02, 1.e-01, 1.e+00, 1.e+01, 1.e+02, 1.e+03,\n",
       "       1.e+04])},\n",
       "             scoring=&#x27;f1&#x27;)</pre></div></div></div><div class=\"sk-parallel\"><div class=\"sk-parallel-item\"><div class=\"sk-item\"><div class=\"sk-label-container\"><div class=\"sk-label sk-toggleable\"><input class=\"sk-toggleable__control sk-hidden--visually\" id=\"sk-estimator-id-6\" type=\"checkbox\" ><label for=\"sk-estimator-id-6\" class=\"sk-toggleable__label sk-toggleable__label-arrow\">estimator: LogisticRegression</label><div class=\"sk-toggleable__content\"><pre>LogisticRegression(random_state=20, solver=&#x27;liblinear&#x27;)</pre></div></div></div><div class=\"sk-serial\"><div class=\"sk-item\"><div class=\"sk-estimator sk-toggleable\"><input class=\"sk-toggleable__control sk-hidden--visually\" id=\"sk-estimator-id-7\" type=\"checkbox\" ><label for=\"sk-estimator-id-7\" class=\"sk-toggleable__label sk-toggleable__label-arrow\">LogisticRegression</label><div class=\"sk-toggleable__content\"><pre>LogisticRegression(random_state=20, solver=&#x27;liblinear&#x27;)</pre></div></div></div></div></div></div></div></div></div></div>"
      ],
      "text/plain": [
       "GridSearchCV(cv=5,\n",
       "             estimator=LogisticRegression(random_state=20, solver='liblinear'),\n",
       "             param_grid={'C': array([1.e-04, 1.e-03, 1.e-02, 1.e-01, 1.e+00, 1.e+01, 1.e+02, 1.e+03,\n",
       "       1.e+04])},\n",
       "             scoring='f1')"
      ]
     },
     "execution_count": 36,
     "metadata": {},
     "output_type": "execute_result"
    }
   ],
   "source": [
    "ridge_grid_reg.fit(X_train_st_reg, y_train_reg)\n",
    "ridge_grid_cl.fit(X_train_st_cl, y_train_cl)"
   ]
  },
  {
   "cell_type": "code",
   "execution_count": 37,
   "id": "8f234b2a",
   "metadata": {
    "execution": {
     "iopub.execute_input": "2023-11-16T08:38:28.967999Z",
     "iopub.status.busy": "2023-11-16T08:38:28.967599Z",
     "iopub.status.idle": "2023-11-16T08:38:28.974429Z",
     "shell.execute_reply": "2023-11-16T08:38:28.973245Z"
    },
    "papermill": {
     "duration": 0.041136,
     "end_time": "2023-11-16T08:38:28.977890",
     "exception": false,
     "start_time": "2023-11-16T08:38:28.936754",
     "status": "completed"
    },
    "tags": []
   },
   "outputs": [
    {
     "name": "stdout",
     "output_type": "stream",
     "text": [
      "Best params for classification: {'C': 0.0001}\n",
      "Best score for classification: 0.5965786019172739\n",
      "Best params for regressor: {'alpha': 10.0}\n",
      "Best neg mean score for regressor: 0.1520824161417373\n"
     ]
    }
   ],
   "source": [
    "print(\"Best params for classification:\", ridge_grid_cl.best_params_)\n",
    "print(\"Best score for classification:\", ridge_grid_cl.best_score_)\n",
    "print(\"Best params for regressor:\", ridge_grid_reg.best_params_)\n",
    "print(\"Best neg mean score for regressor:\", ridge_grid_reg.best_score_)"
   ]
  },
  {
   "cell_type": "markdown",
   "id": "7adf1aa9",
   "metadata": {
    "papermill": {
     "duration": 0.029442,
     "end_time": "2023-11-16T08:38:29.037190",
     "exception": false,
     "start_time": "2023-11-16T08:38:29.007748",
     "status": "completed"
    },
    "tags": []
   },
   "source": [
    "### Lasso"
   ]
  },
  {
   "cell_type": "code",
   "execution_count": 38,
   "id": "73541f4a",
   "metadata": {
    "execution": {
     "iopub.execute_input": "2023-11-16T08:38:29.097962Z",
     "iopub.status.busy": "2023-11-16T08:38:29.097571Z",
     "iopub.status.idle": "2023-11-16T08:38:45.262955Z",
     "shell.execute_reply": "2023-11-16T08:38:45.261372Z"
    },
    "papermill": {
     "duration": 16.200502,
     "end_time": "2023-11-16T08:38:45.267349",
     "exception": false,
     "start_time": "2023-11-16T08:38:29.066847",
     "status": "completed"
    },
    "tags": []
   },
   "outputs": [
    {
     "data": {
      "text/html": [
       "<style>#sk-container-id-6 {color: black;background-color: white;}#sk-container-id-6 pre{padding: 0;}#sk-container-id-6 div.sk-toggleable {background-color: white;}#sk-container-id-6 label.sk-toggleable__label {cursor: pointer;display: block;width: 100%;margin-bottom: 0;padding: 0.3em;box-sizing: border-box;text-align: center;}#sk-container-id-6 label.sk-toggleable__label-arrow:before {content: \"▸\";float: left;margin-right: 0.25em;color: #696969;}#sk-container-id-6 label.sk-toggleable__label-arrow:hover:before {color: black;}#sk-container-id-6 div.sk-estimator:hover label.sk-toggleable__label-arrow:before {color: black;}#sk-container-id-6 div.sk-toggleable__content {max-height: 0;max-width: 0;overflow: hidden;text-align: left;background-color: #f0f8ff;}#sk-container-id-6 div.sk-toggleable__content pre {margin: 0.2em;color: black;border-radius: 0.25em;background-color: #f0f8ff;}#sk-container-id-6 input.sk-toggleable__control:checked~div.sk-toggleable__content {max-height: 200px;max-width: 100%;overflow: auto;}#sk-container-id-6 input.sk-toggleable__control:checked~label.sk-toggleable__label-arrow:before {content: \"▾\";}#sk-container-id-6 div.sk-estimator input.sk-toggleable__control:checked~label.sk-toggleable__label {background-color: #d4ebff;}#sk-container-id-6 div.sk-label input.sk-toggleable__control:checked~label.sk-toggleable__label {background-color: #d4ebff;}#sk-container-id-6 input.sk-hidden--visually {border: 0;clip: rect(1px 1px 1px 1px);clip: rect(1px, 1px, 1px, 1px);height: 1px;margin: -1px;overflow: hidden;padding: 0;position: absolute;width: 1px;}#sk-container-id-6 div.sk-estimator {font-family: monospace;background-color: #f0f8ff;border: 1px dotted black;border-radius: 0.25em;box-sizing: border-box;margin-bottom: 0.5em;}#sk-container-id-6 div.sk-estimator:hover {background-color: #d4ebff;}#sk-container-id-6 div.sk-parallel-item::after {content: \"\";width: 100%;border-bottom: 1px solid gray;flex-grow: 1;}#sk-container-id-6 div.sk-label:hover label.sk-toggleable__label {background-color: #d4ebff;}#sk-container-id-6 div.sk-serial::before {content: \"\";position: absolute;border-left: 1px solid gray;box-sizing: border-box;top: 0;bottom: 0;left: 50%;z-index: 0;}#sk-container-id-6 div.sk-serial {display: flex;flex-direction: column;align-items: center;background-color: white;padding-right: 0.2em;padding-left: 0.2em;position: relative;}#sk-container-id-6 div.sk-item {position: relative;z-index: 1;}#sk-container-id-6 div.sk-parallel {display: flex;align-items: stretch;justify-content: center;background-color: white;position: relative;}#sk-container-id-6 div.sk-item::before, #sk-container-id-6 div.sk-parallel-item::before {content: \"\";position: absolute;border-left: 1px solid gray;box-sizing: border-box;top: 0;bottom: 0;left: 50%;z-index: -1;}#sk-container-id-6 div.sk-parallel-item {display: flex;flex-direction: column;z-index: 1;position: relative;background-color: white;}#sk-container-id-6 div.sk-parallel-item:first-child::after {align-self: flex-end;width: 50%;}#sk-container-id-6 div.sk-parallel-item:last-child::after {align-self: flex-start;width: 50%;}#sk-container-id-6 div.sk-parallel-item:only-child::after {width: 0;}#sk-container-id-6 div.sk-dashed-wrapped {border: 1px dashed gray;margin: 0 0.4em 0.5em 0.4em;box-sizing: border-box;padding-bottom: 0.4em;background-color: white;}#sk-container-id-6 div.sk-label label {font-family: monospace;font-weight: bold;display: inline-block;line-height: 1.2em;}#sk-container-id-6 div.sk-label-container {text-align: center;}#sk-container-id-6 div.sk-container {/* jupyter's `normalize.less` sets `[hidden] { display: none; }` but bootstrap.min.css set `[hidden] { display: none !important; }` so we also need the `!important` here to be able to override the default hidden behavior on the sphinx rendered scikit-learn.org. See: https://github.com/scikit-learn/scikit-learn/issues/21755 */display: inline-block !important;position: relative;}#sk-container-id-6 div.sk-text-repr-fallback {display: none;}</style><div id=\"sk-container-id-6\" class=\"sk-top-container\"><div class=\"sk-text-repr-fallback\"><pre>GridSearchCV(cv=5,\n",
       "             estimator=LogisticRegression(penalty=&#x27;l1&#x27;, random_state=20,\n",
       "                                          solver=&#x27;liblinear&#x27;),\n",
       "             param_grid={&#x27;C&#x27;: array([1.e-04, 1.e-03, 1.e-02, 1.e-01, 1.e+00, 1.e+01, 1.e+02, 1.e+03,\n",
       "       1.e+04])},\n",
       "             scoring=&#x27;f1&#x27;)</pre><b>In a Jupyter environment, please rerun this cell to show the HTML representation or trust the notebook. <br />On GitHub, the HTML representation is unable to render, please try loading this page with nbviewer.org.</b></div><div class=\"sk-container\" hidden><div class=\"sk-item sk-dashed-wrapped\"><div class=\"sk-label-container\"><div class=\"sk-label sk-toggleable\"><input class=\"sk-toggleable__control sk-hidden--visually\" id=\"sk-estimator-id-8\" type=\"checkbox\" ><label for=\"sk-estimator-id-8\" class=\"sk-toggleable__label sk-toggleable__label-arrow\">GridSearchCV</label><div class=\"sk-toggleable__content\"><pre>GridSearchCV(cv=5,\n",
       "             estimator=LogisticRegression(penalty=&#x27;l1&#x27;, random_state=20,\n",
       "                                          solver=&#x27;liblinear&#x27;),\n",
       "             param_grid={&#x27;C&#x27;: array([1.e-04, 1.e-03, 1.e-02, 1.e-01, 1.e+00, 1.e+01, 1.e+02, 1.e+03,\n",
       "       1.e+04])},\n",
       "             scoring=&#x27;f1&#x27;)</pre></div></div></div><div class=\"sk-parallel\"><div class=\"sk-parallel-item\"><div class=\"sk-item\"><div class=\"sk-label-container\"><div class=\"sk-label sk-toggleable\"><input class=\"sk-toggleable__control sk-hidden--visually\" id=\"sk-estimator-id-9\" type=\"checkbox\" ><label for=\"sk-estimator-id-9\" class=\"sk-toggleable__label sk-toggleable__label-arrow\">estimator: LogisticRegression</label><div class=\"sk-toggleable__content\"><pre>LogisticRegression(penalty=&#x27;l1&#x27;, random_state=20, solver=&#x27;liblinear&#x27;)</pre></div></div></div><div class=\"sk-serial\"><div class=\"sk-item\"><div class=\"sk-estimator sk-toggleable\"><input class=\"sk-toggleable__control sk-hidden--visually\" id=\"sk-estimator-id-10\" type=\"checkbox\" ><label for=\"sk-estimator-id-10\" class=\"sk-toggleable__label sk-toggleable__label-arrow\">LogisticRegression</label><div class=\"sk-toggleable__content\"><pre>LogisticRegression(penalty=&#x27;l1&#x27;, random_state=20, solver=&#x27;liblinear&#x27;)</pre></div></div></div></div></div></div></div></div></div></div>"
      ],
      "text/plain": [
       "GridSearchCV(cv=5,\n",
       "             estimator=LogisticRegression(penalty='l1', random_state=20,\n",
       "                                          solver='liblinear'),\n",
       "             param_grid={'C': array([1.e-04, 1.e-03, 1.e-02, 1.e-01, 1.e+00, 1.e+01, 1.e+02, 1.e+03,\n",
       "       1.e+04])},\n",
       "             scoring='f1')"
      ]
     },
     "execution_count": 38,
     "metadata": {},
     "output_type": "execute_result"
    }
   ],
   "source": [
    "lasso_grid_reg.fit(X_train_st_reg, y_train_reg)\n",
    "lasso_grid_cl.fit(X_train_st_cl, y_train_cl)"
   ]
  },
  {
   "cell_type": "code",
   "execution_count": 39,
   "id": "e49f79e0",
   "metadata": {
    "execution": {
     "iopub.execute_input": "2023-11-16T08:38:45.331405Z",
     "iopub.status.busy": "2023-11-16T08:38:45.330696Z",
     "iopub.status.idle": "2023-11-16T08:38:45.337249Z",
     "shell.execute_reply": "2023-11-16T08:38:45.336089Z"
    },
    "papermill": {
     "duration": 0.040722,
     "end_time": "2023-11-16T08:38:45.339700",
     "exception": false,
     "start_time": "2023-11-16T08:38:45.298978",
     "status": "completed"
    },
    "tags": []
   },
   "outputs": [
    {
     "name": "stdout",
     "output_type": "stream",
     "text": [
      "Best params for classification: {'C': 0.1}\n",
      "Best score for classification: 0.5628351958174297\n",
      "Best params for regressor: {'alpha': 0.001}\n",
      "Best neg mean score for regressor: 0.15265752345765055\n"
     ]
    }
   ],
   "source": [
    "print(\"Best params for classification:\", lasso_grid_cl.best_params_)\n",
    "print(\"Best score for classification:\", lasso_grid_cl.best_score_)\n",
    "print(\"Best params for regressor:\", lasso_grid_reg.best_params_)\n",
    "print(\"Best neg mean score for regressor:\", lasso_grid_reg.best_score_)"
   ]
  },
  {
   "cell_type": "markdown",
   "id": "75a8f059",
   "metadata": {
    "papermill": {
     "duration": 0.029414,
     "end_time": "2023-11-16T08:38:45.402295",
     "exception": false,
     "start_time": "2023-11-16T08:38:45.372881",
     "status": "completed"
    },
    "tags": []
   },
   "source": [
    "### ElasticNet"
   ]
  },
  {
   "cell_type": "code",
   "execution_count": 40,
   "id": "0182db92",
   "metadata": {
    "execution": {
     "iopub.execute_input": "2023-11-16T08:38:45.464037Z",
     "iopub.status.busy": "2023-11-16T08:38:45.463630Z",
     "iopub.status.idle": "2023-11-16T08:41:36.103703Z",
     "shell.execute_reply": "2023-11-16T08:41:36.102465Z"
    },
    "papermill": {
     "duration": 170.675114,
     "end_time": "2023-11-16T08:41:36.107070",
     "exception": false,
     "start_time": "2023-11-16T08:38:45.431956",
     "status": "completed"
    },
    "tags": []
   },
   "outputs": [
    {
     "name": "stderr",
     "output_type": "stream",
     "text": [
      "/opt/conda/lib/python3.10/site-packages/sklearn/linear_model/_coordinate_descent.py:631: ConvergenceWarning: Objective did not converge. You might want to increase the number of iterations, check the scale of the features or consider increasing regularisation. Duality gap: 6.536e+02, tolerance: 1.628e-01 Linear regression models with null weight for the l1 regularization term are more efficiently fitted using one of the solvers implemented in sklearn.linear_model.Ridge/RidgeCV instead.\n",
      "  model = cd_fast.enet_coordinate_descent(\n",
      "/opt/conda/lib/python3.10/site-packages/sklearn/linear_model/_coordinate_descent.py:631: ConvergenceWarning: Objective did not converge. You might want to increase the number of iterations, check the scale of the features or consider increasing regularisation. Duality gap: 6.502e+02, tolerance: 1.589e-01 Linear regression models with null weight for the l1 regularization term are more efficiently fitted using one of the solvers implemented in sklearn.linear_model.Ridge/RidgeCV instead.\n",
      "  model = cd_fast.enet_coordinate_descent(\n",
      "/opt/conda/lib/python3.10/site-packages/sklearn/linear_model/_coordinate_descent.py:631: ConvergenceWarning: Objective did not converge. You might want to increase the number of iterations, check the scale of the features or consider increasing regularisation. Duality gap: 6.673e+02, tolerance: 1.637e-01 Linear regression models with null weight for the l1 regularization term are more efficiently fitted using one of the solvers implemented in sklearn.linear_model.Ridge/RidgeCV instead.\n",
      "  model = cd_fast.enet_coordinate_descent(\n",
      "/opt/conda/lib/python3.10/site-packages/sklearn/linear_model/_coordinate_descent.py:631: ConvergenceWarning: Objective did not converge. You might want to increase the number of iterations, check the scale of the features or consider increasing regularisation. Duality gap: 6.572e+02, tolerance: 1.611e-01 Linear regression models with null weight for the l1 regularization term are more efficiently fitted using one of the solvers implemented in sklearn.linear_model.Ridge/RidgeCV instead.\n",
      "  model = cd_fast.enet_coordinate_descent(\n",
      "/opt/conda/lib/python3.10/site-packages/sklearn/linear_model/_coordinate_descent.py:631: ConvergenceWarning: Objective did not converge. You might want to increase the number of iterations, check the scale of the features or consider increasing regularisation. Duality gap: 6.624e+02, tolerance: 1.617e-01 Linear regression models with null weight for the l1 regularization term are more efficiently fitted using one of the solvers implemented in sklearn.linear_model.Ridge/RidgeCV instead.\n",
      "  model = cd_fast.enet_coordinate_descent(\n",
      "/opt/conda/lib/python3.10/site-packages/sklearn/linear_model/_coordinate_descent.py:631: ConvergenceWarning: Objective did not converge. You might want to increase the number of iterations, check the scale of the features or consider increasing regularisation. Duality gap: 4.268e-01, tolerance: 1.589e-01\n",
      "  model = cd_fast.enet_coordinate_descent(\n",
      "/opt/conda/lib/python3.10/site-packages/sklearn/linear_model/_coordinate_descent.py:631: ConvergenceWarning: Objective did not converge. You might want to increase the number of iterations, check the scale of the features or consider increasing regularisation. Duality gap: 1.601e+00, tolerance: 1.611e-01\n",
      "  model = cd_fast.enet_coordinate_descent(\n",
      "/opt/conda/lib/python3.10/site-packages/sklearn/linear_model/_coordinate_descent.py:631: ConvergenceWarning: Objective did not converge. You might want to increase the number of iterations, check the scale of the features or consider increasing regularisation. Duality gap: 1.909e+00, tolerance: 1.617e-01\n",
      "  model = cd_fast.enet_coordinate_descent(\n",
      "/opt/conda/lib/python3.10/site-packages/sklearn/linear_model/_coordinate_descent.py:631: ConvergenceWarning: Objective did not converge. You might want to increase the number of iterations, check the scale of the features or consider increasing regularisation. Duality gap: 5.485e-01, tolerance: 1.611e-01\n",
      "  model = cd_fast.enet_coordinate_descent(\n",
      "/opt/conda/lib/python3.10/site-packages/sklearn/linear_model/_coordinate_descent.py:631: ConvergenceWarning: Objective did not converge. You might want to increase the number of iterations, check the scale of the features or consider increasing regularisation. Duality gap: 2.072e-01, tolerance: 1.617e-01\n",
      "  model = cd_fast.enet_coordinate_descent(\n",
      "/opt/conda/lib/python3.10/site-packages/sklearn/linear_model/_coordinate_descent.py:631: ConvergenceWarning: Objective did not converge. You might want to increase the number of iterations, check the scale of the features or consider increasing regularisation. Duality gap: 6.541e+02, tolerance: 1.628e-01 Linear regression models with null weight for the l1 regularization term are more efficiently fitted using one of the solvers implemented in sklearn.linear_model.Ridge/RidgeCV instead.\n",
      "  model = cd_fast.enet_coordinate_descent(\n",
      "/opt/conda/lib/python3.10/site-packages/sklearn/linear_model/_coordinate_descent.py:631: ConvergenceWarning: Objective did not converge. You might want to increase the number of iterations, check the scale of the features or consider increasing regularisation. Duality gap: 6.506e+02, tolerance: 1.589e-01 Linear regression models with null weight for the l1 regularization term are more efficiently fitted using one of the solvers implemented in sklearn.linear_model.Ridge/RidgeCV instead.\n",
      "  model = cd_fast.enet_coordinate_descent(\n",
      "/opt/conda/lib/python3.10/site-packages/sklearn/linear_model/_coordinate_descent.py:631: ConvergenceWarning: Objective did not converge. You might want to increase the number of iterations, check the scale of the features or consider increasing regularisation. Duality gap: 6.677e+02, tolerance: 1.637e-01 Linear regression models with null weight for the l1 regularization term are more efficiently fitted using one of the solvers implemented in sklearn.linear_model.Ridge/RidgeCV instead.\n",
      "  model = cd_fast.enet_coordinate_descent(\n",
      "/opt/conda/lib/python3.10/site-packages/sklearn/linear_model/_coordinate_descent.py:631: ConvergenceWarning: Objective did not converge. You might want to increase the number of iterations, check the scale of the features or consider increasing regularisation. Duality gap: 6.577e+02, tolerance: 1.611e-01 Linear regression models with null weight for the l1 regularization term are more efficiently fitted using one of the solvers implemented in sklearn.linear_model.Ridge/RidgeCV instead.\n",
      "  model = cd_fast.enet_coordinate_descent(\n",
      "/opt/conda/lib/python3.10/site-packages/sklearn/linear_model/_coordinate_descent.py:631: ConvergenceWarning: Objective did not converge. You might want to increase the number of iterations, check the scale of the features or consider increasing regularisation. Duality gap: 6.627e+02, tolerance: 1.617e-01 Linear regression models with null weight for the l1 regularization term are more efficiently fitted using one of the solvers implemented in sklearn.linear_model.Ridge/RidgeCV instead.\n",
      "  model = cd_fast.enet_coordinate_descent(\n",
      "/opt/conda/lib/python3.10/site-packages/sklearn/linear_model/_coordinate_descent.py:631: ConvergenceWarning: Objective did not converge. You might want to increase the number of iterations, check the scale of the features or consider increasing regularisation. Duality gap: 6.576e+02, tolerance: 1.628e-01 Linear regression models with null weight for the l1 regularization term are more efficiently fitted using one of the solvers implemented in sklearn.linear_model.Ridge/RidgeCV instead.\n",
      "  model = cd_fast.enet_coordinate_descent(\n",
      "/opt/conda/lib/python3.10/site-packages/sklearn/linear_model/_coordinate_descent.py:631: ConvergenceWarning: Objective did not converge. You might want to increase the number of iterations, check the scale of the features or consider increasing regularisation. Duality gap: 6.531e+02, tolerance: 1.589e-01 Linear regression models with null weight for the l1 regularization term are more efficiently fitted using one of the solvers implemented in sklearn.linear_model.Ridge/RidgeCV instead.\n",
      "  model = cd_fast.enet_coordinate_descent(\n",
      "/opt/conda/lib/python3.10/site-packages/sklearn/linear_model/_coordinate_descent.py:631: ConvergenceWarning: Objective did not converge. You might want to increase the number of iterations, check the scale of the features or consider increasing regularisation. Duality gap: 6.702e+02, tolerance: 1.637e-01 Linear regression models with null weight for the l1 regularization term are more efficiently fitted using one of the solvers implemented in sklearn.linear_model.Ridge/RidgeCV instead.\n",
      "  model = cd_fast.enet_coordinate_descent(\n",
      "/opt/conda/lib/python3.10/site-packages/sklearn/linear_model/_coordinate_descent.py:631: ConvergenceWarning: Objective did not converge. You might want to increase the number of iterations, check the scale of the features or consider increasing regularisation. Duality gap: 6.606e+02, tolerance: 1.611e-01 Linear regression models with null weight for the l1 regularization term are more efficiently fitted using one of the solvers implemented in sklearn.linear_model.Ridge/RidgeCV instead.\n",
      "  model = cd_fast.enet_coordinate_descent(\n",
      "/opt/conda/lib/python3.10/site-packages/sklearn/linear_model/_coordinate_descent.py:631: ConvergenceWarning: Objective did not converge. You might want to increase the number of iterations, check the scale of the features or consider increasing regularisation. Duality gap: 6.651e+02, tolerance: 1.617e-01 Linear regression models with null weight for the l1 regularization term are more efficiently fitted using one of the solvers implemented in sklearn.linear_model.Ridge/RidgeCV instead.\n",
      "  model = cd_fast.enet_coordinate_descent(\n",
      "/opt/conda/lib/python3.10/site-packages/sklearn/linear_model/_coordinate_descent.py:631: ConvergenceWarning: Objective did not converge. You might want to increase the number of iterations, check the scale of the features or consider increasing regularisation. Duality gap: 6.727e+02, tolerance: 1.628e-01 Linear regression models with null weight for the l1 regularization term are more efficiently fitted using one of the solvers implemented in sklearn.linear_model.Ridge/RidgeCV instead.\n",
      "  model = cd_fast.enet_coordinate_descent(\n",
      "/opt/conda/lib/python3.10/site-packages/sklearn/linear_model/_coordinate_descent.py:631: ConvergenceWarning: Objective did not converge. You might want to increase the number of iterations, check the scale of the features or consider increasing regularisation. Duality gap: 6.654e+02, tolerance: 1.589e-01 Linear regression models with null weight for the l1 regularization term are more efficiently fitted using one of the solvers implemented in sklearn.linear_model.Ridge/RidgeCV instead.\n",
      "  model = cd_fast.enet_coordinate_descent(\n",
      "/opt/conda/lib/python3.10/site-packages/sklearn/linear_model/_coordinate_descent.py:631: ConvergenceWarning: Objective did not converge. You might want to increase the number of iterations, check the scale of the features or consider increasing regularisation. Duality gap: 6.826e+02, tolerance: 1.637e-01 Linear regression models with null weight for the l1 regularization term are more efficiently fitted using one of the solvers implemented in sklearn.linear_model.Ridge/RidgeCV instead.\n",
      "  model = cd_fast.enet_coordinate_descent(\n",
      "/opt/conda/lib/python3.10/site-packages/sklearn/linear_model/_coordinate_descent.py:631: ConvergenceWarning: Objective did not converge. You might want to increase the number of iterations, check the scale of the features or consider increasing regularisation. Duality gap: 6.729e+02, tolerance: 1.611e-01 Linear regression models with null weight for the l1 regularization term are more efficiently fitted using one of the solvers implemented in sklearn.linear_model.Ridge/RidgeCV instead.\n",
      "  model = cd_fast.enet_coordinate_descent(\n",
      "/opt/conda/lib/python3.10/site-packages/sklearn/linear_model/_coordinate_descent.py:631: ConvergenceWarning: Objective did not converge. You might want to increase the number of iterations, check the scale of the features or consider increasing regularisation. Duality gap: 6.769e+02, tolerance: 1.617e-01 Linear regression models with null weight for the l1 regularization term are more efficiently fitted using one of the solvers implemented in sklearn.linear_model.Ridge/RidgeCV instead.\n",
      "  model = cd_fast.enet_coordinate_descent(\n",
      "/opt/conda/lib/python3.10/site-packages/sklearn/linear_model/_coordinate_descent.py:631: ConvergenceWarning: Objective did not converge. You might want to increase the number of iterations, check the scale of the features or consider increasing regularisation. Duality gap: 7.186e+02, tolerance: 1.628e-01 Linear regression models with null weight for the l1 regularization term are more efficiently fitted using one of the solvers implemented in sklearn.linear_model.Ridge/RidgeCV instead.\n",
      "  model = cd_fast.enet_coordinate_descent(\n",
      "/opt/conda/lib/python3.10/site-packages/sklearn/linear_model/_coordinate_descent.py:631: ConvergenceWarning: Objective did not converge. You might want to increase the number of iterations, check the scale of the features or consider increasing regularisation. Duality gap: 7.053e+02, tolerance: 1.589e-01 Linear regression models with null weight for the l1 regularization term are more efficiently fitted using one of the solvers implemented in sklearn.linear_model.Ridge/RidgeCV instead.\n",
      "  model = cd_fast.enet_coordinate_descent(\n",
      "/opt/conda/lib/python3.10/site-packages/sklearn/linear_model/_coordinate_descent.py:631: ConvergenceWarning: Objective did not converge. You might want to increase the number of iterations, check the scale of the features or consider increasing regularisation. Duality gap: 7.244e+02, tolerance: 1.637e-01 Linear regression models with null weight for the l1 regularization term are more efficiently fitted using one of the solvers implemented in sklearn.linear_model.Ridge/RidgeCV instead.\n",
      "  model = cd_fast.enet_coordinate_descent(\n",
      "/opt/conda/lib/python3.10/site-packages/sklearn/linear_model/_coordinate_descent.py:631: ConvergenceWarning: Objective did not converge. You might want to increase the number of iterations, check the scale of the features or consider increasing regularisation. Duality gap: 7.143e+02, tolerance: 1.611e-01 Linear regression models with null weight for the l1 regularization term are more efficiently fitted using one of the solvers implemented in sklearn.linear_model.Ridge/RidgeCV instead.\n",
      "  model = cd_fast.enet_coordinate_descent(\n",
      "/opt/conda/lib/python3.10/site-packages/sklearn/linear_model/_coordinate_descent.py:631: ConvergenceWarning: Objective did not converge. You might want to increase the number of iterations, check the scale of the features or consider increasing regularisation. Duality gap: 7.171e+02, tolerance: 1.617e-01 Linear regression models with null weight for the l1 regularization term are more efficiently fitted using one of the solvers implemented in sklearn.linear_model.Ridge/RidgeCV instead.\n",
      "  model = cd_fast.enet_coordinate_descent(\n",
      "/opt/conda/lib/python3.10/site-packages/sklearn/linear_model/_coordinate_descent.py:631: ConvergenceWarning: Objective did not converge. You might want to increase the number of iterations, check the scale of the features or consider increasing regularisation. Duality gap: 7.860e+02, tolerance: 1.628e-01 Linear regression models with null weight for the l1 regularization term are more efficiently fitted using one of the solvers implemented in sklearn.linear_model.Ridge/RidgeCV instead.\n",
      "  model = cd_fast.enet_coordinate_descent(\n",
      "/opt/conda/lib/python3.10/site-packages/sklearn/linear_model/_coordinate_descent.py:631: ConvergenceWarning: Objective did not converge. You might want to increase the number of iterations, check the scale of the features or consider increasing regularisation. Duality gap: 7.680e+02, tolerance: 1.589e-01 Linear regression models with null weight for the l1 regularization term are more efficiently fitted using one of the solvers implemented in sklearn.linear_model.Ridge/RidgeCV instead.\n",
      "  model = cd_fast.enet_coordinate_descent(\n",
      "/opt/conda/lib/python3.10/site-packages/sklearn/linear_model/_coordinate_descent.py:631: ConvergenceWarning: Objective did not converge. You might want to increase the number of iterations, check the scale of the features or consider increasing regularisation. Duality gap: 7.906e+02, tolerance: 1.637e-01 Linear regression models with null weight for the l1 regularization term are more efficiently fitted using one of the solvers implemented in sklearn.linear_model.Ridge/RidgeCV instead.\n",
      "  model = cd_fast.enet_coordinate_descent(\n",
      "/opt/conda/lib/python3.10/site-packages/sklearn/linear_model/_coordinate_descent.py:631: ConvergenceWarning: Objective did not converge. You might want to increase the number of iterations, check the scale of the features or consider increasing regularisation. Duality gap: 7.793e+02, tolerance: 1.611e-01 Linear regression models with null weight for the l1 regularization term are more efficiently fitted using one of the solvers implemented in sklearn.linear_model.Ridge/RidgeCV instead.\n",
      "  model = cd_fast.enet_coordinate_descent(\n",
      "/opt/conda/lib/python3.10/site-packages/sklearn/linear_model/_coordinate_descent.py:631: ConvergenceWarning: Objective did not converge. You might want to increase the number of iterations, check the scale of the features or consider increasing regularisation. Duality gap: 7.811e+02, tolerance: 1.617e-01 Linear regression models with null weight for the l1 regularization term are more efficiently fitted using one of the solvers implemented in sklearn.linear_model.Ridge/RidgeCV instead.\n",
      "  model = cd_fast.enet_coordinate_descent(\n",
      "/opt/conda/lib/python3.10/site-packages/sklearn/linear_model/_coordinate_descent.py:631: ConvergenceWarning: Objective did not converge. You might want to increase the number of iterations, check the scale of the features or consider increasing regularisation. Duality gap: 8.104e+02, tolerance: 1.628e-01 Linear regression models with null weight for the l1 regularization term are more efficiently fitted using one of the solvers implemented in sklearn.linear_model.Ridge/RidgeCV instead.\n",
      "  model = cd_fast.enet_coordinate_descent(\n",
      "/opt/conda/lib/python3.10/site-packages/sklearn/linear_model/_coordinate_descent.py:631: ConvergenceWarning: Objective did not converge. You might want to increase the number of iterations, check the scale of the features or consider increasing regularisation. Duality gap: 7.911e+02, tolerance: 1.589e-01 Linear regression models with null weight for the l1 regularization term are more efficiently fitted using one of the solvers implemented in sklearn.linear_model.Ridge/RidgeCV instead.\n",
      "  model = cd_fast.enet_coordinate_descent(\n",
      "/opt/conda/lib/python3.10/site-packages/sklearn/linear_model/_coordinate_descent.py:631: ConvergenceWarning: Objective did not converge. You might want to increase the number of iterations, check the scale of the features or consider increasing regularisation. Duality gap: 8.149e+02, tolerance: 1.637e-01 Linear regression models with null weight for the l1 regularization term are more efficiently fitted using one of the solvers implemented in sklearn.linear_model.Ridge/RidgeCV instead.\n",
      "  model = cd_fast.enet_coordinate_descent(\n",
      "/opt/conda/lib/python3.10/site-packages/sklearn/linear_model/_coordinate_descent.py:631: ConvergenceWarning: Objective did not converge. You might want to increase the number of iterations, check the scale of the features or consider increasing regularisation. Duality gap: 8.022e+02, tolerance: 1.611e-01 Linear regression models with null weight for the l1 regularization term are more efficiently fitted using one of the solvers implemented in sklearn.linear_model.Ridge/RidgeCV instead.\n",
      "  model = cd_fast.enet_coordinate_descent(\n",
      "/opt/conda/lib/python3.10/site-packages/sklearn/linear_model/_coordinate_descent.py:631: ConvergenceWarning: Objective did not converge. You might want to increase the number of iterations, check the scale of the features or consider increasing regularisation. Duality gap: 8.047e+02, tolerance: 1.617e-01 Linear regression models with null weight for the l1 regularization term are more efficiently fitted using one of the solvers implemented in sklearn.linear_model.Ridge/RidgeCV instead.\n",
      "  model = cd_fast.enet_coordinate_descent(\n",
      "/opt/conda/lib/python3.10/site-packages/sklearn/linear_model/_coordinate_descent.py:631: ConvergenceWarning: Objective did not converge. You might want to increase the number of iterations, check the scale of the features or consider increasing regularisation. Duality gap: 8.136e+02, tolerance: 1.628e-01 Linear regression models with null weight for the l1 regularization term are more efficiently fitted using one of the solvers implemented in sklearn.linear_model.Ridge/RidgeCV instead.\n",
      "  model = cd_fast.enet_coordinate_descent(\n",
      "/opt/conda/lib/python3.10/site-packages/sklearn/linear_model/_coordinate_descent.py:631: ConvergenceWarning: Objective did not converge. You might want to increase the number of iterations, check the scale of the features or consider increasing regularisation. Duality gap: 7.942e+02, tolerance: 1.589e-01 Linear regression models with null weight for the l1 regularization term are more efficiently fitted using one of the solvers implemented in sklearn.linear_model.Ridge/RidgeCV instead.\n",
      "  model = cd_fast.enet_coordinate_descent(\n",
      "/opt/conda/lib/python3.10/site-packages/sklearn/linear_model/_coordinate_descent.py:631: ConvergenceWarning: Objective did not converge. You might want to increase the number of iterations, check the scale of the features or consider increasing regularisation. Duality gap: 8.181e+02, tolerance: 1.637e-01 Linear regression models with null weight for the l1 regularization term are more efficiently fitted using one of the solvers implemented in sklearn.linear_model.Ridge/RidgeCV instead.\n",
      "  model = cd_fast.enet_coordinate_descent(\n",
      "/opt/conda/lib/python3.10/site-packages/sklearn/linear_model/_coordinate_descent.py:631: ConvergenceWarning: Objective did not converge. You might want to increase the number of iterations, check the scale of the features or consider increasing regularisation. Duality gap: 8.052e+02, tolerance: 1.611e-01 Linear regression models with null weight for the l1 regularization term are more efficiently fitted using one of the solvers implemented in sklearn.linear_model.Ridge/RidgeCV instead.\n",
      "  model = cd_fast.enet_coordinate_descent(\n",
      "/opt/conda/lib/python3.10/site-packages/sklearn/linear_model/_coordinate_descent.py:631: ConvergenceWarning: Objective did not converge. You might want to increase the number of iterations, check the scale of the features or consider increasing regularisation. Duality gap: 8.079e+02, tolerance: 1.617e-01 Linear regression models with null weight for the l1 regularization term are more efficiently fitted using one of the solvers implemented in sklearn.linear_model.Ridge/RidgeCV instead.\n",
      "  model = cd_fast.enet_coordinate_descent(\n",
      "/opt/conda/lib/python3.10/site-packages/sklearn/linear_model/_coordinate_descent.py:631: ConvergenceWarning: Objective did not converge. You might want to increase the number of iterations, check the scale of the features or consider increasing regularisation. Duality gap: 8.139e+02, tolerance: 1.628e-01 Linear regression models with null weight for the l1 regularization term are more efficiently fitted using one of the solvers implemented in sklearn.linear_model.Ridge/RidgeCV instead.\n",
      "  model = cd_fast.enet_coordinate_descent(\n",
      "/opt/conda/lib/python3.10/site-packages/sklearn/linear_model/_coordinate_descent.py:631: ConvergenceWarning: Objective did not converge. You might want to increase the number of iterations, check the scale of the features or consider increasing regularisation. Duality gap: 7.945e+02, tolerance: 1.589e-01 Linear regression models with null weight for the l1 regularization term are more efficiently fitted using one of the solvers implemented in sklearn.linear_model.Ridge/RidgeCV instead.\n",
      "  model = cd_fast.enet_coordinate_descent(\n",
      "/opt/conda/lib/python3.10/site-packages/sklearn/linear_model/_coordinate_descent.py:631: ConvergenceWarning: Objective did not converge. You might want to increase the number of iterations, check the scale of the features or consider increasing regularisation. Duality gap: 8.185e+02, tolerance: 1.637e-01 Linear regression models with null weight for the l1 regularization term are more efficiently fitted using one of the solvers implemented in sklearn.linear_model.Ridge/RidgeCV instead.\n",
      "  model = cd_fast.enet_coordinate_descent(\n",
      "/opt/conda/lib/python3.10/site-packages/sklearn/linear_model/_coordinate_descent.py:631: ConvergenceWarning: Objective did not converge. You might want to increase the number of iterations, check the scale of the features or consider increasing regularisation. Duality gap: 8.055e+02, tolerance: 1.611e-01 Linear regression models with null weight for the l1 regularization term are more efficiently fitted using one of the solvers implemented in sklearn.linear_model.Ridge/RidgeCV instead.\n",
      "  model = cd_fast.enet_coordinate_descent(\n",
      "/opt/conda/lib/python3.10/site-packages/sklearn/linear_model/_coordinate_descent.py:631: ConvergenceWarning: Objective did not converge. You might want to increase the number of iterations, check the scale of the features or consider increasing regularisation. Duality gap: 8.082e+02, tolerance: 1.617e-01 Linear regression models with null weight for the l1 regularization term are more efficiently fitted using one of the solvers implemented in sklearn.linear_model.Ridge/RidgeCV instead.\n",
      "  model = cd_fast.enet_coordinate_descent(\n",
      "/opt/conda/lib/python3.10/site-packages/sklearn/linear_model/_sag.py:350: ConvergenceWarning: The max_iter was reached which means the coef_ did not converge\n",
      "  warnings.warn(\n",
      "/opt/conda/lib/python3.10/site-packages/sklearn/linear_model/_sag.py:350: ConvergenceWarning: The max_iter was reached which means the coef_ did not converge\n",
      "  warnings.warn(\n",
      "/opt/conda/lib/python3.10/site-packages/sklearn/linear_model/_sag.py:350: ConvergenceWarning: The max_iter was reached which means the coef_ did not converge\n",
      "  warnings.warn(\n",
      "/opt/conda/lib/python3.10/site-packages/sklearn/linear_model/_sag.py:350: ConvergenceWarning: The max_iter was reached which means the coef_ did not converge\n",
      "  warnings.warn(\n",
      "/opt/conda/lib/python3.10/site-packages/sklearn/linear_model/_sag.py:350: ConvergenceWarning: The max_iter was reached which means the coef_ did not converge\n",
      "  warnings.warn(\n",
      "/opt/conda/lib/python3.10/site-packages/sklearn/linear_model/_sag.py:350: ConvergenceWarning: The max_iter was reached which means the coef_ did not converge\n",
      "  warnings.warn(\n",
      "/opt/conda/lib/python3.10/site-packages/sklearn/linear_model/_sag.py:350: ConvergenceWarning: The max_iter was reached which means the coef_ did not converge\n",
      "  warnings.warn(\n",
      "/opt/conda/lib/python3.10/site-packages/sklearn/linear_model/_sag.py:350: ConvergenceWarning: The max_iter was reached which means the coef_ did not converge\n",
      "  warnings.warn(\n",
      "/opt/conda/lib/python3.10/site-packages/sklearn/linear_model/_sag.py:350: ConvergenceWarning: The max_iter was reached which means the coef_ did not converge\n",
      "  warnings.warn(\n",
      "/opt/conda/lib/python3.10/site-packages/sklearn/linear_model/_sag.py:350: ConvergenceWarning: The max_iter was reached which means the coef_ did not converge\n",
      "  warnings.warn(\n",
      "/opt/conda/lib/python3.10/site-packages/sklearn/linear_model/_sag.py:350: ConvergenceWarning: The max_iter was reached which means the coef_ did not converge\n",
      "  warnings.warn(\n",
      "/opt/conda/lib/python3.10/site-packages/sklearn/linear_model/_sag.py:350: ConvergenceWarning: The max_iter was reached which means the coef_ did not converge\n",
      "  warnings.warn(\n",
      "/opt/conda/lib/python3.10/site-packages/sklearn/linear_model/_sag.py:350: ConvergenceWarning: The max_iter was reached which means the coef_ did not converge\n",
      "  warnings.warn(\n",
      "/opt/conda/lib/python3.10/site-packages/sklearn/linear_model/_sag.py:350: ConvergenceWarning: The max_iter was reached which means the coef_ did not converge\n",
      "  warnings.warn(\n",
      "/opt/conda/lib/python3.10/site-packages/sklearn/linear_model/_sag.py:350: ConvergenceWarning: The max_iter was reached which means the coef_ did not converge\n",
      "  warnings.warn(\n",
      "/opt/conda/lib/python3.10/site-packages/sklearn/linear_model/_sag.py:350: ConvergenceWarning: The max_iter was reached which means the coef_ did not converge\n",
      "  warnings.warn(\n",
      "/opt/conda/lib/python3.10/site-packages/sklearn/linear_model/_sag.py:350: ConvergenceWarning: The max_iter was reached which means the coef_ did not converge\n",
      "  warnings.warn(\n",
      "/opt/conda/lib/python3.10/site-packages/sklearn/linear_model/_sag.py:350: ConvergenceWarning: The max_iter was reached which means the coef_ did not converge\n",
      "  warnings.warn(\n",
      "/opt/conda/lib/python3.10/site-packages/sklearn/linear_model/_sag.py:350: ConvergenceWarning: The max_iter was reached which means the coef_ did not converge\n",
      "  warnings.warn(\n",
      "/opt/conda/lib/python3.10/site-packages/sklearn/linear_model/_sag.py:350: ConvergenceWarning: The max_iter was reached which means the coef_ did not converge\n",
      "  warnings.warn(\n",
      "/opt/conda/lib/python3.10/site-packages/sklearn/linear_model/_sag.py:350: ConvergenceWarning: The max_iter was reached which means the coef_ did not converge\n",
      "  warnings.warn(\n",
      "/opt/conda/lib/python3.10/site-packages/sklearn/linear_model/_sag.py:350: ConvergenceWarning: The max_iter was reached which means the coef_ did not converge\n",
      "  warnings.warn(\n",
      "/opt/conda/lib/python3.10/site-packages/sklearn/linear_model/_sag.py:350: ConvergenceWarning: The max_iter was reached which means the coef_ did not converge\n",
      "  warnings.warn(\n",
      "/opt/conda/lib/python3.10/site-packages/sklearn/linear_model/_sag.py:350: ConvergenceWarning: The max_iter was reached which means the coef_ did not converge\n",
      "  warnings.warn(\n",
      "/opt/conda/lib/python3.10/site-packages/sklearn/linear_model/_sag.py:350: ConvergenceWarning: The max_iter was reached which means the coef_ did not converge\n",
      "  warnings.warn(\n",
      "/opt/conda/lib/python3.10/site-packages/sklearn/linear_model/_sag.py:350: ConvergenceWarning: The max_iter was reached which means the coef_ did not converge\n",
      "  warnings.warn(\n",
      "/opt/conda/lib/python3.10/site-packages/sklearn/linear_model/_sag.py:350: ConvergenceWarning: The max_iter was reached which means the coef_ did not converge\n",
      "  warnings.warn(\n",
      "/opt/conda/lib/python3.10/site-packages/sklearn/linear_model/_sag.py:350: ConvergenceWarning: The max_iter was reached which means the coef_ did not converge\n",
      "  warnings.warn(\n",
      "/opt/conda/lib/python3.10/site-packages/sklearn/linear_model/_sag.py:350: ConvergenceWarning: The max_iter was reached which means the coef_ did not converge\n",
      "  warnings.warn(\n",
      "/opt/conda/lib/python3.10/site-packages/sklearn/linear_model/_sag.py:350: ConvergenceWarning: The max_iter was reached which means the coef_ did not converge\n",
      "  warnings.warn(\n",
      "/opt/conda/lib/python3.10/site-packages/sklearn/linear_model/_sag.py:350: ConvergenceWarning: The max_iter was reached which means the coef_ did not converge\n",
      "  warnings.warn(\n",
      "/opt/conda/lib/python3.10/site-packages/sklearn/linear_model/_sag.py:350: ConvergenceWarning: The max_iter was reached which means the coef_ did not converge\n",
      "  warnings.warn(\n",
      "/opt/conda/lib/python3.10/site-packages/sklearn/linear_model/_sag.py:350: ConvergenceWarning: The max_iter was reached which means the coef_ did not converge\n",
      "  warnings.warn(\n",
      "/opt/conda/lib/python3.10/site-packages/sklearn/linear_model/_sag.py:350: ConvergenceWarning: The max_iter was reached which means the coef_ did not converge\n",
      "  warnings.warn(\n",
      "/opt/conda/lib/python3.10/site-packages/sklearn/linear_model/_sag.py:350: ConvergenceWarning: The max_iter was reached which means the coef_ did not converge\n",
      "  warnings.warn(\n",
      "/opt/conda/lib/python3.10/site-packages/sklearn/linear_model/_sag.py:350: ConvergenceWarning: The max_iter was reached which means the coef_ did not converge\n",
      "  warnings.warn(\n",
      "/opt/conda/lib/python3.10/site-packages/sklearn/linear_model/_sag.py:350: ConvergenceWarning: The max_iter was reached which means the coef_ did not converge\n",
      "  warnings.warn(\n",
      "/opt/conda/lib/python3.10/site-packages/sklearn/linear_model/_sag.py:350: ConvergenceWarning: The max_iter was reached which means the coef_ did not converge\n",
      "  warnings.warn(\n",
      "/opt/conda/lib/python3.10/site-packages/sklearn/linear_model/_sag.py:350: ConvergenceWarning: The max_iter was reached which means the coef_ did not converge\n",
      "  warnings.warn(\n",
      "/opt/conda/lib/python3.10/site-packages/sklearn/linear_model/_sag.py:350: ConvergenceWarning: The max_iter was reached which means the coef_ did not converge\n",
      "  warnings.warn(\n",
      "/opt/conda/lib/python3.10/site-packages/sklearn/linear_model/_sag.py:350: ConvergenceWarning: The max_iter was reached which means the coef_ did not converge\n",
      "  warnings.warn(\n",
      "/opt/conda/lib/python3.10/site-packages/sklearn/linear_model/_sag.py:350: ConvergenceWarning: The max_iter was reached which means the coef_ did not converge\n",
      "  warnings.warn(\n",
      "/opt/conda/lib/python3.10/site-packages/sklearn/linear_model/_sag.py:350: ConvergenceWarning: The max_iter was reached which means the coef_ did not converge\n",
      "  warnings.warn(\n",
      "/opt/conda/lib/python3.10/site-packages/sklearn/linear_model/_sag.py:350: ConvergenceWarning: The max_iter was reached which means the coef_ did not converge\n",
      "  warnings.warn(\n",
      "/opt/conda/lib/python3.10/site-packages/sklearn/linear_model/_sag.py:350: ConvergenceWarning: The max_iter was reached which means the coef_ did not converge\n",
      "  warnings.warn(\n",
      "/opt/conda/lib/python3.10/site-packages/sklearn/linear_model/_sag.py:350: ConvergenceWarning: The max_iter was reached which means the coef_ did not converge\n",
      "  warnings.warn(\n",
      "/opt/conda/lib/python3.10/site-packages/sklearn/linear_model/_sag.py:350: ConvergenceWarning: The max_iter was reached which means the coef_ did not converge\n",
      "  warnings.warn(\n",
      "/opt/conda/lib/python3.10/site-packages/sklearn/linear_model/_sag.py:350: ConvergenceWarning: The max_iter was reached which means the coef_ did not converge\n",
      "  warnings.warn(\n",
      "/opt/conda/lib/python3.10/site-packages/sklearn/linear_model/_sag.py:350: ConvergenceWarning: The max_iter was reached which means the coef_ did not converge\n",
      "  warnings.warn(\n",
      "/opt/conda/lib/python3.10/site-packages/sklearn/linear_model/_sag.py:350: ConvergenceWarning: The max_iter was reached which means the coef_ did not converge\n",
      "  warnings.warn(\n",
      "/opt/conda/lib/python3.10/site-packages/sklearn/linear_model/_sag.py:350: ConvergenceWarning: The max_iter was reached which means the coef_ did not converge\n",
      "  warnings.warn(\n",
      "/opt/conda/lib/python3.10/site-packages/sklearn/linear_model/_sag.py:350: ConvergenceWarning: The max_iter was reached which means the coef_ did not converge\n",
      "  warnings.warn(\n",
      "/opt/conda/lib/python3.10/site-packages/sklearn/linear_model/_sag.py:350: ConvergenceWarning: The max_iter was reached which means the coef_ did not converge\n",
      "  warnings.warn(\n",
      "/opt/conda/lib/python3.10/site-packages/sklearn/linear_model/_sag.py:350: ConvergenceWarning: The max_iter was reached which means the coef_ did not converge\n",
      "  warnings.warn(\n",
      "/opt/conda/lib/python3.10/site-packages/sklearn/linear_model/_sag.py:350: ConvergenceWarning: The max_iter was reached which means the coef_ did not converge\n",
      "  warnings.warn(\n",
      "/opt/conda/lib/python3.10/site-packages/sklearn/linear_model/_sag.py:350: ConvergenceWarning: The max_iter was reached which means the coef_ did not converge\n",
      "  warnings.warn(\n",
      "/opt/conda/lib/python3.10/site-packages/sklearn/linear_model/_sag.py:350: ConvergenceWarning: The max_iter was reached which means the coef_ did not converge\n",
      "  warnings.warn(\n",
      "/opt/conda/lib/python3.10/site-packages/sklearn/linear_model/_sag.py:350: ConvergenceWarning: The max_iter was reached which means the coef_ did not converge\n",
      "  warnings.warn(\n",
      "/opt/conda/lib/python3.10/site-packages/sklearn/linear_model/_sag.py:350: ConvergenceWarning: The max_iter was reached which means the coef_ did not converge\n",
      "  warnings.warn(\n",
      "/opt/conda/lib/python3.10/site-packages/sklearn/linear_model/_sag.py:350: ConvergenceWarning: The max_iter was reached which means the coef_ did not converge\n",
      "  warnings.warn(\n",
      "/opt/conda/lib/python3.10/site-packages/sklearn/linear_model/_sag.py:350: ConvergenceWarning: The max_iter was reached which means the coef_ did not converge\n",
      "  warnings.warn(\n",
      "/opt/conda/lib/python3.10/site-packages/sklearn/linear_model/_sag.py:350: ConvergenceWarning: The max_iter was reached which means the coef_ did not converge\n",
      "  warnings.warn(\n",
      "/opt/conda/lib/python3.10/site-packages/sklearn/linear_model/_sag.py:350: ConvergenceWarning: The max_iter was reached which means the coef_ did not converge\n",
      "  warnings.warn(\n",
      "/opt/conda/lib/python3.10/site-packages/sklearn/linear_model/_sag.py:350: ConvergenceWarning: The max_iter was reached which means the coef_ did not converge\n",
      "  warnings.warn(\n",
      "/opt/conda/lib/python3.10/site-packages/sklearn/linear_model/_sag.py:350: ConvergenceWarning: The max_iter was reached which means the coef_ did not converge\n",
      "  warnings.warn(\n",
      "/opt/conda/lib/python3.10/site-packages/sklearn/linear_model/_sag.py:350: ConvergenceWarning: The max_iter was reached which means the coef_ did not converge\n",
      "  warnings.warn(\n",
      "/opt/conda/lib/python3.10/site-packages/sklearn/linear_model/_sag.py:350: ConvergenceWarning: The max_iter was reached which means the coef_ did not converge\n",
      "  warnings.warn(\n",
      "/opt/conda/lib/python3.10/site-packages/sklearn/linear_model/_sag.py:350: ConvergenceWarning: The max_iter was reached which means the coef_ did not converge\n",
      "  warnings.warn(\n",
      "/opt/conda/lib/python3.10/site-packages/sklearn/linear_model/_sag.py:350: ConvergenceWarning: The max_iter was reached which means the coef_ did not converge\n",
      "  warnings.warn(\n",
      "/opt/conda/lib/python3.10/site-packages/sklearn/linear_model/_sag.py:350: ConvergenceWarning: The max_iter was reached which means the coef_ did not converge\n",
      "  warnings.warn(\n",
      "/opt/conda/lib/python3.10/site-packages/sklearn/linear_model/_sag.py:350: ConvergenceWarning: The max_iter was reached which means the coef_ did not converge\n",
      "  warnings.warn(\n",
      "/opt/conda/lib/python3.10/site-packages/sklearn/linear_model/_sag.py:350: ConvergenceWarning: The max_iter was reached which means the coef_ did not converge\n",
      "  warnings.warn(\n",
      "/opt/conda/lib/python3.10/site-packages/sklearn/linear_model/_sag.py:350: ConvergenceWarning: The max_iter was reached which means the coef_ did not converge\n",
      "  warnings.warn(\n",
      "/opt/conda/lib/python3.10/site-packages/sklearn/linear_model/_sag.py:350: ConvergenceWarning: The max_iter was reached which means the coef_ did not converge\n",
      "  warnings.warn(\n",
      "/opt/conda/lib/python3.10/site-packages/sklearn/linear_model/_sag.py:350: ConvergenceWarning: The max_iter was reached which means the coef_ did not converge\n",
      "  warnings.warn(\n",
      "/opt/conda/lib/python3.10/site-packages/sklearn/linear_model/_sag.py:350: ConvergenceWarning: The max_iter was reached which means the coef_ did not converge\n",
      "  warnings.warn(\n",
      "/opt/conda/lib/python3.10/site-packages/sklearn/linear_model/_sag.py:350: ConvergenceWarning: The max_iter was reached which means the coef_ did not converge\n",
      "  warnings.warn(\n",
      "/opt/conda/lib/python3.10/site-packages/sklearn/linear_model/_sag.py:350: ConvergenceWarning: The max_iter was reached which means the coef_ did not converge\n",
      "  warnings.warn(\n",
      "/opt/conda/lib/python3.10/site-packages/sklearn/linear_model/_sag.py:350: ConvergenceWarning: The max_iter was reached which means the coef_ did not converge\n",
      "  warnings.warn(\n",
      "/opt/conda/lib/python3.10/site-packages/sklearn/linear_model/_sag.py:350: ConvergenceWarning: The max_iter was reached which means the coef_ did not converge\n",
      "  warnings.warn(\n",
      "/opt/conda/lib/python3.10/site-packages/sklearn/linear_model/_sag.py:350: ConvergenceWarning: The max_iter was reached which means the coef_ did not converge\n",
      "  warnings.warn(\n",
      "/opt/conda/lib/python3.10/site-packages/sklearn/linear_model/_sag.py:350: ConvergenceWarning: The max_iter was reached which means the coef_ did not converge\n",
      "  warnings.warn(\n",
      "/opt/conda/lib/python3.10/site-packages/sklearn/linear_model/_sag.py:350: ConvergenceWarning: The max_iter was reached which means the coef_ did not converge\n",
      "  warnings.warn(\n",
      "/opt/conda/lib/python3.10/site-packages/sklearn/linear_model/_sag.py:350: ConvergenceWarning: The max_iter was reached which means the coef_ did not converge\n",
      "  warnings.warn(\n",
      "/opt/conda/lib/python3.10/site-packages/sklearn/linear_model/_sag.py:350: ConvergenceWarning: The max_iter was reached which means the coef_ did not converge\n",
      "  warnings.warn(\n",
      "/opt/conda/lib/python3.10/site-packages/sklearn/linear_model/_sag.py:350: ConvergenceWarning: The max_iter was reached which means the coef_ did not converge\n",
      "  warnings.warn(\n",
      "/opt/conda/lib/python3.10/site-packages/sklearn/linear_model/_sag.py:350: ConvergenceWarning: The max_iter was reached which means the coef_ did not converge\n",
      "  warnings.warn(\n",
      "/opt/conda/lib/python3.10/site-packages/sklearn/linear_model/_sag.py:350: ConvergenceWarning: The max_iter was reached which means the coef_ did not converge\n",
      "  warnings.warn(\n",
      "/opt/conda/lib/python3.10/site-packages/sklearn/linear_model/_sag.py:350: ConvergenceWarning: The max_iter was reached which means the coef_ did not converge\n",
      "  warnings.warn(\n",
      "/opt/conda/lib/python3.10/site-packages/sklearn/linear_model/_sag.py:350: ConvergenceWarning: The max_iter was reached which means the coef_ did not converge\n",
      "  warnings.warn(\n",
      "/opt/conda/lib/python3.10/site-packages/sklearn/linear_model/_sag.py:350: ConvergenceWarning: The max_iter was reached which means the coef_ did not converge\n",
      "  warnings.warn(\n",
      "/opt/conda/lib/python3.10/site-packages/sklearn/linear_model/_sag.py:350: ConvergenceWarning: The max_iter was reached which means the coef_ did not converge\n",
      "  warnings.warn(\n",
      "/opt/conda/lib/python3.10/site-packages/sklearn/linear_model/_sag.py:350: ConvergenceWarning: The max_iter was reached which means the coef_ did not converge\n",
      "  warnings.warn(\n",
      "/opt/conda/lib/python3.10/site-packages/sklearn/linear_model/_sag.py:350: ConvergenceWarning: The max_iter was reached which means the coef_ did not converge\n",
      "  warnings.warn(\n",
      "/opt/conda/lib/python3.10/site-packages/sklearn/linear_model/_sag.py:350: ConvergenceWarning: The max_iter was reached which means the coef_ did not converge\n",
      "  warnings.warn(\n",
      "/opt/conda/lib/python3.10/site-packages/sklearn/linear_model/_sag.py:350: ConvergenceWarning: The max_iter was reached which means the coef_ did not converge\n",
      "  warnings.warn(\n",
      "/opt/conda/lib/python3.10/site-packages/sklearn/linear_model/_sag.py:350: ConvergenceWarning: The max_iter was reached which means the coef_ did not converge\n",
      "  warnings.warn(\n",
      "/opt/conda/lib/python3.10/site-packages/sklearn/linear_model/_sag.py:350: ConvergenceWarning: The max_iter was reached which means the coef_ did not converge\n",
      "  warnings.warn(\n",
      "/opt/conda/lib/python3.10/site-packages/sklearn/linear_model/_sag.py:350: ConvergenceWarning: The max_iter was reached which means the coef_ did not converge\n",
      "  warnings.warn(\n",
      "/opt/conda/lib/python3.10/site-packages/sklearn/linear_model/_sag.py:350: ConvergenceWarning: The max_iter was reached which means the coef_ did not converge\n",
      "  warnings.warn(\n",
      "/opt/conda/lib/python3.10/site-packages/sklearn/linear_model/_sag.py:350: ConvergenceWarning: The max_iter was reached which means the coef_ did not converge\n",
      "  warnings.warn(\n",
      "/opt/conda/lib/python3.10/site-packages/sklearn/linear_model/_sag.py:350: ConvergenceWarning: The max_iter was reached which means the coef_ did not converge\n",
      "  warnings.warn(\n",
      "/opt/conda/lib/python3.10/site-packages/sklearn/linear_model/_sag.py:350: ConvergenceWarning: The max_iter was reached which means the coef_ did not converge\n",
      "  warnings.warn(\n",
      "/opt/conda/lib/python3.10/site-packages/sklearn/linear_model/_sag.py:350: ConvergenceWarning: The max_iter was reached which means the coef_ did not converge\n",
      "  warnings.warn(\n",
      "/opt/conda/lib/python3.10/site-packages/sklearn/linear_model/_sag.py:350: ConvergenceWarning: The max_iter was reached which means the coef_ did not converge\n",
      "  warnings.warn(\n",
      "/opt/conda/lib/python3.10/site-packages/sklearn/linear_model/_sag.py:350: ConvergenceWarning: The max_iter was reached which means the coef_ did not converge\n",
      "  warnings.warn(\n",
      "/opt/conda/lib/python3.10/site-packages/sklearn/linear_model/_sag.py:350: ConvergenceWarning: The max_iter was reached which means the coef_ did not converge\n",
      "  warnings.warn(\n",
      "/opt/conda/lib/python3.10/site-packages/sklearn/linear_model/_sag.py:350: ConvergenceWarning: The max_iter was reached which means the coef_ did not converge\n",
      "  warnings.warn(\n",
      "/opt/conda/lib/python3.10/site-packages/sklearn/linear_model/_sag.py:350: ConvergenceWarning: The max_iter was reached which means the coef_ did not converge\n",
      "  warnings.warn(\n",
      "/opt/conda/lib/python3.10/site-packages/sklearn/linear_model/_sag.py:350: ConvergenceWarning: The max_iter was reached which means the coef_ did not converge\n",
      "  warnings.warn(\n",
      "/opt/conda/lib/python3.10/site-packages/sklearn/linear_model/_sag.py:350: ConvergenceWarning: The max_iter was reached which means the coef_ did not converge\n",
      "  warnings.warn(\n",
      "/opt/conda/lib/python3.10/site-packages/sklearn/linear_model/_sag.py:350: ConvergenceWarning: The max_iter was reached which means the coef_ did not converge\n",
      "  warnings.warn(\n",
      "/opt/conda/lib/python3.10/site-packages/sklearn/linear_model/_sag.py:350: ConvergenceWarning: The max_iter was reached which means the coef_ did not converge\n",
      "  warnings.warn(\n",
      "/opt/conda/lib/python3.10/site-packages/sklearn/linear_model/_sag.py:350: ConvergenceWarning: The max_iter was reached which means the coef_ did not converge\n",
      "  warnings.warn(\n",
      "/opt/conda/lib/python3.10/site-packages/sklearn/linear_model/_sag.py:350: ConvergenceWarning: The max_iter was reached which means the coef_ did not converge\n",
      "  warnings.warn(\n",
      "/opt/conda/lib/python3.10/site-packages/sklearn/linear_model/_sag.py:350: ConvergenceWarning: The max_iter was reached which means the coef_ did not converge\n",
      "  warnings.warn(\n",
      "/opt/conda/lib/python3.10/site-packages/sklearn/linear_model/_sag.py:350: ConvergenceWarning: The max_iter was reached which means the coef_ did not converge\n",
      "  warnings.warn(\n",
      "/opt/conda/lib/python3.10/site-packages/sklearn/linear_model/_sag.py:350: ConvergenceWarning: The max_iter was reached which means the coef_ did not converge\n",
      "  warnings.warn(\n",
      "/opt/conda/lib/python3.10/site-packages/sklearn/linear_model/_sag.py:350: ConvergenceWarning: The max_iter was reached which means the coef_ did not converge\n",
      "  warnings.warn(\n",
      "/opt/conda/lib/python3.10/site-packages/sklearn/linear_model/_sag.py:350: ConvergenceWarning: The max_iter was reached which means the coef_ did not converge\n",
      "  warnings.warn(\n",
      "/opt/conda/lib/python3.10/site-packages/sklearn/linear_model/_sag.py:350: ConvergenceWarning: The max_iter was reached which means the coef_ did not converge\n",
      "  warnings.warn(\n",
      "/opt/conda/lib/python3.10/site-packages/sklearn/linear_model/_sag.py:350: ConvergenceWarning: The max_iter was reached which means the coef_ did not converge\n",
      "  warnings.warn(\n",
      "/opt/conda/lib/python3.10/site-packages/sklearn/linear_model/_sag.py:350: ConvergenceWarning: The max_iter was reached which means the coef_ did not converge\n",
      "  warnings.warn(\n",
      "/opt/conda/lib/python3.10/site-packages/sklearn/linear_model/_sag.py:350: ConvergenceWarning: The max_iter was reached which means the coef_ did not converge\n",
      "  warnings.warn(\n",
      "/opt/conda/lib/python3.10/site-packages/sklearn/linear_model/_sag.py:350: ConvergenceWarning: The max_iter was reached which means the coef_ did not converge\n",
      "  warnings.warn(\n",
      "/opt/conda/lib/python3.10/site-packages/sklearn/linear_model/_sag.py:350: ConvergenceWarning: The max_iter was reached which means the coef_ did not converge\n",
      "  warnings.warn(\n",
      "/opt/conda/lib/python3.10/site-packages/sklearn/linear_model/_sag.py:350: ConvergenceWarning: The max_iter was reached which means the coef_ did not converge\n",
      "  warnings.warn(\n",
      "/opt/conda/lib/python3.10/site-packages/sklearn/linear_model/_sag.py:350: ConvergenceWarning: The max_iter was reached which means the coef_ did not converge\n",
      "  warnings.warn(\n",
      "/opt/conda/lib/python3.10/site-packages/sklearn/linear_model/_sag.py:350: ConvergenceWarning: The max_iter was reached which means the coef_ did not converge\n",
      "  warnings.warn(\n",
      "/opt/conda/lib/python3.10/site-packages/sklearn/linear_model/_sag.py:350: ConvergenceWarning: The max_iter was reached which means the coef_ did not converge\n",
      "  warnings.warn(\n",
      "/opt/conda/lib/python3.10/site-packages/sklearn/linear_model/_sag.py:350: ConvergenceWarning: The max_iter was reached which means the coef_ did not converge\n",
      "  warnings.warn(\n",
      "/opt/conda/lib/python3.10/site-packages/sklearn/linear_model/_sag.py:350: ConvergenceWarning: The max_iter was reached which means the coef_ did not converge\n",
      "  warnings.warn(\n",
      "/opt/conda/lib/python3.10/site-packages/sklearn/linear_model/_sag.py:350: ConvergenceWarning: The max_iter was reached which means the coef_ did not converge\n",
      "  warnings.warn(\n",
      "/opt/conda/lib/python3.10/site-packages/sklearn/linear_model/_sag.py:350: ConvergenceWarning: The max_iter was reached which means the coef_ did not converge\n",
      "  warnings.warn(\n",
      "/opt/conda/lib/python3.10/site-packages/sklearn/linear_model/_sag.py:350: ConvergenceWarning: The max_iter was reached which means the coef_ did not converge\n",
      "  warnings.warn(\n",
      "/opt/conda/lib/python3.10/site-packages/sklearn/linear_model/_sag.py:350: ConvergenceWarning: The max_iter was reached which means the coef_ did not converge\n",
      "  warnings.warn(\n",
      "/opt/conda/lib/python3.10/site-packages/sklearn/linear_model/_sag.py:350: ConvergenceWarning: The max_iter was reached which means the coef_ did not converge\n",
      "  warnings.warn(\n",
      "/opt/conda/lib/python3.10/site-packages/sklearn/linear_model/_sag.py:350: ConvergenceWarning: The max_iter was reached which means the coef_ did not converge\n",
      "  warnings.warn(\n",
      "/opt/conda/lib/python3.10/site-packages/sklearn/linear_model/_sag.py:350: ConvergenceWarning: The max_iter was reached which means the coef_ did not converge\n",
      "  warnings.warn(\n",
      "/opt/conda/lib/python3.10/site-packages/sklearn/linear_model/_sag.py:350: ConvergenceWarning: The max_iter was reached which means the coef_ did not converge\n",
      "  warnings.warn(\n",
      "/opt/conda/lib/python3.10/site-packages/sklearn/linear_model/_sag.py:350: ConvergenceWarning: The max_iter was reached which means the coef_ did not converge\n",
      "  warnings.warn(\n",
      "/opt/conda/lib/python3.10/site-packages/sklearn/linear_model/_sag.py:350: ConvergenceWarning: The max_iter was reached which means the coef_ did not converge\n",
      "  warnings.warn(\n",
      "/opt/conda/lib/python3.10/site-packages/sklearn/linear_model/_sag.py:350: ConvergenceWarning: The max_iter was reached which means the coef_ did not converge\n",
      "  warnings.warn(\n",
      "/opt/conda/lib/python3.10/site-packages/sklearn/linear_model/_sag.py:350: ConvergenceWarning: The max_iter was reached which means the coef_ did not converge\n",
      "  warnings.warn(\n",
      "/opt/conda/lib/python3.10/site-packages/sklearn/linear_model/_sag.py:350: ConvergenceWarning: The max_iter was reached which means the coef_ did not converge\n",
      "  warnings.warn(\n",
      "/opt/conda/lib/python3.10/site-packages/sklearn/linear_model/_sag.py:350: ConvergenceWarning: The max_iter was reached which means the coef_ did not converge\n",
      "  warnings.warn(\n",
      "/opt/conda/lib/python3.10/site-packages/sklearn/linear_model/_sag.py:350: ConvergenceWarning: The max_iter was reached which means the coef_ did not converge\n",
      "  warnings.warn(\n",
      "/opt/conda/lib/python3.10/site-packages/sklearn/linear_model/_sag.py:350: ConvergenceWarning: The max_iter was reached which means the coef_ did not converge\n",
      "  warnings.warn(\n",
      "/opt/conda/lib/python3.10/site-packages/sklearn/linear_model/_sag.py:350: ConvergenceWarning: The max_iter was reached which means the coef_ did not converge\n",
      "  warnings.warn(\n",
      "/opt/conda/lib/python3.10/site-packages/sklearn/linear_model/_sag.py:350: ConvergenceWarning: The max_iter was reached which means the coef_ did not converge\n",
      "  warnings.warn(\n",
      "/opt/conda/lib/python3.10/site-packages/sklearn/linear_model/_sag.py:350: ConvergenceWarning: The max_iter was reached which means the coef_ did not converge\n",
      "  warnings.warn(\n",
      "/opt/conda/lib/python3.10/site-packages/sklearn/linear_model/_sag.py:350: ConvergenceWarning: The max_iter was reached which means the coef_ did not converge\n",
      "  warnings.warn(\n",
      "/opt/conda/lib/python3.10/site-packages/sklearn/linear_model/_sag.py:350: ConvergenceWarning: The max_iter was reached which means the coef_ did not converge\n",
      "  warnings.warn(\n",
      "/opt/conda/lib/python3.10/site-packages/sklearn/linear_model/_sag.py:350: ConvergenceWarning: The max_iter was reached which means the coef_ did not converge\n",
      "  warnings.warn(\n",
      "/opt/conda/lib/python3.10/site-packages/sklearn/linear_model/_sag.py:350: ConvergenceWarning: The max_iter was reached which means the coef_ did not converge\n",
      "  warnings.warn(\n",
      "/opt/conda/lib/python3.10/site-packages/sklearn/linear_model/_sag.py:350: ConvergenceWarning: The max_iter was reached which means the coef_ did not converge\n",
      "  warnings.warn(\n",
      "/opt/conda/lib/python3.10/site-packages/sklearn/linear_model/_sag.py:350: ConvergenceWarning: The max_iter was reached which means the coef_ did not converge\n",
      "  warnings.warn(\n"
     ]
    },
    {
     "data": {
      "text/html": [
       "<style>#sk-container-id-7 {color: black;background-color: white;}#sk-container-id-7 pre{padding: 0;}#sk-container-id-7 div.sk-toggleable {background-color: white;}#sk-container-id-7 label.sk-toggleable__label {cursor: pointer;display: block;width: 100%;margin-bottom: 0;padding: 0.3em;box-sizing: border-box;text-align: center;}#sk-container-id-7 label.sk-toggleable__label-arrow:before {content: \"▸\";float: left;margin-right: 0.25em;color: #696969;}#sk-container-id-7 label.sk-toggleable__label-arrow:hover:before {color: black;}#sk-container-id-7 div.sk-estimator:hover label.sk-toggleable__label-arrow:before {color: black;}#sk-container-id-7 div.sk-toggleable__content {max-height: 0;max-width: 0;overflow: hidden;text-align: left;background-color: #f0f8ff;}#sk-container-id-7 div.sk-toggleable__content pre {margin: 0.2em;color: black;border-radius: 0.25em;background-color: #f0f8ff;}#sk-container-id-7 input.sk-toggleable__control:checked~div.sk-toggleable__content {max-height: 200px;max-width: 100%;overflow: auto;}#sk-container-id-7 input.sk-toggleable__control:checked~label.sk-toggleable__label-arrow:before {content: \"▾\";}#sk-container-id-7 div.sk-estimator input.sk-toggleable__control:checked~label.sk-toggleable__label {background-color: #d4ebff;}#sk-container-id-7 div.sk-label input.sk-toggleable__control:checked~label.sk-toggleable__label {background-color: #d4ebff;}#sk-container-id-7 input.sk-hidden--visually {border: 0;clip: rect(1px 1px 1px 1px);clip: rect(1px, 1px, 1px, 1px);height: 1px;margin: -1px;overflow: hidden;padding: 0;position: absolute;width: 1px;}#sk-container-id-7 div.sk-estimator {font-family: monospace;background-color: #f0f8ff;border: 1px dotted black;border-radius: 0.25em;box-sizing: border-box;margin-bottom: 0.5em;}#sk-container-id-7 div.sk-estimator:hover {background-color: #d4ebff;}#sk-container-id-7 div.sk-parallel-item::after {content: \"\";width: 100%;border-bottom: 1px solid gray;flex-grow: 1;}#sk-container-id-7 div.sk-label:hover label.sk-toggleable__label {background-color: #d4ebff;}#sk-container-id-7 div.sk-serial::before {content: \"\";position: absolute;border-left: 1px solid gray;box-sizing: border-box;top: 0;bottom: 0;left: 50%;z-index: 0;}#sk-container-id-7 div.sk-serial {display: flex;flex-direction: column;align-items: center;background-color: white;padding-right: 0.2em;padding-left: 0.2em;position: relative;}#sk-container-id-7 div.sk-item {position: relative;z-index: 1;}#sk-container-id-7 div.sk-parallel {display: flex;align-items: stretch;justify-content: center;background-color: white;position: relative;}#sk-container-id-7 div.sk-item::before, #sk-container-id-7 div.sk-parallel-item::before {content: \"\";position: absolute;border-left: 1px solid gray;box-sizing: border-box;top: 0;bottom: 0;left: 50%;z-index: -1;}#sk-container-id-7 div.sk-parallel-item {display: flex;flex-direction: column;z-index: 1;position: relative;background-color: white;}#sk-container-id-7 div.sk-parallel-item:first-child::after {align-self: flex-end;width: 50%;}#sk-container-id-7 div.sk-parallel-item:last-child::after {align-self: flex-start;width: 50%;}#sk-container-id-7 div.sk-parallel-item:only-child::after {width: 0;}#sk-container-id-7 div.sk-dashed-wrapped {border: 1px dashed gray;margin: 0 0.4em 0.5em 0.4em;box-sizing: border-box;padding-bottom: 0.4em;background-color: white;}#sk-container-id-7 div.sk-label label {font-family: monospace;font-weight: bold;display: inline-block;line-height: 1.2em;}#sk-container-id-7 div.sk-label-container {text-align: center;}#sk-container-id-7 div.sk-container {/* jupyter's `normalize.less` sets `[hidden] { display: none; }` but bootstrap.min.css set `[hidden] { display: none !important; }` so we also need the `!important` here to be able to override the default hidden behavior on the sphinx rendered scikit-learn.org. See: https://github.com/scikit-learn/scikit-learn/issues/21755 */display: inline-block !important;position: relative;}#sk-container-id-7 div.sk-text-repr-fallback {display: none;}</style><div id=\"sk-container-id-7\" class=\"sk-top-container\"><div class=\"sk-text-repr-fallback\"><pre>GridSearchCV(cv=5,\n",
       "             estimator=LogisticRegression(penalty=&#x27;elasticnet&#x27;, random_state=20,\n",
       "                                          solver=&#x27;saga&#x27;),\n",
       "             param_grid={&#x27;C&#x27;: array([1.e-04, 1.e-03, 1.e-02, 1.e-01, 1.e+00, 1.e+01, 1.e+02, 1.e+03,\n",
       "       1.e+04]),\n",
       "                         &#x27;l1_ratio&#x27;: array([0.  , 0.25, 0.5 , 0.75, 1.  ])},\n",
       "             scoring=&#x27;f1&#x27;)</pre><b>In a Jupyter environment, please rerun this cell to show the HTML representation or trust the notebook. <br />On GitHub, the HTML representation is unable to render, please try loading this page with nbviewer.org.</b></div><div class=\"sk-container\" hidden><div class=\"sk-item sk-dashed-wrapped\"><div class=\"sk-label-container\"><div class=\"sk-label sk-toggleable\"><input class=\"sk-toggleable__control sk-hidden--visually\" id=\"sk-estimator-id-11\" type=\"checkbox\" ><label for=\"sk-estimator-id-11\" class=\"sk-toggleable__label sk-toggleable__label-arrow\">GridSearchCV</label><div class=\"sk-toggleable__content\"><pre>GridSearchCV(cv=5,\n",
       "             estimator=LogisticRegression(penalty=&#x27;elasticnet&#x27;, random_state=20,\n",
       "                                          solver=&#x27;saga&#x27;),\n",
       "             param_grid={&#x27;C&#x27;: array([1.e-04, 1.e-03, 1.e-02, 1.e-01, 1.e+00, 1.e+01, 1.e+02, 1.e+03,\n",
       "       1.e+04]),\n",
       "                         &#x27;l1_ratio&#x27;: array([0.  , 0.25, 0.5 , 0.75, 1.  ])},\n",
       "             scoring=&#x27;f1&#x27;)</pre></div></div></div><div class=\"sk-parallel\"><div class=\"sk-parallel-item\"><div class=\"sk-item\"><div class=\"sk-label-container\"><div class=\"sk-label sk-toggleable\"><input class=\"sk-toggleable__control sk-hidden--visually\" id=\"sk-estimator-id-12\" type=\"checkbox\" ><label for=\"sk-estimator-id-12\" class=\"sk-toggleable__label sk-toggleable__label-arrow\">estimator: LogisticRegression</label><div class=\"sk-toggleable__content\"><pre>LogisticRegression(penalty=&#x27;elasticnet&#x27;, random_state=20, solver=&#x27;saga&#x27;)</pre></div></div></div><div class=\"sk-serial\"><div class=\"sk-item\"><div class=\"sk-estimator sk-toggleable\"><input class=\"sk-toggleable__control sk-hidden--visually\" id=\"sk-estimator-id-13\" type=\"checkbox\" ><label for=\"sk-estimator-id-13\" class=\"sk-toggleable__label sk-toggleable__label-arrow\">LogisticRegression</label><div class=\"sk-toggleable__content\"><pre>LogisticRegression(penalty=&#x27;elasticnet&#x27;, random_state=20, solver=&#x27;saga&#x27;)</pre></div></div></div></div></div></div></div></div></div></div>"
      ],
      "text/plain": [
       "GridSearchCV(cv=5,\n",
       "             estimator=LogisticRegression(penalty='elasticnet', random_state=20,\n",
       "                                          solver='saga'),\n",
       "             param_grid={'C': array([1.e-04, 1.e-03, 1.e-02, 1.e-01, 1.e+00, 1.e+01, 1.e+02, 1.e+03,\n",
       "       1.e+04]),\n",
       "                         'l1_ratio': array([0.  , 0.25, 0.5 , 0.75, 1.  ])},\n",
       "             scoring='f1')"
      ]
     },
     "execution_count": 40,
     "metadata": {},
     "output_type": "execute_result"
    }
   ],
   "source": [
    "EN_grid_reg.fit(X_train_st_reg, y_train_reg)\n",
    "EN_grid_cl.fit(X_train_st_cl, y_train_cl)"
   ]
  },
  {
   "cell_type": "code",
   "execution_count": 41,
   "id": "890f41e9",
   "metadata": {
    "execution": {
     "iopub.execute_input": "2023-11-16T08:41:36.209469Z",
     "iopub.status.busy": "2023-11-16T08:41:36.209041Z",
     "iopub.status.idle": "2023-11-16T08:41:36.217428Z",
     "shell.execute_reply": "2023-11-16T08:41:36.215958Z"
    },
    "papermill": {
     "duration": 0.063475,
     "end_time": "2023-11-16T08:41:36.220186",
     "exception": false,
     "start_time": "2023-11-16T08:41:36.156711",
     "status": "completed"
    },
    "tags": []
   },
   "outputs": [
    {
     "name": "stdout",
     "output_type": "stream",
     "text": [
      "Best params for classification: {'C': 1.0, 'l1_ratio': 0.25}\n",
      "Best score for classification: 0.5608159235727695\n",
      "Best params for regressor: {'alpha': 0.001, 'l1_ratio': 0.75}\n",
      "Best neg mean score for regressor: 0.1526838488377385\n"
     ]
    }
   ],
   "source": [
    "print(\"Best params for classification:\", EN_grid_cl.best_params_)\n",
    "print(\"Best score for classification:\", EN_grid_cl.best_score_)\n",
    "print(\"Best params for regressor:\", EN_grid_reg.best_params_)\n",
    "print(\"Best neg mean score for regressor:\", EN_grid_reg.best_score_)"
   ]
  },
  {
   "cell_type": "markdown",
   "id": "f94e7f61",
   "metadata": {
    "papermill": {
     "duration": 0.050338,
     "end_time": "2023-11-16T08:41:36.319994",
     "exception": false,
     "start_time": "2023-11-16T08:41:36.269656",
     "status": "completed"
    },
    "tags": []
   },
   "source": [
    "We have same that for linear regularisation we have weak regularisation, for logistic strong"
   ]
  },
  {
   "cell_type": "markdown",
   "id": "f59664d8",
   "metadata": {
    "papermill": {
     "duration": 0.049945,
     "end_time": "2023-11-16T08:41:36.419573",
     "exception": false,
     "start_time": "2023-11-16T08:41:36.369628",
     "status": "completed"
    },
    "tags": []
   },
   "source": [
    "We also have almost same result for 3 models, but for linear regularisation we have the best result on EN, and for logistic l2"
   ]
  },
  {
   "cell_type": "code",
   "execution_count": 42,
   "id": "f4279836",
   "metadata": {
    "execution": {
     "iopub.execute_input": "2023-11-16T08:41:36.525333Z",
     "iopub.status.busy": "2023-11-16T08:41:36.524062Z",
     "iopub.status.idle": "2023-11-16T08:41:36.781189Z",
     "shell.execute_reply": "2023-11-16T08:41:36.779587Z"
    },
    "papermill": {
     "duration": 0.312567,
     "end_time": "2023-11-16T08:41:36.783761",
     "exception": false,
     "start_time": "2023-11-16T08:41:36.471194",
     "status": "completed"
    },
    "tags": []
   },
   "outputs": [
    {
     "data": {
      "text/plain": [
       "<BarContainer object of 3 artists>"
      ]
     },
     "execution_count": 42,
     "metadata": {},
     "output_type": "execute_result"
    },
    {
     "data": {
      "image/png": "[encoded data removed]",
      "text/plain": [
       "<Figure size 640x480 with 1 Axes>"
      ]
     },
     "metadata": {},
     "output_type": "display_data"
    }
   ],
   "source": [
    "plt.bar(['Ridge', 'Lasso', 'EN'], [ridge_grid_reg.best_score_, lasso_grid_reg.best_score_, EN_grid_reg.best_score_])"
   ]
  },
  {
   "cell_type": "code",
   "execution_count": 43,
   "id": "8d5e0d51",
   "metadata": {
    "execution": {
     "iopub.execute_input": "2023-11-16T08:41:36.888931Z",
     "iopub.status.busy": "2023-11-16T08:41:36.888526Z",
     "iopub.status.idle": "2023-11-16T08:41:37.126058Z",
     "shell.execute_reply": "2023-11-16T08:41:37.124901Z"
    },
    "papermill": {
     "duration": 0.291865,
     "end_time": "2023-11-16T08:41:37.128478",
     "exception": false,
     "start_time": "2023-11-16T08:41:36.836613",
     "status": "completed"
    },
    "tags": []
   },
   "outputs": [
    {
     "data": {
      "text/plain": [
       "<BarContainer object of 3 artists>"
      ]
     },
     "execution_count": 43,
     "metadata": {},
     "output_type": "execute_result"
    },
    {
     "data": {
      "image/png": "[encoded data removed]",
      "text/plain": [
       "<Figure size 640x480 with 1 Axes>"
      ]
     },
     "metadata": {},
     "output_type": "display_data"
    }
   ],
   "source": [
    "plt.bar(['Ridge', 'Lasso', 'EN'], [ridge_grid_cl.best_score_, lasso_grid_cl.best_score_, EN_grid_cl.best_score_])"
   ]
  },
  {
   "cell_type": "markdown",
   "id": "f43bb422",
   "metadata": {
    "papermill": {
     "duration": 0.052426,
     "end_time": "2023-11-16T08:41:37.231939",
     "exception": false,
     "start_time": "2023-11-16T08:41:37.179513",
     "status": "completed"
    },
    "tags": []
   },
   "source": [
    "Lets see what happening with validation curve"
   ]
  },
  {
   "cell_type": "code",
   "execution_count": 44,
   "id": "fd61f578",
   "metadata": {
    "execution": {
     "iopub.execute_input": "2023-11-16T08:41:37.334738Z",
     "iopub.status.busy": "2023-11-16T08:41:37.334353Z",
     "iopub.status.idle": "2023-11-16T08:41:37.338923Z",
     "shell.execute_reply": "2023-11-16T08:41:37.337888Z"
    },
    "papermill": {
     "duration": 0.059275,
     "end_time": "2023-11-16T08:41:37.341627",
     "exception": false,
     "start_time": "2023-11-16T08:41:37.282352",
     "status": "completed"
    },
    "tags": []
   },
   "outputs": [],
   "source": [
    "from sklearn.model_selection import validation_curve"
   ]
  },
  {
   "cell_type": "markdown",
   "id": "02c92f37",
   "metadata": {
    "papermill": {
     "duration": 0.050348,
     "end_time": "2023-11-16T08:41:37.443461",
     "exception": false,
     "start_time": "2023-11-16T08:41:37.393113",
     "status": "completed"
    },
    "tags": []
   },
   "source": [
    "We can see that we have the same graphics"
   ]
  },
  {
   "cell_type": "code",
   "execution_count": 45,
   "id": "57275aae",
   "metadata": {
    "execution": {
     "iopub.execute_input": "2023-11-16T08:41:37.547488Z",
     "iopub.status.busy": "2023-11-16T08:41:37.547022Z",
     "iopub.status.idle": "2023-11-16T08:41:37.889480Z",
     "shell.execute_reply": "2023-11-16T08:41:37.888166Z"
    },
    "papermill": {
     "duration": 0.398642,
     "end_time": "2023-11-16T08:41:37.892611",
     "exception": false,
     "start_time": "2023-11-16T08:41:37.493969",
     "status": "completed"
    },
    "tags": []
   },
   "outputs": [
    {
     "data": {
      "image/png": "[encoded data removed]",
      "text/plain": [
       "<Figure size 640x480 with 1 Axes>"
      ]
     },
     "metadata": {},
     "output_type": "display_data"
    }
   ],
   "source": [
    "results_l2 = pd.DataFrame(ridge_grid_cl.cv_results_)\n",
    "results_l1 = pd.DataFrame(lasso_grid_cl.cv_results_)\n",
    "results_en = pd.DataFrame(EN_grid_cl.cv_results_)\n",
    "plt.plot(results_l2['param_C'], results_l2['mean_test_score'])\n",
    "plt.plot(results_l1['param_C'], results_l1['mean_test_score'])\n",
    "plt.plot(results_en['param_C'], results_en['mean_test_score'])\n",
    "plt.legend (('l2', 'l1', 'en'))\n",
    "\n",
    "plt.xlabel('C')\n",
    "plt.ylabel('Test accuracy')\n",
    "plt.title('Validation curve')\n",
    "plt.show()"
   ]
  },
  {
   "cell_type": "markdown",
   "id": "025540fe",
   "metadata": {
    "papermill": {
     "duration": 0.051481,
     "end_time": "2023-11-16T08:41:37.995631",
     "exception": false,
     "start_time": "2023-11-16T08:41:37.944150",
     "status": "completed"
    },
    "tags": []
   },
   "source": [
    "## Coefficients "
   ]
  },
  {
   "cell_type": "code",
   "execution_count": 46,
   "id": "9b8574b9",
   "metadata": {
    "execution": {
     "iopub.execute_input": "2023-11-16T08:41:38.101547Z",
     "iopub.status.busy": "2023-11-16T08:41:38.100257Z",
     "iopub.status.idle": "2023-11-16T08:41:38.112331Z",
     "shell.execute_reply": "2023-11-16T08:41:38.110368Z"
    },
    "papermill": {
     "duration": 0.071641,
     "end_time": "2023-11-16T08:41:38.118113",
     "exception": false,
     "start_time": "2023-11-16T08:41:38.046472",
     "status": "completed"
    },
    "tags": []
   },
   "outputs": [
    {
     "name": "stdout",
     "output_type": "stream",
     "text": [
      "r2: 0.1582358763409888\n"
     ]
    }
   ],
   "source": [
    "EN_reg_best = EN_grid_reg.best_estimator_\n",
    "y_pred = EN_reg_best.predict(X_valid_st_reg)\n",
    "print(\"r2:\", r2_score(y_valid_reg, y_pred))"
   ]
  },
  {
   "cell_type": "code",
   "execution_count": 47,
   "id": "348bfa16",
   "metadata": {
    "execution": {
     "iopub.execute_input": "2023-11-16T08:41:38.283722Z",
     "iopub.status.busy": "2023-11-16T08:41:38.283322Z",
     "iopub.status.idle": "2023-11-16T08:41:38.291870Z",
     "shell.execute_reply": "2023-11-16T08:41:38.291057Z"
    },
    "papermill": {
     "duration": 0.0651,
     "end_time": "2023-11-16T08:41:38.294911",
     "exception": false,
     "start_time": "2023-11-16T08:41:38.229811",
     "status": "completed"
    },
    "tags": []
   },
   "outputs": [
    {
     "name": "stdout",
     "output_type": "stream",
     "text": [
      "kw_avg_avg: 0.291\n",
      "kw_max_avg: -0.1597\n",
      "timedelta: 0.1073\n",
      "self_reference_avg_sharess: 0.0998\n",
      "is_weekend: 0.0952\n",
      "rate_positive_words: 0.0935\n",
      "average_token_length: -0.0847\n",
      "data_channel_is_entertainment: -0.0808\n",
      "global_sentiment_polarity: -0.072\n",
      "n_non_stop_unique_tokens: -0.0615\n",
      "self_reference_min_shares: -0.0607\n",
      "num_keywords: 0.0513\n",
      "data_channel_is_tech: 0.0459\n",
      "LDA_02: -0.0426\n",
      "num_hrefs: 0.0386\n",
      "num_videos: -0.036\n",
      "kw_min_avg: -0.035\n",
      "n_unique_tokens: 0.034\n",
      "num_imgs: 0.0331\n",
      "avg_positive_polarity: 0.0331\n",
      "max_positive_polarity: 0.0314\n",
      "self_reference_max_shares: -0.0283\n",
      "weekday_is_wednesday: -0.0278\n",
      "LDA_01: 0.0272\n",
      "kw_avg_min: 0.0268\n",
      "data_channel_is_world: -0.0253\n",
      "data_channel_is_socmed: 0.0238\n",
      "data_channel_is_lifestyle: -0.0237\n",
      "weekday_is_monday: 0.0185\n",
      "kw_max_min: -0.0177\n",
      "LDA_00: 0.0173\n",
      "global_rate_positive_words: 0.0158\n",
      "title_subjectivity: 0.0108\n",
      "LDA_03: -0.0106\n",
      "num_self_hrefs: -0.0093\n",
      "global_subjectivity: 0.007\n",
      "min_positive_polarity: -0.0059\n",
      "weekday_is_tuesday: -0.0053\n",
      "weekday_is_sunday: 0.0036\n",
      "abs_title_subjectivity: 0.0026\n",
      "global_rate_negative_words: -0.0021\n",
      "n_tokens_title: -0.002\n",
      "kw_avg_max: 0.002\n",
      "weekday_is_thursday: 0.002\n",
      "title_sentiment_polarity: 0.002\n",
      "max_negative_polarity: 0.0013\n",
      "abs_title_sentiment_polarity: 0.001\n",
      "data_channel_is_bus: -0.0003\n",
      "kw_min_max: -0.0003\n",
      "n_tokens_content: -0.0\n",
      "weekday_is_friday: -0.0\n",
      "weekday_is_saturday: 0.0\n",
      "LDA_04: 0.0\n",
      "rate_negative_words: -0.0\n",
      "avg_negative_polarity: 0.0\n",
      "min_negative_polarity: 0.0\n"
     ]
    }
   ],
   "source": [
    "feature_names = X_train.columns\n",
    "coefficients = np.round(EN_reg_best.coef_, 4)\n",
    "coefficients_tuples = list(zip(feature_names, coefficients))\n",
    "sorted_coefficients = sorted(coefficients_tuples, key=lambda x: abs(x[1]), reverse=True)\n",
    "for feature, coef in sorted_coefficients:\n",
    "    print(f\"{feature}: {coef}\")"
   ]
  },
  {
   "cell_type": "code",
   "execution_count": 48,
   "id": "a4f6e8b1",
   "metadata": {
    "execution": {
     "iopub.execute_input": "2023-11-16T08:41:38.402249Z",
     "iopub.status.busy": "2023-11-16T08:41:38.401469Z",
     "iopub.status.idle": "2023-11-16T08:41:38.416678Z",
     "shell.execute_reply": "2023-11-16T08:41:38.415110Z"
    },
    "papermill": {
     "duration": 0.074067,
     "end_time": "2023-11-16T08:41:38.421695",
     "exception": false,
     "start_time": "2023-11-16T08:41:38.347628",
     "status": "completed"
    },
    "tags": []
   },
   "outputs": [
    {
     "name": "stdout",
     "output_type": "stream",
     "text": [
      "f1_score: 0.618421052631579\n"
     ]
    }
   ],
   "source": [
    "log_reg_best = ridge_grid_cl.best_estimator_\n",
    "y_pred = log_reg_best.predict(X_valid_st_cl)\n",
    "print(\"f1_score:\", f1_score(y_valid_cl, y_pred))"
   ]
  },
  {
   "cell_type": "code",
   "execution_count": 49,
   "id": "b24b955b",
   "metadata": {
    "execution": {
     "iopub.execute_input": "2023-11-16T08:41:38.585821Z",
     "iopub.status.busy": "2023-11-16T08:41:38.585441Z",
     "iopub.status.idle": "2023-11-16T08:41:38.594050Z",
     "shell.execute_reply": "2023-11-16T08:41:38.592792Z"
    },
    "papermill": {
     "duration": 0.066025,
     "end_time": "2023-11-16T08:41:38.597771",
     "exception": false,
     "start_time": "2023-11-16T08:41:38.531746",
     "status": "completed"
    },
    "tags": []
   },
   "outputs": [
    {
     "name": "stdout",
     "output_type": "stream",
     "text": [
      "LDA_02: -0.0287\n",
      "data_channel_is_world: -0.0275\n",
      "kw_avg_avg: 0.0272\n",
      "num_imgs: 0.0195\n",
      "is_weekend: 0.0191\n",
      "timedelta: 0.0189\n",
      "num_keywords: 0.0179\n",
      "LDA_03: 0.0169\n",
      "kw_min_avg: 0.0159\n",
      "rate_negative_words: -0.0154\n",
      "data_channel_is_tech: 0.015\n",
      "kw_avg_max: 0.0141\n",
      "weekday_is_saturday: 0.0135\n",
      "weekday_is_sunday: 0.0127\n",
      "data_channel_is_entertainment: -0.0117\n",
      "global_sentiment_polarity: 0.0117\n",
      "LDA_04: 0.0109\n",
      "n_non_stop_unique_tokens: -0.0096\n",
      "num_hrefs: 0.0096\n",
      "weekday_is_wednesday: -0.0096\n",
      "global_rate_negative_words: -0.0095\n",
      "data_channel_is_socmed: 0.0093\n",
      "title_subjectivity: 0.0087\n",
      "kw_max_avg: 0.0084\n",
      "self_reference_max_shares: 0.0081\n",
      "LDA_00: 0.008\n",
      "self_reference_avg_sharess: 0.0079\n",
      "average_token_length: -0.0076\n",
      "title_sentiment_polarity: 0.0076\n",
      "n_unique_tokens: -0.007\n",
      "num_videos: -0.007\n",
      "global_rate_positive_words: 0.0067\n",
      "weekday_is_tuesday: -0.0062\n",
      "abs_title_sentiment_polarity: 0.0056\n",
      "LDA_01: -0.0047\n",
      "self_reference_min_shares: 0.0045\n",
      "n_tokens_title: -0.0042\n",
      "data_channel_is_bus: 0.0042\n",
      "global_subjectivity: 0.0042\n",
      "num_self_hrefs: 0.0041\n",
      "kw_min_max: 0.0038\n",
      "data_channel_is_lifestyle: 0.0036\n",
      "rate_positive_words: 0.0035\n",
      "max_positive_polarity: 0.0031\n",
      "kw_avg_min: 0.003\n",
      "max_negative_polarity: -0.0028\n",
      "avg_positive_polarity: 0.0023\n",
      "min_negative_polarity: 0.0023\n",
      "abs_title_subjectivity: -0.002\n",
      "kw_max_min: 0.0015\n",
      "n_tokens_content: 0.0009\n",
      "weekday_is_thursday: -0.0009\n",
      "weekday_is_monday: 0.0007\n",
      "avg_negative_polarity: 0.0005\n",
      "weekday_is_friday: -0.0004\n",
      "min_positive_polarity: 0.0002\n"
     ]
    }
   ],
   "source": [
    "feature_names = X_train.columns\n",
    "coefficients = np.round(log_reg_best.coef_[0], 4)\n",
    "coefficients_tuples = list(zip(feature_names, coefficients))\n",
    "sorted_coefficients = sorted(coefficients_tuples, key=lambda x: abs(x[1]), reverse=True)\n",
    "for feature, coef in sorted_coefficients:\n",
    "    print(f\"{feature}: {coef}\")"
   ]
  },
  {
   "cell_type": "markdown",
   "id": "5ac5f86f",
   "metadata": {
    "papermill": {
     "duration": 0.051752,
     "end_time": "2023-11-16T08:41:38.704470",
     "exception": false,
     "start_time": "2023-11-16T08:41:38.652718",
     "status": "completed"
    },
    "tags": []
   },
   "source": [
    "For classification we have same features on the top like on decistion tree, but different places. We can also say about negative relaction for target and features."
   ]
  }
 ],
 "metadata": {
  "kaggle": {
   "accelerator": "none",
   "dataSources": [
    {
     "datasetId": 32347,
     "sourceId": 42031,
     "sourceType": "datasetVersion"
    }
   ],
   "dockerImageVersionId": 30587,
   "isGpuEnabled": false,
   "isInternetEnabled": true,
   "language": "python",
   "sourceType": "notebook"
  },
  "kernelspec": {
   "display_name": "Python 3",
   "language": "python",
   "name": "python3"
  },
  "language_info": {
   "codemirror_mode": {
    "name": "ipython",
    "version": 3
   },
   "file_extension": ".py",
   "mimetype": "text/x-python",
   "name": "python",
   "nbconvert_exporter": "python",
   "pygments_lexer": "ipython3",
   "version": "3.10.12"
  },
  "papermill": {
   "default_parameters": {},
   "duration": 208.76306,
   "end_time": "2023-11-16T08:41:39.480354",
   "environment_variables": {},
   "exception": null,
   "input_path": "__notebook__.ipynb",
   "output_path": "__notebook__.ipynb",
   "parameters": {},
   "start_time": "2023-11-16T08:38:10.717294",
   "version": "2.4.0"
  }
 },
 "nbformat": 4,
 "nbformat_minor": 5
}
