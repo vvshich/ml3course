{
 "cells": [
  {
   "cell_type": "code",
   "execution_count": 1,
   "id": "931b08e5",
   "metadata": {
    "_cell_guid": "b1076dfc-b9ad-4769-8c92-a6c4dae69d19",
    "_uuid": "8f2839f25d086af736a60e9eeb907d3b93b6e0e5",
    "execution": {
     "iopub.execute_input": "2023-11-02T09:38:12.878959Z",
     "iopub.status.busy": "2023-11-02T09:38:12.878223Z",
     "iopub.status.idle": "2023-11-02T09:38:14.908085Z",
     "shell.execute_reply": "2023-11-02T09:38:14.907085Z"
    },
    "papermill": {
     "duration": 2.055643,
     "end_time": "2023-11-02T09:38:14.910283",
     "exception": false,
     "start_time": "2023-11-02T09:38:12.854640",
     "status": "completed"
    },
    "tags": []
   },
   "outputs": [
    {
     "name": "stdout",
     "output_type": "stream",
     "text": [
      "['graph1', 'online-news-popularity-dataset']\n"
     ]
    },
    {
     "name": "stderr",
     "output_type": "stream",
     "text": [
      "/opt/conda/lib/python3.10/site-packages/scipy/__init__.py:146: UserWarning: A NumPy version >=1.16.5 and <1.23.0 is required for this version of SciPy (detected version 1.23.5\n",
      "  warnings.warn(f\"A NumPy version >={np_minversion} and <{np_maxversion}\"\n"
     ]
    },
    {
     "name": "stdout",
     "output_type": "stream",
     "text": [
      "/kaggle/input/graph1/graphviz.png\n",
      "/kaggle/input/online-news-popularity-dataset/OnlineNewsPopularityReduced.csv\n"
     ]
    }
   ],
   "source": [
    "# This Python 3 environment comes with many helpful analytics libraries installed\n",
    "# It is defined by the kaggle/python Docker image: https://github.com/kaggle/docker-python\n",
    "# For example, here's several helpful packages to load\n",
    "\n",
    "import os\n",
    "print(os.listdir(\"../input\"))\n",
    "\n",
    "import numpy as np\n",
    "import pandas as pd\n",
    "import matplotlib.pyplot as plt\n",
    "import seaborn as sns\n",
    "\n",
    "\n",
    "# Input data files are available in the read-only \"../input/\" directory\n",
    "# For example, running this (by clicking run or pressing Shift+Enter) will list all files under the input directory\n",
    "\n",
    "import os\n",
    "for dirname, _, filenames in os.walk('/kaggle/input'):\n",
    "    for filename in filenames:\n",
    "        print(os.path.join(dirname, filename))\n",
    "\n",
    "# You can write up to 20GB to the current directory (/kaggle/working/) that gets preserved as output when you create a version using \"Save & Run All\" \n",
    "# You can also write temporary files to /kaggle/temp/, but they won't be saved outside of the current session\n",
    "\n"
   ]
  },
  {
   "cell_type": "markdown",
   "id": "9fd7e14a",
   "metadata": {
    "papermill": {
     "duration": 0.021793,
     "end_time": "2023-11-02T09:38:14.955945",
     "exception": false,
     "start_time": "2023-11-02T09:38:14.934152",
     "status": "completed"
    },
    "tags": []
   },
   "source": [
    "# 1. Decision Tree"
   ]
  },
  {
   "cell_type": "markdown",
   "id": "65d4bca3",
   "metadata": {
    "papermill": {
     "duration": 0.022211,
     "end_time": "2023-11-02T09:38:15.001135",
     "exception": false,
     "start_time": "2023-11-02T09:38:14.978924",
     "status": "completed"
    },
    "tags": []
   },
   "source": [
    "Dowloaded data. Target variable is shares, issue is regression"
   ]
  },
  {
   "cell_type": "code",
   "execution_count": 2,
   "id": "e0ef4cd7",
   "metadata": {
    "execution": {
     "iopub.execute_input": "2023-11-02T09:38:15.047508Z",
     "iopub.status.busy": "2023-11-02T09:38:15.047121Z",
     "iopub.status.idle": "2023-11-02T09:38:15.166215Z",
     "shell.execute_reply": "2023-11-02T09:38:15.165181Z"
    },
    "papermill": {
     "duration": 0.144758,
     "end_time": "2023-11-02T09:38:15.168475",
     "exception": false,
     "start_time": "2023-11-02T09:38:15.023717",
     "status": "completed"
    },
    "tags": []
   },
   "outputs": [
    {
     "data": {
      "text/html": [
       "<div>\n",
       "<style scoped>\n",
       "    .dataframe tbody tr th:only-of-type {\n",
       "        vertical-align: middle;\n",
       "    }\n",
       "\n",
       "    .dataframe tbody tr th {\n",
       "        vertical-align: top;\n",
       "    }\n",
       "\n",
       "    .dataframe thead th {\n",
       "        text-align: right;\n",
       "    }\n",
       "</style>\n",
       "<table border=\"1\" class=\"dataframe\">\n",
       "  <thead>\n",
       "    <tr style=\"text-align: right;\">\n",
       "      <th></th>\n",
       "      <th>url</th>\n",
       "      <th>timedelta</th>\n",
       "      <th>n_tokens_title</th>\n",
       "      <th>n_tokens_content</th>\n",
       "      <th>n_unique_tokens</th>\n",
       "      <th>n_non_stop_words</th>\n",
       "      <th>n_non_stop_unique_tokens</th>\n",
       "      <th>num_hrefs</th>\n",
       "      <th>num_self_hrefs</th>\n",
       "      <th>num_imgs</th>\n",
       "      <th>...</th>\n",
       "      <th>min_positive_polarity</th>\n",
       "      <th>max_positive_polarity</th>\n",
       "      <th>avg_negative_polarity</th>\n",
       "      <th>min_negative_polarity</th>\n",
       "      <th>max_negative_polarity</th>\n",
       "      <th>title_subjectivity</th>\n",
       "      <th>title_sentiment_polarity</th>\n",
       "      <th>abs_title_subjectivity</th>\n",
       "      <th>abs_title_sentiment_polarity</th>\n",
       "      <th>shares</th>\n",
       "    </tr>\n",
       "  </thead>\n",
       "  <tbody>\n",
       "    <tr>\n",
       "      <th>0</th>\n",
       "      <td>http://mashable.com/2014/09/28/jobs-tech-workers/</td>\n",
       "      <td>101</td>\n",
       "      <td>12</td>\n",
       "      <td>332</td>\n",
       "      <td>0.528481</td>\n",
       "      <td>1.0</td>\n",
       "      <td>0.645833</td>\n",
       "      <td>6</td>\n",
       "      <td>3</td>\n",
       "      <td>1</td>\n",
       "      <td>...</td>\n",
       "      <td>0.100000</td>\n",
       "      <td>0.7</td>\n",
       "      <td>-0.145833</td>\n",
       "      <td>-0.166667</td>\n",
       "      <td>-0.125000</td>\n",
       "      <td>0.718182</td>\n",
       "      <td>0.137121</td>\n",
       "      <td>0.218182</td>\n",
       "      <td>0.137121</td>\n",
       "      <td>8600</td>\n",
       "    </tr>\n",
       "    <tr>\n",
       "      <th>1</th>\n",
       "      <td>http://mashable.com/2014/09/28/obama-says-u-s-...</td>\n",
       "      <td>101</td>\n",
       "      <td>10</td>\n",
       "      <td>393</td>\n",
       "      <td>0.518817</td>\n",
       "      <td>1.0</td>\n",
       "      <td>0.596899</td>\n",
       "      <td>14</td>\n",
       "      <td>1</td>\n",
       "      <td>1</td>\n",
       "      <td>...</td>\n",
       "      <td>0.250000</td>\n",
       "      <td>0.8</td>\n",
       "      <td>-0.312500</td>\n",
       "      <td>-0.500000</td>\n",
       "      <td>-0.250000</td>\n",
       "      <td>0.500000</td>\n",
       "      <td>0.000000</td>\n",
       "      <td>0.000000</td>\n",
       "      <td>0.000000</td>\n",
       "      <td>23700</td>\n",
       "    </tr>\n",
       "    <tr>\n",
       "      <th>2</th>\n",
       "      <td>http://mashable.com/2014/09/28/once-upon-a-tim...</td>\n",
       "      <td>101</td>\n",
       "      <td>13</td>\n",
       "      <td>1643</td>\n",
       "      <td>0.388854</td>\n",
       "      <td>1.0</td>\n",
       "      <td>0.546967</td>\n",
       "      <td>29</td>\n",
       "      <td>4</td>\n",
       "      <td>7</td>\n",
       "      <td>...</td>\n",
       "      <td>0.033333</td>\n",
       "      <td>0.8</td>\n",
       "      <td>-0.227778</td>\n",
       "      <td>-0.800000</td>\n",
       "      <td>-0.050000</td>\n",
       "      <td>0.000000</td>\n",
       "      <td>0.000000</td>\n",
       "      <td>0.500000</td>\n",
       "      <td>0.000000</td>\n",
       "      <td>8400</td>\n",
       "    </tr>\n",
       "    <tr>\n",
       "      <th>3</th>\n",
       "      <td>http://mashable.com/2014/09/28/the-simpsons-de...</td>\n",
       "      <td>101</td>\n",
       "      <td>9</td>\n",
       "      <td>272</td>\n",
       "      <td>0.488889</td>\n",
       "      <td>1.0</td>\n",
       "      <td>0.512690</td>\n",
       "      <td>2</td>\n",
       "      <td>2</td>\n",
       "      <td>11</td>\n",
       "      <td>...</td>\n",
       "      <td>0.100000</td>\n",
       "      <td>1.0</td>\n",
       "      <td>-0.416667</td>\n",
       "      <td>-1.000000</td>\n",
       "      <td>-0.166667</td>\n",
       "      <td>0.000000</td>\n",
       "      <td>0.000000</td>\n",
       "      <td>0.500000</td>\n",
       "      <td>0.000000</td>\n",
       "      <td>4800</td>\n",
       "    </tr>\n",
       "    <tr>\n",
       "      <th>4</th>\n",
       "      <td>http://mashable.com/2014/09/28/viola-davis-les...</td>\n",
       "      <td>101</td>\n",
       "      <td>12</td>\n",
       "      <td>0</td>\n",
       "      <td>0.000000</td>\n",
       "      <td>0.0</td>\n",
       "      <td>0.000000</td>\n",
       "      <td>0</td>\n",
       "      <td>0</td>\n",
       "      <td>0</td>\n",
       "      <td>...</td>\n",
       "      <td>0.000000</td>\n",
       "      <td>0.0</td>\n",
       "      <td>0.000000</td>\n",
       "      <td>0.000000</td>\n",
       "      <td>0.000000</td>\n",
       "      <td>0.541071</td>\n",
       "      <td>0.067560</td>\n",
       "      <td>0.041071</td>\n",
       "      <td>0.067560</td>\n",
       "      <td>3100</td>\n",
       "    </tr>\n",
       "  </tbody>\n",
       "</table>\n",
       "<p>5 rows × 61 columns</p>\n",
       "</div>"
      ],
      "text/plain": [
       "                                                 url  timedelta  \\\n",
       "0  http://mashable.com/2014/09/28/jobs-tech-workers/        101   \n",
       "1  http://mashable.com/2014/09/28/obama-says-u-s-...        101   \n",
       "2  http://mashable.com/2014/09/28/once-upon-a-tim...        101   \n",
       "3  http://mashable.com/2014/09/28/the-simpsons-de...        101   \n",
       "4  http://mashable.com/2014/09/28/viola-davis-les...        101   \n",
       "\n",
       "   n_tokens_title  n_tokens_content  n_unique_tokens  n_non_stop_words  \\\n",
       "0              12               332         0.528481               1.0   \n",
       "1              10               393         0.518817               1.0   \n",
       "2              13              1643         0.388854               1.0   \n",
       "3               9               272         0.488889               1.0   \n",
       "4              12                 0         0.000000               0.0   \n",
       "\n",
       "   n_non_stop_unique_tokens  num_hrefs  num_self_hrefs  num_imgs  ...  \\\n",
       "0                  0.645833          6               3         1  ...   \n",
       "1                  0.596899         14               1         1  ...   \n",
       "2                  0.546967         29               4         7  ...   \n",
       "3                  0.512690          2               2        11  ...   \n",
       "4                  0.000000          0               0         0  ...   \n",
       "\n",
       "   min_positive_polarity  max_positive_polarity  avg_negative_polarity  \\\n",
       "0               0.100000                    0.7              -0.145833   \n",
       "1               0.250000                    0.8              -0.312500   \n",
       "2               0.033333                    0.8              -0.227778   \n",
       "3               0.100000                    1.0              -0.416667   \n",
       "4               0.000000                    0.0               0.000000   \n",
       "\n",
       "   min_negative_polarity  max_negative_polarity  title_subjectivity  \\\n",
       "0              -0.166667              -0.125000            0.718182   \n",
       "1              -0.500000              -0.250000            0.500000   \n",
       "2              -0.800000              -0.050000            0.000000   \n",
       "3              -1.000000              -0.166667            0.000000   \n",
       "4               0.000000               0.000000            0.541071   \n",
       "\n",
       "   title_sentiment_polarity  abs_title_subjectivity  \\\n",
       "0                  0.137121                0.218182   \n",
       "1                  0.000000                0.000000   \n",
       "2                  0.000000                0.500000   \n",
       "3                  0.000000                0.500000   \n",
       "4                  0.067560                0.041071   \n",
       "\n",
       "   abs_title_sentiment_polarity  shares  \n",
       "0                      0.137121    8600  \n",
       "1                      0.000000   23700  \n",
       "2                      0.000000    8400  \n",
       "3                      0.000000    4800  \n",
       "4                      0.067560    3100  \n",
       "\n",
       "[5 rows x 61 columns]"
      ]
     },
     "execution_count": 2,
     "metadata": {},
     "output_type": "execute_result"
    }
   ],
   "source": [
    "df = pd.read_csv(\"../input/online-news-popularity-dataset/OnlineNewsPopularityReduced.csv\")\n",
    "df.head()"
   ]
  },
  {
   "cell_type": "code",
   "execution_count": 3,
   "id": "0202f8ef",
   "metadata": {
    "execution": {
     "iopub.execute_input": "2023-11-02T09:38:15.215858Z",
     "iopub.status.busy": "2023-11-02T09:38:15.215573Z",
     "iopub.status.idle": "2023-11-02T09:38:15.295876Z",
     "shell.execute_reply": "2023-11-02T09:38:15.294906Z"
    },
    "papermill": {
     "duration": 0.106183,
     "end_time": "2023-11-02T09:38:15.298152",
     "exception": false,
     "start_time": "2023-11-02T09:38:15.191969",
     "status": "completed"
    },
    "tags": []
   },
   "outputs": [
    {
     "name": "stdout",
     "output_type": "stream",
     "text": [
      "<class 'pandas.core.frame.DataFrame'>\n",
      "RangeIndex: 4954 entries, 0 to 4953\n",
      "Data columns (total 61 columns):\n",
      " #   Column                         Non-Null Count  Dtype  \n",
      "---  ------                         --------------  -----  \n",
      " 0   url                            4954 non-null   object \n",
      " 1   timedelta                      4954 non-null   int64  \n",
      " 2   n_tokens_title                 4954 non-null   int64  \n",
      " 3   n_tokens_content               4954 non-null   int64  \n",
      " 4   n_unique_tokens                4954 non-null   float64\n",
      " 5   n_non_stop_words               4954 non-null   float64\n",
      " 6   n_non_stop_unique_tokens       4954 non-null   float64\n",
      " 7   num_hrefs                      4954 non-null   int64  \n",
      " 8   num_self_hrefs                 4954 non-null   int64  \n",
      " 9   num_imgs                       4954 non-null   int64  \n",
      " 10  num_videos                     4954 non-null   int64  \n",
      " 11  average_token_length           4954 non-null   float64\n",
      " 12  num_keywords                   4954 non-null   int64  \n",
      " 13  data_channel_is_lifestyle      4954 non-null   int64  \n",
      " 14  data_channel_is_entertainment  4954 non-null   int64  \n",
      " 15  data_channel_is_bus            4954 non-null   int64  \n",
      " 16  data_channel_is_socmed         4954 non-null   int64  \n",
      " 17  data_channel_is_tech           4954 non-null   int64  \n",
      " 18  data_channel_is_world          4954 non-null   int64  \n",
      " 19  kw_min_min                     4954 non-null   int64  \n",
      " 20  kw_max_min                     4954 non-null   float64\n",
      " 21  kw_avg_min                     4954 non-null   float64\n",
      " 22  kw_min_max                     4954 non-null   int64  \n",
      " 23  kw_max_max                     4954 non-null   int64  \n",
      " 24  kw_avg_max                     4954 non-null   float64\n",
      " 25  kw_min_avg                     4954 non-null   float64\n",
      " 26  kw_max_avg                     4954 non-null   float64\n",
      " 27  kw_avg_avg                     4954 non-null   float64\n",
      " 28  self_reference_min_shares      4954 non-null   float64\n",
      " 29  self_reference_max_shares      4954 non-null   int64  \n",
      " 30  self_reference_avg_sharess     4954 non-null   float64\n",
      " 31  weekday_is_monday              4954 non-null   int64  \n",
      " 32  weekday_is_tuesday             4954 non-null   int64  \n",
      " 33  weekday_is_wednesday           4954 non-null   int64  \n",
      " 34  weekday_is_thursday            4954 non-null   int64  \n",
      " 35  weekday_is_friday              4954 non-null   int64  \n",
      " 36  weekday_is_saturday            4954 non-null   int64  \n",
      " 37  weekday_is_sunday              4954 non-null   int64  \n",
      " 38  is_weekend                     4954 non-null   int64  \n",
      " 39  LDA_00                         4954 non-null   float64\n",
      " 40  LDA_01                         4954 non-null   float64\n",
      " 41  LDA_02                         4954 non-null   float64\n",
      " 42  LDA_03                         4954 non-null   float64\n",
      " 43  LDA_04                         4954 non-null   float64\n",
      " 44  global_subjectivity            4954 non-null   float64\n",
      " 45  global_sentiment_polarity      4954 non-null   float64\n",
      " 46  global_rate_positive_words     4954 non-null   float64\n",
      " 47  global_rate_negative_words     4954 non-null   float64\n",
      " 48  rate_positive_words            4954 non-null   float64\n",
      " 49  rate_negative_words            4954 non-null   float64\n",
      " 50  avg_positive_polarity          4954 non-null   float64\n",
      " 51  min_positive_polarity          4954 non-null   float64\n",
      " 52  max_positive_polarity          4954 non-null   float64\n",
      " 53  avg_negative_polarity          4954 non-null   float64\n",
      " 54  min_negative_polarity          4954 non-null   float64\n",
      " 55  max_negative_polarity          4954 non-null   float64\n",
      " 56  title_subjectivity             4954 non-null   float64\n",
      " 57  title_sentiment_polarity       4954 non-null   float64\n",
      " 58  abs_title_subjectivity         4954 non-null   float64\n",
      " 59  abs_title_sentiment_polarity   4954 non-null   float64\n",
      " 60  shares                         4954 non-null   int64  \n",
      "dtypes: float64(33), int64(27), object(1)\n",
      "memory usage: 2.3+ MB\n"
     ]
    }
   ],
   "source": [
    "df.info()"
   ]
  },
  {
   "cell_type": "markdown",
   "id": "f623f572",
   "metadata": {
    "papermill": {
     "duration": 0.02244,
     "end_time": "2023-11-02T09:38:15.387758",
     "exception": false,
     "start_time": "2023-11-02T09:38:15.365318",
     "status": "completed"
    },
    "tags": []
   },
   "source": [
    "This looks like exponential distribution."
   ]
  },
  {
   "cell_type": "code",
   "execution_count": 4,
   "id": "b45c6c52",
   "metadata": {
    "execution": {
     "iopub.execute_input": "2023-11-02T09:38:15.441836Z",
     "iopub.status.busy": "2023-11-02T09:38:15.441412Z",
     "iopub.status.idle": "2023-11-02T09:38:15.844142Z",
     "shell.execute_reply": "2023-11-02T09:38:15.842952Z"
    },
    "papermill": {
     "duration": 0.435517,
     "end_time": "2023-11-02T09:38:15.846541",
     "exception": false,
     "start_time": "2023-11-02T09:38:15.411024",
     "status": "completed"
    },
    "tags": []
   },
   "outputs": [
    {
     "data": {
      "text/plain": [
       "(0.0, 15000.0)"
      ]
     },
     "execution_count": 4,
     "metadata": {},
     "output_type": "execute_result"
    },
    {
     "data": {
      "image/png": "[encoded data removed]",
      "text/plain": [
       "<Figure size 640x480 with 1 Axes>"
      ]
     },
     "metadata": {},
     "output_type": "display_data"
    }
   ],
   "source": [
    "sns.kdeplot(df['shares'])\n",
    "plt.xlim(0, 15000)"
   ]
  },
  {
   "cell_type": "markdown",
   "id": "b1d0b760",
   "metadata": {
    "papermill": {
     "duration": 0.030924,
     "end_time": "2023-11-02T09:38:15.903528",
     "exception": false,
     "start_time": "2023-11-02T09:38:15.872604",
     "status": "completed"
    },
    "tags": []
   },
   "source": [
    "## Preprocessing"
   ]
  },
  {
   "cell_type": "markdown",
   "id": "142419bc",
   "metadata": {
    "papermill": {
     "duration": 0.024958,
     "end_time": "2023-11-02T09:38:15.956782",
     "exception": false,
     "start_time": "2023-11-02T09:38:15.931824",
     "status": "completed"
    },
    "tags": []
   },
   "source": [
    "Lets drop columns `url`, because variable unique for all data set.  "
   ]
  },
  {
   "cell_type": "code",
   "execution_count": 5,
   "id": "c9ef1f71",
   "metadata": {
    "execution": {
     "iopub.execute_input": "2023-11-02T09:38:16.009530Z",
     "iopub.status.busy": "2023-11-02T09:38:16.009171Z",
     "iopub.status.idle": "2023-11-02T09:38:16.017785Z",
     "shell.execute_reply": "2023-11-02T09:38:16.016708Z"
    },
    "papermill": {
     "duration": 0.039147,
     "end_time": "2023-11-02T09:38:16.020533",
     "exception": false,
     "start_time": "2023-11-02T09:38:15.981386",
     "status": "completed"
    },
    "tags": []
   },
   "outputs": [],
   "source": [
    "df.drop(columns=['url'], axis=1, inplace=True)"
   ]
  },
  {
   "cell_type": "markdown",
   "id": "58ce52c3",
   "metadata": {
    "papermill": {
     "duration": 0.028169,
     "end_time": "2023-11-02T09:38:16.081449",
     "exception": false,
     "start_time": "2023-11-02T09:38:16.053280",
     "status": "completed"
    },
    "tags": []
   },
   "source": [
    "Let also delete `kw_min_min` `kw_max_max` `n_non_stop_words` collumns, because all values same."
   ]
  },
  {
   "cell_type": "code",
   "execution_count": 6,
   "id": "ae1b4fbf",
   "metadata": {
    "execution": {
     "iopub.execute_input": "2023-11-02T09:38:16.131761Z",
     "iopub.status.busy": "2023-11-02T09:38:16.131402Z",
     "iopub.status.idle": "2023-11-02T09:38:16.139240Z",
     "shell.execute_reply": "2023-11-02T09:38:16.138422Z"
    },
    "papermill": {
     "duration": 0.03577,
     "end_time": "2023-11-02T09:38:16.141303",
     "exception": false,
     "start_time": "2023-11-02T09:38:16.105533",
     "status": "completed"
    },
    "tags": []
   },
   "outputs": [
    {
     "data": {
      "text/plain": [
       "kw_max_max\n",
       "843300    4951\n",
       "663600       2\n",
       "233400       1\n",
       "Name: count, dtype: int64"
      ]
     },
     "execution_count": 6,
     "metadata": {},
     "output_type": "execute_result"
    }
   ],
   "source": [
    "df['kw_max_max'].value_counts()"
   ]
  },
  {
   "cell_type": "code",
   "execution_count": 7,
   "id": "f8b6ac78",
   "metadata": {
    "execution": {
     "iopub.execute_input": "2023-11-02T09:38:16.192547Z",
     "iopub.status.busy": "2023-11-02T09:38:16.191948Z",
     "iopub.status.idle": "2023-11-02T09:38:16.199141Z",
     "shell.execute_reply": "2023-11-02T09:38:16.198262Z"
    },
    "papermill": {
     "duration": 0.035021,
     "end_time": "2023-11-02T09:38:16.201197",
     "exception": false,
     "start_time": "2023-11-02T09:38:16.166176",
     "status": "completed"
    },
    "tags": []
   },
   "outputs": [
    {
     "data": {
      "text/plain": [
       "kw_min_min\n",
       "-1    4954\n",
       "Name: count, dtype: int64"
      ]
     },
     "execution_count": 7,
     "metadata": {},
     "output_type": "execute_result"
    }
   ],
   "source": [
    "df['kw_min_min'].value_counts()"
   ]
  },
  {
   "cell_type": "code",
   "execution_count": 8,
   "id": "91ce07ac",
   "metadata": {
    "execution": {
     "iopub.execute_input": "2023-11-02T09:38:16.249825Z",
     "iopub.status.busy": "2023-11-02T09:38:16.249542Z",
     "iopub.status.idle": "2023-11-02T09:38:16.258733Z",
     "shell.execute_reply": "2023-11-02T09:38:16.257928Z"
    },
    "papermill": {
     "duration": 0.035634,
     "end_time": "2023-11-02T09:38:16.260709",
     "exception": false,
     "start_time": "2023-11-02T09:38:16.225075",
     "status": "completed"
    },
    "tags": []
   },
   "outputs": [
    {
     "data": {
      "text/plain": [
       "n_non_stop_words\n",
       "1.0    1020\n",
       "1.0     792\n",
       "1.0     599\n",
       "1.0     488\n",
       "0.0     488\n",
       "1.0     469\n",
       "1.0     353\n",
       "1.0     204\n",
       "1.0     155\n",
       "1.0     106\n",
       "1.0      75\n",
       "1.0      63\n",
       "1.0      44\n",
       "1.0      24\n",
       "1.0      23\n",
       "1.0      13\n",
       "1.0       8\n",
       "1.0       8\n",
       "1.0       4\n",
       "1.0       3\n",
       "1.0       3\n",
       "1.0       2\n",
       "1.0       2\n",
       "1.0       2\n",
       "1.0       2\n",
       "1.0       2\n",
       "1.0       1\n",
       "1.0       1\n",
       "Name: count, dtype: int64"
      ]
     },
     "execution_count": 8,
     "metadata": {},
     "output_type": "execute_result"
    }
   ],
   "source": [
    "df['n_non_stop_words'].value_counts()"
   ]
  },
  {
   "cell_type": "code",
   "execution_count": 9,
   "id": "50bd9b5d",
   "metadata": {
    "execution": {
     "iopub.execute_input": "2023-11-02T09:38:16.309752Z",
     "iopub.status.busy": "2023-11-02T09:38:16.309484Z",
     "iopub.status.idle": "2023-11-02T09:38:16.315560Z",
     "shell.execute_reply": "2023-11-02T09:38:16.314764Z"
    },
    "papermill": {
     "duration": 0.033217,
     "end_time": "2023-11-02T09:38:16.317381",
     "exception": false,
     "start_time": "2023-11-02T09:38:16.284164",
     "status": "completed"
    },
    "tags": []
   },
   "outputs": [],
   "source": [
    "garbage = ['kw_max_max', 'kw_min_min', 'n_non_stop_words']\n",
    "df.drop(columns=garbage, axis=1, inplace=True)"
   ]
  },
  {
   "cell_type": "markdown",
   "id": "d1d253cd",
   "metadata": {
    "papermill": {
     "duration": 0.023349,
     "end_time": "2023-11-02T09:38:16.363551",
     "exception": false,
     "start_time": "2023-11-02T09:38:16.340202",
     "status": "completed"
    },
    "tags": []
   },
   "source": [
    "Lets delete anomaly articles that have shares>=15000 and <400 and log our target variable to make distribution more familiar to normal."
   ]
  },
  {
   "cell_type": "code",
   "execution_count": 10,
   "id": "b39aef71",
   "metadata": {
    "execution": {
     "iopub.execute_input": "2023-11-02T09:38:16.412901Z",
     "iopub.status.busy": "2023-11-02T09:38:16.412610Z",
     "iopub.status.idle": "2023-11-02T09:38:16.420486Z",
     "shell.execute_reply": "2023-11-02T09:38:16.419665Z"
    },
    "papermill": {
     "duration": 0.034691,
     "end_time": "2023-11-02T09:38:16.422488",
     "exception": false,
     "start_time": "2023-11-02T09:38:16.387797",
     "status": "completed"
    },
    "tags": []
   },
   "outputs": [
    {
     "data": {
      "text/plain": [
       "shares\n",
       "1100     316\n",
       "1200     279\n",
       "1300     225\n",
       "1400     224\n",
       "1500     165\n",
       "        ... \n",
       "26900      1\n",
       "569        1\n",
       "19100      1\n",
       "477        1\n",
       "470        1\n",
       "Name: count, Length: 781, dtype: int64"
      ]
     },
     "execution_count": 10,
     "metadata": {},
     "output_type": "execute_result"
    }
   ],
   "source": [
    "df['shares'].value_counts()"
   ]
  },
  {
   "cell_type": "code",
   "execution_count": 11,
   "id": "0b533d9f",
   "metadata": {
    "execution": {
     "iopub.execute_input": "2023-11-02T09:38:16.471955Z",
     "iopub.status.busy": "2023-11-02T09:38:16.471329Z",
     "iopub.status.idle": "2023-11-02T09:38:16.479128Z",
     "shell.execute_reply": "2023-11-02T09:38:16.478239Z"
    },
    "papermill": {
     "duration": 0.034135,
     "end_time": "2023-11-02T09:38:16.480997",
     "exception": false,
     "start_time": "2023-11-02T09:38:16.446862",
     "status": "completed"
    },
    "tags": []
   },
   "outputs": [],
   "source": [
    "df = df[df['shares'] <= 15000]\n",
    "df = df[df['shares'] > 200]"
   ]
  },
  {
   "cell_type": "code",
   "execution_count": 12,
   "id": "804198eb",
   "metadata": {
    "execution": {
     "iopub.execute_input": "2023-11-02T09:38:16.531411Z",
     "iopub.status.busy": "2023-11-02T09:38:16.531124Z",
     "iopub.status.idle": "2023-11-02T09:38:16.769290Z",
     "shell.execute_reply": "2023-11-02T09:38:16.768406Z"
    },
    "papermill": {
     "duration": 0.26622,
     "end_time": "2023-11-02T09:38:16.771413",
     "exception": false,
     "start_time": "2023-11-02T09:38:16.505193",
     "status": "completed"
    },
    "tags": []
   },
   "outputs": [
    {
     "data": {
      "text/plain": [
       "<Axes: xlabel='shares', ylabel='Density'>"
      ]
     },
     "execution_count": 12,
     "metadata": {},
     "output_type": "execute_result"
    },
    {
     "data": {
      "image/png": "[encoded data removed]",
      "text/plain": [
       "<Figure size 640x480 with 1 Axes>"
      ]
     },
     "metadata": {},
     "output_type": "display_data"
    }
   ],
   "source": [
    "y_regretion = np.log(df['shares'])\n",
    "sns.kdeplot(y_regretion)"
   ]
  },
  {
   "cell_type": "markdown",
   "id": "00fb2011",
   "metadata": {
    "papermill": {
     "duration": 0.025069,
     "end_time": "2023-11-02T09:38:16.821865",
     "exception": false,
     "start_time": "2023-11-02T09:38:16.796796",
     "status": "completed"
    },
    "tags": []
   },
   "source": [
    "Like previous model, lets also see classification issues."
   ]
  },
  {
   "cell_type": "code",
   "execution_count": 13,
   "id": "197f716f",
   "metadata": {
    "execution": {
     "iopub.execute_input": "2023-11-02T09:38:16.873670Z",
     "iopub.status.busy": "2023-11-02T09:38:16.873376Z",
     "iopub.status.idle": "2023-11-02T09:38:16.884174Z",
     "shell.execute_reply": "2023-11-02T09:38:16.883243Z"
    },
    "papermill": {
     "duration": 0.039048,
     "end_time": "2023-11-02T09:38:16.886378",
     "exception": false,
     "start_time": "2023-11-02T09:38:16.847330",
     "status": "completed"
    },
    "tags": []
   },
   "outputs": [
    {
     "data": {
      "text/plain": [
       "is_popular\n",
       "0    2741\n",
       "1    2041\n",
       "Name: count, dtype: int64"
      ]
     },
     "execution_count": 13,
     "metadata": {},
     "output_type": "execute_result"
    }
   ],
   "source": [
    "df['is_popular'] = (df['shares'] > 1500).astype(int)\n",
    "df.drop(columns=['shares'], axis=1, inplace=True)\n",
    "df['is_popular'].value_counts()"
   ]
  },
  {
   "cell_type": "markdown",
   "id": "1b3db2ae",
   "metadata": {
    "papermill": {
     "duration": 0.026606,
     "end_time": "2023-11-02T09:38:16.941485",
     "exception": false,
     "start_time": "2023-11-02T09:38:16.914879",
     "status": "completed"
    },
    "tags": []
   },
   "source": [
    "Because of we have Decision Tree and Random Forest, we dont need to scale our data"
   ]
  },
  {
   "cell_type": "markdown",
   "id": "d3a21ca3",
   "metadata": {
    "papermill": {
     "duration": 0.02367,
     "end_time": "2023-11-02T09:38:16.991147",
     "exception": false,
     "start_time": "2023-11-02T09:38:16.967477",
     "status": "completed"
    },
    "tags": []
   },
   "source": [
    "## Split Data"
   ]
  },
  {
   "cell_type": "markdown",
   "id": "94909391",
   "metadata": {
    "papermill": {
     "duration": 0.023942,
     "end_time": "2023-11-02T09:38:17.039310",
     "exception": false,
     "start_time": "2023-11-02T09:38:17.015368",
     "status": "completed"
    },
    "tags": []
   },
   "source": [
    "Now lets split data"
   ]
  },
  {
   "cell_type": "code",
   "execution_count": 14,
   "id": "3f760725",
   "metadata": {
    "execution": {
     "iopub.execute_input": "2023-11-02T09:38:17.091637Z",
     "iopub.status.busy": "2023-11-02T09:38:17.091345Z",
     "iopub.status.idle": "2023-11-02T09:38:17.352877Z",
     "shell.execute_reply": "2023-11-02T09:38:17.352054Z"
    },
    "papermill": {
     "duration": 0.290597,
     "end_time": "2023-11-02T09:38:17.355531",
     "exception": false,
     "start_time": "2023-11-02T09:38:17.064934",
     "status": "completed"
    },
    "tags": []
   },
   "outputs": [],
   "source": [
    "from sklearn.model_selection import train_test_split\n",
    "X = df.drop('is_popular', axis=1)\n",
    "y_classification = df['is_popular']\n",
    "X_train, X_valid, y_train_cl, y_valid_cl = train_test_split(X, y_classification, test_size=0.25, random_state=4)\n",
    "X_train, X_valid, y_train_reg, y_valid_reg = train_test_split(X, y_regretion, test_size=0.25, random_state=4)"
   ]
  },
  {
   "cell_type": "markdown",
   "id": "14a460f6",
   "metadata": {
    "papermill": {
     "duration": 0.026086,
     "end_time": "2023-11-02T09:38:17.408247",
     "exception": false,
     "start_time": "2023-11-02T09:38:17.382161",
     "status": "completed"
    },
    "tags": []
   },
   "source": [
    "## Classifier and Regressor"
   ]
  },
  {
   "cell_type": "code",
   "execution_count": 15,
   "id": "d7d3a36c",
   "metadata": {
    "execution": {
     "iopub.execute_input": "2023-11-02T09:38:17.461877Z",
     "iopub.status.busy": "2023-11-02T09:38:17.461064Z",
     "iopub.status.idle": "2023-11-02T09:38:17.698657Z",
     "shell.execute_reply": "2023-11-02T09:38:17.697923Z"
    },
    "papermill": {
     "duration": 0.2672,
     "end_time": "2023-11-02T09:38:17.700803",
     "exception": false,
     "start_time": "2023-11-02T09:38:17.433603",
     "status": "completed"
    },
    "tags": []
   },
   "outputs": [],
   "source": [
    "from sklearn.tree import DecisionTreeRegressor\n",
    "from sklearn.metrics import mean_squared_error\n",
    "from sklearn.metrics import r2_score\n",
    "\n",
    "from sklearn.tree import DecisionTreeClassifier\n",
    "from sklearn.metrics import accuracy_score"
   ]
  },
  {
   "cell_type": "code",
   "execution_count": 16,
   "id": "22cfcd4b",
   "metadata": {
    "execution": {
     "iopub.execute_input": "2023-11-02T09:38:17.752622Z",
     "iopub.status.busy": "2023-11-02T09:38:17.752334Z",
     "iopub.status.idle": "2023-11-02T09:38:18.065184Z",
     "shell.execute_reply": "2023-11-02T09:38:18.064305Z"
    },
    "papermill": {
     "duration": 0.341672,
     "end_time": "2023-11-02T09:38:18.067760",
     "exception": false,
     "start_time": "2023-11-02T09:38:17.726088",
     "status": "completed"
    },
    "tags": []
   },
   "outputs": [
    {
     "name": "stdout",
     "output_type": "stream",
     "text": [
      "Mean score for Regresscor: 8768403.7625418\n",
      "R2_Score for Regresscor: -0.5251443629297465\n",
      "Accuracy score for Classifier: 0.6086956521739131\n"
     ]
    }
   ],
   "source": [
    "tree_reg = DecisionTreeRegressor(random_state=20)\n",
    "tree_class = DecisionTreeClassifier(random_state=20)\n",
    "\n",
    "tree_reg.fit(X_train, y_train_reg)\n",
    "tree_class.fit(X_train, y_train_cl)\n",
    "\n",
    "y_pred_reg = tree_reg.predict(X_valid)\n",
    "y_pred_cl = tree_class.predict(X_valid)\n",
    "\n",
    "print(\"Mean score for Regresscor:\", mean_squared_error(np.exp(y_valid_reg), np.exp((y_pred_reg))))\n",
    "print(\"R2_Score for Regresscor:\", r2_score(y_valid_reg, y_pred_reg))\n",
    "print(\"Accuracy score for Classifier:\", accuracy_score(y_valid_cl, y_pred_cl))"
   ]
  },
  {
   "cell_type": "markdown",
   "id": "2a08b45c",
   "metadata": {
    "papermill": {
     "duration": 0.026382,
     "end_time": "2023-11-02T09:38:18.119702",
     "exception": false,
     "start_time": "2023-11-02T09:38:18.093320",
     "status": "completed"
    },
    "tags": []
   },
   "source": [
    "Lets see hyperparameter `max_depth` our trees."
   ]
  },
  {
   "cell_type": "code",
   "execution_count": 17,
   "id": "495fd668",
   "metadata": {
    "execution": {
     "iopub.execute_input": "2023-11-02T09:38:18.169674Z",
     "iopub.status.busy": "2023-11-02T09:38:18.169371Z",
     "iopub.status.idle": "2023-11-02T09:38:18.174028Z",
     "shell.execute_reply": "2023-11-02T09:38:18.173086Z"
    },
    "papermill": {
     "duration": 0.032011,
     "end_time": "2023-11-02T09:38:18.176279",
     "exception": false,
     "start_time": "2023-11-02T09:38:18.144268",
     "status": "completed"
    },
    "tags": []
   },
   "outputs": [
    {
     "name": "stdout",
     "output_type": "stream",
     "text": [
      "37\n",
      "23\n"
     ]
    }
   ],
   "source": [
    "print(tree_reg.tree_.max_depth)\n",
    "print(tree_class.tree_.max_depth)"
   ]
  },
  {
   "cell_type": "markdown",
   "id": "1a868b63",
   "metadata": {
    "papermill": {
     "duration": 0.023888,
     "end_time": "2023-11-02T09:38:18.224869",
     "exception": false,
     "start_time": "2023-11-02T09:38:18.200981",
     "status": "completed"
    },
    "tags": []
   },
   "source": [
    "For the first time: classifier have less depth than regressor and have good result for prediction."
   ]
  },
  {
   "cell_type": "markdown",
   "id": "25ba58a1",
   "metadata": {
    "papermill": {
     "duration": 0.024354,
     "end_time": "2023-11-02T09:38:18.273562",
     "exception": false,
     "start_time": "2023-11-02T09:38:18.249208",
     "status": "completed"
    },
    "tags": []
   },
   "source": [
    "# 2. Hyperparameters for tree"
   ]
  },
  {
   "cell_type": "markdown",
   "id": "faea9be6",
   "metadata": {
    "papermill": {
     "duration": 0.02412,
     "end_time": "2023-11-02T09:38:18.322056",
     "exception": false,
     "start_time": "2023-11-02T09:38:18.297936",
     "status": "completed"
    },
    "tags": []
   },
   "source": [
    "## Cross-validation"
   ]
  },
  {
   "cell_type": "markdown",
   "id": "a8de3548",
   "metadata": {
    "papermill": {
     "duration": 0.023729,
     "end_time": "2023-11-02T09:38:18.369629",
     "exception": false,
     "start_time": "2023-11-02T09:38:18.345900",
     "status": "completed"
    },
    "tags": []
   },
   "source": [
    "We have 4 hyperparameters:\n",
    "1. `max_depth` is depth our tree,\n",
    "2. `min_samples_split` is minimum objects we have in leaf to split,\n",
    "3. `min_samples_leaf` is minimum objects we have in leaf,\n",
    "4. `max_features` is max features that we have in tree. "
   ]
  },
  {
   "cell_type": "code",
   "execution_count": 18,
   "id": "457faddf",
   "metadata": {
    "execution": {
     "iopub.execute_input": "2023-11-02T09:38:18.419712Z",
     "iopub.status.busy": "2023-11-02T09:38:18.419170Z",
     "iopub.status.idle": "2023-11-02T09:38:18.424409Z",
     "shell.execute_reply": "2023-11-02T09:38:18.423547Z"
    },
    "papermill": {
     "duration": 0.03316,
     "end_time": "2023-11-02T09:38:18.426440",
     "exception": false,
     "start_time": "2023-11-02T09:38:18.393280",
     "status": "completed"
    },
    "tags": []
   },
   "outputs": [],
   "source": [
    "hyperparameters = {\n",
    "    'max_depth': np.arange(1, 11, 2), \n",
    "    'min_samples_split': np.arange(2, 11, 2), \n",
    "    'min_samples_leaf': np.arange(2, 11, 2),\n",
    "    'max_features': np.arange(2, 21, 2)\n",
    "}"
   ]
  },
  {
   "cell_type": "code",
   "execution_count": 19,
   "id": "2a7d3026",
   "metadata": {
    "execution": {
     "iopub.execute_input": "2023-11-02T09:38:18.479415Z",
     "iopub.status.busy": "2023-11-02T09:38:18.479062Z",
     "iopub.status.idle": "2023-11-02T09:38:18.484227Z",
     "shell.execute_reply": "2023-11-02T09:38:18.483385Z"
    },
    "papermill": {
     "duration": 0.0342,
     "end_time": "2023-11-02T09:38:18.486231",
     "exception": false,
     "start_time": "2023-11-02T09:38:18.452031",
     "status": "completed"
    },
    "tags": []
   },
   "outputs": [],
   "source": [
    "from sklearn.model_selection import KFold\n",
    "from sklearn.model_selection import GridSearchCV"
   ]
  },
  {
   "cell_type": "code",
   "execution_count": 20,
   "id": "1dc03232",
   "metadata": {
    "execution": {
     "iopub.execute_input": "2023-11-02T09:38:18.537801Z",
     "iopub.status.busy": "2023-11-02T09:38:18.537166Z",
     "iopub.status.idle": "2023-11-02T09:38:18.541203Z",
     "shell.execute_reply": "2023-11-02T09:38:18.540389Z"
    },
    "papermill": {
     "duration": 0.032207,
     "end_time": "2023-11-02T09:38:18.543042",
     "exception": false,
     "start_time": "2023-11-02T09:38:18.510835",
     "status": "completed"
    },
    "tags": []
   },
   "outputs": [],
   "source": [
    "kf = KFold(shuffle=True, random_state=32)\n",
    "cross = kf.split(X)"
   ]
  },
  {
   "cell_type": "markdown",
   "id": "e0eac0ca",
   "metadata": {
    "papermill": {
     "duration": 0.025541,
     "end_time": "2023-11-02T09:38:18.592831",
     "exception": false,
     "start_time": "2023-11-02T09:38:18.567290",
     "status": "completed"
    },
    "tags": []
   },
   "source": [
    "Find best hyperparameters for our models using Grid Search."
   ]
  },
  {
   "cell_type": "code",
   "execution_count": 21,
   "id": "7b0691ae",
   "metadata": {
    "execution": {
     "iopub.execute_input": "2023-11-02T09:38:18.642741Z",
     "iopub.status.busy": "2023-11-02T09:38:18.642446Z",
     "iopub.status.idle": "2023-11-02T09:38:18.646729Z",
     "shell.execute_reply": "2023-11-02T09:38:18.645870Z"
    },
    "papermill": {
     "duration": 0.031107,
     "end_time": "2023-11-02T09:38:18.648654",
     "exception": false,
     "start_time": "2023-11-02T09:38:18.617547",
     "status": "completed"
    },
    "tags": []
   },
   "outputs": [],
   "source": [
    "cross = kf.split(X)\n",
    "tree_grid_reg = GridSearchCV(tree_reg, hyperparameters, scoring='neg_mean_squared_error', cv=cross)"
   ]
  },
  {
   "cell_type": "code",
   "execution_count": 22,
   "id": "ffca4b20",
   "metadata": {
    "execution": {
     "iopub.execute_input": "2023-11-02T09:38:18.701422Z",
     "iopub.status.busy": "2023-11-02T09:38:18.700776Z",
     "iopub.status.idle": "2023-11-02T09:38:18.704916Z",
     "shell.execute_reply": "2023-11-02T09:38:18.704129Z"
    },
    "papermill": {
     "duration": 0.031798,
     "end_time": "2023-11-02T09:38:18.706884",
     "exception": false,
     "start_time": "2023-11-02T09:38:18.675086",
     "status": "completed"
    },
    "tags": []
   },
   "outputs": [],
   "source": [
    "cross = kf.split(X)\n",
    "tree_grid_cl = GridSearchCV(tree_class, hyperparameters, scoring='accuracy', cv=cross)"
   ]
  },
  {
   "cell_type": "code",
   "execution_count": 23,
   "id": "aad092b2",
   "metadata": {
    "execution": {
     "iopub.execute_input": "2023-11-02T09:38:18.757621Z",
     "iopub.status.busy": "2023-11-02T09:38:18.757056Z",
     "iopub.status.idle": "2023-11-02T09:40:25.688688Z",
     "shell.execute_reply": "2023-11-02T09:40:25.687678Z"
    },
    "papermill": {
     "duration": 126.984592,
     "end_time": "2023-11-02T09:40:25.715884",
     "exception": false,
     "start_time": "2023-11-02T09:38:18.731292",
     "status": "completed"
    },
    "tags": []
   },
   "outputs": [
    {
     "data": {
      "text/html": [
       "<style>#sk-container-id-1 {color: black;background-color: white;}#sk-container-id-1 pre{padding: 0;}#sk-container-id-1 div.sk-toggleable {background-color: white;}#sk-container-id-1 label.sk-toggleable__label {cursor: pointer;display: block;width: 100%;margin-bottom: 0;padding: 0.3em;box-sizing: border-box;text-align: center;}#sk-container-id-1 label.sk-toggleable__label-arrow:before {content: \"▸\";float: left;margin-right: 0.25em;color: #696969;}#sk-container-id-1 label.sk-toggleable__label-arrow:hover:before {color: black;}#sk-container-id-1 div.sk-estimator:hover label.sk-toggleable__label-arrow:before {color: black;}#sk-container-id-1 div.sk-toggleable__content {max-height: 0;max-width: 0;overflow: hidden;text-align: left;background-color: #f0f8ff;}#sk-container-id-1 div.sk-toggleable__content pre {margin: 0.2em;color: black;border-radius: 0.25em;background-color: #f0f8ff;}#sk-container-id-1 input.sk-toggleable__control:checked~div.sk-toggleable__content {max-height: 200px;max-width: 100%;overflow: auto;}#sk-container-id-1 input.sk-toggleable__control:checked~label.sk-toggleable__label-arrow:before {content: \"▾\";}#sk-container-id-1 div.sk-estimator input.sk-toggleable__control:checked~label.sk-toggleable__label {background-color: #d4ebff;}#sk-container-id-1 div.sk-label input.sk-toggleable__control:checked~label.sk-toggleable__label {background-color: #d4ebff;}#sk-container-id-1 input.sk-hidden--visually {border: 0;clip: rect(1px 1px 1px 1px);clip: rect(1px, 1px, 1px, 1px);height: 1px;margin: -1px;overflow: hidden;padding: 0;position: absolute;width: 1px;}#sk-container-id-1 div.sk-estimator {font-family: monospace;background-color: #f0f8ff;border: 1px dotted black;border-radius: 0.25em;box-sizing: border-box;margin-bottom: 0.5em;}#sk-container-id-1 div.sk-estimator:hover {background-color: #d4ebff;}#sk-container-id-1 div.sk-parallel-item::after {content: \"\";width: 100%;border-bottom: 1px solid gray;flex-grow: 1;}#sk-container-id-1 div.sk-label:hover label.sk-toggleable__label {background-color: #d4ebff;}#sk-container-id-1 div.sk-serial::before {content: \"\";position: absolute;border-left: 1px solid gray;box-sizing: border-box;top: 0;bottom: 0;left: 50%;z-index: 0;}#sk-container-id-1 div.sk-serial {display: flex;flex-direction: column;align-items: center;background-color: white;padding-right: 0.2em;padding-left: 0.2em;position: relative;}#sk-container-id-1 div.sk-item {position: relative;z-index: 1;}#sk-container-id-1 div.sk-parallel {display: flex;align-items: stretch;justify-content: center;background-color: white;position: relative;}#sk-container-id-1 div.sk-item::before, #sk-container-id-1 div.sk-parallel-item::before {content: \"\";position: absolute;border-left: 1px solid gray;box-sizing: border-box;top: 0;bottom: 0;left: 50%;z-index: -1;}#sk-container-id-1 div.sk-parallel-item {display: flex;flex-direction: column;z-index: 1;position: relative;background-color: white;}#sk-container-id-1 div.sk-parallel-item:first-child::after {align-self: flex-end;width: 50%;}#sk-container-id-1 div.sk-parallel-item:last-child::after {align-self: flex-start;width: 50%;}#sk-container-id-1 div.sk-parallel-item:only-child::after {width: 0;}#sk-container-id-1 div.sk-dashed-wrapped {border: 1px dashed gray;margin: 0 0.4em 0.5em 0.4em;box-sizing: border-box;padding-bottom: 0.4em;background-color: white;}#sk-container-id-1 div.sk-label label {font-family: monospace;font-weight: bold;display: inline-block;line-height: 1.2em;}#sk-container-id-1 div.sk-label-container {text-align: center;}#sk-container-id-1 div.sk-container {/* jupyter's `normalize.less` sets `[hidden] { display: none; }` but bootstrap.min.css set `[hidden] { display: none !important; }` so we also need the `!important` here to be able to override the default hidden behavior on the sphinx rendered scikit-learn.org. See: https://github.com/scikit-learn/scikit-learn/issues/21755 */display: inline-block !important;position: relative;}#sk-container-id-1 div.sk-text-repr-fallback {display: none;}</style><div id=\"sk-container-id-1\" class=\"sk-top-container\"><div class=\"sk-text-repr-fallback\"><pre>GridSearchCV(cv=&lt;generator object _BaseKFold.split at 0x7b956ccaccf0&gt;,\n",
       "             estimator=DecisionTreeClassifier(random_state=20),\n",
       "             param_grid={&#x27;max_depth&#x27;: array([1, 3, 5, 7, 9]),\n",
       "                         &#x27;max_features&#x27;: array([ 2,  4,  6,  8, 10, 12, 14, 16, 18, 20]),\n",
       "                         &#x27;min_samples_leaf&#x27;: array([ 2,  4,  6,  8, 10]),\n",
       "                         &#x27;min_samples_split&#x27;: array([ 2,  4,  6,  8, 10])},\n",
       "             scoring=&#x27;accuracy&#x27;)</pre><b>In a Jupyter environment, please rerun this cell to show the HTML representation or trust the notebook. <br />On GitHub, the HTML representation is unable to render, please try loading this page with nbviewer.org.</b></div><div class=\"sk-container\" hidden><div class=\"sk-item sk-dashed-wrapped\"><div class=\"sk-label-container\"><div class=\"sk-label sk-toggleable\"><input class=\"sk-toggleable__control sk-hidden--visually\" id=\"sk-estimator-id-1\" type=\"checkbox\" ><label for=\"sk-estimator-id-1\" class=\"sk-toggleable__label sk-toggleable__label-arrow\">GridSearchCV</label><div class=\"sk-toggleable__content\"><pre>GridSearchCV(cv=&lt;generator object _BaseKFold.split at 0x7b956ccaccf0&gt;,\n",
       "             estimator=DecisionTreeClassifier(random_state=20),\n",
       "             param_grid={&#x27;max_depth&#x27;: array([1, 3, 5, 7, 9]),\n",
       "                         &#x27;max_features&#x27;: array([ 2,  4,  6,  8, 10, 12, 14, 16, 18, 20]),\n",
       "                         &#x27;min_samples_leaf&#x27;: array([ 2,  4,  6,  8, 10]),\n",
       "                         &#x27;min_samples_split&#x27;: array([ 2,  4,  6,  8, 10])},\n",
       "             scoring=&#x27;accuracy&#x27;)</pre></div></div></div><div class=\"sk-parallel\"><div class=\"sk-parallel-item\"><div class=\"sk-item\"><div class=\"sk-label-container\"><div class=\"sk-label sk-toggleable\"><input class=\"sk-toggleable__control sk-hidden--visually\" id=\"sk-estimator-id-2\" type=\"checkbox\" ><label for=\"sk-estimator-id-2\" class=\"sk-toggleable__label sk-toggleable__label-arrow\">estimator: DecisionTreeClassifier</label><div class=\"sk-toggleable__content\"><pre>DecisionTreeClassifier(random_state=20)</pre></div></div></div><div class=\"sk-serial\"><div class=\"sk-item\"><div class=\"sk-estimator sk-toggleable\"><input class=\"sk-toggleable__control sk-hidden--visually\" id=\"sk-estimator-id-3\" type=\"checkbox\" ><label for=\"sk-estimator-id-3\" class=\"sk-toggleable__label sk-toggleable__label-arrow\">DecisionTreeClassifier</label><div class=\"sk-toggleable__content\"><pre>DecisionTreeClassifier(random_state=20)</pre></div></div></div></div></div></div></div></div></div></div>"
      ],
      "text/plain": [
       "GridSearchCV(cv=<generator object _BaseKFold.split at 0x7b956ccaccf0>,\n",
       "             estimator=DecisionTreeClassifier(random_state=20),\n",
       "             param_grid={'max_depth': array([1, 3, 5, 7, 9]),\n",
       "                         'max_features': array([ 2,  4,  6,  8, 10, 12, 14, 16, 18, 20]),\n",
       "                         'min_samples_leaf': array([ 2,  4,  6,  8, 10]),\n",
       "                         'min_samples_split': array([ 2,  4,  6,  8, 10])},\n",
       "             scoring='accuracy')"
      ]
     },
     "execution_count": 23,
     "metadata": {},
     "output_type": "execute_result"
    }
   ],
   "source": [
    "tree_grid_cl.fit(X, y_classification)"
   ]
  },
  {
   "cell_type": "code",
   "execution_count": 24,
   "id": "12b38d2a",
   "metadata": {
    "execution": {
     "iopub.execute_input": "2023-11-02T09:40:25.768855Z",
     "iopub.status.busy": "2023-11-02T09:40:25.768522Z",
     "iopub.status.idle": "2023-11-02T09:42:05.265659Z",
     "shell.execute_reply": "2023-11-02T09:42:05.264644Z"
    },
    "papermill": {
     "duration": 99.557057,
     "end_time": "2023-11-02T09:42:05.297912",
     "exception": false,
     "start_time": "2023-11-02T09:40:25.740855",
     "status": "completed"
    },
    "tags": []
   },
   "outputs": [
    {
     "data": {
      "text/html": [
       "<style>#sk-container-id-2 {color: black;background-color: white;}#sk-container-id-2 pre{padding: 0;}#sk-container-id-2 div.sk-toggleable {background-color: white;}#sk-container-id-2 label.sk-toggleable__label {cursor: pointer;display: block;width: 100%;margin-bottom: 0;padding: 0.3em;box-sizing: border-box;text-align: center;}#sk-container-id-2 label.sk-toggleable__label-arrow:before {content: \"▸\";float: left;margin-right: 0.25em;color: #696969;}#sk-container-id-2 label.sk-toggleable__label-arrow:hover:before {color: black;}#sk-container-id-2 div.sk-estimator:hover label.sk-toggleable__label-arrow:before {color: black;}#sk-container-id-2 div.sk-toggleable__content {max-height: 0;max-width: 0;overflow: hidden;text-align: left;background-color: #f0f8ff;}#sk-container-id-2 div.sk-toggleable__content pre {margin: 0.2em;color: black;border-radius: 0.25em;background-color: #f0f8ff;}#sk-container-id-2 input.sk-toggleable__control:checked~div.sk-toggleable__content {max-height: 200px;max-width: 100%;overflow: auto;}#sk-container-id-2 input.sk-toggleable__control:checked~label.sk-toggleable__label-arrow:before {content: \"▾\";}#sk-container-id-2 div.sk-estimator input.sk-toggleable__control:checked~label.sk-toggleable__label {background-color: #d4ebff;}#sk-container-id-2 div.sk-label input.sk-toggleable__control:checked~label.sk-toggleable__label {background-color: #d4ebff;}#sk-container-id-2 input.sk-hidden--visually {border: 0;clip: rect(1px 1px 1px 1px);clip: rect(1px, 1px, 1px, 1px);height: 1px;margin: -1px;overflow: hidden;padding: 0;position: absolute;width: 1px;}#sk-container-id-2 div.sk-estimator {font-family: monospace;background-color: #f0f8ff;border: 1px dotted black;border-radius: 0.25em;box-sizing: border-box;margin-bottom: 0.5em;}#sk-container-id-2 div.sk-estimator:hover {background-color: #d4ebff;}#sk-container-id-2 div.sk-parallel-item::after {content: \"\";width: 100%;border-bottom: 1px solid gray;flex-grow: 1;}#sk-container-id-2 div.sk-label:hover label.sk-toggleable__label {background-color: #d4ebff;}#sk-container-id-2 div.sk-serial::before {content: \"\";position: absolute;border-left: 1px solid gray;box-sizing: border-box;top: 0;bottom: 0;left: 50%;z-index: 0;}#sk-container-id-2 div.sk-serial {display: flex;flex-direction: column;align-items: center;background-color: white;padding-right: 0.2em;padding-left: 0.2em;position: relative;}#sk-container-id-2 div.sk-item {position: relative;z-index: 1;}#sk-container-id-2 div.sk-parallel {display: flex;align-items: stretch;justify-content: center;background-color: white;position: relative;}#sk-container-id-2 div.sk-item::before, #sk-container-id-2 div.sk-parallel-item::before {content: \"\";position: absolute;border-left: 1px solid gray;box-sizing: border-box;top: 0;bottom: 0;left: 50%;z-index: -1;}#sk-container-id-2 div.sk-parallel-item {display: flex;flex-direction: column;z-index: 1;position: relative;background-color: white;}#sk-container-id-2 div.sk-parallel-item:first-child::after {align-self: flex-end;width: 50%;}#sk-container-id-2 div.sk-parallel-item:last-child::after {align-self: flex-start;width: 50%;}#sk-container-id-2 div.sk-parallel-item:only-child::after {width: 0;}#sk-container-id-2 div.sk-dashed-wrapped {border: 1px dashed gray;margin: 0 0.4em 0.5em 0.4em;box-sizing: border-box;padding-bottom: 0.4em;background-color: white;}#sk-container-id-2 div.sk-label label {font-family: monospace;font-weight: bold;display: inline-block;line-height: 1.2em;}#sk-container-id-2 div.sk-label-container {text-align: center;}#sk-container-id-2 div.sk-container {/* jupyter's `normalize.less` sets `[hidden] { display: none; }` but bootstrap.min.css set `[hidden] { display: none !important; }` so we also need the `!important` here to be able to override the default hidden behavior on the sphinx rendered scikit-learn.org. See: https://github.com/scikit-learn/scikit-learn/issues/21755 */display: inline-block !important;position: relative;}#sk-container-id-2 div.sk-text-repr-fallback {display: none;}</style><div id=\"sk-container-id-2\" class=\"sk-top-container\"><div class=\"sk-text-repr-fallback\"><pre>GridSearchCV(cv=&lt;generator object _BaseKFold.split at 0x7b956ccacc10&gt;,\n",
       "             estimator=DecisionTreeRegressor(random_state=20),\n",
       "             param_grid={&#x27;max_depth&#x27;: array([1, 3, 5, 7, 9]),\n",
       "                         &#x27;max_features&#x27;: array([ 2,  4,  6,  8, 10, 12, 14, 16, 18, 20]),\n",
       "                         &#x27;min_samples_leaf&#x27;: array([ 2,  4,  6,  8, 10]),\n",
       "                         &#x27;min_samples_split&#x27;: array([ 2,  4,  6,  8, 10])},\n",
       "             scoring=&#x27;neg_mean_squared_error&#x27;)</pre><b>In a Jupyter environment, please rerun this cell to show the HTML representation or trust the notebook. <br />On GitHub, the HTML representation is unable to render, please try loading this page with nbviewer.org.</b></div><div class=\"sk-container\" hidden><div class=\"sk-item sk-dashed-wrapped\"><div class=\"sk-label-container\"><div class=\"sk-label sk-toggleable\"><input class=\"sk-toggleable__control sk-hidden--visually\" id=\"sk-estimator-id-4\" type=\"checkbox\" ><label for=\"sk-estimator-id-4\" class=\"sk-toggleable__label sk-toggleable__label-arrow\">GridSearchCV</label><div class=\"sk-toggleable__content\"><pre>GridSearchCV(cv=&lt;generator object _BaseKFold.split at 0x7b956ccacc10&gt;,\n",
       "             estimator=DecisionTreeRegressor(random_state=20),\n",
       "             param_grid={&#x27;max_depth&#x27;: array([1, 3, 5, 7, 9]),\n",
       "                         &#x27;max_features&#x27;: array([ 2,  4,  6,  8, 10, 12, 14, 16, 18, 20]),\n",
       "                         &#x27;min_samples_leaf&#x27;: array([ 2,  4,  6,  8, 10]),\n",
       "                         &#x27;min_samples_split&#x27;: array([ 2,  4,  6,  8, 10])},\n",
       "             scoring=&#x27;neg_mean_squared_error&#x27;)</pre></div></div></div><div class=\"sk-parallel\"><div class=\"sk-parallel-item\"><div class=\"sk-item\"><div class=\"sk-label-container\"><div class=\"sk-label sk-toggleable\"><input class=\"sk-toggleable__control sk-hidden--visually\" id=\"sk-estimator-id-5\" type=\"checkbox\" ><label for=\"sk-estimator-id-5\" class=\"sk-toggleable__label sk-toggleable__label-arrow\">estimator: DecisionTreeRegressor</label><div class=\"sk-toggleable__content\"><pre>DecisionTreeRegressor(random_state=20)</pre></div></div></div><div class=\"sk-serial\"><div class=\"sk-item\"><div class=\"sk-estimator sk-toggleable\"><input class=\"sk-toggleable__control sk-hidden--visually\" id=\"sk-estimator-id-6\" type=\"checkbox\" ><label for=\"sk-estimator-id-6\" class=\"sk-toggleable__label sk-toggleable__label-arrow\">DecisionTreeRegressor</label><div class=\"sk-toggleable__content\"><pre>DecisionTreeRegressor(random_state=20)</pre></div></div></div></div></div></div></div></div></div></div>"
      ],
      "text/plain": [
       "GridSearchCV(cv=<generator object _BaseKFold.split at 0x7b956ccacc10>,\n",
       "             estimator=DecisionTreeRegressor(random_state=20),\n",
       "             param_grid={'max_depth': array([1, 3, 5, 7, 9]),\n",
       "                         'max_features': array([ 2,  4,  6,  8, 10, 12, 14, 16, 18, 20]),\n",
       "                         'min_samples_leaf': array([ 2,  4,  6,  8, 10]),\n",
       "                         'min_samples_split': array([ 2,  4,  6,  8, 10])},\n",
       "             scoring='neg_mean_squared_error')"
      ]
     },
     "execution_count": 24,
     "metadata": {},
     "output_type": "execute_result"
    }
   ],
   "source": [
    "tree_grid_reg.fit(X, y_regretion)"
   ]
  },
  {
   "cell_type": "markdown",
   "id": "83d1fc6d",
   "metadata": {
    "papermill": {
     "duration": 0.026136,
     "end_time": "2023-11-02T09:42:05.352139",
     "exception": false,
     "start_time": "2023-11-02T09:42:05.326003",
     "status": "completed"
    },
    "tags": []
   },
   "source": [
    "Let see best params and score that we have."
   ]
  },
  {
   "cell_type": "code",
   "execution_count": 25,
   "id": "5d72047d",
   "metadata": {
    "execution": {
     "iopub.execute_input": "2023-11-02T09:42:05.405454Z",
     "iopub.status.busy": "2023-11-02T09:42:05.405122Z",
     "iopub.status.idle": "2023-11-02T09:42:05.411126Z",
     "shell.execute_reply": "2023-11-02T09:42:05.410163Z"
    },
    "papermill": {
     "duration": 0.035066,
     "end_time": "2023-11-02T09:42:05.413331",
     "exception": false,
     "start_time": "2023-11-02T09:42:05.378265",
     "status": "completed"
    },
    "tags": []
   },
   "outputs": [
    {
     "name": "stdout",
     "output_type": "stream",
     "text": [
      "Best params for classification: {'max_depth': 7, 'max_features': 10, 'min_samples_leaf': 2, 'min_samples_split': 8}\n",
      "Best score for classification: 0.6629064414160359\n",
      "Best params for regressor: {'max_depth': 5, 'max_features': 16, 'min_samples_leaf': 10, 'min_samples_split': 2}\n",
      "Best neg mean score for regressor: -0.45573078625257146\n"
     ]
    }
   ],
   "source": [
    "print(\"Best params for classification:\", tree_grid_cl.best_params_)\n",
    "print(\"Best score for classification:\", tree_grid_cl.best_score_)\n",
    "print(\"Best params for regressor:\", tree_grid_reg.best_params_)\n",
    "print(\"Best neg mean score for regressor:\", tree_grid_reg.best_score_)"
   ]
  },
  {
   "cell_type": "markdown",
   "id": "25c0ad3e",
   "metadata": {
    "papermill": {
     "duration": 0.029309,
     "end_time": "2023-11-02T09:42:05.475436",
     "exception": false,
     "start_time": "2023-11-02T09:42:05.446127",
     "status": "completed"
    },
    "tags": []
   },
   "source": [
    "Now lets test our model on valid data."
   ]
  },
  {
   "cell_type": "code",
   "execution_count": 26,
   "id": "31543b3e",
   "metadata": {
    "execution": {
     "iopub.execute_input": "2023-11-02T09:42:05.529083Z",
     "iopub.status.busy": "2023-11-02T09:42:05.528661Z",
     "iopub.status.idle": "2023-11-02T09:42:05.537843Z",
     "shell.execute_reply": "2023-11-02T09:42:05.537090Z"
    },
    "papermill": {
     "duration": 0.038169,
     "end_time": "2023-11-02T09:42:05.539799",
     "exception": false,
     "start_time": "2023-11-02T09:42:05.501630",
     "status": "completed"
    },
    "tags": []
   },
   "outputs": [],
   "source": [
    "best_tree_cl = tree_grid_cl.best_estimator_\n",
    "best_tree_reg = tree_grid_reg.best_estimator_\n",
    "y_pred_cl = best_tree_cl.predict(X_valid)\n",
    "y_pred_reg = best_tree_reg.predict(X_valid)"
   ]
  },
  {
   "cell_type": "markdown",
   "id": "51170a18",
   "metadata": {
    "papermill": {
     "duration": 0.03263,
     "end_time": "2023-11-02T09:42:05.600749",
     "exception": false,
     "start_time": "2023-11-02T09:42:05.568119",
     "status": "completed"
    },
    "tags": []
   },
   "source": [
    "We can see result better than first time. But regression model have anyway bad result."
   ]
  },
  {
   "cell_type": "code",
   "execution_count": 27,
   "id": "987496dd",
   "metadata": {
    "execution": {
     "iopub.execute_input": "2023-11-02T09:42:05.657916Z",
     "iopub.status.busy": "2023-11-02T09:42:05.657578Z",
     "iopub.status.idle": "2023-11-02T09:42:05.667202Z",
     "shell.execute_reply": "2023-11-02T09:42:05.666175Z"
    },
    "papermill": {
     "duration": 0.038532,
     "end_time": "2023-11-02T09:42:05.669196",
     "exception": false,
     "start_time": "2023-11-02T09:42:05.630664",
     "status": "completed"
    },
    "tags": []
   },
   "outputs": [
    {
     "name": "stdout",
     "output_type": "stream",
     "text": [
      "Mean score for Regresscor: 4414994.514847938\n",
      "R2_Score for Regresscor: 0.1368425392911744\n",
      "Accuracy score for Classifier: 0.7140468227424749\n"
     ]
    }
   ],
   "source": [
    "print(\"Mean score for Regresscor:\", mean_squared_error(np.exp(y_valid_reg), np.exp((y_pred_reg))))\n",
    "print(\"R2_Score for Regresscor:\", r2_score(np.exp(y_valid_reg),np.exp(y_pred_reg)))\n",
    "print(\"Accuracy score for Classifier:\", accuracy_score(y_valid_cl, y_pred_cl))"
   ]
  },
  {
   "cell_type": "markdown",
   "id": "0cc991cf",
   "metadata": {
    "papermill": {
     "duration": 0.025887,
     "end_time": "2023-11-02T09:42:05.721166",
     "exception": false,
     "start_time": "2023-11-02T09:42:05.695279",
     "status": "completed"
    },
    "tags": []
   },
   "source": [
    "## Graphics"
   ]
  },
  {
   "cell_type": "markdown",
   "id": "189b4535",
   "metadata": {
    "papermill": {
     "duration": 0.025991,
     "end_time": "2023-11-02T09:42:05.772804",
     "exception": false,
     "start_time": "2023-11-02T09:42:05.746813",
     "status": "completed"
    },
    "tags": []
   },
   "source": [
    "Lets see how hyperparameters change our result."
   ]
  },
  {
   "cell_type": "code",
   "execution_count": 28,
   "id": "cbe8d7df",
   "metadata": {
    "execution": {
     "iopub.execute_input": "2023-11-02T09:42:05.828000Z",
     "iopub.status.busy": "2023-11-02T09:42:05.827614Z",
     "iopub.status.idle": "2023-11-02T09:42:05.832137Z",
     "shell.execute_reply": "2023-11-02T09:42:05.831192Z"
    },
    "papermill": {
     "duration": 0.034527,
     "end_time": "2023-11-02T09:42:05.834378",
     "exception": false,
     "start_time": "2023-11-02T09:42:05.799851",
     "status": "completed"
    },
    "tags": []
   },
   "outputs": [],
   "source": [
    "from sklearn.model_selection import validation_curve"
   ]
  },
  {
   "cell_type": "code",
   "execution_count": 29,
   "id": "1fcd235f",
   "metadata": {
    "execution": {
     "iopub.execute_input": "2023-11-02T09:42:05.886678Z",
     "iopub.status.busy": "2023-11-02T09:42:05.886429Z",
     "iopub.status.idle": "2023-11-02T09:42:07.146073Z",
     "shell.execute_reply": "2023-11-02T09:42:07.145096Z"
    },
    "papermill": {
     "duration": 1.288213,
     "end_time": "2023-11-02T09:42:07.148381",
     "exception": false,
     "start_time": "2023-11-02T09:42:05.860168",
     "status": "completed"
    },
    "tags": []
   },
   "outputs": [],
   "source": [
    "r2_scores_depth = validation_curve(tree_grid_reg.best_estimator_, X_train, y_train_reg, param_name=\"max_depth\", param_range=np.arange(1, 21, 2), scoring='r2')[1]"
   ]
  },
  {
   "cell_type": "code",
   "execution_count": 30,
   "id": "c1e3630a",
   "metadata": {
    "execution": {
     "iopub.execute_input": "2023-11-02T09:42:07.201288Z",
     "iopub.status.busy": "2023-11-02T09:42:07.200976Z",
     "iopub.status.idle": "2023-11-02T09:42:08.081078Z",
     "shell.execute_reply": "2023-11-02T09:42:08.080311Z"
    },
    "papermill": {
     "duration": 0.908766,
     "end_time": "2023-11-02T09:42:08.083364",
     "exception": false,
     "start_time": "2023-11-02T09:42:07.174598",
     "status": "completed"
    },
    "tags": []
   },
   "outputs": [],
   "source": [
    "r2_scores_split = validation_curve(tree_grid_reg.best_estimator_, X_train, y_train_reg, param_name=\"min_samples_split\", param_range=np.arange(1, 21, 2), scoring='r2')[1]"
   ]
  },
  {
   "cell_type": "code",
   "execution_count": 31,
   "id": "f33f0f7d",
   "metadata": {
    "execution": {
     "iopub.execute_input": "2023-11-02T09:42:08.139787Z",
     "iopub.status.busy": "2023-11-02T09:42:08.139452Z",
     "iopub.status.idle": "2023-11-02T09:42:09.088657Z",
     "shell.execute_reply": "2023-11-02T09:42:09.087895Z"
    },
    "papermill": {
     "duration": 0.979903,
     "end_time": "2023-11-02T09:42:09.091009",
     "exception": false,
     "start_time": "2023-11-02T09:42:08.111106",
     "status": "completed"
    },
    "tags": []
   },
   "outputs": [],
   "source": [
    "r2_scores_leaf = validation_curve(tree_grid_reg.best_estimator_, X_train, y_train_reg, param_name=\"min_samples_leaf\", param_range=np.arange(1, 21, 2), scoring='r2')[1]"
   ]
  },
  {
   "cell_type": "code",
   "execution_count": 32,
   "id": "3ad05134",
   "metadata": {
    "execution": {
     "iopub.execute_input": "2023-11-02T09:42:09.143832Z",
     "iopub.status.busy": "2023-11-02T09:42:09.143518Z",
     "iopub.status.idle": "2023-11-02T09:42:09.919699Z",
     "shell.execute_reply": "2023-11-02T09:42:09.918926Z"
    },
    "papermill": {
     "duration": 0.805374,
     "end_time": "2023-11-02T09:42:09.922142",
     "exception": false,
     "start_time": "2023-11-02T09:42:09.116768",
     "status": "completed"
    },
    "tags": []
   },
   "outputs": [],
   "source": [
    "r2_scores_feat = validation_curve(tree_grid_reg.best_estimator_, X_train, y_train_reg, param_name=\"max_features\", param_range=np.arange(1, 21, 2), scoring='r2')[1]"
   ]
  },
  {
   "cell_type": "code",
   "execution_count": 33,
   "id": "1a103d9e",
   "metadata": {
    "execution": {
     "iopub.execute_input": "2023-11-02T09:42:09.978230Z",
     "iopub.status.busy": "2023-11-02T09:42:09.977864Z",
     "iopub.status.idle": "2023-11-02T09:42:11.110788Z",
     "shell.execute_reply": "2023-11-02T09:42:11.109812Z"
    },
    "papermill": {
     "duration": 1.163802,
     "end_time": "2023-11-02T09:42:11.113134",
     "exception": false,
     "start_time": "2023-11-02T09:42:09.949332",
     "status": "completed"
    },
    "tags": []
   },
   "outputs": [],
   "source": [
    "acur_depth = validation_curve(tree_grid_cl.best_estimator_, X_train, y_train_cl, param_name=\"max_depth\", param_range=np.arange(1, 21, 2), scoring='accuracy')[1]"
   ]
  },
  {
   "cell_type": "code",
   "execution_count": 34,
   "id": "9b455dcb",
   "metadata": {
    "execution": {
     "iopub.execute_input": "2023-11-02T09:42:11.166748Z",
     "iopub.status.busy": "2023-11-02T09:42:11.166436Z",
     "iopub.status.idle": "2023-11-02T09:42:12.092923Z",
     "shell.execute_reply": "2023-11-02T09:42:12.092145Z"
    },
    "papermill": {
     "duration": 0.954895,
     "end_time": "2023-11-02T09:42:12.095104",
     "exception": false,
     "start_time": "2023-11-02T09:42:11.140209",
     "status": "completed"
    },
    "tags": []
   },
   "outputs": [],
   "source": [
    "acur_split = validation_curve(tree_grid_cl.best_estimator_, X_train, y_train_cl, param_name=\"min_samples_split\", param_range=np.arange(1, 21, 2), scoring='accuracy')[1]"
   ]
  },
  {
   "cell_type": "code",
   "execution_count": 35,
   "id": "9663b9df",
   "metadata": {
    "execution": {
     "iopub.execute_input": "2023-11-02T09:42:12.146821Z",
     "iopub.status.busy": "2023-11-02T09:42:12.146500Z",
     "iopub.status.idle": "2023-11-02T09:42:13.182899Z",
     "shell.execute_reply": "2023-11-02T09:42:13.181864Z"
    },
    "papermill": {
     "duration": 1.065019,
     "end_time": "2023-11-02T09:42:13.185454",
     "exception": false,
     "start_time": "2023-11-02T09:42:12.120435",
     "status": "completed"
    },
    "tags": []
   },
   "outputs": [],
   "source": [
    "acur_leaf = validation_curve(tree_grid_cl.best_estimator_, X_train, y_train_cl, param_name=\"min_samples_leaf\", param_range=np.arange(1, 21, 2), scoring='accuracy')[1]"
   ]
  },
  {
   "cell_type": "code",
   "execution_count": 36,
   "id": "9c91835d",
   "metadata": {
    "execution": {
     "iopub.execute_input": "2023-11-02T09:42:13.238555Z",
     "iopub.status.busy": "2023-11-02T09:42:13.238267Z",
     "iopub.status.idle": "2023-11-02T09:42:14.255898Z",
     "shell.execute_reply": "2023-11-02T09:42:14.255063Z"
    },
    "papermill": {
     "duration": 1.046473,
     "end_time": "2023-11-02T09:42:14.258467",
     "exception": false,
     "start_time": "2023-11-02T09:42:13.211994",
     "status": "completed"
    },
    "tags": []
   },
   "outputs": [],
   "source": [
    "acur_feat = validation_curve(tree_grid_cl.best_estimator_, X_train, y_train_cl, param_name=\"max_features\", param_range=np.arange(1, 21, 2), scoring='accuracy')[1]"
   ]
  },
  {
   "cell_type": "code",
   "execution_count": 37,
   "id": "12087cd9",
   "metadata": {
    "execution": {
     "iopub.execute_input": "2023-11-02T09:42:14.312762Z",
     "iopub.status.busy": "2023-11-02T09:42:14.312205Z",
     "iopub.status.idle": "2023-11-02T09:42:14.545229Z",
     "shell.execute_reply": "2023-11-02T09:42:14.544302Z"
    },
    "papermill": {
     "duration": 0.260971,
     "end_time": "2023-11-02T09:42:14.547228",
     "exception": false,
     "start_time": "2023-11-02T09:42:14.286257",
     "status": "completed"
    },
    "tags": []
   },
   "outputs": [
    {
     "data": {
      "image/png": "[encoded data removed]",
      "text/plain": [
       "<Figure size 640x480 with 1 Axes>"
      ]
     },
     "metadata": {},
     "output_type": "display_data"
    }
   ],
   "source": [
    "plt.plot(list(range(2, 21, 2)), np.mean(r2_scores_depth,  axis=1))\n",
    "plt.plot(list(range(2, 21, 2)), np.mean(r2_scores_feat, axis=1))\n",
    "plt.legend (('max_depth', 'max_features'))\n",
    "plt.xlabel('Hyper parameters')\n",
    "plt.ylabel('R2 score')\n",
    "plt.show()"
   ]
  },
  {
   "cell_type": "code",
   "execution_count": 38,
   "id": "b470eb7f",
   "metadata": {
    "execution": {
     "iopub.execute_input": "2023-11-02T09:42:14.600783Z",
     "iopub.status.busy": "2023-11-02T09:42:14.600035Z",
     "iopub.status.idle": "2023-11-02T09:42:14.814192Z",
     "shell.execute_reply": "2023-11-02T09:42:14.813202Z"
    },
    "papermill": {
     "duration": 0.243409,
     "end_time": "2023-11-02T09:42:14.816322",
     "exception": false,
     "start_time": "2023-11-02T09:42:14.572913",
     "status": "completed"
    },
    "tags": []
   },
   "outputs": [
    {
     "data": {
      "image/png": "[encoded data removed]",
      "text/plain": [
       "<Figure size 640x480 with 1 Axes>"
      ]
     },
     "metadata": {},
     "output_type": "display_data"
    }
   ],
   "source": [
    "plt.plot(list(range(2, 21, 2)), np.mean(r2_scores_split,  axis=1))\n",
    "plt.plot(list(range(2, 21, 2)), np.mean(r2_scores_leaf, axis=1))\n",
    "plt.legend (('min_samples_split', 'min_samples_leaf', 'max_features'))\n",
    "plt.xlabel('Hyper parameters')\n",
    "plt.ylabel('R2 score')\n",
    "plt.show()"
   ]
  },
  {
   "cell_type": "code",
   "execution_count": 39,
   "id": "abae85c3",
   "metadata": {
    "execution": {
     "iopub.execute_input": "2023-11-02T09:42:14.871056Z",
     "iopub.status.busy": "2023-11-02T09:42:14.870741Z",
     "iopub.status.idle": "2023-11-02T09:42:15.143795Z",
     "shell.execute_reply": "2023-11-02T09:42:15.142772Z"
    },
    "papermill": {
     "duration": 0.302511,
     "end_time": "2023-11-02T09:42:15.145881",
     "exception": false,
     "start_time": "2023-11-02T09:42:14.843370",
     "status": "completed"
    },
    "tags": []
   },
   "outputs": [
    {
     "data": {
      "image/png": "[encoded data removed]",
      "text/plain": [
       "<Figure size 640x480 with 1 Axes>"
      ]
     },
     "metadata": {},
     "output_type": "display_data"
    }
   ],
   "source": [
    "plt.plot(list(range(2, 21, 2)), np.mean(acur_depth,  axis=1))\n",
    "plt.plot(list(range(2, 21, 2)), np.mean(acur_feat,  axis=1))\n",
    "plt.plot(list(range(2, 21, 2)), np.mean(acur_leaf, axis=1))\n",
    "plt.legend (('max_depth', 'max_features', 'min_samples_leaf'))\n",
    "plt.xlabel('Hyper parameters')\n",
    "plt.ylabel('Accuracy score')\n",
    "plt.show()"
   ]
  },
  {
   "cell_type": "code",
   "execution_count": 40,
   "id": "cd9c7987",
   "metadata": {
    "execution": {
     "iopub.execute_input": "2023-11-02T09:42:15.203379Z",
     "iopub.status.busy": "2023-11-02T09:42:15.203085Z",
     "iopub.status.idle": "2023-11-02T09:42:15.476385Z",
     "shell.execute_reply": "2023-11-02T09:42:15.475438Z"
    },
    "papermill": {
     "duration": 0.303876,
     "end_time": "2023-11-02T09:42:15.478543",
     "exception": false,
     "start_time": "2023-11-02T09:42:15.174667",
     "status": "completed"
    },
    "tags": []
   },
   "outputs": [
    {
     "data": {
      "image/png": "[encoded data removed]",
      "text/plain": [
       "<Figure size 640x480 with 1 Axes>"
      ]
     },
     "metadata": {},
     "output_type": "display_data"
    }
   ],
   "source": [
    "plt.plot(list(range(2, 21, 2)), np.mean(acur_split, axis=1))\n",
    "plt.xlabel('min_samples_split')\n",
    "plt.ylabel('Accuracy score')\n",
    "plt.show()"
   ]
  },
  {
   "cell_type": "markdown",
   "id": "78df2b35",
   "metadata": {
    "papermill": {
     "duration": 0.02766,
     "end_time": "2023-11-02T09:42:15.534484",
     "exception": false,
     "start_time": "2023-11-02T09:42:15.506824",
     "status": "completed"
    },
    "tags": []
   },
   "source": [
    "#### `max_depth` and `min_samples_split` have negative correlation with score at some value. `max_features` by contrast have positive correlation."
   ]
  },
  {
   "cell_type": "markdown",
   "id": "afa52785",
   "metadata": {
    "papermill": {
     "duration": 0.036499,
     "end_time": "2023-11-02T09:42:15.600706",
     "exception": false,
     "start_time": "2023-11-02T09:42:15.564207",
     "status": "completed"
    },
    "tags": []
   },
   "source": [
    "## Visualization of graph"
   ]
  },
  {
   "cell_type": "code",
   "execution_count": 41,
   "id": "4f562edd",
   "metadata": {
    "execution": {
     "iopub.execute_input": "2023-11-02T09:42:15.660960Z",
     "iopub.status.busy": "2023-11-02T09:42:15.660598Z",
     "iopub.status.idle": "2023-11-02T09:42:15.688939Z",
     "shell.execute_reply": "2023-11-02T09:42:15.688026Z"
    },
    "papermill": {
     "duration": 0.060587,
     "end_time": "2023-11-02T09:42:15.692597",
     "exception": false,
     "start_time": "2023-11-02T09:42:15.632010",
     "status": "completed"
    },
    "tags": []
   },
   "outputs": [
    {
     "name": "stdout",
     "output_type": "stream",
     "text": [
      "digraph Tree {\n",
      "node [shape=box, fontname=\"helvetica\"] ;\n",
      "edge [fontname=\"helvetica\"] ;\n",
      "0 [label=\"timedelta <= 77.5\\ngini = 0.489\\nsamples = 4782\\nvalue = [2741, 2041]\"] ;\n",
      "1 [label=\"kw_max_avg <= 4330.292\\ngini = 0.475\\nsamples = 4243\\nvalue = [2593, 1650]\"] ;\n",
      "0 -> 1 [labeldistance=2.5, labelangle=45, headlabel=\"True\"] ;\n",
      "2 [label=\"self_reference_max_shares <= 1750.0\\ngini = 0.4\\nsamples = 2156\\nvalue = [1559, 597]\"] ;\n",
      "1 -> 2 ;\n",
      "3 [label=\"LDA_00 <= 0.199\\ngini = 0.308\\nsamples = 969\\nvalue = [785, 184]\"] ;\n",
      "2 -> 3 ;\n",
      "4 [label=\"self_reference_min_shares <= 1050.0\\ngini = 0.276\\nsamples = 797\\nvalue = [665, 132]\"] ;\n",
      "3 -> 4 ;\n",
      "5 [label=\"LDA_04 <= 0.597\\ngini = 0.246\\nsamples = 592\\nvalue = [507, 85]\"] ;\n",
      "4 -> 5 ;\n",
      "6 [label=\"n_non_stop_unique_tokens <= 0.525\\ngini = 0.225\\nsamples = 543\\nvalue = [473, 70]\"] ;\n",
      "5 -> 6 ;\n",
      "7 [label=\"gini = 0.453\\nsamples = 49\\nvalue = [32, 17]\"] ;\n",
      "6 -> 7 ;\n",
      "8 [label=\"gini = 0.192\\nsamples = 494\\nvalue = [441, 53]\"] ;\n",
      "6 -> 8 ;\n",
      "9 [label=\"max_negative_polarity <= -0.038\\ngini = 0.425\\nsamples = 49\\nvalue = [34, 15]\"] ;\n",
      "5 -> 9 ;\n",
      "10 [label=\"gini = 0.386\\nsamples = 46\\nvalue = [34, 12]\"] ;\n",
      "9 -> 10 ;\n",
      "11 [label=\"gini = 0.0\\nsamples = 3\\nvalue = [0, 3]\"] ;\n",
      "9 -> 11 ;\n",
      "12 [label=\"global_rate_negative_words <= 0.017\\ngini = 0.353\\nsamples = 205\\nvalue = [158, 47]\"] ;\n",
      "4 -> 12 ;\n",
      "13 [label=\"num_self_hrefs <= 2.5\\ngini = 0.438\\nsamples = 108\\nvalue = [73, 35]\"] ;\n",
      "12 -> 13 ;\n",
      "14 [label=\"gini = 0.4\\nsamples = 87\\nvalue = [63, 24]\"] ;\n",
      "13 -> 14 ;\n",
      "15 [label=\"gini = 0.499\\nsamples = 21\\nvalue = [10, 11]\"] ;\n",
      "13 -> 15 ;\n",
      "16 [label=\"avg_positive_polarity <= 0.379\\ngini = 0.217\\nsamples = 97\\nvalue = [85, 12]\"] ;\n",
      "12 -> 16 ;\n",
      "17 [label=\"gini = 0.265\\nsamples = 70\\nvalue = [59, 11]\"] ;\n",
      "16 -> 17 ;\n",
      "18 [label=\"gini = 0.071\\nsamples = 27\\nvalue = [26, 1]\"] ;\n",
      "16 -> 18 ;\n",
      "19 [label=\"kw_avg_avg <= 2781.035\\ngini = 0.422\\nsamples = 172\\nvalue = [120, 52]\"] ;\n",
      "3 -> 19 ;\n",
      "20 [label=\"kw_avg_max <= 373404.172\\ngini = 0.346\\nsamples = 117\\nvalue = [91, 26]\"] ;\n",
      "19 -> 20 ;\n",
      "21 [label=\"n_non_stop_unique_tokens <= 0.69\\ngini = 0.396\\nsamples = 92\\nvalue = [67, 25]\"] ;\n",
      "20 -> 21 ;\n",
      "22 [label=\"gini = 0.486\\nsamples = 48\\nvalue = [28, 20]\"] ;\n",
      "21 -> 22 ;\n",
      "23 [label=\"gini = 0.201\\nsamples = 44\\nvalue = [39, 5]\"] ;\n",
      "21 -> 23 ;\n",
      "24 [label=\"num_self_hrefs <= 5.5\\ngini = 0.077\\nsamples = 25\\nvalue = [24, 1]\"] ;\n",
      "20 -> 24 ;\n",
      "25 [label=\"gini = 0.0\\nsamples = 23\\nvalue = [23, 0]\"] ;\n",
      "24 -> 25 ;\n",
      "26 [label=\"gini = 0.5\\nsamples = 2\\nvalue = [1, 1]\"] ;\n",
      "24 -> 26 ;\n",
      "27 [label=\"LDA_00 <= 0.866\\ngini = 0.499\\nsamples = 55\\nvalue = [29, 26]\"] ;\n",
      "19 -> 27 ;\n",
      "28 [label=\"LDA_01 <= 0.067\\ngini = 0.483\\nsamples = 49\\nvalue = [29, 20]\"] ;\n",
      "27 -> 28 ;\n",
      "29 [label=\"gini = 0.498\\nsamples = 36\\nvalue = [17, 19]\"] ;\n",
      "28 -> 29 ;\n",
      "30 [label=\"gini = 0.142\\nsamples = 13\\nvalue = [12, 1]\"] ;\n",
      "28 -> 30 ;\n",
      "31 [label=\"gini = 0.0\\nsamples = 6\\nvalue = [0, 6]\"] ;\n",
      "27 -> 31 ;\n",
      "32 [label=\"LDA_04 <= 0.424\\ngini = 0.454\\nsamples = 1187\\nvalue = [774, 413]\"] ;\n",
      "2 -> 32 ;\n",
      "33 [label=\"kw_max_avg <= 3658.139\\ngini = 0.41\\nsamples = 858\\nvalue = [611, 247]\"] ;\n",
      "32 -> 33 ;\n",
      "34 [label=\"data_channel_is_entertainment <= 0.5\\ngini = 0.371\\nsamples = 572\\nvalue = [431, 141]\"] ;\n",
      "33 -> 34 ;\n",
      "35 [label=\"num_hrefs <= 29.0\\ngini = 0.399\\nsamples = 457\\nvalue = [331, 126]\"] ;\n",
      "34 -> 35 ;\n",
      "36 [label=\"gini = 0.386\\nsamples = 429\\nvalue = [317, 112]\"] ;\n",
      "35 -> 36 ;\n",
      "37 [label=\"gini = 0.5\\nsamples = 28\\nvalue = [14, 14]\"] ;\n",
      "35 -> 37 ;\n",
      "38 [label=\"is_weekend <= 0.5\\ngini = 0.227\\nsamples = 115\\nvalue = [100, 15]\"] ;\n",
      "34 -> 38 ;\n",
      "39 [label=\"gini = 0.177\\nsamples = 102\\nvalue = [92, 10]\"] ;\n",
      "38 -> 39 ;\n",
      "40 [label=\"gini = 0.473\\nsamples = 13\\nvalue = [8, 5]\"] ;\n",
      "38 -> 40 ;\n",
      "41 [label=\"weekday_is_tuesday <= 0.5\\ngini = 0.467\\nsamples = 286\\nvalue = [180, 106]\"] ;\n",
      "33 -> 41 ;\n",
      "42 [label=\"global_rate_positive_words <= 0.039\\ngini = 0.486\\nsamples = 235\\nvalue = [137, 98]\"] ;\n",
      "41 -> 42 ;\n",
      "43 [label=\"gini = 0.453\\nsamples = 167\\nvalue = [109, 58]\"] ;\n",
      "42 -> 43 ;\n",
      "44 [label=\"gini = 0.484\\nsamples = 68\\nvalue = [28, 40]\"] ;\n",
      "42 -> 44 ;\n",
      "45 [label=\"average_token_length <= 4.269\\ngini = 0.265\\nsamples = 51\\nvalue = [43, 8]\"] ;\n",
      "41 -> 45 ;\n",
      "46 [label=\"gini = 0.444\\nsamples = 3\\nvalue = [1, 2]\"] ;\n",
      "45 -> 46 ;\n",
      "47 [label=\"gini = 0.219\\nsamples = 48\\nvalue = [42, 6]\"] ;\n",
      "45 -> 47 ;\n",
      "48 [label=\"kw_min_avg <= 2341.487\\ngini = 0.5\\nsamples = 329\\nvalue = [163, 166]\"] ;\n",
      "32 -> 48 ;\n",
      "49 [label=\"rate_positive_words <= 0.73\\ngini = 0.499\\nsamples = 294\\nvalue = [154, 140]\"] ;\n",
      "48 -> 49 ;\n",
      "50 [label=\"kw_avg_max <= 314261.25\\ngini = 0.477\\nsamples = 130\\nvalue = [79, 51]\"] ;\n",
      "49 -> 50 ;\n",
      "51 [label=\"gini = 0.375\\nsamples = 68\\nvalue = [51, 17]\"] ;\n",
      "50 -> 51 ;\n",
      "52 [label=\"gini = 0.495\\nsamples = 62\\nvalue = [28, 34]\"] ;\n",
      "50 -> 52 ;\n",
      "53 [label=\"rate_negative_words <= 0.259\\ngini = 0.496\\nsamples = 164\\nvalue = [75, 89]\"] ;\n",
      "49 -> 53 ;\n",
      "54 [label=\"gini = 0.499\\nsamples = 154\\nvalue = [74, 80]\"] ;\n",
      "53 -> 54 ;\n",
      "55 [label=\"gini = 0.18\\nsamples = 10\\nvalue = [1, 9]\"] ;\n",
      "53 -> 55 ;\n",
      "56 [label=\"global_rate_positive_words <= 0.026\\ngini = 0.382\\nsamples = 35\\nvalue = [9, 26]\"] ;\n",
      "48 -> 56 ;\n",
      "57 [label=\"gini = 0.375\\nsamples = 4\\nvalue = [3, 1]\"] ;\n",
      "56 -> 57 ;\n",
      "58 [label=\"kw_max_avg <= 4232.859\\ngini = 0.312\\nsamples = 31\\nvalue = [6, 25]\"] ;\n",
      "56 -> 58 ;\n",
      "59 [label=\"gini = 0.198\\nsamples = 27\\nvalue = [3, 24]\"] ;\n",
      "58 -> 59 ;\n",
      "60 [label=\"gini = 0.375\\nsamples = 4\\nvalue = [3, 1]\"] ;\n",
      "58 -> 60 ;\n",
      "61 [label=\"is_weekend <= 0.5\\ngini = 0.5\\nsamples = 2087\\nvalue = [1034, 1053]\"] ;\n",
      "1 -> 61 ;\n",
      "62 [label=\"self_reference_max_shares <= 3350.0\\ngini = 0.498\\nsamples = 1778\\nvalue = [947, 831]\"] ;\n",
      "61 -> 62 ;\n",
      "63 [label=\"abs_title_subjectivity <= 0.342\\ngini = 0.482\\nsamples = 1078\\nvalue = [640, 438]\"] ;\n",
      "62 -> 63 ;\n",
      "64 [label=\"kw_avg_avg <= 3980.396\\ngini = 0.497\\nsamples = 465\\nvalue = [250, 215]\"] ;\n",
      "63 -> 64 ;\n",
      "65 [label=\"self_reference_max_shares <= 2950.0\\ngini = 0.477\\nsamples = 277\\nvalue = [168, 109]\"] ;\n",
      "64 -> 65 ;\n",
      "66 [label=\"gini = 0.469\\nsamples = 258\\nvalue = [161, 97]\"] ;\n",
      "65 -> 66 ;\n",
      "67 [label=\"gini = 0.465\\nsamples = 19\\nvalue = [7, 12]\"] ;\n",
      "65 -> 67 ;\n",
      "68 [label=\"timedelta <= 69.5\\ngini = 0.492\\nsamples = 188\\nvalue = [82, 106]\"] ;\n",
      "64 -> 68 ;\n",
      "69 [label=\"gini = 0.48\\nsamples = 172\\nvalue = [69, 103]\"] ;\n",
      "68 -> 69 ;\n",
      "70 [label=\"gini = 0.305\\nsamples = 16\\nvalue = [13, 3]\"] ;\n",
      "68 -> 70 ;\n",
      "71 [label=\"kw_avg_avg <= 2777.806\\ngini = 0.463\\nsamples = 613\\nvalue = [390, 223]\"] ;\n",
      "63 -> 71 ;\n",
      "72 [label=\"n_non_stop_unique_tokens <= 0.597\\ngini = 0.317\\nsamples = 81\\nvalue = [65, 16]\"] ;\n",
      "71 -> 72 ;\n",
      "73 [label=\"gini = 0.473\\nsamples = 13\\nvalue = [5, 8]\"] ;\n",
      "72 -> 73 ;\n",
      "74 [label=\"gini = 0.208\\nsamples = 68\\nvalue = [60, 8]\"] ;\n",
      "72 -> 74 ;\n",
      "75 [label=\"global_subjectivity <= 0.615\\ngini = 0.475\\nsamples = 532\\nvalue = [325, 207]\"] ;\n",
      "71 -> 75 ;\n",
      "76 [label=\"gini = 0.479\\nsamples = 522\\nvalue = [315, 207]\"] ;\n",
      "75 -> 76 ;\n",
      "77 [label=\"gini = 0.0\\nsamples = 10\\nvalue = [10, 0]\"] ;\n",
      "75 -> 77 ;\n",
      "78 [label=\"kw_min_avg <= 2549.778\\ngini = 0.492\\nsamples = 700\\nvalue = [307, 393]\"] ;\n",
      "62 -> 78 ;\n",
      "79 [label=\"rate_negative_words <= 0.478\\ngini = 0.5\\nsamples = 516\\nvalue = [251, 265]\"] ;\n",
      "78 -> 79 ;\n",
      "80 [label=\"kw_max_avg <= 6053.159\\ngini = 0.496\\nsamples = 448\\nvalue = [205, 243]\"] ;\n",
      "79 -> 80 ;\n",
      "81 [label=\"gini = 0.499\\nsamples = 231\\nvalue = [120, 111]\"] ;\n",
      "80 -> 81 ;\n",
      "82 [label=\"gini = 0.477\\nsamples = 217\\nvalue = [85, 132]\"] ;\n",
      "80 -> 82 ;\n",
      "83 [label=\"kw_max_min <= 5050.0\\ngini = 0.438\\nsamples = 68\\nvalue = [46, 22]\"] ;\n",
      "79 -> 83 ;\n",
      "84 [label=\"gini = 0.417\\nsamples = 64\\nvalue = [45, 19]\"] ;\n",
      "83 -> 84 ;\n",
      "85 [label=\"gini = 0.375\\nsamples = 4\\nvalue = [1, 3]\"] ;\n",
      "83 -> 85 ;\n",
      "86 [label=\"LDA_04 <= 0.756\\ngini = 0.423\\nsamples = 184\\nvalue = [56, 128]\"] ;\n",
      "78 -> 86 ;\n",
      "87 [label=\"avg_positive_polarity <= 0.448\\ngini = 0.407\\nsamples = 179\\nvalue = [51, 128]\"] ;\n",
      "86 -> 87 ;\n",
      "88 [label=\"gini = 0.334\\nsamples = 132\\nvalue = [28, 104]\"] ;\n",
      "87 -> 88 ;\n",
      "89 [label=\"gini = 0.5\\nsamples = 47\\nvalue = [23, 24]\"] ;\n",
      "87 -> 89 ;\n",
      "90 [label=\"gini = 0.0\\nsamples = 5\\nvalue = [5, 0]\"] ;\n",
      "86 -> 90 ;\n",
      "91 [label=\"self_reference_min_shares <= 1850.0\\ngini = 0.405\\nsamples = 309\\nvalue = [87, 222]\"] ;\n",
      "61 -> 91 ;\n",
      "92 [label=\"min_positive_polarity <= 0.042\\ngini = 0.45\\nsamples = 190\\nvalue = [65, 125]\"] ;\n",
      "91 -> 92 ;\n",
      "93 [label=\"kw_avg_max <= 167105.0\\ngini = 0.294\\nsamples = 67\\nvalue = [12, 55]\"] ;\n",
      "92 -> 93 ;\n",
      "94 [label=\"gini = 0.0\\nsamples = 2\\nvalue = [2, 0]\"] ;\n",
      "93 -> 94 ;\n",
      "95 [label=\"LDA_01 <= 0.359\\ngini = 0.26\\nsamples = 65\\nvalue = [10, 55]\"] ;\n",
      "93 -> 95 ;\n",
      "96 [label=\"gini = 0.228\\nsamples = 61\\nvalue = [8, 53]\"] ;\n",
      "95 -> 96 ;\n",
      "97 [label=\"gini = 0.5\\nsamples = 4\\nvalue = [2, 2]\"] ;\n",
      "95 -> 97 ;\n",
      "98 [label=\"self_reference_min_shares <= 1650.0\\ngini = 0.49\\nsamples = 123\\nvalue = [53, 70]\"] ;\n",
      "92 -> 98 ;\n",
      "99 [label=\"self_reference_avg_sharess <= 2525.0\\ngini = 0.481\\nsamples = 114\\nvalue = [46, 68]\"] ;\n",
      "98 -> 99 ;\n",
      "100 [label=\"gini = 0.497\\nsamples = 91\\nvalue = [42, 49]\"] ;\n",
      "99 -> 100 ;\n",
      "101 [label=\"gini = 0.287\\nsamples = 23\\nvalue = [4, 19]\"] ;\n",
      "99 -> 101 ;\n",
      "102 [label=\"title_sentiment_polarity <= 0.358\\ngini = 0.346\\nsamples = 9\\nvalue = [7, 2]\"] ;\n",
      "98 -> 102 ;\n",
      "103 [label=\"gini = 0.0\\nsamples = 7\\nvalue = [7, 0]\"] ;\n",
      "102 -> 103 ;\n",
      "104 [label=\"gini = 0.0\\nsamples = 2\\nvalue = [0, 2]\"] ;\n",
      "102 -> 104 ;\n",
      "105 [label=\"global_rate_negative_words <= 0.032\\ngini = 0.301\\nsamples = 119\\nvalue = [22, 97]\"] ;\n",
      "91 -> 105 ;\n",
      "106 [label=\"self_reference_min_shares <= 48800.0\\ngini = 0.261\\nsamples = 110\\nvalue = [17, 93]\"] ;\n",
      "105 -> 106 ;\n",
      "107 [label=\"self_reference_max_shares <= 5550.0\\ngini = 0.239\\nsamples = 108\\nvalue = [15, 93]\"] ;\n",
      "106 -> 107 ;\n",
      "108 [label=\"gini = 0.346\\nsamples = 54\\nvalue = [12, 42]\"] ;\n",
      "107 -> 108 ;\n",
      "109 [label=\"gini = 0.105\\nsamples = 54\\nvalue = [3, 51]\"] ;\n",
      "107 -> 109 ;\n",
      "110 [label=\"gini = 0.0\\nsamples = 2\\nvalue = [2, 0]\"] ;\n",
      "106 -> 110 ;\n",
      "111 [label=\"kw_avg_max <= 546908.344\\ngini = 0.494\\nsamples = 9\\nvalue = [5, 4]\"] ;\n",
      "105 -> 111 ;\n",
      "112 [label=\"gini = 0.444\\nsamples = 6\\nvalue = [2, 4]\"] ;\n",
      "111 -> 112 ;\n",
      "113 [label=\"gini = 0.0\\nsamples = 3\\nvalue = [3, 0]\"] ;\n",
      "111 -> 113 ;\n",
      "114 [label=\"LDA_04 <= 0.033\\ngini = 0.398\\nsamples = 539\\nvalue = [148, 391]\"] ;\n",
      "0 -> 114 [labeldistance=2.5, labelangle=-45, headlabel=\"False\"] ;\n",
      "115 [label=\"global_sentiment_polarity <= 0.113\\ngini = 0.296\\nsamples = 194\\nvalue = [35, 159]\"] ;\n",
      "114 -> 115 ;\n",
      "116 [label=\"kw_avg_avg <= 2725.354\\ngini = 0.366\\nsamples = 116\\nvalue = [28, 88]\"] ;\n",
      "115 -> 116 ;\n",
      "117 [label=\"rate_positive_words <= 0.681\\ngini = 0.499\\nsamples = 23\\nvalue = [12, 11]\"] ;\n",
      "116 -> 117 ;\n",
      "118 [label=\"abs_title_sentiment_polarity <= 0.166\\ngini = 0.408\\nsamples = 14\\nvalue = [10, 4]\"] ;\n",
      "117 -> 118 ;\n",
      "119 [label=\"is_weekend <= 0.5\\ngini = 0.5\\nsamples = 8\\nvalue = [4, 4]\"] ;\n",
      "118 -> 119 ;\n",
      "120 [label=\"gini = 0.444\\nsamples = 6\\nvalue = [2, 4]\"] ;\n",
      "119 -> 120 ;\n",
      "121 [label=\"gini = 0.0\\nsamples = 2\\nvalue = [2, 0]\"] ;\n",
      "119 -> 121 ;\n",
      "122 [label=\"gini = 0.0\\nsamples = 6\\nvalue = [6, 0]\"] ;\n",
      "118 -> 122 ;\n",
      "123 [label=\"weekday_is_tuesday <= 0.5\\ngini = 0.346\\nsamples = 9\\nvalue = [2, 7]\"] ;\n",
      "117 -> 123 ;\n",
      "124 [label=\"gini = 0.0\\nsamples = 7\\nvalue = [0, 7]\"] ;\n",
      "123 -> 124 ;\n",
      "125 [label=\"gini = 0.0\\nsamples = 2\\nvalue = [2, 0]\"] ;\n",
      "123 -> 125 ;\n",
      "126 [label=\"global_sentiment_polarity <= 0.104\\ngini = 0.285\\nsamples = 93\\nvalue = [16, 77]\"] ;\n",
      "116 -> 126 ;\n",
      "127 [label=\"timedelta <= 86.5\\ngini = 0.26\\nsamples = 91\\nvalue = [14, 77]\"] ;\n",
      "126 -> 127 ;\n",
      "128 [label=\"title_sentiment_polarity <= 0.152\\ngini = 0.358\\nsamples = 60\\nvalue = [14, 46]\"] ;\n",
      "127 -> 128 ;\n",
      "129 [label=\"gini = 0.287\\nsamples = 46\\nvalue = [8, 38]\"] ;\n",
      "128 -> 129 ;\n",
      "130 [label=\"gini = 0.49\\nsamples = 14\\nvalue = [6, 8]\"] ;\n",
      "128 -> 130 ;\n",
      "131 [label=\"gini = 0.0\\nsamples = 31\\nvalue = [0, 31]\"] ;\n",
      "127 -> 131 ;\n",
      "132 [label=\"gini = 0.0\\nsamples = 2\\nvalue = [2, 0]\"] ;\n",
      "126 -> 132 ;\n",
      "133 [label=\"num_hrefs <= 1.5\\ngini = 0.163\\nsamples = 78\\nvalue = [7, 71]\"] ;\n",
      "115 -> 133 ;\n",
      "134 [label=\"gini = 0.5\\nsamples = 2\\nvalue = [1, 1]\"] ;\n",
      "133 -> 134 ;\n",
      "135 [label=\"LDA_00 <= 0.02\\ngini = 0.145\\nsamples = 76\\nvalue = [6, 70]\"] ;\n",
      "133 -> 135 ;\n",
      "136 [label=\"gini = 0.5\\nsamples = 2\\nvalue = [1, 1]\"] ;\n",
      "135 -> 136 ;\n",
      "137 [label=\"avg_negative_polarity <= -0.441\\ngini = 0.126\\nsamples = 74\\nvalue = [5, 69]\"] ;\n",
      "135 -> 137 ;\n",
      "138 [label=\"gini = 0.5\\nsamples = 2\\nvalue = [1, 1]\"] ;\n",
      "137 -> 138 ;\n",
      "139 [label=\"n_tokens_title <= 12.5\\ngini = 0.105\\nsamples = 72\\nvalue = [4, 68]\"] ;\n",
      "137 -> 139 ;\n",
      "140 [label=\"gini = 0.037\\nsamples = 53\\nvalue = [1, 52]\"] ;\n",
      "139 -> 140 ;\n",
      "141 [label=\"gini = 0.266\\nsamples = 19\\nvalue = [3, 16]\"] ;\n",
      "139 -> 141 ;\n",
      "142 [label=\"self_reference_avg_sharess <= 3024.167\\ngini = 0.441\\nsamples = 345\\nvalue = [113, 232]\"] ;\n",
      "114 -> 142 ;\n",
      "143 [label=\"global_sentiment_polarity <= 0.2\\ngini = 0.478\\nsamples = 215\\nvalue = [85, 130]\"] ;\n",
      "142 -> 143 ;\n",
      "144 [label=\"n_unique_tokens <= 0.377\\ngini = 0.489\\nsamples = 190\\nvalue = [81, 109]\"] ;\n",
      "143 -> 144 ;\n",
      "145 [label=\"LDA_03 <= 0.754\\ngini = 0.32\\nsamples = 25\\nvalue = [5, 20]\"] ;\n",
      "144 -> 145 ;\n",
      "146 [label=\"avg_positive_polarity <= 0.387\\ngini = 0.188\\nsamples = 19\\nvalue = [2, 17]\"] ;\n",
      "145 -> 146 ;\n",
      "147 [label=\"gini = 0.111\\nsamples = 17\\nvalue = [1, 16]\"] ;\n",
      "146 -> 147 ;\n",
      "148 [label=\"gini = 0.5\\nsamples = 2\\nvalue = [1, 1]\"] ;\n",
      "146 -> 148 ;\n",
      "149 [label=\"gini = 0.5\\nsamples = 6\\nvalue = [3, 3]\"] ;\n",
      "145 -> 149 ;\n",
      "150 [label=\"global_subjectivity <= 0.394\\ngini = 0.497\\nsamples = 165\\nvalue = [76, 89]\"] ;\n",
      "144 -> 150 ;\n",
      "151 [label=\"num_self_hrefs <= 4.5\\ngini = 0.45\\nsamples = 41\\nvalue = [27, 14]\"] ;\n",
      "150 -> 151 ;\n",
      "152 [label=\"gini = 0.495\\nsamples = 31\\nvalue = [17, 14]\"] ;\n",
      "151 -> 152 ;\n",
      "153 [label=\"gini = 0.0\\nsamples = 10\\nvalue = [10, 0]\"] ;\n",
      "151 -> 153 ;\n",
      "154 [label=\"weekday_is_thursday <= 0.5\\ngini = 0.478\\nsamples = 124\\nvalue = [49, 75]\"] ;\n",
      "150 -> 154 ;\n",
      "155 [label=\"gini = 0.492\\nsamples = 108\\nvalue = [47, 61]\"] ;\n",
      "154 -> 155 ;\n",
      "156 [label=\"gini = 0.219\\nsamples = 16\\nvalue = [2, 14]\"] ;\n",
      "154 -> 156 ;\n",
      "157 [label=\"avg_positive_polarity <= 0.532\\ngini = 0.269\\nsamples = 25\\nvalue = [4, 21]\"] ;\n",
      "143 -> 157 ;\n",
      "158 [label=\"max_positive_polarity <= 0.55\\ngini = 0.165\\nsamples = 22\\nvalue = [2, 20]\"] ;\n",
      "157 -> 158 ;\n",
      "159 [label=\"gini = 0.444\\nsamples = 3\\nvalue = [2, 1]\"] ;\n",
      "158 -> 159 ;\n",
      "160 [label=\"gini = 0.0\\nsamples = 19\\nvalue = [0, 19]\"] ;\n",
      "158 -> 160 ;\n",
      "161 [label=\"gini = 0.444\\nsamples = 3\\nvalue = [2, 1]\"] ;\n",
      "157 -> 161 ;\n",
      "162 [label=\"num_hrefs <= 8.5\\ngini = 0.338\\nsamples = 130\\nvalue = [28, 102]\"] ;\n",
      "142 -> 162 ;\n",
      "163 [label=\"average_token_length <= 4.938\\ngini = 0.43\\nsamples = 67\\nvalue = [21, 46]\"] ;\n",
      "162 -> 163 ;\n",
      "164 [label=\"average_token_length <= 4.344\\ngini = 0.394\\nsamples = 63\\nvalue = [17, 46]\"] ;\n",
      "163 -> 164 ;\n",
      "165 [label=\"gini = 0.0\\nsamples = 15\\nvalue = [0, 15]\"] ;\n",
      "164 -> 165 ;\n",
      "166 [label=\"title_sentiment_polarity <= -0.069\\ngini = 0.457\\nsamples = 48\\nvalue = [17, 31]\"] ;\n",
      "164 -> 166 ;\n",
      "167 [label=\"gini = 0.0\\nsamples = 5\\nvalue = [5, 0]\"] ;\n",
      "166 -> 167 ;\n",
      "168 [label=\"gini = 0.402\\nsamples = 43\\nvalue = [12, 31]\"] ;\n",
      "166 -> 168 ;\n",
      "169 [label=\"gini = 0.0\\nsamples = 4\\nvalue = [4, 0]\"] ;\n",
      "163 -> 169 ;\n",
      "170 [label=\"num_self_hrefs <= 1.5\\ngini = 0.198\\nsamples = 63\\nvalue = [7, 56]\"] ;\n",
      "162 -> 170 ;\n",
      "171 [label=\"num_hrefs <= 10.5\\ngini = 0.444\\nsamples = 9\\nvalue = [3, 6]\"] ;\n",
      "170 -> 171 ;\n",
      "172 [label=\"gini = 0.0\\nsamples = 2\\nvalue = [2, 0]\"] ;\n",
      "171 -> 172 ;\n",
      "173 [label=\"gini = 0.245\\nsamples = 7\\nvalue = [1, 6]\"] ;\n",
      "171 -> 173 ;\n",
      "174 [label=\"self_reference_max_shares <= 30050.0\\ngini = 0.137\\nsamples = 54\\nvalue = [4, 50]\"] ;\n",
      "170 -> 174 ;\n",
      "175 [label=\"avg_negative_polarity <= -0.434\\ngini = 0.078\\nsamples = 49\\nvalue = [2, 47]\"] ;\n",
      "174 -> 175 ;\n",
      "176 [label=\"gini = 0.48\\nsamples = 5\\nvalue = [2, 3]\"] ;\n",
      "175 -> 176 ;\n",
      "177 [label=\"gini = 0.0\\nsamples = 44\\nvalue = [0, 44]\"] ;\n",
      "175 -> 177 ;\n",
      "178 [label=\"gini = 0.48\\nsamples = 5\\nvalue = [2, 3]\"] ;\n",
      "174 -> 178 ;\n",
      "}\n"
     ]
    }
   ],
   "source": [
    "from sklearn.tree import export_graphviz\n",
    "export_graphviz(best_tree_cl, out_file='../tree.dot', feature_names=X.columns)\n",
    "print(open('../tree.dot').read())"
   ]
  },
  {
   "cell_type": "markdown",
   "id": "b9973886",
   "metadata": {
    "papermill": {
     "duration": 0.028421,
     "end_time": "2023-11-02T09:42:15.750535",
     "exception": false,
     "start_time": "2023-11-02T09:42:15.722114",
     "status": "completed"
    },
    "tags": []
   },
   "source": [
    "![](https://dreampuf.github.io/GraphvizOnline/#digraph%20Tree%20%7B%0Anode%20%5Bshape%3Dbox%2C%20fontname%3D%22helvetica%22%5D%20%3B%0Aedge%20%5Bfontname%3D%22helvetica%22%5D%20%3B%0A0%20%5Blabel%3D%22kw_max_avg%20%3C%3D%204329.286%5Cngini%20%3D%200.49%5Cnsamples%20%3D%203586%5Cnvalue%20%3D%20%5B2048%2C%201538%5D%22%5D%20%3B%0A1%20%5Blabel%3D%22self_reference_avg_sharess%20%3C%3D%201196.25%5Cngini%20%3D%200.433%5Cnsamples%20%3D%201798%5Cnvalue%20%3D%20%5B1227%2C%20571%5D%22%5D%20%3B%0A0%20-%3E%201%20%5Blabeldistance%3D2.5%2C%20labelangle%3D45%2C%20headlabel%3D%22True%22%5D%20%3B%0A2%20%5Blabel%3D%22LDA_00%20%3C%3D%200.866%5Cngini%20%3D%200.329%5Cnsamples%20%3D%20603%5Cnvalue%20%3D%20%5B478%2C%20125%5D%22%5D%20%3B%0A1%20-%3E%202%20%3B%0A3%20%5Blabel%3D%22gini%20%3D%200.318%5Cnsamples%20%3D%20591%5Cnvalue%20%3D%20%5B474%2C%20117%5D%22%5D%20%3B%0A2%20-%3E%203%20%3B%0A4%20%5Blabel%3D%22gini%20%3D%200.444%5Cnsamples%20%3D%2012%5Cnvalue%20%3D%20%5B4%2C%208%5D%22%5D%20%3B%0A2%20-%3E%204%20%3B%0A5%20%5Blabel%3D%22LDA_04%20%3C%3D%200.426%5Cngini%20%3D%200.468%5Cnsamples%20%3D%201195%5Cnvalue%20%3D%20%5B749%2C%20446%5D%22%5D%20%3B%0A1%20-%3E%205%20%3B%0A6%20%5Blabel%3D%22gini%20%3D%200.432%5Cnsamples%20%3D%20861%5Cnvalue%20%3D%20%5B589%2C%20272%5D%22%5D%20%3B%0A5%20-%3E%206%20%3B%0A7%20%5Blabel%3D%22gini%20%3D%200.499%5Cnsamples%20%3D%20334%5Cnvalue%20%3D%20%5B160%2C%20174%5D%22%5D%20%3B%0A5%20-%3E%207%20%3B%0A8%20%5Blabel%3D%22timedelta%20%3C%3D%2086.5%5Cngini%20%3D%200.497%5Cnsamples%20%3D%201788%5Cnvalue%20%3D%20%5B821%2C%20967%5D%22%5D%20%3B%0A0%20-%3E%208%20%5Blabeldistance%3D2.5%2C%20labelangle%3D-45%2C%20headlabel%3D%22False%22%5D%20%3B%0A9%20%5Blabel%3D%22weekday_is_sunday%20%3C%3D%200.5%5Cngini%20%3D%200.499%5Cnsamples%20%3D%201699%5Cnvalue%20%3D%20%5B821%2C%20878%5D%22%5D%20%3B%0A8%20-%3E%209%20%3B%0A10%20%5Blabel%3D%22gini%20%3D%200.5%5Cnsamples%20%3D%201560%5Cnvalue%20%3D%20%5B787%2C%20773%5D%22%5D%20%3B%0A9%20-%3E%2010%20%3B%0A11%20%5Blabel%3D%22gini%20%3D%200.37%5Cnsamples%20%3D%20139%5Cnvalue%20%3D%20%5B34%2C%20105%5D%22%5D%20%3B%0A9%20-%3E%2011%20%3B%0A12%20%5Blabel%3D%22gini%20%3D%200.0%5Cnsamples%20%3D%2089%5Cnvalue%20%3D%20%5B0%2C%2089%5D%22%5D%20%3B%0A8%20-%3E%2012%20%3B%0A%7D)"
   ]
  },
  {
   "cell_type": "markdown",
   "id": "b64a2bb9",
   "metadata": {
    "papermill": {
     "duration": 0.028577,
     "end_time": "2023-11-02T09:42:15.807875",
     "exception": false,
     "start_time": "2023-11-02T09:42:15.779298",
     "status": "completed"
    },
    "tags": []
   },
   "source": [
    "## Importance"
   ]
  },
  {
   "cell_type": "markdown",
   "id": "9a3a4b85",
   "metadata": {
    "papermill": {
     "duration": 0.028188,
     "end_time": "2023-11-02T09:42:15.864769",
     "exception": false,
     "start_time": "2023-11-02T09:42:15.836581",
     "status": "completed"
    },
    "tags": []
   },
   "source": [
    "Lets see features that have the biggest importance for model on grid search - this is:\n",
    "1. self_reference_avg_sharess\n",
    "2. kw_max_avg\n",
    "3. num_imgs\n",
    "4. avg_positive_polarity"
   ]
  },
  {
   "cell_type": "markdown",
   "id": "2041f2eb",
   "metadata": {
    "papermill": {
     "duration": 0.028283,
     "end_time": "2023-11-02T09:42:15.921242",
     "exception": false,
     "start_time": "2023-11-02T09:42:15.892959",
     "status": "completed"
    },
    "tags": []
   },
   "source": [
    "On first lab we have similar result, when we search correlation between shares and features."
   ]
  },
  {
   "cell_type": "code",
   "execution_count": 42,
   "id": "d72f0caf",
   "metadata": {
    "execution": {
     "iopub.execute_input": "2023-11-02T09:42:15.980766Z",
     "iopub.status.busy": "2023-11-02T09:42:15.979945Z",
     "iopub.status.idle": "2023-11-02T09:42:15.993230Z",
     "shell.execute_reply": "2023-11-02T09:42:15.992308Z"
    },
    "papermill": {
     "duration": 0.044644,
     "end_time": "2023-11-02T09:42:15.995160",
     "exception": false,
     "start_time": "2023-11-02T09:42:15.950516",
     "status": "completed"
    },
    "tags": []
   },
   "outputs": [
    {
     "data": {
      "text/html": [
       "<div>\n",
       "<style scoped>\n",
       "    .dataframe tbody tr th:only-of-type {\n",
       "        vertical-align: middle;\n",
       "    }\n",
       "\n",
       "    .dataframe tbody tr th {\n",
       "        vertical-align: top;\n",
       "    }\n",
       "\n",
       "    .dataframe thead th {\n",
       "        text-align: right;\n",
       "    }\n",
       "</style>\n",
       "<table border=\"1\" class=\"dataframe\">\n",
       "  <thead>\n",
       "    <tr style=\"text-align: right;\">\n",
       "      <th></th>\n",
       "      <th>feature</th>\n",
       "      <th>importance</th>\n",
       "    </tr>\n",
       "  </thead>\n",
       "  <tbody>\n",
       "    <tr>\n",
       "      <th>22</th>\n",
       "      <td>kw_max_avg</td>\n",
       "      <td>0.209</td>\n",
       "    </tr>\n",
       "    <tr>\n",
       "      <th>0</th>\n",
       "      <td>timedelta</td>\n",
       "      <td>0.197</td>\n",
       "    </tr>\n",
       "    <tr>\n",
       "      <th>25</th>\n",
       "      <td>self_reference_max_shares</td>\n",
       "      <td>0.089</td>\n",
       "    </tr>\n",
       "    <tr>\n",
       "      <th>34</th>\n",
       "      <td>is_weekend</td>\n",
       "      <td>0.062</td>\n",
       "    </tr>\n",
       "    <tr>\n",
       "      <th>39</th>\n",
       "      <td>LDA_04</td>\n",
       "      <td>0.061</td>\n",
       "    </tr>\n",
       "    <tr>\n",
       "      <th>23</th>\n",
       "      <td>kw_avg_avg</td>\n",
       "      <td>0.036</td>\n",
       "    </tr>\n",
       "    <tr>\n",
       "      <th>4</th>\n",
       "      <td>n_non_stop_unique_tokens</td>\n",
       "      <td>0.025</td>\n",
       "    </tr>\n",
       "    <tr>\n",
       "      <th>21</th>\n",
       "      <td>kw_min_avg</td>\n",
       "      <td>0.023</td>\n",
       "    </tr>\n",
       "    <tr>\n",
       "      <th>20</th>\n",
       "      <td>kw_avg_max</td>\n",
       "      <td>0.021</td>\n",
       "    </tr>\n",
       "    <tr>\n",
       "      <th>24</th>\n",
       "      <td>self_reference_min_shares</td>\n",
       "      <td>0.019</td>\n",
       "    </tr>\n",
       "    <tr>\n",
       "      <th>35</th>\n",
       "      <td>LDA_00</td>\n",
       "      <td>0.017</td>\n",
       "    </tr>\n",
       "    <tr>\n",
       "      <th>53</th>\n",
       "      <td>title_sentiment_polarity</td>\n",
       "      <td>0.016</td>\n",
       "    </tr>\n",
       "    <tr>\n",
       "      <th>28</th>\n",
       "      <td>weekday_is_tuesday</td>\n",
       "      <td>0.015</td>\n",
       "    </tr>\n",
       "    <tr>\n",
       "      <th>9</th>\n",
       "      <td>average_token_length</td>\n",
       "      <td>0.015</td>\n",
       "    </tr>\n",
       "    <tr>\n",
       "      <th>5</th>\n",
       "      <td>num_hrefs</td>\n",
       "      <td>0.015</td>\n",
       "    </tr>\n",
       "  </tbody>\n",
       "</table>\n",
       "</div>"
      ],
      "text/plain": [
       "                      feature  importance\n",
       "22                 kw_max_avg       0.209\n",
       "0                   timedelta       0.197\n",
       "25  self_reference_max_shares       0.089\n",
       "34                 is_weekend       0.062\n",
       "39                     LDA_04       0.061\n",
       "23                 kw_avg_avg       0.036\n",
       "4    n_non_stop_unique_tokens       0.025\n",
       "21                 kw_min_avg       0.023\n",
       "20                 kw_avg_max       0.021\n",
       "24  self_reference_min_shares       0.019\n",
       "35                     LDA_00       0.017\n",
       "53   title_sentiment_polarity       0.016\n",
       "28         weekday_is_tuesday       0.015\n",
       "9        average_token_length       0.015\n",
       "5                   num_hrefs       0.015"
      ]
     },
     "execution_count": 42,
     "metadata": {},
     "output_type": "execute_result"
    }
   ],
   "source": [
    "feature_importances = pd.DataFrame({'feature': X.columns, 'importance': np.round(best_tree_cl.feature_importances_, 3)}).sort_values('importance', ascending=False)\n",
    "feature_importances[:15]"
   ]
  },
  {
   "cell_type": "markdown",
   "id": "bc1bba1f",
   "metadata": {
    "papermill": {
     "duration": 0.028586,
     "end_time": "2023-11-02T09:42:16.052032",
     "exception": false,
     "start_time": "2023-11-02T09:42:16.023446",
     "status": "completed"
    },
    "tags": []
   },
   "source": [
    "# 3. Random Forest"
   ]
  },
  {
   "cell_type": "markdown",
   "id": "f9046589",
   "metadata": {
    "papermill": {
     "duration": 0.028958,
     "end_time": "2023-11-02T09:42:16.110093",
     "exception": false,
     "start_time": "2023-11-02T09:42:16.081135",
     "status": "completed"
    },
    "tags": []
   },
   "source": [
    "Now lets try Random Forest model."
   ]
  },
  {
   "cell_type": "code",
   "execution_count": 43,
   "id": "beee3a15",
   "metadata": {
    "execution": {
     "iopub.execute_input": "2023-11-02T09:42:16.168687Z",
     "iopub.status.busy": "2023-11-02T09:42:16.168326Z",
     "iopub.status.idle": "2023-11-02T09:42:16.278023Z",
     "shell.execute_reply": "2023-11-02T09:42:16.277288Z"
    },
    "papermill": {
     "duration": 0.141456,
     "end_time": "2023-11-02T09:42:16.280138",
     "exception": false,
     "start_time": "2023-11-02T09:42:16.138682",
     "status": "completed"
    },
    "tags": []
   },
   "outputs": [],
   "source": [
    "from sklearn.ensemble import RandomForestClassifier, RandomForestRegressor"
   ]
  },
  {
   "cell_type": "code",
   "execution_count": 44,
   "id": "2f9e5f36",
   "metadata": {
    "execution": {
     "iopub.execute_input": "2023-11-02T09:42:16.340437Z",
     "iopub.status.busy": "2023-11-02T09:42:16.340143Z",
     "iopub.status.idle": "2023-11-02T09:42:27.823413Z",
     "shell.execute_reply": "2023-11-02T09:42:27.822455Z"
    },
    "papermill": {
     "duration": 11.515484,
     "end_time": "2023-11-02T09:42:27.825781",
     "exception": false,
     "start_time": "2023-11-02T09:42:16.310297",
     "status": "completed"
    },
    "tags": []
   },
   "outputs": [
    {
     "name": "stdout",
     "output_type": "stream",
     "text": [
      "Mean score for Regresscor: 4477008.064112339\n",
      "R2_Score for Regresscor: 0.22304137483724606\n",
      "Accuracy score for Classifier: 0.6923076923076923\n"
     ]
    }
   ],
   "source": [
    "rg_reg = RandomForestRegressor(random_state=20)\n",
    "rg_class = RandomForestClassifier(random_state=20)\n",
    "\n",
    "rg_reg.fit(X_train, y_train_reg)\n",
    "rg_class.fit(X_train, y_train_cl)\n",
    "\n",
    "y_pred_reg = rg_reg.predict(X_valid)\n",
    "y_pred_cl = rg_class.predict(X_valid)\n",
    "\n",
    "print(\"Mean score for Regresscor:\", mean_squared_error(np.exp(y_valid_reg), np.exp((y_pred_reg))))\n",
    "print(\"R2_Score for Regresscor:\", r2_score(y_valid_reg, y_pred_reg))\n",
    "print(\"Accuracy score for Classifier:\", accuracy_score(y_valid_cl, y_pred_cl))"
   ]
  },
  {
   "cell_type": "markdown",
   "id": "35ce368e",
   "metadata": {
    "papermill": {
     "duration": 0.029654,
     "end_time": "2023-11-02T09:42:27.885311",
     "exception": false,
     "start_time": "2023-11-02T09:42:27.855657",
     "status": "completed"
    },
    "tags": []
   },
   "source": [
    "Without cross validation we have better on Random Forest model result than on Decision tree model"
   ]
  },
  {
   "cell_type": "markdown",
   "id": "ed36aff7",
   "metadata": {
    "papermill": {
     "duration": 0.029743,
     "end_time": "2023-11-02T09:42:27.945252",
     "exception": false,
     "start_time": "2023-11-02T09:42:27.915509",
     "status": "completed"
    },
    "tags": []
   },
   "source": [
    "## Cross Valdation"
   ]
  },
  {
   "cell_type": "markdown",
   "id": "9a57f36e",
   "metadata": {
    "papermill": {
     "duration": 0.02932,
     "end_time": "2023-11-02T09:42:28.003405",
     "exception": false,
     "start_time": "2023-11-02T09:42:27.974085",
     "status": "completed"
    },
    "tags": []
   },
   "source": [
    "We have 5 hyperparameters:\n",
    "1. `max_depth` is depth our tree,\n",
    "2. `min_samples_split` is minimum objects we have in leaf to split,\n",
    "3. `min_samples_leaf` is minimum objects we have in leaf,\n",
    "4. `max_features` is max features that we have in tree. \n",
    "5. `n_estimators` is count of tree"
   ]
  },
  {
   "cell_type": "code",
   "execution_count": 45,
   "id": "8665bd70",
   "metadata": {
    "execution": {
     "iopub.execute_input": "2023-11-02T09:42:28.062658Z",
     "iopub.status.busy": "2023-11-02T09:42:28.061825Z",
     "iopub.status.idle": "2023-11-02T09:42:28.067246Z",
     "shell.execute_reply": "2023-11-02T09:42:28.066347Z"
    },
    "papermill": {
     "duration": 0.036953,
     "end_time": "2023-11-02T09:42:28.069279",
     "exception": false,
     "start_time": "2023-11-02T09:42:28.032326",
     "status": "completed"
    },
    "tags": []
   },
   "outputs": [],
   "source": [
    "hyperparameters = {\n",
    "    'n_estimators' : np.arange(50, 400, 50),\n",
    "    'max_depth': np.arange(1, 11, 2), \n",
    "    'min_samples_split': np.arange(2, 6, 2), \n",
    "    'min_samples_leaf': np.arange(2, 6, 2),\n",
    "    'max_features': np.arange(10, 20, 2)\n",
    "}"
   ]
  },
  {
   "cell_type": "markdown",
   "id": "5acc7330",
   "metadata": {
    "papermill": {
     "duration": 0.028974,
     "end_time": "2023-11-02T09:42:28.128106",
     "exception": false,
     "start_time": "2023-11-02T09:42:28.099132",
     "status": "completed"
    },
    "tags": []
   },
   "source": [
    "Because of I cant use GPU, I will use `RandomizedSearchCV`"
   ]
  },
  {
   "cell_type": "code",
   "execution_count": 46,
   "id": "f1c4e757",
   "metadata": {
    "execution": {
     "iopub.execute_input": "2023-11-02T09:42:28.188310Z",
     "iopub.status.busy": "2023-11-02T09:42:28.187620Z",
     "iopub.status.idle": "2023-11-02T09:42:28.192121Z",
     "shell.execute_reply": "2023-11-02T09:42:28.191154Z"
    },
    "papermill": {
     "duration": 0.037593,
     "end_time": "2023-11-02T09:42:28.194093",
     "exception": false,
     "start_time": "2023-11-02T09:42:28.156500",
     "status": "completed"
    },
    "tags": []
   },
   "outputs": [],
   "source": [
    "from sklearn.model_selection import RandomizedSearchCV"
   ]
  },
  {
   "cell_type": "code",
   "execution_count": 47,
   "id": "53d71143",
   "metadata": {
    "execution": {
     "iopub.execute_input": "2023-11-02T09:42:28.253578Z",
     "iopub.status.busy": "2023-11-02T09:42:28.252820Z",
     "iopub.status.idle": "2023-11-02T09:42:28.257753Z",
     "shell.execute_reply": "2023-11-02T09:42:28.256866Z"
    },
    "papermill": {
     "duration": 0.036645,
     "end_time": "2023-11-02T09:42:28.259716",
     "exception": false,
     "start_time": "2023-11-02T09:42:28.223071",
     "status": "completed"
    },
    "tags": []
   },
   "outputs": [],
   "source": [
    "cross = kf.split(X)\n",
    "rf_grid_cl = RandomizedSearchCV(rg_class, hyperparameters, scoring='accuracy', cv=cross)\n",
    "cross = kf.split(X)\n",
    "rf_grid_reg = RandomizedSearchCV(rg_reg, hyperparameters, scoring='neg_mean_squared_error', cv=cross)"
   ]
  },
  {
   "cell_type": "code",
   "execution_count": 48,
   "id": "ec61a74a",
   "metadata": {
    "execution": {
     "iopub.execute_input": "2023-11-02T09:42:28.318991Z",
     "iopub.status.busy": "2023-11-02T09:42:28.318678Z",
     "iopub.status.idle": "2023-11-02T09:44:01.275904Z",
     "shell.execute_reply": "2023-11-02T09:44:01.274936Z"
    },
    "papermill": {
     "duration": 93.019051,
     "end_time": "2023-11-02T09:44:01.307493",
     "exception": false,
     "start_time": "2023-11-02T09:42:28.288442",
     "status": "completed"
    },
    "tags": []
   },
   "outputs": [
    {
     "data": {
      "text/html": [
       "<style>#sk-container-id-3 {color: black;background-color: white;}#sk-container-id-3 pre{padding: 0;}#sk-container-id-3 div.sk-toggleable {background-color: white;}#sk-container-id-3 label.sk-toggleable__label {cursor: pointer;display: block;width: 100%;margin-bottom: 0;padding: 0.3em;box-sizing: border-box;text-align: center;}#sk-container-id-3 label.sk-toggleable__label-arrow:before {content: \"▸\";float: left;margin-right: 0.25em;color: #696969;}#sk-container-id-3 label.sk-toggleable__label-arrow:hover:before {color: black;}#sk-container-id-3 div.sk-estimator:hover label.sk-toggleable__label-arrow:before {color: black;}#sk-container-id-3 div.sk-toggleable__content {max-height: 0;max-width: 0;overflow: hidden;text-align: left;background-color: #f0f8ff;}#sk-container-id-3 div.sk-toggleable__content pre {margin: 0.2em;color: black;border-radius: 0.25em;background-color: #f0f8ff;}#sk-container-id-3 input.sk-toggleable__control:checked~div.sk-toggleable__content {max-height: 200px;max-width: 100%;overflow: auto;}#sk-container-id-3 input.sk-toggleable__control:checked~label.sk-toggleable__label-arrow:before {content: \"▾\";}#sk-container-id-3 div.sk-estimator input.sk-toggleable__control:checked~label.sk-toggleable__label {background-color: #d4ebff;}#sk-container-id-3 div.sk-label input.sk-toggleable__control:checked~label.sk-toggleable__label {background-color: #d4ebff;}#sk-container-id-3 input.sk-hidden--visually {border: 0;clip: rect(1px 1px 1px 1px);clip: rect(1px, 1px, 1px, 1px);height: 1px;margin: -1px;overflow: hidden;padding: 0;position: absolute;width: 1px;}#sk-container-id-3 div.sk-estimator {font-family: monospace;background-color: #f0f8ff;border: 1px dotted black;border-radius: 0.25em;box-sizing: border-box;margin-bottom: 0.5em;}#sk-container-id-3 div.sk-estimator:hover {background-color: #d4ebff;}#sk-container-id-3 div.sk-parallel-item::after {content: \"\";width: 100%;border-bottom: 1px solid gray;flex-grow: 1;}#sk-container-id-3 div.sk-label:hover label.sk-toggleable__label {background-color: #d4ebff;}#sk-container-id-3 div.sk-serial::before {content: \"\";position: absolute;border-left: 1px solid gray;box-sizing: border-box;top: 0;bottom: 0;left: 50%;z-index: 0;}#sk-container-id-3 div.sk-serial {display: flex;flex-direction: column;align-items: center;background-color: white;padding-right: 0.2em;padding-left: 0.2em;position: relative;}#sk-container-id-3 div.sk-item {position: relative;z-index: 1;}#sk-container-id-3 div.sk-parallel {display: flex;align-items: stretch;justify-content: center;background-color: white;position: relative;}#sk-container-id-3 div.sk-item::before, #sk-container-id-3 div.sk-parallel-item::before {content: \"\";position: absolute;border-left: 1px solid gray;box-sizing: border-box;top: 0;bottom: 0;left: 50%;z-index: -1;}#sk-container-id-3 div.sk-parallel-item {display: flex;flex-direction: column;z-index: 1;position: relative;background-color: white;}#sk-container-id-3 div.sk-parallel-item:first-child::after {align-self: flex-end;width: 50%;}#sk-container-id-3 div.sk-parallel-item:last-child::after {align-self: flex-start;width: 50%;}#sk-container-id-3 div.sk-parallel-item:only-child::after {width: 0;}#sk-container-id-3 div.sk-dashed-wrapped {border: 1px dashed gray;margin: 0 0.4em 0.5em 0.4em;box-sizing: border-box;padding-bottom: 0.4em;background-color: white;}#sk-container-id-3 div.sk-label label {font-family: monospace;font-weight: bold;display: inline-block;line-height: 1.2em;}#sk-container-id-3 div.sk-label-container {text-align: center;}#sk-container-id-3 div.sk-container {/* jupyter's `normalize.less` sets `[hidden] { display: none; }` but bootstrap.min.css set `[hidden] { display: none !important; }` so we also need the `!important` here to be able to override the default hidden behavior on the sphinx rendered scikit-learn.org. See: https://github.com/scikit-learn/scikit-learn/issues/21755 */display: inline-block !important;position: relative;}#sk-container-id-3 div.sk-text-repr-fallback {display: none;}</style><div id=\"sk-container-id-3\" class=\"sk-top-container\"><div class=\"sk-text-repr-fallback\"><pre>RandomizedSearchCV(cv=&lt;generator object _BaseKFold.split at 0x7b956c71ace0&gt;,\n",
       "                   estimator=RandomForestClassifier(random_state=20),\n",
       "                   param_distributions={&#x27;max_depth&#x27;: array([1, 3, 5, 7, 9]),\n",
       "                                        &#x27;max_features&#x27;: array([10, 12, 14, 16, 18]),\n",
       "                                        &#x27;min_samples_leaf&#x27;: array([2, 4]),\n",
       "                                        &#x27;min_samples_split&#x27;: array([2, 4]),\n",
       "                                        &#x27;n_estimators&#x27;: array([ 50, 100, 150, 200, 250, 300, 350])},\n",
       "                   scoring=&#x27;accuracy&#x27;)</pre><b>In a Jupyter environment, please rerun this cell to show the HTML representation or trust the notebook. <br />On GitHub, the HTML representation is unable to render, please try loading this page with nbviewer.org.</b></div><div class=\"sk-container\" hidden><div class=\"sk-item sk-dashed-wrapped\"><div class=\"sk-label-container\"><div class=\"sk-label sk-toggleable\"><input class=\"sk-toggleable__control sk-hidden--visually\" id=\"sk-estimator-id-7\" type=\"checkbox\" ><label for=\"sk-estimator-id-7\" class=\"sk-toggleable__label sk-toggleable__label-arrow\">RandomizedSearchCV</label><div class=\"sk-toggleable__content\"><pre>RandomizedSearchCV(cv=&lt;generator object _BaseKFold.split at 0x7b956c71ace0&gt;,\n",
       "                   estimator=RandomForestClassifier(random_state=20),\n",
       "                   param_distributions={&#x27;max_depth&#x27;: array([1, 3, 5, 7, 9]),\n",
       "                                        &#x27;max_features&#x27;: array([10, 12, 14, 16, 18]),\n",
       "                                        &#x27;min_samples_leaf&#x27;: array([2, 4]),\n",
       "                                        &#x27;min_samples_split&#x27;: array([2, 4]),\n",
       "                                        &#x27;n_estimators&#x27;: array([ 50, 100, 150, 200, 250, 300, 350])},\n",
       "                   scoring=&#x27;accuracy&#x27;)</pre></div></div></div><div class=\"sk-parallel\"><div class=\"sk-parallel-item\"><div class=\"sk-item\"><div class=\"sk-label-container\"><div class=\"sk-label sk-toggleable\"><input class=\"sk-toggleable__control sk-hidden--visually\" id=\"sk-estimator-id-8\" type=\"checkbox\" ><label for=\"sk-estimator-id-8\" class=\"sk-toggleable__label sk-toggleable__label-arrow\">estimator: RandomForestClassifier</label><div class=\"sk-toggleable__content\"><pre>RandomForestClassifier(random_state=20)</pre></div></div></div><div class=\"sk-serial\"><div class=\"sk-item\"><div class=\"sk-estimator sk-toggleable\"><input class=\"sk-toggleable__control sk-hidden--visually\" id=\"sk-estimator-id-9\" type=\"checkbox\" ><label for=\"sk-estimator-id-9\" class=\"sk-toggleable__label sk-toggleable__label-arrow\">RandomForestClassifier</label><div class=\"sk-toggleable__content\"><pre>RandomForestClassifier(random_state=20)</pre></div></div></div></div></div></div></div></div></div></div>"
      ],
      "text/plain": [
       "RandomizedSearchCV(cv=<generator object _BaseKFold.split at 0x7b956c71ace0>,\n",
       "                   estimator=RandomForestClassifier(random_state=20),\n",
       "                   param_distributions={'max_depth': array([1, 3, 5, 7, 9]),\n",
       "                                        'max_features': array([10, 12, 14, 16, 18]),\n",
       "                                        'min_samples_leaf': array([2, 4]),\n",
       "                                        'min_samples_split': array([2, 4]),\n",
       "                                        'n_estimators': array([ 50, 100, 150, 200, 250, 300, 350])},\n",
       "                   scoring='accuracy')"
      ]
     },
     "execution_count": 48,
     "metadata": {},
     "output_type": "execute_result"
    }
   ],
   "source": [
    "rf_grid_cl.fit(X, y_classification)"
   ]
  },
  {
   "cell_type": "code",
   "execution_count": 49,
   "id": "69ede86b",
   "metadata": {
    "execution": {
     "iopub.execute_input": "2023-11-02T09:44:01.373037Z",
     "iopub.status.busy": "2023-11-02T09:44:01.372471Z",
     "iopub.status.idle": "2023-11-02T09:45:19.814464Z",
     "shell.execute_reply": "2023-11-02T09:45:19.813481Z"
    },
    "papermill": {
     "duration": 78.511779,
     "end_time": "2023-11-02T09:45:19.850809",
     "exception": false,
     "start_time": "2023-11-02T09:44:01.339030",
     "status": "completed"
    },
    "tags": []
   },
   "outputs": [
    {
     "data": {
      "text/html": [
       "<style>#sk-container-id-4 {color: black;background-color: white;}#sk-container-id-4 pre{padding: 0;}#sk-container-id-4 div.sk-toggleable {background-color: white;}#sk-container-id-4 label.sk-toggleable__label {cursor: pointer;display: block;width: 100%;margin-bottom: 0;padding: 0.3em;box-sizing: border-box;text-align: center;}#sk-container-id-4 label.sk-toggleable__label-arrow:before {content: \"▸\";float: left;margin-right: 0.25em;color: #696969;}#sk-container-id-4 label.sk-toggleable__label-arrow:hover:before {color: black;}#sk-container-id-4 div.sk-estimator:hover label.sk-toggleable__label-arrow:before {color: black;}#sk-container-id-4 div.sk-toggleable__content {max-height: 0;max-width: 0;overflow: hidden;text-align: left;background-color: #f0f8ff;}#sk-container-id-4 div.sk-toggleable__content pre {margin: 0.2em;color: black;border-radius: 0.25em;background-color: #f0f8ff;}#sk-container-id-4 input.sk-toggleable__control:checked~div.sk-toggleable__content {max-height: 200px;max-width: 100%;overflow: auto;}#sk-container-id-4 input.sk-toggleable__control:checked~label.sk-toggleable__label-arrow:before {content: \"▾\";}#sk-container-id-4 div.sk-estimator input.sk-toggleable__control:checked~label.sk-toggleable__label {background-color: #d4ebff;}#sk-container-id-4 div.sk-label input.sk-toggleable__control:checked~label.sk-toggleable__label {background-color: #d4ebff;}#sk-container-id-4 input.sk-hidden--visually {border: 0;clip: rect(1px 1px 1px 1px);clip: rect(1px, 1px, 1px, 1px);height: 1px;margin: -1px;overflow: hidden;padding: 0;position: absolute;width: 1px;}#sk-container-id-4 div.sk-estimator {font-family: monospace;background-color: #f0f8ff;border: 1px dotted black;border-radius: 0.25em;box-sizing: border-box;margin-bottom: 0.5em;}#sk-container-id-4 div.sk-estimator:hover {background-color: #d4ebff;}#sk-container-id-4 div.sk-parallel-item::after {content: \"\";width: 100%;border-bottom: 1px solid gray;flex-grow: 1;}#sk-container-id-4 div.sk-label:hover label.sk-toggleable__label {background-color: #d4ebff;}#sk-container-id-4 div.sk-serial::before {content: \"\";position: absolute;border-left: 1px solid gray;box-sizing: border-box;top: 0;bottom: 0;left: 50%;z-index: 0;}#sk-container-id-4 div.sk-serial {display: flex;flex-direction: column;align-items: center;background-color: white;padding-right: 0.2em;padding-left: 0.2em;position: relative;}#sk-container-id-4 div.sk-item {position: relative;z-index: 1;}#sk-container-id-4 div.sk-parallel {display: flex;align-items: stretch;justify-content: center;background-color: white;position: relative;}#sk-container-id-4 div.sk-item::before, #sk-container-id-4 div.sk-parallel-item::before {content: \"\";position: absolute;border-left: 1px solid gray;box-sizing: border-box;top: 0;bottom: 0;left: 50%;z-index: -1;}#sk-container-id-4 div.sk-parallel-item {display: flex;flex-direction: column;z-index: 1;position: relative;background-color: white;}#sk-container-id-4 div.sk-parallel-item:first-child::after {align-self: flex-end;width: 50%;}#sk-container-id-4 div.sk-parallel-item:last-child::after {align-self: flex-start;width: 50%;}#sk-container-id-4 div.sk-parallel-item:only-child::after {width: 0;}#sk-container-id-4 div.sk-dashed-wrapped {border: 1px dashed gray;margin: 0 0.4em 0.5em 0.4em;box-sizing: border-box;padding-bottom: 0.4em;background-color: white;}#sk-container-id-4 div.sk-label label {font-family: monospace;font-weight: bold;display: inline-block;line-height: 1.2em;}#sk-container-id-4 div.sk-label-container {text-align: center;}#sk-container-id-4 div.sk-container {/* jupyter's `normalize.less` sets `[hidden] { display: none; }` but bootstrap.min.css set `[hidden] { display: none !important; }` so we also need the `!important` here to be able to override the default hidden behavior on the sphinx rendered scikit-learn.org. See: https://github.com/scikit-learn/scikit-learn/issues/21755 */display: inline-block !important;position: relative;}#sk-container-id-4 div.sk-text-repr-fallback {display: none;}</style><div id=\"sk-container-id-4\" class=\"sk-top-container\"><div class=\"sk-text-repr-fallback\"><pre>RandomizedSearchCV(cv=&lt;generator object _BaseKFold.split at 0x7b956c71ad50&gt;,\n",
       "                   estimator=RandomForestRegressor(random_state=20),\n",
       "                   param_distributions={&#x27;max_depth&#x27;: array([1, 3, 5, 7, 9]),\n",
       "                                        &#x27;max_features&#x27;: array([10, 12, 14, 16, 18]),\n",
       "                                        &#x27;min_samples_leaf&#x27;: array([2, 4]),\n",
       "                                        &#x27;min_samples_split&#x27;: array([2, 4]),\n",
       "                                        &#x27;n_estimators&#x27;: array([ 50, 100, 150, 200, 250, 300, 350])},\n",
       "                   scoring=&#x27;neg_mean_squared_error&#x27;)</pre><b>In a Jupyter environment, please rerun this cell to show the HTML representation or trust the notebook. <br />On GitHub, the HTML representation is unable to render, please try loading this page with nbviewer.org.</b></div><div class=\"sk-container\" hidden><div class=\"sk-item sk-dashed-wrapped\"><div class=\"sk-label-container\"><div class=\"sk-label sk-toggleable\"><input class=\"sk-toggleable__control sk-hidden--visually\" id=\"sk-estimator-id-10\" type=\"checkbox\" ><label for=\"sk-estimator-id-10\" class=\"sk-toggleable__label sk-toggleable__label-arrow\">RandomizedSearchCV</label><div class=\"sk-toggleable__content\"><pre>RandomizedSearchCV(cv=&lt;generator object _BaseKFold.split at 0x7b956c71ad50&gt;,\n",
       "                   estimator=RandomForestRegressor(random_state=20),\n",
       "                   param_distributions={&#x27;max_depth&#x27;: array([1, 3, 5, 7, 9]),\n",
       "                                        &#x27;max_features&#x27;: array([10, 12, 14, 16, 18]),\n",
       "                                        &#x27;min_samples_leaf&#x27;: array([2, 4]),\n",
       "                                        &#x27;min_samples_split&#x27;: array([2, 4]),\n",
       "                                        &#x27;n_estimators&#x27;: array([ 50, 100, 150, 200, 250, 300, 350])},\n",
       "                   scoring=&#x27;neg_mean_squared_error&#x27;)</pre></div></div></div><div class=\"sk-parallel\"><div class=\"sk-parallel-item\"><div class=\"sk-item\"><div class=\"sk-label-container\"><div class=\"sk-label sk-toggleable\"><input class=\"sk-toggleable__control sk-hidden--visually\" id=\"sk-estimator-id-11\" type=\"checkbox\" ><label for=\"sk-estimator-id-11\" class=\"sk-toggleable__label sk-toggleable__label-arrow\">estimator: RandomForestRegressor</label><div class=\"sk-toggleable__content\"><pre>RandomForestRegressor(random_state=20)</pre></div></div></div><div class=\"sk-serial\"><div class=\"sk-item\"><div class=\"sk-estimator sk-toggleable\"><input class=\"sk-toggleable__control sk-hidden--visually\" id=\"sk-estimator-id-12\" type=\"checkbox\" ><label for=\"sk-estimator-id-12\" class=\"sk-toggleable__label sk-toggleable__label-arrow\">RandomForestRegressor</label><div class=\"sk-toggleable__content\"><pre>RandomForestRegressor(random_state=20)</pre></div></div></div></div></div></div></div></div></div></div>"
      ],
      "text/plain": [
       "RandomizedSearchCV(cv=<generator object _BaseKFold.split at 0x7b956c71ad50>,\n",
       "                   estimator=RandomForestRegressor(random_state=20),\n",
       "                   param_distributions={'max_depth': array([1, 3, 5, 7, 9]),\n",
       "                                        'max_features': array([10, 12, 14, 16, 18]),\n",
       "                                        'min_samples_leaf': array([2, 4]),\n",
       "                                        'min_samples_split': array([2, 4]),\n",
       "                                        'n_estimators': array([ 50, 100, 150, 200, 250, 300, 350])},\n",
       "                   scoring='neg_mean_squared_error')"
      ]
     },
     "execution_count": 49,
     "metadata": {},
     "output_type": "execute_result"
    }
   ],
   "source": [
    "rf_grid_reg.fit(X, y_regretion)"
   ]
  },
  {
   "cell_type": "markdown",
   "id": "068dc13e",
   "metadata": {
    "papermill": {
     "duration": 0.03034,
     "end_time": "2023-11-02T09:45:19.911621",
     "exception": false,
     "start_time": "2023-11-02T09:45:19.881281",
     "status": "completed"
    },
    "tags": []
   },
   "source": [
    "Let see best params and score that we have."
   ]
  },
  {
   "cell_type": "code",
   "execution_count": 50,
   "id": "93b6f400",
   "metadata": {
    "execution": {
     "iopub.execute_input": "2023-11-02T09:45:19.972523Z",
     "iopub.status.busy": "2023-11-02T09:45:19.971778Z",
     "iopub.status.idle": "2023-11-02T09:45:19.977222Z",
     "shell.execute_reply": "2023-11-02T09:45:19.976316Z"
    },
    "papermill": {
     "duration": 0.038479,
     "end_time": "2023-11-02T09:45:19.979539",
     "exception": false,
     "start_time": "2023-11-02T09:45:19.941060",
     "status": "completed"
    },
    "tags": []
   },
   "outputs": [
    {
     "name": "stdout",
     "output_type": "stream",
     "text": [
      "Best params for classification: {'n_estimators': 50, 'min_samples_split': 4, 'min_samples_leaf': 2, 'max_features': 18, 'max_depth': 9}\n",
      "Best score for classification: 0.6852832902681408\n",
      "Best params for regressor: {'n_estimators': 150, 'min_samples_split': 2, 'min_samples_leaf': 4, 'max_features': 16, 'max_depth': 7}\n",
      "Best neg mean score for regressor: -0.42802107394004574\n"
     ]
    }
   ],
   "source": [
    "print(\"Best params for classification:\", rf_grid_cl.best_params_)\n",
    "print(\"Best score for classification:\", rf_grid_cl.best_score_)\n",
    "print(\"Best params for regressor:\", rf_grid_reg.best_params_)\n",
    "print(\"Best neg mean score for regressor:\", rf_grid_reg.best_score_)"
   ]
  },
  {
   "cell_type": "markdown",
   "id": "dba8263b",
   "metadata": {
    "papermill": {
     "duration": 0.030402,
     "end_time": "2023-11-02T09:45:20.039127",
     "exception": false,
     "start_time": "2023-11-02T09:45:20.008725",
     "status": "completed"
    },
    "tags": []
   },
   "source": [
    "Now lets test our model on valid data."
   ]
  },
  {
   "cell_type": "code",
   "execution_count": 51,
   "id": "fc281f72",
   "metadata": {
    "execution": {
     "iopub.execute_input": "2023-11-02T09:45:20.099547Z",
     "iopub.status.busy": "2023-11-02T09:45:20.098913Z",
     "iopub.status.idle": "2023-11-02T09:45:20.117939Z",
     "shell.execute_reply": "2023-11-02T09:45:20.117294Z"
    },
    "papermill": {
     "duration": 0.05198,
     "end_time": "2023-11-02T09:45:20.119947",
     "exception": false,
     "start_time": "2023-11-02T09:45:20.067967",
     "status": "completed"
    },
    "tags": []
   },
   "outputs": [],
   "source": [
    "best_rf_cl = rf_grid_cl.best_estimator_\n",
    "y_pred_cl = best_rf_cl.predict(X_valid)"
   ]
  },
  {
   "cell_type": "code",
   "execution_count": 52,
   "id": "089a5ef6",
   "metadata": {
    "execution": {
     "iopub.execute_input": "2023-11-02T09:45:20.192763Z",
     "iopub.status.busy": "2023-11-02T09:45:20.192027Z",
     "iopub.status.idle": "2023-11-02T09:45:20.224241Z",
     "shell.execute_reply": "2023-11-02T09:45:20.223346Z"
    },
    "papermill": {
     "duration": 0.076564,
     "end_time": "2023-11-02T09:45:20.226331",
     "exception": false,
     "start_time": "2023-11-02T09:45:20.149767",
     "status": "completed"
    },
    "tags": []
   },
   "outputs": [],
   "source": [
    "best_rf_reg = rf_grid_reg.best_estimator_\n",
    "y_pred_reg = best_rf_reg.predict(X_valid)"
   ]
  },
  {
   "cell_type": "code",
   "execution_count": 53,
   "id": "571a5e79",
   "metadata": {
    "execution": {
     "iopub.execute_input": "2023-11-02T09:45:20.295007Z",
     "iopub.status.busy": "2023-11-02T09:45:20.294369Z",
     "iopub.status.idle": "2023-11-02T09:45:20.303761Z",
     "shell.execute_reply": "2023-11-02T09:45:20.302654Z"
    },
    "papermill": {
     "duration": 0.046123,
     "end_time": "2023-11-02T09:45:20.306000",
     "exception": false,
     "start_time": "2023-11-02T09:45:20.259877",
     "status": "completed"
    },
    "tags": []
   },
   "outputs": [
    {
     "name": "stdout",
     "output_type": "stream",
     "text": [
      "Mean score for Regresscor: 4077992.7730146404\n",
      "R2_Score for Regresscor: 0.2027283669534765\n",
      "Accuracy score for Classifier: 0.8678929765886287\n"
     ]
    }
   ],
   "source": [
    "print(\"Mean score for Regresscor:\", mean_squared_error(np.exp(y_valid_reg), np.exp((y_pred_reg))))\n",
    "print(\"R2_Score for Regresscor:\", r2_score(np.exp(y_valid_reg),np.exp(y_pred_reg)))\n",
    "print(\"Accuracy score for Classifier:\", accuracy_score(y_valid_cl, y_pred_cl))"
   ]
  },
  {
   "cell_type": "markdown",
   "id": "03442a5a",
   "metadata": {
    "papermill": {
     "duration": 0.0289,
     "end_time": "2023-11-02T09:45:20.368976",
     "exception": false,
     "start_time": "2023-11-02T09:45:20.340076",
     "status": "completed"
    },
    "tags": []
   },
   "source": [
    "This is the best result that I have had by now"
   ]
  },
  {
   "cell_type": "markdown",
   "id": "3438d7e9",
   "metadata": {
    "papermill": {
     "duration": 0.029762,
     "end_time": "2023-11-02T09:45:20.427937",
     "exception": false,
     "start_time": "2023-11-02T09:45:20.398175",
     "status": "completed"
    },
    "tags": []
   },
   "source": [
    "## Graphics"
   ]
  },
  {
   "cell_type": "markdown",
   "id": "edd48f67",
   "metadata": {
    "papermill": {
     "duration": 0.030909,
     "end_time": "2023-11-02T09:45:20.489915",
     "exception": false,
     "start_time": "2023-11-02T09:45:20.459006",
     "status": "completed"
    },
    "tags": []
   },
   "source": [
    "Lets see how hyperparameters change our result for classifier."
   ]
  },
  {
   "cell_type": "code",
   "execution_count": 54,
   "id": "ec11290a",
   "metadata": {
    "execution": {
     "iopub.execute_input": "2023-11-02T09:45:20.552620Z",
     "iopub.status.busy": "2023-11-02T09:45:20.551806Z",
     "iopub.status.idle": "2023-11-02T09:50:03.728592Z",
     "shell.execute_reply": "2023-11-02T09:50:03.727775Z"
    },
    "papermill": {
     "duration": 283.210237,
     "end_time": "2023-11-02T09:50:03.731186",
     "exception": false,
     "start_time": "2023-11-02T09:45:20.520949",
     "status": "completed"
    },
    "tags": []
   },
   "outputs": [],
   "source": [
    "acur_n = validation_curve(rf_grid_cl.best_estimator_, X_train, y_train_cl, param_name=\"n_estimators\", param_range=np.arange(50, 400, 50), scoring='accuracy')[1]\n",
    "acur_depth = validation_curve(rf_grid_cl.best_estimator_, X_train, y_train_cl, param_name=\"max_depth\", param_range=np.arange(1, 21, 2), scoring='accuracy')[1]\n",
    "acur_split = validation_curve(rf_grid_cl.best_estimator_, X_train, y_train_cl, param_name=\"min_samples_split\", param_range=np.arange(1, 21, 2), scoring='accuracy')[1]\n",
    "acur_leaf = validation_curve(rf_grid_cl.best_estimator_, X_train, y_train_cl, param_name=\"min_samples_leaf\", param_range=np.arange(1, 21, 2), scoring='accuracy')[1]\n",
    "acur_feat = validation_curve(rf_grid_cl.best_estimator_, X_train, y_train_cl, param_name=\"max_features\", param_range=np.arange(1, 21, 2), scoring='accuracy')[1]"
   ]
  },
  {
   "cell_type": "code",
   "execution_count": 55,
   "id": "7d81e25f",
   "metadata": {
    "execution": {
     "iopub.execute_input": "2023-11-02T09:50:03.791407Z",
     "iopub.status.busy": "2023-11-02T09:50:03.791121Z",
     "iopub.status.idle": "2023-11-02T09:50:04.016490Z",
     "shell.execute_reply": "2023-11-02T09:50:04.015521Z"
    },
    "papermill": {
     "duration": 0.258172,
     "end_time": "2023-11-02T09:50:04.018843",
     "exception": false,
     "start_time": "2023-11-02T09:50:03.760671",
     "status": "completed"
    },
    "tags": []
   },
   "outputs": [
    {
     "data": {
      "image/png": "[encoded data removed]",
      "text/plain": [
       "<Figure size 640x480 with 1 Axes>"
      ]
     },
     "metadata": {},
     "output_type": "display_data"
    }
   ],
   "source": [
    "plt.plot(list(range(50, 400, 50)), np.mean(acur_n,  axis=1))\n",
    "plt.xlabel('n_estimators')\n",
    "plt.ylabel('Accuracy score')\n",
    "plt.show()"
   ]
  },
  {
   "cell_type": "code",
   "execution_count": 56,
   "id": "c7ce850d",
   "metadata": {
    "execution": {
     "iopub.execute_input": "2023-11-02T09:50:04.084994Z",
     "iopub.status.busy": "2023-11-02T09:50:04.084627Z",
     "iopub.status.idle": "2023-11-02T09:50:04.307977Z",
     "shell.execute_reply": "2023-11-02T09:50:04.307015Z"
    },
    "papermill": {
     "duration": 0.257886,
     "end_time": "2023-11-02T09:50:04.310094",
     "exception": false,
     "start_time": "2023-11-02T09:50:04.052208",
     "status": "completed"
    },
    "tags": []
   },
   "outputs": [
    {
     "data": {
      "image/png": "[encoded data removed]",
      "text/plain": [
       "<Figure size 640x480 with 1 Axes>"
      ]
     },
     "metadata": {},
     "output_type": "display_data"
    }
   ],
   "source": [
    "plt.plot(list(range(2, 21, 2)), np.mean(acur_depth,  axis=1))\n",
    "plt.plot(list(range(2, 21, 2)), np.mean(acur_feat,  axis=1))\n",
    "plt.plot(list(range(2, 21, 2)), np.mean(acur_leaf, axis=1))\n",
    "plt.legend (('max_depth', 'max_features', 'min_samples_leaf'))\n",
    "plt.xlabel('Hyper parameters')\n",
    "plt.ylabel('Accuracy score')\n",
    "plt.show()"
   ]
  },
  {
   "cell_type": "code",
   "execution_count": 57,
   "id": "254314ac",
   "metadata": {
    "execution": {
     "iopub.execute_input": "2023-11-02T09:50:04.373678Z",
     "iopub.status.busy": "2023-11-02T09:50:04.373328Z",
     "iopub.status.idle": "2023-11-02T09:50:04.580812Z",
     "shell.execute_reply": "2023-11-02T09:50:04.579782Z"
    },
    "papermill": {
     "duration": 0.242023,
     "end_time": "2023-11-02T09:50:04.582976",
     "exception": false,
     "start_time": "2023-11-02T09:50:04.340953",
     "status": "completed"
    },
    "tags": []
   },
   "outputs": [
    {
     "data": {
      "image/png": "[encoded data removed]",
      "text/plain": [
       "<Figure size 640x480 with 1 Axes>"
      ]
     },
     "metadata": {},
     "output_type": "display_data"
    }
   ],
   "source": [
    "plt.plot(list(range(2, 21, 2)), np.mean(acur_split, axis=1))\n",
    "plt.xlabel('min_samples_split')\n",
    "plt.ylabel('Accuracy score')\n",
    "plt.show()"
   ]
  },
  {
   "cell_type": "markdown",
   "id": "40ae07a2",
   "metadata": {
    "papermill": {
     "duration": 0.034304,
     "end_time": "2023-11-02T09:50:04.653738",
     "exception": false,
     "start_time": "2023-11-02T09:50:04.619434",
     "status": "completed"
    },
    "tags": []
   },
   "source": [
    "We can see that `max_depth`, `max_features`, `min_samples_leaf` at some value we have almost the same result"
   ]
  },
  {
   "cell_type": "markdown",
   "id": "be8412d9",
   "metadata": {
    "papermill": {
     "duration": 0.031453,
     "end_time": "2023-11-02T09:50:04.716195",
     "exception": false,
     "start_time": "2023-11-02T09:50:04.684742",
     "status": "completed"
    },
    "tags": []
   },
   "source": [
    "## Importance"
   ]
  },
  {
   "cell_type": "markdown",
   "id": "1194502b",
   "metadata": {
    "papermill": {
     "duration": 0.030653,
     "end_time": "2023-11-02T09:50:04.779734",
     "exception": false,
     "start_time": "2023-11-02T09:50:04.749081",
     "status": "completed"
    },
    "tags": []
   },
   "source": [
    "Lets see features that have the biggest importance for model on grid search"
   ]
  },
  {
   "cell_type": "code",
   "execution_count": 58,
   "id": "02a94cfe",
   "metadata": {
    "execution": {
     "iopub.execute_input": "2023-11-02T09:50:04.843036Z",
     "iopub.status.busy": "2023-11-02T09:50:04.842654Z",
     "iopub.status.idle": "2023-11-02T09:50:05.341995Z",
     "shell.execute_reply": "2023-11-02T09:50:05.341015Z"
    },
    "papermill": {
     "duration": 0.532883,
     "end_time": "2023-11-02T09:50:05.344228",
     "exception": false,
     "start_time": "2023-11-02T09:50:04.811345",
     "status": "completed"
    },
    "tags": []
   },
   "outputs": [
    {
     "data": {
      "text/plain": [
       "<BarContainer object of 10 artists>"
      ]
     },
     "execution_count": 58,
     "metadata": {},
     "output_type": "execute_result"
    },
    {
     "data": {
      "image/png": "[encoded data removed]",
      "text/plain": [
       "<Figure size 2500x1000 with 1 Axes>"
      ]
     },
     "metadata": {},
     "output_type": "display_data"
    }
   ],
   "source": [
    "plt.figure(figsize=(25,10))\n",
    "feature_importances = pd.DataFrame({'feature': X.columns, 'importance': np.round(best_rf_cl.feature_importances_, 3)}).sort_values('importance', ascending=False)\n",
    "plt.bar(feature_importances[:10].feature, feature_importances[:10].importance)"
   ]
  },
  {
   "cell_type": "markdown",
   "id": "eee9d045",
   "metadata": {
    "papermill": {
     "duration": 0.033198,
     "end_time": "2023-11-02T09:50:05.411121",
     "exception": false,
     "start_time": "2023-11-02T09:50:05.377923",
     "status": "completed"
    },
    "tags": []
   },
   "source": [
    "# Summary"
   ]
  },
  {
   "cell_type": "markdown",
   "id": "904452cb",
   "metadata": {
    "papermill": {
     "duration": 0.037248,
     "end_time": "2023-11-02T09:50:05.492763",
     "exception": false,
     "start_time": "2023-11-02T09:50:05.455515",
     "status": "completed"
    },
    "tags": []
   },
   "source": [
    "Random Forest have better accuracy and r2 score than Decision Tree and spend more time to find better hyperparameters when searching on CPU. Unfortunaly, on this work I coundt use GPU. I can not compare with KNN model, because i have another preprocesing."
   ]
  }
 ],
 "metadata": {
  "kernelspec": {
   "display_name": "Python 3",
   "language": "python",
   "name": "python3"
  },
  "language_info": {
   "codemirror_mode": {
    "name": "ipython",
    "version": 3
   },
   "file_extension": ".py",
   "mimetype": "text/x-python",
   "name": "python",
   "nbconvert_exporter": "python",
   "pygments_lexer": "ipython3",
   "version": "3.10.12"
  },
  "papermill": {
   "default_parameters": {},
   "duration": 716.792207,
   "end_time": "2023-11-02T09:50:06.046225",
   "environment_variables": {},
   "exception": null,
   "input_path": "__notebook__.ipynb",
   "output_path": "__notebook__.ipynb",
   "parameters": {},
   "start_time": "2023-11-02T09:38:09.254018",
   "version": "2.4.0"
  }
 },
 "nbformat": 4,
 "nbformat_minor": 5
}
